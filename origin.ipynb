{
 "cells": [
  {
   "cell_type": "markdown",
   "id": "787daffd-b184-4d70-be4e-b025138a37fd",
   "metadata": {},
   "source": [
    "## 导入库"
   ]
  },
  {
   "cell_type": "code",
   "execution_count": 1,
   "id": "ddb201bb-f310-4a0e-8db8-ccd2e89e5802",
   "metadata": {},
   "outputs": [],
   "source": [
    "import math\n",
    "\n",
    "import numpy as np\n",
    "import pandas as pd\n",
    "import matplotlib.pyplot as plt\n",
    "from sklearn.manifold import TSNE\n",
    "from sklearn.cluster import KMeans\n",
    "from sklearn.metrics import accuracy_score, confusion_matrix, precision_score, recall_score, f1_score, roc_curve, roc_auc_score\n",
    "\n",
    "import torch\n",
    "import torch.nn as nn\n",
    "import torch.optim as optim\n",
    "from torch.nn.utils import weight_norm\n",
    "from torch.nn import functional as F\n",
    "from torch.autograd import Variable\n",
    "from torch.nn.utils.rnn import pad_sequence\n",
    "from torch.utils.data import Dataset, random_split, DataLoader\n",
    "\n",
    "from DTC import DTC"
   ]
  },
  {
   "cell_type": "markdown",
   "id": "965e22b3-5f54-456c-b7eb-3b81ee7ea842",
   "metadata": {},
   "source": [
    "## 模型"
   ]
  },
  {
   "cell_type": "code",
   "execution_count": 2,
   "id": "7b655bc4-997b-4d05-9651-3701af8e6ef3",
   "metadata": {},
   "outputs": [],
   "source": [
    "class Chomp1d(nn.Module):\n",
    "    def __init__(self, chomp_size):\n",
    "        super(Chomp1d, self).__init__()\n",
    "        self.chomp_size = chomp_size\n",
    "\n",
    "    def forward(self, x):\n",
    "        return x[:, :, :-self.chomp_size].contiguous()\n",
    "\n",
    "\n",
    "class TemporalBlock(nn.Module):\n",
    "    def __init__(self, n_inputs, n_outputs, kernel_size, stride, dilation, padding, dropout=0.2):\n",
    "        super(TemporalBlock, self).__init__()\n",
    "        self.conv1 = nn.Conv1d(n_inputs, n_outputs, kernel_size,\n",
    "                                           stride=stride, padding=padding, dilation=dilation)\n",
    "        self.chomp1 = Chomp1d(padding)\n",
    "        self.relu1 = nn.ReLU()\n",
    "        self.dropout1 = nn.Dropout(dropout)\n",
    "\n",
    "        self.conv2 = nn.Conv1d(n_outputs, n_outputs, kernel_size,\n",
    "                                           stride=stride, padding=padding, dilation=dilation)\n",
    "        self.chomp2 = Chomp1d(padding)\n",
    "        self.relu2 = nn.ReLU()\n",
    "        self.dropout2 = nn.Dropout(dropout)\n",
    "\n",
    "        self.net = nn.Sequential(self.conv1, self.chomp1, self.relu1, self.dropout1,\n",
    "                                 self.conv2, self.chomp2, self.relu2, self.dropout2)\n",
    "\n",
    "        self.res = nn.Linear(n_inputs, n_outputs)\n",
    "\n",
    "        self.init_weights()\n",
    "\n",
    "    def init_weights(self):\n",
    "        for m in self.modules():\n",
    "            if isinstance(m, (nn.Conv1d, nn.Linear)):\n",
    "                nn.init.xavier_uniform_(m.weight)\n",
    "\n",
    "    def forward(self, x):\n",
    "        out = self.net(x)\n",
    "        res = self.res(torch.permute(x,(0,2,1)))\n",
    "        return out + torch.permute(res, (0,2,1))\n",
    "\n",
    "\n",
    "class TemporalConvNet(nn.Module):\n",
    "    def __init__(self, num_inputs, num_channels, dila = True, kernel_size=2, dropout=0.2):\n",
    "        super(TemporalConvNet, self).__init__()\n",
    "        layers = []\n",
    "        num_levels = len(num_channels)\n",
    "        for i in range(num_levels):\n",
    "            if dila:\n",
    "                dilation_size = 2 ** i\n",
    "            else:\n",
    "                dilation_size = 1\n",
    "            in_channels = num_inputs if i == 0 else num_channels[i-1]\n",
    "            out_channels = num_channels[i]\n",
    "            layers += [TemporalBlock(in_channels, out_channels, kernel_size, stride=1, dilation=dilation_size,\n",
    "                                     padding=(kernel_size-1) * dilation_size, dropout=dropout)]\n",
    "        # self.u = nn.Linear(out_channels, num_cluster)\n",
    "        self.network = nn.Sequential(*layers)\n",
    "        # self.softmax = nn.Softmax(dim=-1)\n",
    "\n",
    "    def forward(self, x):\n",
    "        X = []\n",
    "        x = torch.permute(x, (0, 2, 1))\n",
    "        for la in self.network:\n",
    "            x = la(x)\n",
    "            X.append(torch.permute(x, (0, 2, 1)))\n",
    "        return torch.permute(x, (0, 2, 1)), X"
   ]
  },
  {
   "cell_type": "code",
   "execution_count": 3,
   "id": "552fc9a1-1e15-419c-be36-96aae5cb2b7e",
   "metadata": {},
   "outputs": [],
   "source": [
    "class DRNN(nn.Module):\n",
    "\n",
    "    def __init__(self, n_input, n_hiddens, dila=True, dropout=0, cell_type=\"RNN\", batch_first=True):\n",
    "        super().__init__()\n",
    "\n",
    "        n_layers = len(n_hiddens)\n",
    "        if dila:\n",
    "            self.dilations = [2 ** i for i in range(n_layers)]\n",
    "        else:\n",
    "            self.dilations = [1] * n_layers\n",
    "        self.cell_type = cell_type\n",
    "        self.batch_first = batch_first\n",
    "\n",
    "        layers = []\n",
    "        if self.cell_type == \"GRU\":\n",
    "            cell = nn.GRU\n",
    "        elif self.cell_type == \"RNN\":\n",
    "            cell = nn.RNN\n",
    "        elif self.cell_type == \"LSTM\":\n",
    "            cell = nn.LSTM\n",
    "        else:\n",
    "            raise NotImplementedError\n",
    "\n",
    "        for i in range(n_layers):\n",
    "            if i == 0:\n",
    "                c = cell(n_input, n_hiddens[i], dropout=dropout)\n",
    "            else:\n",
    "                c = cell(n_hiddens[i-1], n_hiddens[i], dropout=dropout)\n",
    "            layers.append(c)\n",
    "        self.cells = nn.Sequential(*layers).cuda()\n",
    "\n",
    "    def forward(self, inputs, hidden=None):\n",
    "        if self.batch_first:\n",
    "            inputs = inputs.transpose(1, 0)\n",
    "        outputs = []\n",
    "        for i, (cell, dilation) in enumerate(zip(self.cells, self.dilations)):\n",
    "            if hidden is None:\n",
    "                inputs, _ = self.drnn_layer(cell, inputs, dilation)\n",
    "            else:\n",
    "                inputs, hidden[i] = self.drnn_layer(cell, inputs, dilation, hidden[i])\n",
    "            if self.batch_first:\n",
    "                outputs.append(inputs.transpose(1, 0))\n",
    "            else:\n",
    "                outputs.append(inputs)\n",
    "        if self.batch_first:\n",
    "            inputs = inputs.transpose(1, 0)\n",
    "        return inputs, outputs\n",
    "\n",
    "    def drnn_layer(self, cell, inputs, rate, hidden=None):\n",
    "        n_steps = len(inputs)\n",
    "        batch_size = inputs[0].size(0)\n",
    "        hidden_size = cell.hidden_size\n",
    "\n",
    "        inputs, _ = self._pad_inputs(inputs, n_steps, rate)\n",
    "        dilated_inputs = self._prepare_inputs(inputs, rate)\n",
    "\n",
    "        if hidden is None:\n",
    "            dilated_outputs, hidden = self._apply_cell(dilated_inputs, cell, batch_size, rate, hidden_size)\n",
    "        else:\n",
    "            hidden = self._prepare_inputs(hidden, rate)\n",
    "            dilated_outputs, hidden = self._apply_cell(dilated_inputs, cell, batch_size, rate, hidden_size, hidden)\n",
    "\n",
    "        splitted_outputs = self._split_outputs(dilated_outputs, rate)\n",
    "        outputs = self._unpad_outputs(splitted_outputs, n_steps)\n",
    "        return outputs, hidden\n",
    "\n",
    "    def init_hidden(self, batch_size, hidden_dim):\n",
    "        hidden = torch.zeros(batch_size, hidden_dim).cuda()\n",
    "        if self.cell_type == \"LSTM\":\n",
    "            memory = torch.zeros(batch_size, hidden_dim).cuda()\n",
    "            return (hidden, memory)\n",
    "        else:\n",
    "            return hidden\n",
    "\n",
    "    def _prepare_inputs(self, inputs, rate):\n",
    "        dilated_inputs = torch.cat([inputs[j::rate, :, :] for j in range(rate)], 1)\n",
    "        return dilated_inputs\n",
    "\n",
    "    def _pad_inputs(self, inputs, n_steps, rate):\n",
    "        is_even = (n_steps % rate) == 0\n",
    "\n",
    "        if not is_even:\n",
    "            dilated_steps = n_steps // rate + 1\n",
    "\n",
    "            zeros_ = torch.zeros(dilated_steps * rate - inputs.size(0), inputs.size(1),inputs.size(2)).cuda()\n",
    "            inputs = torch.cat((inputs, zeros_)).cuda()\n",
    "        else:\n",
    "            dilated_steps = n_steps // rate\n",
    "\n",
    "        return inputs, dilated_steps\n",
    "\n",
    "    def _split_outputs(self, dilated_outputs, rate):\n",
    "        batchsize = dilated_outputs.size(1) // rate\n",
    "\n",
    "        blocks = [dilated_outputs[:, i * batchsize: (i + 1) * batchsize, :] for i in range(rate)]\n",
    "        interleaved = torch.stack(blocks).transpose(1, 0).contiguous()\n",
    "        interleaved = interleaved.view(dilated_outputs.size(0) * rate, batchsize, dilated_outputs.size(2)).cuda()\n",
    "\n",
    "        return interleaved\n",
    "\n",
    "    def _unpad_outputs(self, splitted_outputs, n_steps):\n",
    "        return splitted_outputs[:n_steps]\n",
    "\n",
    "    def _apply_cell(self, dilated_inputs, cell, batch_size, rate, hidden_size, hidden=None):\n",
    "        if hidden is None:\n",
    "            if self.cell_type == 'LSTM':\n",
    "                c, m = self.init_hidden(batch_size * rate, hidden_size)\n",
    "                hidden = (c.unsqueeze(0), m.unsqueeze(0))\n",
    "            else:\n",
    "                hidden = self.init_hidden(batch_size * rate, hidden_size).unsqueeze(0)\n",
    "\n",
    "        dilated_outputs, hidden = cell(dilated_inputs, hidden)\n",
    "\n",
    "        return dilated_outputs, hidden"
   ]
  },
  {
   "cell_type": "code",
   "execution_count": 4,
   "id": "0bcf7e38-b7a0-4581-ad7f-93ce54dfa634",
   "metadata": {},
   "outputs": [],
   "source": [
    "class selfAttention(nn.Module):\n",
    "    def __init__(self, num_attention_heads, input_size, hidden_size):\n",
    "        super().__init__()\n",
    "        if hidden_size % num_attention_heads != 0:\n",
    "            raise ValueError(\n",
    "                \"the hidden size %d is not a multiple of the number of attention heads\"\n",
    "                \"%d\" % (hidden_size, num_attention_heads)\n",
    "            )\n",
    "        self.num_attention_heads = num_attention_heads\n",
    "        self.attention_head_size = int(hidden_size / num_attention_heads)\n",
    "        self.all_head_size = hidden_size\n",
    "\n",
    "        self.key_layer = nn.Linear(input_size, hidden_size)\n",
    "        self.query_layer = nn.Linear(input_size, hidden_size)\n",
    "        self.value_layer = nn.Linear(input_size, hidden_size)\n",
    "        self.inita()\n",
    "\n",
    "    def inita(self):\n",
    "        for m in self.modules():\n",
    "            if isinstance(m, (nn.Conv2d, nn.Linear)):\n",
    "                nn.init.xavier_uniform_(m.weight)\n",
    "    def trans_to_multiple_heads(self, x):\n",
    "        new_size = x.size()[ : -1] + (self.num_attention_heads, self.attention_head_size)\n",
    "        x = x.view(new_size)\n",
    "        return x.permute(0, 2, 1, 3)\n",
    "\n",
    "    def forward(self, x):\n",
    "        key = self.key_layer(x)\n",
    "        query = self.query_layer(x)\n",
    "        value = self.value_layer(x)\n",
    "\n",
    "        key_heads = self.trans_to_multiple_heads(key)\n",
    "        query_heads = self.trans_to_multiple_heads(query)\n",
    "        value_heads = self.trans_to_multiple_heads(value)\n",
    "\n",
    "        attention_scores = torch.matmul(query_heads, key_heads.permute(0, 1, 3, 2))\n",
    "        attention_scores = attention_scores / math.sqrt(self.attention_head_size)\n",
    "\n",
    "        attention_probs = F.softmax(attention_scores, dim = -1)\n",
    "\n",
    "        context = torch.matmul(attention_probs, value_heads)\n",
    "        context = context.permute(0, 2, 1, 3).contiguous()\n",
    "        new_size = context.size()[ : -2] + (self.all_head_size , )\n",
    "        context = context.view(*new_size)\n",
    "        return context"
   ]
  },
  {
   "cell_type": "code",
   "execution_count": 5,
   "id": "f1f84377-20a3-4899-a82d-3fb4d607b786",
   "metadata": {},
   "outputs": [],
   "source": [
    "class encoder(nn.Module):\n",
    "    def __init__(self, num_inputs=9, num_channels=[16, 32, 64, 32, 16], rnn_dim = 16, num_attention_heads=4, hidden_dim=32, combination=False, base_type=0):\n",
    "        super().__init__()\n",
    "        self.combination = combination\n",
    "        self.base_type = base_type\n",
    "        if base_type == 0:\n",
    "            self.feature = TemporalConvNet(num_inputs, num_channels)\n",
    "        else:\n",
    "            self.feature = DRNN(num_inputs, num_channels)\n",
    "\n",
    "        self.mlp = nn.Linear(sum(num_channels), num_channels[-1])\n",
    "        self.rnn = nn.RNN(hidden_dim, rnn_dim, batch_first=True)\n",
    "        self.attention = selfAttention(num_attention_heads, num_channels[-1], hidden_dim)\n",
    "\n",
    "    def forward(self, x):\n",
    "        feature, features = self.feature(x)\n",
    "        if self.combination:\n",
    "            feature = self.mlp(torch.concat(features, dim=-1))\n",
    "        feature = self.attention(feature)\n",
    "        feature, _ = self.rnn(feature)\n",
    "        # feature = self.attention(feature)\n",
    "        return feature"
   ]
  },
  {
   "cell_type": "code",
   "execution_count": 6,
   "id": "dfe32de5-b939-43db-b9e8-e36f325930eb",
   "metadata": {},
   "outputs": [],
   "source": [
    "class Baseline(nn.Module):\n",
    "    def __init__(self, base_encoder, num_inputs=9, num_channels=[16, 32, 64, 32, 16], rnn_dim = 16, num_attention_heads=4, hidden_dim=32, m=0.999, T=0.07, dila=True, combination=True, base_type=0):\n",
    "        super().__init__()\n",
    "        self.m = m\n",
    "        self.T = T\n",
    "\n",
    "        self.encoder = base_encoder(num_inputs, num_channels, rnn_dim, num_attention_heads, hidden_dim, combination, base_type).cuda()\n",
    "\n",
    "        channels = num_channels.copy()\n",
    "        channels.reverse()\n",
    "        channels.append(num_inputs)\n",
    "        if self.encoder.base_type == 0:\n",
    "            self.decoder = TemporalConvNet(rnn_dim, channels, dila=False)\n",
    "        else:\n",
    "            self.decoder = DRNN(rnn_dim, channels, dila=False)\n",
    "            # decoder = []\n",
    "            # for i in range(len(channels)-1):\n",
    "            #   decoder.append(nn.GRU(channels[i], channels[i+1], batch_first=True))\n",
    "            # self.decoder = nn.Sequential(*decoder)\n",
    "\n",
    "        # self.mlp = nn.Sequential(nn.Linear(rnn_dim, 2 * rnn_dim), nn.ReLU(), nn.Linear(2 * rnn_dim, rnn_dim))\n",
    "\n",
    "\n",
    "    def forward(self, xh):\n",
    "        hs = self.encoder(xh)\n",
    "        return hs\n",
    "\n",
    "    def fit(self, fh):\n",
    "        hs = self(fh)\n",
    "        # print(hs.shape)\n",
    "        # h_n = hs[:,-1,:].squeeze()\n",
    "        fh_d,_ = self.decoder(hs)\n",
    "        # print(fh.shape, fh_d.shape)\n",
    "        loss = torch.mean(torch.sum(torch.pow(fh - fh_d, 2), dim=-1))\n",
    "        return loss"
   ]
  },
  {
   "cell_type": "code",
   "execution_count": 8,
   "id": "4dff49c8-c0a0-4d52-beae-a0bcc802512e",
   "metadata": {},
   "outputs": [],
   "source": [
    "# 模型1：tcn\n",
    "m1 = Baseline(encoder, base_type=0, combination=False)\n",
    "# 模型2：tcn + combination\n",
    "m2 = Baseline(encoder, base_type=0, combination=True)\n",
    "# 模型3：tcn + distance calculation\n",
    "params3 = dict(\n",
    "    input_dim=9,\n",
    "    num_channels=[16, 32, 64, 32, 16],\n",
    "    hidden_dim=32,\n",
    "    num_heads=4,\n",
    "    cluster_num=2,\n",
    "    similarity=\"EUC\",\n",
    "    base_type=0,\n",
    "    combination=False\n",
    ")\n",
    "m3 = DTC(**params3)\n",
    "# 模型4：tcn + combination + distance calculation\n",
    "params4 = dict(\n",
    "    input_dim=9,\n",
    "    num_channels=[16, 32, 64, 32, 16],\n",
    "    hidden_dim=32,\n",
    "    num_heads=4,\n",
    "    cluster_num=2,\n",
    "    similarity=\"EUC\",\n",
    "    base_type=0,\n",
    "    combination=True\n",
    ")\n",
    "m4 = DTC(**params4)\n",
    "# 模型5：drnn\n",
    "m5 = Baseline(encoder, base_type=1, combination=False)\n",
    "# 模型6：drnn + combination\n",
    "m6 = Baseline(encoder, base_type=1, combination=True)\n",
    "# 模型7：drnn + distance calculation\n",
    "params7 = dict(\n",
    "    input_dim=9,\n",
    "    num_channels=[16, 32, 64, 32, 16],\n",
    "    hidden_dim=32,\n",
    "    num_heads=4,\n",
    "    cluster_num=2,\n",
    "    similarity=\"EUC\",\n",
    "    base_type=1,\n",
    "    combination=False\n",
    ")\n",
    "m7 = DTC(**params7)\n",
    "# 模型8：drnn + combination + distance calculation\n",
    "params8 = dict(\n",
    "    input_dim=9,\n",
    "    num_channels=[16, 32, 64, 32, 16],\n",
    "    hidden_dim=32,\n",
    "    num_heads=4,\n",
    "    cluster_num=2,\n",
    "    similarity=\"EUC\",\n",
    "    base_type=1,\n",
    "    combination=True\n",
    ")\n",
    "m8 = DTC(**params8)"
   ]
  },
  {
   "cell_type": "markdown",
   "id": "9f80ea0c-9975-4a32-9026-6fcbfe348926",
   "metadata": {},
   "source": [
    "## 数据"
   ]
  },
  {
   "cell_type": "code",
   "execution_count": 9,
   "id": "80333dcd-52af-4dd8-91cb-ac1c01b77d68",
   "metadata": {},
   "outputs": [],
   "source": [
    "data = pd.read_csv(\"fishing.csv\")\n",
    "\n",
    "# 对标签进行处理，捕捞标签为1，行驶标签为0\n",
    "Lab = data[\"label\"].values\n",
    "\n",
    "for (i,lab) in enumerate(Lab):\n",
    "    if lab.endswith(\"sailing\"):\n",
    "        Lab[i] = 0\n",
    "    else:\n",
    "        Lab[i] = 1\n",
    "\n",
    "data[\"label\"] = Lab\n",
    "\n",
    "ids = data[\"id\"].unique()\n",
    "L = [len(data[data[\"id\"]==iid]) for iid in ids]"
   ]
  },
  {
   "cell_type": "code",
   "execution_count": 10,
   "id": "9eb65501-5989-4764-87c6-17dbaa26572a",
   "metadata": {},
   "outputs": [],
   "source": [
    "D = []\n",
    "# Lab = []\n",
    "for iid, l in zip(ids,L):\n",
    "    # 按照ID对数据进行划分\n",
    "    d = data.loc[data[\"id\"]==iid, [\"signed_turn\", \"distance_gap\", \"euc_speed\", \"distanceToShore\", \"time_gap\", \"label\"]]\n",
    "    d.reset_index(drop=True, inplace=True)\n",
    "\n",
    "\n",
    "    # 下面需要按照时间差对轨迹进行分割\n",
    "    # 时间差设置为10分钟，即600秒\n",
    "    inds = np.argwhere(d[\"time_gap\"].values > 600)\n",
    "    inds = [ii[0] for ii in inds]\n",
    "    if len(inds) > 0:\n",
    "        # inds = inds[0]\n",
    "        # d.loc[inds, [\"signed_turn\", \"distance_gap\", \"euc_speed\", \"time_gap\"]] = np.array([np.mean(d[\"signed_turn\"]), np.mean(d[\"distance_gap\"]), np.mean(d[\"euc_speed\"]), np.mean(d[\"time_gap\"])])\n",
    "        D.append(d.loc[0:inds[0]-1, [\"signed_turn\", \"distance_gap\", \"euc_speed\", \"distanceToShore\", \"time_gap\", \"label\"]])\n",
    "        for i in range(len(inds)-1):\n",
    "            D.append(d.loc[inds[i]:inds[i]-1, [\"signed_turn\", \"distance_gap\", \"euc_speed\", \"distanceToShore\", \"time_gap\", \"label\"]])\n",
    "        D.append(d.loc[inds[-1]:, [\"signed_turn\", \"distance_gap\", \"euc_speed\", \"distanceToShore\", \"time_gap\", \"label\"]])\n",
    "    else:\n",
    "        D.append(d.loc[:, [\"signed_turn\", \"distance_gap\", \"euc_speed\", \"distanceToShore\", \"time_gap\", \"label\"]])\n",
    "    # for i in range(0, l-500, 500):\n",
    "    #     D.append(d.loc[i:i+500-1,[\"signed_turn\", \"distance_gap\", \"euc_speed\", \"distanceToShore\"]].values)\n",
    "    #     Lab.append(d.loc[i:i+500-1,\"label\"].values)\n",
    "    # D.append(d.loc[i+500:,[\"signed_turn\", \"distance_gap\", \"euc_speed\", \"distanceToShore\"]].values)\n",
    "    # Lab.append(d.loc[i+500:,\"label\"])\n",
    "D = [d for d in D if len(d) > 1000]\n",
    "for d in D:\n",
    "    d.reset_index(drop=True, inplace=True)\n",
    "L = [len(d) for d in D]\n",
    "\n",
    "for d in D:\n",
    "    d.loc[d[\"euc_speed\"] > 20, \"euc_speed\"] = 20\n",
    "    d[\"euc_speed\"] = d[\"euc_speed\"] * 0.5144\n",
    "    d.loc[d[\"distance_gap\"] > 200, \"distance_gap\"] = 200\n",
    "    d[\"signed_turn\"] = d[\"signed_turn\"] / 180 * np.pi"
   ]
  },
  {
   "cell_type": "code",
   "execution_count": 11,
   "id": "c88d4839-a633-450f-8ae6-58e8eba971a8",
   "metadata": {},
   "outputs": [],
   "source": [
    "Fs = []\n",
    "Lab = []\n",
    "for d in D:\n",
    "    # 已有特征\n",
    "    speed = d[\"euc_speed\"].values[1:]\n",
    "    signed_turn = d[\"signed_turn\"].values[1:]\n",
    "    distance_gap = d[\"distance_gap\"].values[1:]\n",
    "    distanceToShore = d[\"distanceToShore\"].values\n",
    "\n",
    "    time_gap = d[\"time_gap\"].values[1:]\n",
    "    # 计算特征\n",
    "    speed_gap = d[\"euc_speed\"].diff().values[1:]\n",
    "    speed_gap_ratio = speed_gap / time_gap\n",
    "    distance_gap_ratio = distance_gap / time_gap\n",
    "    signed_turn_ratio = signed_turn / time_gap\n",
    "    # distanceToShore_ratio = distanceToShore[1:] / np.cumsum(time_gap)\n",
    "    distanceToShore_gap = np.diff(distanceToShore) / time_gap\n",
    "\n",
    "    # print(len(speed.tolist()), len(signed_turn.tolist()), len(distance_gap.tolist()), len(distanceToShore.tolist()), len(speed_gap.tolist()), len(speed_gap_ratio.tolist()))\n",
    "    # print(len(distance_gap_ratio.tolist()), len(signed_turn_ratio.tolist()), len(distanceToShore_ratio.tolist()), len(distanceToShore_gap.tolist()))\n",
    "\n",
    "    Fs.append(np.array([speed.tolist(), signed_turn.tolist(), distance_gap.tolist(), distanceToShore[1:].tolist(), speed_gap.tolist(),\n",
    "                       speed_gap_ratio.tolist(), distance_gap_ratio.tolist(), signed_turn_ratio.tolist(),\n",
    "                       distanceToShore_gap.tolist()]).transpose(1,0))\n",
    "    Lab.append(d[\"label\"].values[1:])\n",
    "\n",
    "L = [len(f) for f in Fs]\n",
    "V = np.concatenate(Fs, axis=0)\n",
    "\n",
    "Fs = [(fs - np.mean(V, axis=0)) / (np.std(V, axis=0)) for fs in Fs]"
   ]
  },
  {
   "cell_type": "code",
   "execution_count": 12,
   "id": "d5da9470-c23a-4524-a165-ad680f1c6271",
   "metadata": {},
   "outputs": [],
   "source": [
    "# 下面我们对数据进行采样，参数为时间窗口的长度，设置时间窗口，每一次在一个点的左右采样。因为全部进行采样的话耗费的内存过大，因此我采用时间步长，间隔step点再进行采样。\n",
    "\n",
    "def sample(feature, lab, window_size):\n",
    "    Flag = []\n",
    "    Fs_p = []\n",
    "    # Fs_f = []\n",
    "    L_p = []\n",
    "    # L_f = []\n",
    "    P = []\n",
    "    Lab_p = []\n",
    "    # Lab_f = []\n",
    "    for i in range(len(feature)):\n",
    "        f = feature[i]\n",
    "        l = lab[i]\n",
    "        p = []\n",
    "        for j in range(window_size, l.shape[0]-window_size, window_size):\n",
    "            Fs_p.append(f[j-window_size:j,:])\n",
    "            L_p.append(l[j-window_size:j])\n",
    "            if len(np.unique(l[j-window_size:j])) == 2:\n",
    "                if np.sum(l[j-window_size:j]==0) > np.sum(l[j-window_size:j]==1):\n",
    "                    Lab_p.append(0)\n",
    "                else:\n",
    "                    Lab_p.append(1)\n",
    "            else:\n",
    "                if np.unique(l[j-window_size:j]) == 0:\n",
    "                    Lab_p.append(0)\n",
    "                else:\n",
    "                    Lab_p.append(1)\n",
    "            Flag.append(i)\n",
    "            p.append(j)\n",
    "        P.append(p)\n",
    "    return Fs_p, L_p, Flag, P, np.array(Lab_p)\n",
    "\n",
    "# Flag表示原先数据属于第几个时间序列"
   ]
  },
  {
   "cell_type": "code",
   "execution_count": 13,
   "id": "4098b579-0554-4241-8737-fd7ac909cc47",
   "metadata": {},
   "outputs": [],
   "source": [
    "class TrajDataset(Dataset):\n",
    "    def __init__(self, F, L, T):\n",
    "        self.F = pad_sequence(F, batch_first=True, padding_value=0)\n",
    "        self.L = L\n",
    "        self.T = T\n",
    "    def __len__(self):\n",
    "        return len(self.F)\n",
    "    def __getitem__(self, index):\n",
    "        return self.F[index], self.L[index], self.T[index]"
   ]
  },
  {
   "cell_type": "markdown",
   "id": "82902260-4b14-40bf-821e-f7d90276f365",
   "metadata": {},
   "source": [
    "### 片段长度100"
   ]
  },
  {
   "cell_type": "code",
   "execution_count": 14,
   "id": "c1aad382-b748-4fdd-afa4-602a9fd27059",
   "metadata": {},
   "outputs": [],
   "source": [
    "Fs_p_100, L_p_100, Flag_100, P_100, Lab_p_100 = sample(Fs, Lab, 100)\n",
    "\n",
    "Fs_p_100 = np.stack(Fs_p_100, axis=0)\n",
    "L_p_100 = np.stack(L_p_100, axis=0)\n",
    "\n",
    "Fs_p_100 = torch.tensor(Fs_p_100)\n",
    "L_p_100 =torch.tensor(L_p_100.astype(np.int32))\n",
    "Lab_p_100 = torch.tensor(Lab_p_100.astype(np.int32))\n",
    "# Flag = torch.tensor(np.array(Flag).astype(np.int32))\n",
    "Fs_p_100 = Fs_p_100.float()\n",
    "\n",
    "\n",
    "DD_100 = []\n",
    "for i, (d, p) in enumerate(zip(D, P_100)):\n",
    "    d_ = d.copy()[:p[-1]]\n",
    "    d_[\"MMSI\"] = i\n",
    "    DD_100.append(d_)\n",
    "DD_100 = pd.concat(DD_100)\n",
    "DD_100.reset_index(drop=True, inplace=True)\n",
    "\n",
    "T_100 = torch.tensor(DD_100[\"label\"].values.astype(\"int\")).reshape(-1, 100)\n",
    "\n",
    "dataset_100 = TrajDataset(Fs_p_100, L_p_100, T_100)\n",
    "train_size_100 = int(0.8 * len(dataset_100))\n",
    "val_size_100 = len(dataset_100) - train_size_100\n",
    "\n",
    "# 使用 random_split 分割数据集\n",
    "train_dataset_100, val_dataset_100 = random_split(dataset_100, [train_size_100, val_size_100])\n",
    "\n",
    "# 创建 DataLoader\n",
    "train_loader_100 = DataLoader(train_dataset_100, batch_size=2000, shuffle=True)\n",
    "val_loader_100 = DataLoader(val_dataset_100, batch_size=2000, shuffle=False)\n",
    "\n",
    "# 所有数据整合, 查看模型结果的时候使用\n",
    "all_dataset_100 = TrajDataset(Fs_p_100, L_p_100, T_100)\n",
    "all_loader_100 = DataLoader(all_dataset_100, batch_size=2000, shuffle=False)"
   ]
  },
  {
   "cell_type": "code",
   "execution_count": 15,
   "id": "fc1eb255-a245-4323-a31f-f45bae0e5e2a",
   "metadata": {},
   "outputs": [],
   "source": [
    "np.save(\"results5/index_100.npy\", val_loader_100.dataset.indices)"
   ]
  },
  {
   "cell_type": "markdown",
   "id": "d73b9525-92b1-47ea-b11a-0bbb73dc8e0e",
   "metadata": {},
   "source": [
    "### 片段长度80"
   ]
  },
  {
   "cell_type": "code",
   "execution_count": 14,
   "id": "485ecf24-b406-4275-ab9c-181ac49befa1",
   "metadata": {},
   "outputs": [],
   "source": [
    "Fs_p_80, L_p_80, Flag_80, P_80, Lab_p_80 = sample(Fs, Lab, 80)\n",
    "\n",
    "Fs_p_80 = np.stack(Fs_p_80, axis=0)\n",
    "L_p_80 = np.stack(L_p_80, axis=0)\n",
    "\n",
    "Fs_p_80 = torch.tensor(Fs_p_80)\n",
    "L_p_80 =torch.tensor(L_p_80.astype(np.int32))\n",
    "Lab_p_80 = torch.tensor(Lab_p_80.astype(np.int32))\n",
    "# Flag = torch.tensor(np.array(Flag).astype(np.int32))\n",
    "Fs_p_80 = Fs_p_80.float()\n",
    "\n",
    "DD_80 = []\n",
    "for i, (d, p) in enumerate(zip(D, P_80)):\n",
    "    d_ = d.copy()[:p[-1]]\n",
    "    d_[\"MMSI\"] = i\n",
    "    DD_80.append(d_)\n",
    "DD_80 = pd.concat(DD_80)\n",
    "DD_80.reset_index(drop=True, inplace=True)\n",
    "\n",
    "T_80 = torch.tensor(DD_80[\"label\"].values.astype(\"int\")).reshape(-1, 80)\n",
    "\n",
    "dataset_80 = TrajDataset(Fs_p_80, L_p_80, T_80)\n",
    "train_size_80 = int(0.8 * len(dataset_80))\n",
    "val_size_80 = len(dataset_80) - train_size_80\n",
    "\n",
    "# 使用 random_split 分割数据集\n",
    "train_dataset_80, val_dataset_80 = random_split(dataset_80, [train_size_80, val_size_80])\n",
    "# 创建 DataLoader\n",
    "train_loader_80 = DataLoader(train_dataset_80, batch_size=2000, shuffle=True)\n",
    "val_loader_80 = DataLoader(val_dataset_80, batch_size=1000, shuffle=False)\n",
    "\n",
    "# 所有数据整合, 查看模型结果的时候使用\n",
    "all_dataset_80 = TrajDataset(Fs_p_80, L_p_80, T_80)\n",
    "all_loader_80 = DataLoader(all_dataset_80, batch_size=2000, shuffle=False)"
   ]
  },
  {
   "cell_type": "code",
   "execution_count": 57,
   "id": "aad88914-769c-4258-8e2e-8ab5e488ca85",
   "metadata": {},
   "outputs": [],
   "source": [
    "np.save(\"results3/index_80.npy\", val_loader_80.dataset.indices)"
   ]
  },
  {
   "cell_type": "markdown",
   "id": "beee08cf-e871-4bea-8412-a7abfcc24fb1",
   "metadata": {},
   "source": [
    "### 片段长度60"
   ]
  },
  {
   "cell_type": "code",
   "execution_count": 15,
   "id": "f5ca4d68-fbcc-44d0-bfab-fdb9821ec33f",
   "metadata": {},
   "outputs": [],
   "source": [
    "Fs_p_60, L_p_60, Flag_60, P_60, Lab_p_60 = sample(Fs, Lab, 60)\n",
    "\n",
    "Fs_p_60 = np.stack(Fs_p_60, axis=0)\n",
    "L_p_60 = np.stack(L_p_60, axis=0)\n",
    "\n",
    "Fs_p_60 = torch.tensor(Fs_p_60)\n",
    "L_p_60 =torch.tensor(L_p_60.astype(np.int32))\n",
    "Lab_p_60 = torch.tensor(Lab_p_60.astype(np.int32))\n",
    "# Flag = torch.tensor(np.array(Flag).astype(np.int32))\n",
    "Fs_p_60 = Fs_p_60.float()\n",
    "\n",
    "DD_60 = []\n",
    "for i, (d, p) in enumerate(zip(D, P_60)):\n",
    "    d_ = d.copy()[:p[-1]]\n",
    "    d_[\"MMSI\"] = i\n",
    "    DD_60.append(d_)\n",
    "DD_60 = pd.concat(DD_60)\n",
    "DD_60.reset_index(drop=True, inplace=True)\n",
    "\n",
    "T_60 = torch.tensor(DD_60[\"label\"].values.astype(\"int\")).reshape(-1, 60)\n",
    "\n",
    "dataset_60 = TrajDataset(Fs_p_60, L_p_60, T_60)\n",
    "train_size_60 = int(0.8 * len(dataset_60))\n",
    "val_size_60 = len(dataset_60) - train_size_60\n",
    "\n",
    "# 使用 random_split 分割数据集\n",
    "train_dataset_60, val_dataset_60 = random_split(dataset_60, [train_size_60, val_size_60])\n",
    "\n",
    "# 创建 DataLoader\n",
    "train_loader_60 = DataLoader(train_dataset_60, batch_size=2000, shuffle=True)\n",
    "val_loader_60 = DataLoader(val_dataset_60, batch_size=1000, shuffle=False)\n",
    "\n",
    "# 所有数据整合, 查看模型结果的时候使用\n",
    "all_dataset_60 = TrajDataset(Fs_p_60, L_p_60, T_60)\n",
    "all_loader_60 = DataLoader(all_dataset_60, batch_size=2000, shuffle=False)"
   ]
  },
  {
   "cell_type": "code",
   "execution_count": 58,
   "id": "bb805eca-2aa9-4fa1-833f-c1c046a098ee",
   "metadata": {},
   "outputs": [],
   "source": [
    "np.save(\"results3/index_60.npy\", val_loader_60.dataset.indices)"
   ]
  },
  {
   "cell_type": "markdown",
   "id": "434c0494-d0b5-4012-81cc-135c546e062b",
   "metadata": {},
   "source": [
    "### 片段长度40"
   ]
  },
  {
   "cell_type": "code",
   "execution_count": 16,
   "id": "e58959f4-5101-4ac5-a224-b29b5172dae1",
   "metadata": {},
   "outputs": [],
   "source": [
    "Fs_p_40, L_p_40, Flag_40, P_40, Lab_p_40 = sample(Fs, Lab, 40)\n",
    "\n",
    "Fs_p_40 = np.stack(Fs_p_40, axis=0)\n",
    "L_p_40 = np.stack(L_p_40, axis=0)\n",
    "\n",
    "Fs_p_40 = torch.tensor(Fs_p_40)\n",
    "L_p_40 =torch.tensor(L_p_40.astype(np.int32))\n",
    "Lab_p_40 = torch.tensor(Lab_p_40.astype(np.int32))\n",
    "# Flag = torch.tensor(np.array(Flag).astype(np.int32))\n",
    "Fs_p_40 = Fs_p_40.float()\n",
    "\n",
    "DD_40 = []\n",
    "for i, (d, p) in enumerate(zip(D, P_40)):\n",
    "    d_ = d.copy()[:p[-1]]\n",
    "    d_[\"MMSI\"] = i\n",
    "    DD_40.append(d_)\n",
    "DD_40 = pd.concat(DD_40)\n",
    "DD_40.reset_index(drop=True, inplace=True)\n",
    "\n",
    "T_40 = torch.tensor(DD_40[\"label\"].values.astype(\"int\")).reshape(-1, 40)\n",
    "\n",
    "dataset_40 = TrajDataset(Fs_p_40, L_p_40, T_40)\n",
    "train_size_40 = int(0.8 * len(dataset_40))\n",
    "val_size_40 = len(dataset_40) - train_size_40\n",
    "\n",
    "# 使用 random_split 分割数据集\n",
    "train_dataset_40, val_dataset_40 = random_split(dataset_40, [train_size_40, val_size_40])\n",
    "# 创建 DataLoader\n",
    "train_loader_40 = DataLoader(train_dataset_40, batch_size=2000, shuffle=True)\n",
    "val_loader_40 = DataLoader(val_dataset_40, batch_size=1000, shuffle=False)\n",
    "\n",
    "# 所有数据整合, 查看模型结果的时候使用\n",
    "all_dataset_40 = TrajDataset(Fs_p_40, L_p_40, T_40)\n",
    "all_loader_40 = DataLoader(all_dataset_40, batch_size=2000, shuffle=False)"
   ]
  },
  {
   "cell_type": "code",
   "execution_count": 59,
   "id": "875c9837-5b51-4edd-935a-38ccf1e002f7",
   "metadata": {},
   "outputs": [],
   "source": [
    "np.save(\"results3/index_40.npy\", val_loader_40.dataset.indices)"
   ]
  },
  {
   "cell_type": "markdown",
   "id": "306b55b9-e9b2-4aff-9222-28823b4dabce",
   "metadata": {},
   "source": [
    "### 片段长度30"
   ]
  },
  {
   "cell_type": "code",
   "execution_count": 17,
   "id": "deadd351-69c6-412e-aca8-d22c492b19c1",
   "metadata": {},
   "outputs": [],
   "source": [
    "Fs_p_30, L_p_30, Flag_30, P_30, Lab_p_30 = sample(Fs, Lab, 30)\n",
    "\n",
    "Fs_p_30 = np.stack(Fs_p_30, axis=0)\n",
    "L_p_30 = np.stack(L_p_30, axis=0)\n",
    "\n",
    "Fs_p_30 = torch.tensor(Fs_p_30)\n",
    "L_p_30 =torch.tensor(L_p_30.astype(np.int32))\n",
    "Lab_p_30 = torch.tensor(Lab_p_30.astype(np.int32))\n",
    "# Flag = torch.tensor(np.array(Flag).astype(np.int32))\n",
    "Fs_p_30 = Fs_p_30.float()\n",
    "\n",
    "DD_30 = []\n",
    "for i, (d, p) in enumerate(zip(D, P_30)):\n",
    "    d_ = d.copy()[:p[-1]]\n",
    "    d_[\"MMSI\"] = i\n",
    "    DD_30.append(d_)\n",
    "DD_30 = pd.concat(DD_30)\n",
    "DD_30.reset_index(drop=True, inplace=True)\n",
    "\n",
    "T_30 = torch.tensor(DD_30[\"label\"].values.astype(\"int\")).reshape(-1, 30)\n",
    "\n",
    "dataset_30 = TrajDataset(Fs_p_30, L_p_30, T_30)\n",
    "train_size_30 = int(0.8 * len(dataset_30))\n",
    "val_size_30 = len(dataset_30) - train_size_30\n",
    "\n",
    "# 使用 random_split 分割数据集\n",
    "train_dataset_30, val_dataset_30 = random_split(dataset_30, [train_size_30, val_size_30])\n",
    "# 创建 DataLoader\n",
    "train_loader_30 = DataLoader(train_dataset_30, batch_size=2000, shuffle=True)\n",
    "val_loader_30 = DataLoader(val_dataset_30, batch_size=1000, shuffle=False)\n",
    "\n",
    "# 所有数据整合, 查看模型结果的时候使用\n",
    "all_dataset_30 = TrajDataset(Fs_p_30, L_p_30, T_30)\n",
    "all_loader_30 = DataLoader(all_dataset_30, batch_size=2000, shuffle=False)"
   ]
  },
  {
   "cell_type": "code",
   "execution_count": 60,
   "id": "603059b5-d192-42bb-9ecc-9e340fb99931",
   "metadata": {},
   "outputs": [],
   "source": [
    "np.save(\"results3/index_30.npy\", val_loader_30.dataset.indices)"
   ]
  },
  {
   "cell_type": "markdown",
   "id": "61b017f0-1e4e-42de-8109-ba73483b0df8",
   "metadata": {},
   "source": [
    "### 片段长度20"
   ]
  },
  {
   "cell_type": "code",
   "execution_count": 18,
   "id": "82476df2-9e87-46ff-b546-ae69087e5e69",
   "metadata": {},
   "outputs": [],
   "source": [
    "Fs_p_20, L_p_20, Flag_20, P_20, Lab_p_20 = sample(Fs, Lab, 20)\n",
    "\n",
    "Fs_p_20 = np.stack(Fs_p_20, axis=0)\n",
    "L_p_20 = np.stack(L_p_20, axis=0)\n",
    "\n",
    "Fs_p_20 = torch.tensor(Fs_p_20)\n",
    "L_p_20 =torch.tensor(L_p_20.astype(np.int32))\n",
    "Lab_p_20 = torch.tensor(Lab_p_20.astype(np.int32))\n",
    "# Flag = torch.tensor(np.array(Flag).astype(np.int32))\n",
    "Fs_p_20 = Fs_p_20.float()\n",
    "\n",
    "DD_20 = []\n",
    "for i, (d, p) in enumerate(zip(D, P_20)):\n",
    "    d_ = d.copy()[:p[-1]]\n",
    "    d_[\"MMSI\"] = i\n",
    "    DD_20.append(d_)\n",
    "DD_20 = pd.concat(DD_20)\n",
    "DD_20.reset_index(drop=True, inplace=True)\n",
    "\n",
    "T_20 = torch.tensor(DD_20[\"label\"].values.astype(\"int\")).reshape(-1, 20)\n",
    "\n",
    "dataset_20 = TrajDataset(Fs_p_20, L_p_20, T_20)\n",
    "train_size_20 = int(0.8 * len(dataset_20))\n",
    "val_size_20 = len(dataset_20) - train_size_20\n",
    "\n",
    "# 使用 random_split 分割数据集\n",
    "train_dataset_20, val_dataset_20 = random_split(dataset_20, [train_size_20, val_size_20])\n",
    "# 创建 DataLoader\n",
    "train_loader_20 = DataLoader(train_dataset_20, batch_size=2000, shuffle=True)\n",
    "val_loader_20 = DataLoader(val_dataset_20, batch_size=1000, shuffle=False)\n",
    "\n",
    "# 所有数据整合, 查看模型结果的时候使用\n",
    "all_dataset_20 = TrajDataset(Fs_p_20, L_p_20, T_20)\n",
    "all_loader_20 = DataLoader(all_dataset_20, batch_size=2000, shuffle=False)"
   ]
  },
  {
   "cell_type": "code",
   "execution_count": 61,
   "id": "ddcdce10-471e-4f8e-b800-d79cc1870ab3",
   "metadata": {},
   "outputs": [],
   "source": [
    "np.save(\"results3/index_20.npy\", val_loader_20.dataset.indices)"
   ]
  },
  {
   "cell_type": "markdown",
   "id": "79fcfa13-4d27-46e2-854c-064e7f94c9d8",
   "metadata": {},
   "source": [
    "### 片段长度10"
   ]
  },
  {
   "cell_type": "code",
   "execution_count": 19,
   "id": "c001cd45-46d9-4da0-b005-09a8673554fe",
   "metadata": {},
   "outputs": [],
   "source": [
    "Fs_p_10, L_p_10, Flag_10, P_10, Lab_p_10 = sample(Fs, Lab, 10)\n",
    "\n",
    "Fs_p_10 = np.stack(Fs_p_10, axis=0)\n",
    "L_p_10 = np.stack(L_p_10, axis=0)\n",
    "\n",
    "Fs_p_10 = torch.tensor(Fs_p_10)\n",
    "L_p_10 =torch.tensor(L_p_10.astype(np.int32))\n",
    "Lab_p_10 = torch.tensor(Lab_p_10.astype(np.int32))\n",
    "# Flag = torch.tensor(np.array(Flag).astype(np.int32))\n",
    "Fs_p_10 = Fs_p_10.float()\n",
    "\n",
    "DD_10 = []\n",
    "for i, (d, p) in enumerate(zip(D, P_10)):\n",
    "    d_ = d.copy()[:p[-1]]\n",
    "    d_[\"MMSI\"] = i\n",
    "    DD_10.append(d_)\n",
    "DD_10 = pd.concat(DD_10)\n",
    "DD_10.reset_index(drop=True, inplace=True)\n",
    "\n",
    "T_10 = torch.tensor(DD_10[\"label\"].values.astype(\"int\")).reshape(-1, 10)\n",
    "\n",
    "dataset_10 = TrajDataset(Fs_p_10, L_p_10, T_10)\n",
    "train_size_10 = int(0.8 * len(dataset_10))\n",
    "val_size_10 = len(dataset_10) - train_size_10\n",
    "\n",
    "# 使用 random_split 分割数据集\n",
    "train_dataset_10, val_dataset_10 = random_split(dataset_10, [train_size_10, val_size_10])\n",
    "# 创建 DataLoader\n",
    "train_loader_10 = DataLoader(train_dataset_10, batch_size=2000, shuffle=True)\n",
    "val_loader_10 = DataLoader(val_dataset_10, batch_size=1000, shuffle=False)\n",
    "\n",
    "# 所有数据整合, 查看模型结果的时候使用\n",
    "all_dataset_10 = TrajDataset(Fs_p_10, L_p_10, T_10)\n",
    "all_loader_10 = DataLoader(all_dataset_10, batch_size=2000, shuffle=False)"
   ]
  },
  {
   "cell_type": "code",
   "execution_count": 62,
   "id": "dd6114b7-a845-4deb-b90c-961417420f4f",
   "metadata": {},
   "outputs": [],
   "source": [
    "np.save(\"results3/index_10.npy\", val_loader_10.dataset.indices)"
   ]
  },
  {
   "cell_type": "markdown",
   "id": "78f32a8d-eec3-4c6c-b4d4-4b60c80ba7a8",
   "metadata": {},
   "source": [
    "## 模型1"
   ]
  },
  {
   "cell_type": "markdown",
   "id": "7ec16028-986e-44cd-b854-77218d2e47ec",
   "metadata": {},
   "source": [
    "### 片段长度100"
   ]
  },
  {
   "cell_type": "markdown",
   "id": "2a8b6ac7-f7bb-40cb-804c-981c6a7fb189",
   "metadata": {},
   "source": [
    "#### 训练"
   ]
  },
  {
   "cell_type": "code",
   "execution_count": 16,
   "id": "4c1b8ac3-74ae-4159-9fec-694fbdb63483",
   "metadata": {},
   "outputs": [],
   "source": [
    "m1_100 = m1.cuda()"
   ]
  },
  {
   "cell_type": "code",
   "execution_count": 17,
   "id": "5ff0861f-d62f-4b44-9131-7dd51f1ff908",
   "metadata": {},
   "outputs": [
    {
     "name": "stderr",
     "output_type": "stream",
     "text": [
      "/root/miniconda3/lib/python3.11/site-packages/tqdm/auto.py:21: TqdmWarning: IProgress not found. Please update jupyter and ipywidgets. See https://ipywidgets.readthedocs.io/en/stable/user_install.html\n",
      "  from .autonotebook import tqdm as notebook_tqdm\n"
     ]
    }
   ],
   "source": [
    "optimizer1_100 = optim.Adam(m1_100.parameters(), lr=1e-3, weight_decay=1e-1)"
   ]
  },
  {
   "cell_type": "code",
   "execution_count": 18,
   "id": "3b947a7c-fc22-4c8f-8c43-7f316f4a8921",
   "metadata": {},
   "outputs": [],
   "source": [
    "Loss1_100 = []"
   ]
  },
  {
   "cell_type": "code",
   "execution_count": 20,
   "id": "c73c71bd-3131-47ea-b432-f13d68053c89",
   "metadata": {},
   "outputs": [
    {
     "name": "stdout",
     "output_type": "stream",
     "text": [
      "0\n",
      "0 1.6332311034202576\n",
      "1\n",
      "1 1.6314094364643097\n",
      "2\n",
      "2 1.6154912114143372\n",
      "3\n",
      "3 1.6218938529491425\n",
      "4\n",
      "4 1.6149228811264038\n",
      "5\n",
      "5 1.6191587150096893\n",
      "6\n",
      "6 1.6040086150169373\n",
      "7\n",
      "7 1.598738819360733\n",
      "8\n",
      "8 1.5904336273670197\n",
      "9\n",
      "9 1.5780622959136963\n",
      "10\n",
      "10 1.5746555924415588\n",
      "11\n",
      "11 1.584856003522873\n",
      "12\n",
      "12 1.5714183151721954\n",
      "13\n",
      "13 1.5580424666404724\n",
      "14\n",
      "14 1.5564140379428864\n",
      "15\n",
      "15 1.551462471485138\n",
      "16\n",
      "16 1.5523415505886078\n",
      "17\n",
      "17 1.5483867526054382\n",
      "18\n",
      "18 1.5461487174034119\n",
      "19\n",
      "19 1.5585604906082153\n",
      "20\n",
      "20 1.550530195236206\n",
      "21\n",
      "21 1.5248858034610748\n",
      "22\n",
      "22 1.5325295329093933\n",
      "23\n",
      "23 1.5303230285644531\n",
      "24\n",
      "24 1.5165888667106628\n",
      "25\n",
      "25 1.515106201171875\n",
      "26\n",
      "26 1.5016630291938782\n",
      "27\n",
      "27 1.5104700922966003\n",
      "28\n",
      "28 1.5048365592956543\n",
      "29\n",
      "29 1.508149802684784\n",
      "30\n",
      "30 1.5060442388057709\n",
      "31\n",
      "31 1.497242957353592\n",
      "32\n",
      "32 1.4976204335689545\n",
      "33\n",
      "33 1.4759812355041504\n",
      "34\n",
      "34 1.4787875711917877\n",
      "35\n",
      "35 1.4714508652687073\n",
      "36\n",
      "36 1.4676912128925323\n",
      "37\n",
      "37 1.467144101858139\n",
      "38\n",
      "38 1.4601150751113892\n",
      "39\n",
      "39 1.4447144567966461\n",
      "40\n",
      "40 1.4463552236557007\n",
      "41\n",
      "41 1.4497272372245789\n",
      "42\n",
      "42 1.4469806849956512\n",
      "43\n",
      "43 1.4476286470890045\n",
      "44\n",
      "44 1.440055102109909\n",
      "45\n",
      "45 1.4343284964561462\n",
      "46\n",
      "46 1.4311728179454803\n",
      "47\n",
      "47 1.4285078346729279\n",
      "48\n",
      "48 1.4278038442134857\n",
      "49\n",
      "49 1.411750167608261\n",
      "50\n",
      "50 1.4164369702339172\n",
      "51\n",
      "51 1.4086714088916779\n",
      "52\n",
      "52 1.394424557685852\n",
      "53\n",
      "53 1.4058241844177246\n",
      "54\n",
      "54 1.400146245956421\n",
      "55\n",
      "55 1.385740339756012\n",
      "56\n",
      "56 1.387819081544876\n",
      "57\n",
      "57 1.3912562727928162\n",
      "58\n",
      "58 1.3756855428218842\n",
      "59\n",
      "59 1.3817931413650513\n",
      "60\n",
      "60 1.3823183178901672\n",
      "61\n",
      "61 1.366938054561615\n",
      "62\n",
      "62 1.377147763967514\n",
      "63\n",
      "63 1.3747121393680573\n",
      "64\n",
      "64 1.3684881031513214\n",
      "65\n",
      "65 1.3630356192588806\n",
      "66\n",
      "66 1.3565901219844818\n",
      "67\n",
      "67 1.3642158508300781\n",
      "68\n",
      "68 1.35426527261734\n",
      "69\n",
      "69 1.3471789956092834\n",
      "70\n",
      "70 1.3527891337871552\n",
      "71\n",
      "71 1.3499411940574646\n",
      "72\n",
      "72 1.3443569839000702\n",
      "73\n",
      "73 1.3502742648124695\n",
      "74\n",
      "74 1.3442603647708893\n",
      "75\n",
      "75 1.3445380330085754\n",
      "76\n",
      "76 1.337215393781662\n",
      "77\n",
      "77 1.3245101869106293\n",
      "78\n",
      "78 1.3250537812709808\n",
      "79\n",
      "79 1.3372205793857574\n",
      "80\n",
      "80 1.3300379514694214\n",
      "81\n",
      "81 1.3238859474658966\n",
      "82\n",
      "82 1.3173574209213257\n",
      "83\n",
      "83 1.3120883703231812\n",
      "84\n",
      "84 1.3183846771717072\n",
      "85\n",
      "85 1.31464284658432\n",
      "86\n",
      "86 1.3258560597896576\n",
      "87\n",
      "87 1.320884495973587\n",
      "88\n",
      "88 1.3047367632389069\n",
      "89\n",
      "89 1.311363846063614\n",
      "90\n",
      "90 1.2924737632274628\n",
      "91\n",
      "91 1.3106018602848053\n",
      "92\n",
      "92 1.308190643787384\n",
      "93\n",
      "93 1.3082366585731506\n",
      "94\n",
      "94 1.3047238290309906\n",
      "95\n",
      "95 1.2864440977573395\n",
      "96\n",
      "96 1.2949179708957672\n",
      "97\n",
      "97 1.2853370308876038\n",
      "98\n",
      "98 1.2973040044307709\n",
      "99\n",
      "99 1.2933785617351532\n"
     ]
    }
   ],
   "source": [
    "m1_100.train()\n",
    "for i in range(100):\n",
    "    Lo1_100 = 0\n",
    "    print(i)\n",
    "    for f,_,_ in train_loader_100:\n",
    "        optimizer1_100.zero_grad()\n",
    "        loss1_100 = m1_100.fit(f.float().cuda())\n",
    "        loss1_100.backward()\n",
    "        optimizer1_100.step()\n",
    "        Lo1_100 += loss1_100.item()\n",
    "    Loss1_100.append(Lo1_100 / len(train_loader_100))\n",
    "    print(i, Loss1_100[-1])"
   ]
  },
  {
   "cell_type": "code",
   "execution_count": 21,
   "id": "8d0bd779-172c-42ab-945c-4552b930307f",
   "metadata": {},
   "outputs": [
    {
     "data": {
      "text/plain": [
       "[<matplotlib.lines.Line2D at 0x7f380eb35c90>]"
      ]
     },
     "execution_count": 21,
     "metadata": {},
     "output_type": "execute_result"
    },
    {
     "data": {
      "image/png": "[encoded data removed]",
      "text/plain": [
       "<Figure size 640x480 with 1 Axes>"
      ]
     },
     "metadata": {},
     "output_type": "display_data"
    }
   ],
   "source": [
    "plt.plot(Loss1_100)"
   ]
  },
  {
   "cell_type": "code",
   "execution_count": 22,
   "id": "d5660b00-8d0c-4d2a-beab-24a53016d869",
   "metadata": {},
   "outputs": [],
   "source": [
    "torch.save(m1_100.state_dict(), \"results5/m1_100.pkl\")"
   ]
  },
  {
   "cell_type": "code",
   "execution_count": 26,
   "id": "1b1c3313-f18d-4427-b0dc-38ec3353e0b0",
   "metadata": {},
   "outputs": [],
   "source": [
    "# m1_100.load_state_dict(torch.load(\"para_origin/m1_100_1.pkl\"))"
   ]
  },
  {
   "cell_type": "code",
   "execution_count": 23,
   "id": "e4d88f7a-14dd-49ef-ac8d-cf64e0133500",
   "metadata": {},
   "outputs": [],
   "source": [
    "V1_100 = []\n",
    "V1_100_ = []\n",
    "L1_100 = []\n",
    "m1_100.eval()\n",
    "with torch.no_grad():\n",
    "    for f,_,l in all_loader_100:\n",
    "        v1_100 = m1_100(f.float().cuda())\n",
    "        for i in range(v1_100.shape[0]):\n",
    "            V1_100.append(v1_100[i,-1,:].cpu().detach().numpy())\n",
    "            V1_100_.append(v1_100[i,:,:].cpu().detach().numpy())\n",
    "            L1_100.append(l[i])\n",
    "V1_100 = np.stack(V1_100)\n",
    "V1_100_ = np.stack(V1_100_)\n",
    "L1_100 = np.stack(L1_100).reshape(-1)"
   ]
  },
  {
   "cell_type": "code",
   "execution_count": 24,
   "id": "072adfa1-f3e8-4e58-8d19-972ac3cb34de",
   "metadata": {},
   "outputs": [],
   "source": [
    "kmeans1_100 = KMeans(n_clusters=2,n_init=20, random_state=42)\n",
    "kmeans1_100.fit(V1_100)\n",
    "label1_100 = kmeans1_100.predict(V1_100)"
   ]
  },
  {
   "cell_type": "code",
   "execution_count": 25,
   "id": "0701ed98-b272-47cd-8b40-8ccca114f779",
   "metadata": {},
   "outputs": [],
   "source": [
    "kmeans1_100 = KMeans(n_clusters=2,n_init=20, random_state=42)\n",
    "kmeans1_100.fit(V1_100_.reshape(-1, 16))\n",
    "label1_100_ = kmeans1_100.predict(V1_100_.reshape(-1, 16))"
   ]
  },
  {
   "cell_type": "code",
   "execution_count": 26,
   "id": "72665905-6615-4d3f-846c-7e42ab348e57",
   "metadata": {},
   "outputs": [],
   "source": [
    "labels1_100 = np.concatenate([[i] * 100 for i in label1_100])"
   ]
  },
  {
   "cell_type": "code",
   "execution_count": 28,
   "id": "d2701af9-5ac6-4fec-8a42-5bff317da76a",
   "metadata": {},
   "outputs": [
    {
     "data": {
      "text/plain": [
       "(0.9238481646879425, 0.9267966452456159)"
      ]
     },
     "execution_count": 28,
     "metadata": {},
     "output_type": "execute_result"
    }
   ],
   "source": [
    "np.sum(labels1_100 != L1_100) / len(L1_100), np.sum(label1_100_ != L1_100) / len(L1_100)"
   ]
  },
  {
   "cell_type": "code",
   "execution_count": 29,
   "id": "244c43cc-e274-4e7c-873f-d45be6bc6f69",
   "metadata": {},
   "outputs": [
    {
     "data": {
      "text/plain": [
       "<matplotlib.collections.PathCollection at 0x7f380ea42ad0>"
      ]
     },
     "execution_count": 29,
     "metadata": {},
     "output_type": "execute_result"
    },
    {
     "data": {
      "image/png": "[encoded data removed]",
      "text/plain": [
       "<Figure size 640x480 with 1 Axes>"
      ]
     },
     "metadata": {},
     "output_type": "display_data"
    }
   ],
   "source": [
    "tsne1_100 = TSNE(n_components=2, init='pca', random_state=0)\n",
    "X_tsne1_100 = tsne1_100.fit_transform(V1_100)\n",
    "plt.scatter(X_tsne1_100[:,0], X_tsne1_100[:,1],s=1,c=label1_100)"
   ]
  },
  {
   "cell_type": "code",
   "execution_count": 30,
   "id": "6bc160a1-0069-4fd8-911f-163bf63b4216",
   "metadata": {},
   "outputs": [],
   "source": [
    "np.save(\"results5/m_1_100.npy\", np.stack(V1_100))\n",
    "np.save(\"results5/m_1_100_all.npy\", np.stack(V1_100_))\n",
    "np.save(\"results5/tru_1_100.npy\", L1_100)"
   ]
  },
  {
   "cell_type": "code",
   "execution_count": 33,
   "id": "13b1d9df-3698-4c3d-9efb-746ed1114657",
   "metadata": {},
   "outputs": [],
   "source": [
    "# 提取混合的片段\n",
    "label_100 = L1_100.copy()\n",
    "label_100 = label_100.reshape(-1, 100)\n",
    "\n",
    "indexs = []\n",
    "for i in range(label_100.shape[0]):\n",
    "    if len(np.unique(label_100[i])) == 2:\n",
    "        indexs.append(i)"
   ]
  },
  {
   "cell_type": "code",
   "execution_count": 31,
   "id": "66e9a4b6-01e5-47d7-9881-08524687e8ca",
   "metadata": {},
   "outputs": [
    {
     "data": {
      "text/plain": [
       "(918100,)"
      ]
     },
     "execution_count": 31,
     "metadata": {},
     "output_type": "execute_result"
    }
   ],
   "source": [
    ".shape"
   ]
  },
  {
   "cell_type": "code",
   "execution_count": 34,
   "id": "4a85d48d-80a3-4954-b65d-df0c4b8981ce",
   "metadata": {},
   "outputs": [],
   "source": [
    "# 计算距离\n",
    "P = np.sum(label_100.reshape(-1,100)[indexs,:] == 0, axis=1) / 100\n",
    "# C = np.sum(label_100[indexs,:] == 0, axis=1) > 50\n",
    "def dist(f, center=None, com=False):\n",
    "    if ~com:\n",
    "        kmeans = KMeans(n_clusters=2)\n",
    "        kmeans.fit(f)\n",
    "        lp = kmeans.predict(f)\n",
    "        center = kmeans.cluster_centers_\n",
    "    else:\n",
    "        lp = np.argmin(np.sum(np.power(f[:, np.newaxis,:] - center[np.newaxis,:,:], 2), axis=-1), axis=-1)\n",
    "    \n",
    "    if np.sum(lp==0) > np.sum(lp==1):\n",
    "        fc = center[0]\n",
    "        sc = center[1]\n",
    "        c = lp[indexs]\n",
    "    else:\n",
    "        fc = center[1]\n",
    "        sc = center[0]\n",
    "        c = ~lp[indexs]\n",
    "    fm = f[indexs,:]\n",
    "    d = np.sqrt(np.sum(np.power(fm - fc, 2), axis=-1)) / (np.sqrt(np.sum(np.power(fm - fc, 2), axis=-1)) + np.sqrt(np.sum(np.power(fm - sc, 2), axis=-1)))\n",
    "    return d, c"
   ]
  },
  {
   "cell_type": "code",
   "execution_count": 35,
   "id": "439901d3-6407-45f7-b5ff-b36105f1f126",
   "metadata": {},
   "outputs": [],
   "source": [
    "d, c = dist(np.stack(V1_100))"
   ]
  },
  {
   "cell_type": "code",
   "execution_count": 36,
   "id": "9fd8082e-45fa-446a-8b2f-7c10a76b9651",
   "metadata": {},
   "outputs": [
    {
     "data": {
      "text/plain": [
       "<matplotlib.collections.PathCollection at 0x7f380e739850>"
      ]
     },
     "execution_count": 36,
     "metadata": {},
     "output_type": "execute_result"
    },
    {
     "data": {
      "image/png": "[encoded data removed]",
      "text/plain": [
       "<Figure size 640x480 with 1 Axes>"
      ]
     },
     "metadata": {},
     "output_type": "display_data"
    }
   ],
   "source": [
    "plt.scatter(P, d, c=c)"
   ]
  },
  {
   "cell_type": "markdown",
   "id": "e7a0a7c3-1c4e-478e-8788-e547e82dacb1",
   "metadata": {},
   "source": [
    "### 片段长度 60"
   ]
  },
  {
   "cell_type": "markdown",
   "id": "38fc3516-08ba-4e39-aaa4-85a223dc9137",
   "metadata": {},
   "source": [
    "#### 训练"
   ]
  },
  {
   "cell_type": "code",
   "execution_count": 170,
   "id": "fae08c93-18a0-4531-8384-aeaefe820b30",
   "metadata": {},
   "outputs": [],
   "source": [
    "m1_60 = Baseline(encoder, base_type=0, combination=False,num_channels=[16, 32, 16]).cuda()"
   ]
  },
  {
   "cell_type": "code",
   "execution_count": 173,
   "id": "362d23b4-ddf0-4517-a0e0-32d23352baea",
   "metadata": {},
   "outputs": [],
   "source": [
    "optimizer1_60 = optim.Adam(m1_60.parameters(), lr=1e-3, weight_decay=1e-1)"
   ]
  },
  {
   "cell_type": "code",
   "execution_count": 172,
   "id": "78cefabe-9849-4789-8fd6-0cd8e76a8f07",
   "metadata": {},
   "outputs": [],
   "source": [
    "Loss1_60 = []"
   ]
  },
  {
   "cell_type": "code",
   "execution_count": 174,
   "id": "119ed61c-a062-4020-aead-742aaf71cc45",
   "metadata": {},
   "outputs": [
    {
     "name": "stdout",
     "output_type": "stream",
     "text": [
      "0\n",
      "0 10.731351171221052\n",
      "1\n",
      "1 7.824241025107248\n",
      "2\n",
      "2 6.70427622113909\n",
      "3\n",
      "3 6.019121170043945\n",
      "4\n",
      "4 5.478117397853306\n",
      "5\n",
      "5 5.086644172668457\n",
      "6\n",
      "6 4.797970022474017\n",
      "7\n",
      "7 4.47714376449585\n",
      "8\n",
      "8 4.198325463703701\n",
      "9\n",
      "9 4.0710413455963135\n",
      "10\n",
      "10 3.67565655708313\n",
      "11\n",
      "11 3.4216611044747487\n",
      "12\n",
      "12 3.2348275184631348\n",
      "13\n",
      "13 3.060143675122942\n",
      "14\n",
      "14 2.9289604936327254\n",
      "15\n",
      "15 2.8035528319222585\n",
      "16\n",
      "16 2.643500259944371\n",
      "17\n",
      "17 2.5320613043648854\n",
      "18\n",
      "18 2.527412244251796\n",
      "19\n",
      "19 2.4258339745657787\n",
      "20\n",
      "20 2.3311116014208113\n",
      "21\n",
      "21 2.2975076947893416\n",
      "22\n",
      "22 2.2090520518166676\n",
      "23\n",
      "23 2.195770706449236\n",
      "24\n",
      "24 2.160286716052464\n",
      "25\n",
      "25 2.2155918053218295\n",
      "26\n",
      "26 2.0840891088758196\n",
      "27\n",
      "27 2.092233555657523\n",
      "28\n",
      "28 2.0693872485842024\n",
      "29\n",
      "29 2.0406225408826555\n",
      "30\n",
      "30 2.0394817079816545\n",
      "31\n",
      "31 2.0459293127059937\n",
      "32\n",
      "32 2.0847138166427612\n",
      "33\n",
      "33 2.0098818029676164\n",
      "34\n",
      "34 1.9648309435163225\n",
      "35\n",
      "35 1.9345459938049316\n",
      "36\n",
      "36 1.926874348095485\n",
      "37\n",
      "37 1.9405511447361536\n",
      "38\n",
      "38 1.9226034198488509\n",
      "39\n",
      "39 1.8673797164644514\n",
      "40\n",
      "40 1.8872871228626795\n",
      "41\n",
      "41 1.8943190234048026\n",
      "42\n",
      "42 1.8665652785982405\n",
      "43\n",
      "43 1.9061979906899589\n",
      "44\n",
      "44 1.8477180855614799\n",
      "45\n",
      "45 1.8517260892050607\n",
      "46\n",
      "46 1.7743478672845023\n",
      "47\n",
      "47 1.7743572677884782\n",
      "48\n",
      "48 1.8453369651521956\n",
      "49\n",
      "49 1.7537812505449568\n",
      "50\n",
      "50 1.7501996925898962\n",
      "51\n",
      "51 1.7748537404196603\n",
      "52\n",
      "52 1.8202203001294817\n",
      "53\n",
      "53 1.7736457075391496\n",
      "54\n",
      "54 1.7103313718523299\n",
      "55\n",
      "55 1.6810559715543474\n",
      "56\n",
      "56 1.699366228921073\n",
      "57\n",
      "57 1.6731903212411063\n",
      "58\n",
      "58 1.6745511634009225\n",
      "59\n",
      "59 1.718538454600743\n",
      "60\n",
      "60 1.699684977531433\n",
      "61\n",
      "61 1.6716118710381644\n",
      "62\n",
      "62 1.6439976351601737\n",
      "63\n",
      "63 1.6451844998768397\n",
      "64\n",
      "64 1.6317889179502214\n",
      "65\n",
      "65 1.6346085582460677\n",
      "66\n",
      "66 1.6552081108093262\n",
      "67\n",
      "67 1.5960306780678886\n",
      "68\n",
      "68 1.6187433855874198\n",
      "69\n",
      "69 1.608629243714469\n",
      "70\n",
      "70 1.6222214698791504\n",
      "71\n",
      "71 1.664374249322074\n",
      "72\n",
      "72 1.642159002167838\n",
      "73\n",
      "73 1.6145606892449516\n",
      "74\n",
      "74 1.617566466331482\n",
      "75\n",
      "75 1.6196179049355643\n",
      "76\n",
      "76 1.5975858654294695\n",
      "77\n",
      "77 1.6447595698492867\n",
      "78\n",
      "78 1.6228973865509033\n",
      "79\n",
      "79 1.626005802835737\n",
      "80\n",
      "80 1.6135464736393519\n",
      "81\n",
      "81 1.6189762353897095\n",
      "82\n",
      "82 1.5939749138695853\n",
      "83\n",
      "83 1.5896305186407906\n",
      "84\n",
      "84 1.5917018141065324\n",
      "85\n",
      "85 1.5952493803841727\n",
      "86\n",
      "86 1.5752058029174805\n",
      "87\n",
      "87 1.6149676527295793\n",
      "88\n",
      "88 1.6088644777025496\n",
      "89\n",
      "89 1.581305401665824\n",
      "90\n",
      "90 1.5691746984209334\n",
      "91\n",
      "91 1.5462818145751953\n",
      "92\n",
      "92 1.6330506120409285\n",
      "93\n",
      "93 1.55910096849714\n",
      "94\n",
      "94 1.6012380463736398\n",
      "95\n",
      "95 1.5959922756467546\n",
      "96\n",
      "96 1.5590768711907523\n",
      "97\n",
      "97 1.5748287439346313\n",
      "98\n",
      "98 1.569235052381243\n",
      "99\n",
      "99 1.5819068125316076\n"
     ]
    }
   ],
   "source": [
    "m1_60.train()\n",
    "for i in range(100):\n",
    "    Lo1_60 = 0\n",
    "    print(i)\n",
    "    for f,_,_ in train_loader_60:\n",
    "        optimizer1_60.zero_grad()\n",
    "        loss1_60 = m1_60.fit(f.float().cuda())\n",
    "        loss1_60.backward()\n",
    "        optimizer1_60.step()\n",
    "        Lo1_60 += loss1_60.item()\n",
    "    Loss1_60.append(Lo1_60 / len(train_loader_60))\n",
    "    print(i, Loss1_60[-1])"
   ]
  },
  {
   "cell_type": "code",
   "execution_count": 179,
   "id": "2fe3c4bc-22bb-4ee8-8a82-ff5d163f58ca",
   "metadata": {},
   "outputs": [],
   "source": [
    "torch.save(m1_60.state_dict(), \"results3/m1_60.pkl\")"
   ]
  },
  {
   "cell_type": "code",
   "execution_count": 164,
   "id": "2dfa8dd1-cac7-4fdd-b157-738ca31a1d2f",
   "metadata": {},
   "outputs": [],
   "source": [
    "# m1_60.load_state_dict(torch.load(\"results3/m1_60.pkl\"))"
   ]
  },
  {
   "cell_type": "code",
   "execution_count": 181,
   "id": "ab614cb0-cdb8-4909-b570-d995579c0d82",
   "metadata": {},
   "outputs": [],
   "source": [
    "V1_60 = []\n",
    "L1_60 = []\n",
    "V1_60_ = []\n",
    "m1_60.eval()\n",
    "with torch.no_grad():\n",
    "    for f,_,l in all_loader_60:\n",
    "        v1_60 = m1_60(f.float().cuda())\n",
    "        for i in range(v1_60.shape[0]):\n",
    "            V1_60.append(v1_60[i,-1,:].cpu().detach().numpy())\n",
    "            V1_60_.append(v1_60[i,:,:].cpu().detach().numpy())\n",
    "            L1_60.append(l[i])\n",
    "V1_60 = np.stack(V1_60)\n",
    "V1_60_ = np.stack(V1_60_)\n",
    "L1_60 = np.stack(L1_60).reshape(-1)"
   ]
  },
  {
   "cell_type": "code",
   "execution_count": 182,
   "id": "0eeeffc3-d442-48c0-a17b-5e56046735e2",
   "metadata": {},
   "outputs": [],
   "source": [
    "kmeans1_60 = KMeans(n_clusters=2, n_init=20, random_state=42)\n",
    "kmeans1_60.fit(V1_60)\n",
    "label1_60 = kmeans1_60.predict(V1_60)\n",
    "\n",
    "kmeans1_60 = KMeans(n_clusters=2,n_init=20, random_state=42)\n",
    "kmeans1_60.fit(V1_60_.reshape(-1, 16))\n",
    "label1_60_ = kmeans1_60.predict(V1_60_.reshape(-1, 16))"
   ]
  },
  {
   "cell_type": "code",
   "execution_count": 183,
   "id": "41480319-3911-4664-917d-242d4ee621d2",
   "metadata": {},
   "outputs": [],
   "source": [
    "labels1_60 = np.concatenate([[i] * 60 for i in label1_60])"
   ]
  },
  {
   "cell_type": "code",
   "execution_count": 185,
   "id": "11cd5623-cebb-43f0-91e1-b998f5eb1fdf",
   "metadata": {},
   "outputs": [
    {
     "data": {
      "text/plain": [
       "(0.925187296241121, 0.9242686270699743)"
      ]
     },
     "execution_count": 185,
     "metadata": {},
     "output_type": "execute_result"
    }
   ],
   "source": [
    "np.sum(labels1_60 != L1_60) / len(L1_60), np.sum(label1_60_ != L1_60) / len(L1_60)"
   ]
  },
  {
   "cell_type": "code",
   "execution_count": 41,
   "id": "0139957a-0c61-41b7-a233-35ca4d5292d3",
   "metadata": {},
   "outputs": [],
   "source": [
    "# torch.save(m1_60.state_dict(), \"para_origin/m1_60.pkl\")"
   ]
  },
  {
   "cell_type": "code",
   "execution_count": 186,
   "id": "29f59319-d32d-48ab-b3b4-2b93895539ab",
   "metadata": {},
   "outputs": [],
   "source": [
    "np.save(\"results3/m_1_60.npy\", np.stack(V1_60))\n",
    "np.save(\"results3/m_1_60_all.npy\", np.stack(V1_60_))\n",
    "np.save(\"results3/tru_1_60.npy\", L1_60)"
   ]
  },
  {
   "cell_type": "markdown",
   "id": "671a7077-ea79-473d-8820-77262b387e75",
   "metadata": {},
   "source": [
    "### 片段长为30"
   ]
  },
  {
   "cell_type": "markdown",
   "id": "761367ad-2c84-450a-a83c-ad0f325a3c30",
   "metadata": {},
   "source": [
    "#### 训练"
   ]
  },
  {
   "cell_type": "code",
   "execution_count": 105,
   "id": "22df555c-b7c9-424e-9d01-f2e7a95b137a",
   "metadata": {},
   "outputs": [],
   "source": [
    "m1_30 = Baseline(encoder, base_type=0, combination=False,num_channels=[16, 32, 16]).cuda()"
   ]
  },
  {
   "cell_type": "code",
   "execution_count": 115,
   "id": "88c8147a-5bbb-4e7f-8261-8b0a7b41a642",
   "metadata": {},
   "outputs": [],
   "source": [
    "optimizer1_30 = optim.Adam(m1_30.parameters(), lr=1e-4, weight_decay=1e-3)"
   ]
  },
  {
   "cell_type": "code",
   "execution_count": 107,
   "id": "214e9afa-3ec5-4d05-a6d0-2999f4395140",
   "metadata": {},
   "outputs": [],
   "source": [
    "Loss1_30 = []"
   ]
  },
  {
   "cell_type": "code",
   "execution_count": 120,
   "id": "2389d833-30c8-4117-9046-a1134b6c05bd",
   "metadata": {},
   "outputs": [
    {
     "name": "stdout",
     "output_type": "stream",
     "text": [
      "0\n",
      "0 0.2310989613716419\n",
      "1\n",
      "1 0.23079154926996964\n",
      "2\n",
      "2 0.22764627864727607\n",
      "3\n",
      "3 0.2309659501680961\n",
      "4\n",
      "4 0.23111801881056565\n",
      "5\n",
      "5 0.227687262571775\n",
      "6\n",
      "6 0.2295565249828192\n",
      "7\n",
      "7 0.229280581841102\n",
      "8\n",
      "8 0.22794080009827247\n",
      "9\n",
      "9 0.22927678662997025\n"
     ]
    }
   ],
   "source": [
    "m1_30.train()\n",
    "for i in range(10):\n",
    "    Lo1_30 = 0\n",
    "    print(i)\n",
    "    for f,_,_ in train_loader_30:\n",
    "        optimizer1_30.zero_grad()\n",
    "        loss1_30 = m1_30.fit(f.float().cuda())\n",
    "        loss1_30.backward()\n",
    "        optimizer1_30.step()\n",
    "        Lo1_30 += loss1_30.item()\n",
    "    Loss1_30.append(Lo1_30 / len(train_loader_30))\n",
    "    print(i, Loss1_30[-1])"
   ]
  },
  {
   "cell_type": "code",
   "execution_count": 125,
   "id": "74374174-4c8e-4927-a070-d43d07fe746e",
   "metadata": {},
   "outputs": [
    {
     "data": {
      "text/plain": [
       "<All keys matched successfully>"
      ]
     },
     "execution_count": 125,
     "metadata": {},
     "output_type": "execute_result"
    }
   ],
   "source": [
    "m1_30.load_state_dict(torch.load(\"results3/m1_30.pkl\"))"
   ]
  },
  {
   "cell_type": "code",
   "execution_count": 126,
   "id": "1cf53bc3-21b5-4506-a873-28d0e00b2045",
   "metadata": {},
   "outputs": [],
   "source": [
    "# torch.save(m1_30.state_dict(), \"results3/m1_30.pkl\")"
   ]
  },
  {
   "cell_type": "code",
   "execution_count": 132,
   "id": "6a7872aa-73ed-432c-8b31-9d8181bab708",
   "metadata": {},
   "outputs": [],
   "source": [
    "V1_30 = []\n",
    "V1_30_ = []\n",
    "L1_30 = []\n",
    "m1_30.eval()\n",
    "with torch.no_grad():\n",
    "    for f,_,l in all_loader_30:\n",
    "        v1_30 = m1_30(f.float().cuda())\n",
    "        for i in range(v1_30.shape[0]):\n",
    "            V1_30.append(v1_30[i,-1,:].cpu().detach().numpy())\n",
    "            V1_30_.append(v1_30[i,:,:].cpu().detach().numpy())\n",
    "            L1_30.append(l[i])\n",
    "V1_30 = np.stack(V1_30)\n",
    "V1_30_ = np.stack(V1_30_)\n",
    "L1_30 = np.stack(L1_30).reshape(-1)"
   ]
  },
  {
   "cell_type": "code",
   "execution_count": 133,
   "id": "7fa3a3c3-c5f5-4053-b946-9536cfde5fbb",
   "metadata": {},
   "outputs": [],
   "source": [
    "kmeans1_30 = KMeans(n_clusters=2, n_init=20, random_state=42)\n",
    "kmeans1_30.fit(V1_30)\n",
    "label1_30 = kmeans1_30.predict(V1_30)\n",
    "\n",
    "labels1_30 = np.concatenate([[i] * 30 for i in label1_30])\n",
    "\n",
    "kmeans1_30 = KMeans(n_clusters=2,n_init=20, random_state=42)\n",
    "kmeans1_30.fit(V1_30_.reshape(-1, 16))\n",
    "label1_30_ = kmeans1_30.predict(V1_30_.reshape(-1, 16))"
   ]
  },
  {
   "cell_type": "code",
   "execution_count": 187,
   "id": "f132a027-ad3d-4b40-8af0-81fc5e1ef66e",
   "metadata": {},
   "outputs": [
    {
     "data": {
      "text/plain": [
       "(0.9283112955634913, 0.9276249611255885)"
      ]
     },
     "execution_count": 187,
     "metadata": {},
     "output_type": "execute_result"
    }
   ],
   "source": [
    "np.sum(labels1_30 != L1_30) / len(L1_30), np.sum(label1_30_ != L1_30) / len(L1_30)"
   ]
  },
  {
   "cell_type": "code",
   "execution_count": 135,
   "id": "e95bb766-25a5-404b-a9d3-96014217bf24",
   "metadata": {},
   "outputs": [],
   "source": [
    "np.save(\"results3/m_1_30.npy\", np.stack(V1_30))\n",
    "np.save(\"results3/m_1_30_all.npy\", np.stack(V1_30_))\n",
    "np.save(\"results3/tru_1_30.npy\", L1_30)"
   ]
  },
  {
   "cell_type": "markdown",
   "id": "06478773-c62c-4649-8565-f5321c40bbe9",
   "metadata": {},
   "source": [
    "### 片段为20"
   ]
  },
  {
   "cell_type": "markdown",
   "id": "d9665912-638c-46b2-9b92-b3efd97fa004",
   "metadata": {},
   "source": [
    "#### 训练"
   ]
  },
  {
   "cell_type": "code",
   "execution_count": 188,
   "id": "2edb1515-d8c5-4b64-8ddd-df9ab05d1218",
   "metadata": {},
   "outputs": [],
   "source": [
    "m1_20 = Baseline(encoder, base_type=0, combination=False,num_channels=[16, 32, 16]).cuda()"
   ]
  },
  {
   "cell_type": "code",
   "execution_count": 190,
   "id": "2c4415c6-5fb8-4bbb-a48c-28aec8ff78c1",
   "metadata": {},
   "outputs": [],
   "source": [
    "optimizer1_20 = optim.Adam(m1_20.parameters(), lr=1e-3, weight_decay=1e-3)"
   ]
  },
  {
   "cell_type": "code",
   "execution_count": 191,
   "id": "a9ae9ada-e4e1-48d6-b8c5-e32528b705e2",
   "metadata": {},
   "outputs": [],
   "source": [
    "Loss1_20 = []"
   ]
  },
  {
   "cell_type": "code",
   "execution_count": 192,
   "id": "ec655b77-9e6d-40df-90fa-b2affe2b1276",
   "metadata": {},
   "outputs": [
    {
     "name": "stdout",
     "output_type": "stream",
     "text": [
      "0\n",
      "0 11.798521393223814\n",
      "1\n",
      "1 7.0354937754179305\n",
      "2\n",
      "2 5.959124765898052\n",
      "3\n",
      "3 5.133591400949578\n",
      "4\n",
      "4 4.431621049579821\n",
      "5\n",
      "5 3.8106220521424947\n",
      "6\n",
      "6 3.2806794768885563\n",
      "7\n",
      "7 2.877149230555484\n",
      "8\n",
      "8 2.5762818110616585\n",
      "9\n",
      "9 2.336299839772676\n",
      "10\n",
      "10 2.1522933370188664\n",
      "11\n",
      "11 1.9788688609474583\n",
      "12\n",
      "12 1.840342873021176\n",
      "13\n",
      "13 1.714363041676973\n",
      "14\n",
      "14 1.6038350180575722\n",
      "15\n",
      "15 1.5088407177674144\n",
      "16\n",
      "16 1.426354954117223\n",
      "17\n",
      "17 1.3497798882032697\n",
      "18\n",
      "18 1.282236607451188\n",
      "19\n",
      "19 1.2158923400075812\n",
      "20\n",
      "20 1.1587771428258795\n",
      "21\n",
      "21 1.102263143188075\n",
      "22\n",
      "22 1.0472446585956372\n",
      "23\n",
      "23 1.0107617629201788\n",
      "24\n",
      "24 0.9725257252392016\n",
      "25\n",
      "25 0.9286435371951053\n",
      "26\n",
      "26 0.8889318798717699\n",
      "27\n",
      "27 0.8501376509666443\n",
      "28\n",
      "28 0.8180550117241708\n",
      "29\n",
      "29 0.7874656100022165\n",
      "30\n",
      "30 0.7517140256731134\n",
      "31\n",
      "31 0.724149111070131\n",
      "32\n",
      "32 0.7018157526066429\n",
      "33\n",
      "33 0.6687920250390705\n",
      "34\n",
      "34 0.6482720939736617\n",
      "35\n",
      "35 0.6295131570414493\n",
      "36\n",
      "36 0.604260830502761\n",
      "37\n",
      "37 0.5824768825581199\n",
      "38\n",
      "38 0.5643179291173032\n",
      "39\n",
      "39 0.5416745057231501\n",
      "40\n",
      "40 0.5252609754863539\n",
      "41\n",
      "41 0.5043649391124123\n",
      "42\n",
      "42 0.5007463568135312\n",
      "43\n",
      "43 0.4807179774108686\n",
      "44\n",
      "44 0.46991987918552597\n",
      "45\n",
      "45 0.4658409623723281\n",
      "46\n",
      "46 0.4503518107690309\n",
      "47\n",
      "47 0.44252874349292953\n",
      "48\n",
      "48 0.43796239558019134\n",
      "49\n",
      "49 0.42794275283813477\n",
      "50\n",
      "50 0.41733553691914205\n",
      "51\n",
      "51 0.41175986591138336\n",
      "52\n",
      "52 0.4074879367100565\n",
      "53\n",
      "53 0.40394739728224904\n",
      "54\n",
      "54 0.391682787945396\n",
      "55\n",
      "55 0.38657620706056295\n",
      "56\n",
      "56 0.3826705734980734\n",
      "57\n",
      "57 0.37931274426610845\n",
      "58\n",
      "58 0.37096913551029403\n",
      "59\n",
      "59 0.3691497209825014\n",
      "60\n",
      "60 0.36775192147807073\n",
      "61\n",
      "61 0.36079146987513494\n",
      "62\n",
      "62 0.3581537870984328\n",
      "63\n",
      "63 0.3622188128923115\n",
      "64\n",
      "64 0.35284215211868286\n",
      "65\n",
      "65 0.34867249037090103\n",
      "66\n",
      "66 0.3451801475725676\n",
      "67\n",
      "67 0.33972849030243724\n",
      "68\n",
      "68 0.33508790951026113\n",
      "69\n",
      "69 0.3322282104115737\n",
      "70\n",
      "70 0.3321582078933716\n",
      "71\n",
      "71 0.32588638757404526\n",
      "72\n",
      "72 0.32248854794000326\n",
      "73\n",
      "73 0.3221284386358763\n",
      "74\n",
      "74 0.32207129503551285\n",
      "75\n",
      "75 0.3165941395257649\n",
      "76\n",
      "76 0.31467678986097636\n",
      "77\n",
      "77 0.31104877904841777\n",
      "78\n",
      "78 0.31111092002768265\n",
      "79\n",
      "79 0.30738636380747747\n",
      "80\n",
      "80 0.3120607121994621\n",
      "81\n",
      "81 0.30497971333955465\n",
      "82\n",
      "82 0.29900302228174713\n",
      "83\n",
      "83 0.3018748148491508\n",
      "84\n",
      "84 0.29868235086139877\n",
      "85\n",
      "85 0.29844031992711517\n",
      "86\n",
      "86 0.293448363479815\n",
      "87\n",
      "87 0.29194962350945725\n",
      "88\n",
      "88 0.2916053721779271\n",
      "89\n",
      "89 0.29056844899528905\n",
      "90\n",
      "90 0.28666958526561137\n",
      "91\n",
      "91 0.28112362089910004\n",
      "92\n",
      "92 0.285515117802118\n",
      "93\n",
      "93 0.28159190322223465\n",
      "94\n",
      "94 0.27775943985110835\n",
      "95\n",
      "95 0.2762749391166787\n",
      "96\n",
      "96 0.2757078887600648\n",
      "97\n",
      "97 0.2727619691898948\n",
      "98\n",
      "98 0.2769571989774704\n",
      "99\n",
      "99 0.27265158217204244\n"
     ]
    }
   ],
   "source": [
    "m1_20.train()\n",
    "for i in range(100):\n",
    "    Lo1_20 = 0\n",
    "    print(i)\n",
    "    for f,_,_ in train_loader_20:\n",
    "        optimizer1_20.zero_grad()\n",
    "        loss1_20 = m1_20.fit(f.float().cuda())\n",
    "        loss1_20.backward()\n",
    "        optimizer1_20.step()\n",
    "        Lo1_20 += loss1_20.item()\n",
    "    Loss1_20.append(Lo1_20 / len(train_loader_20))\n",
    "    print(i, Loss1_20[-1])"
   ]
  },
  {
   "cell_type": "code",
   "execution_count": 193,
   "id": "ed3b200d-50fc-48c8-abd5-bec9bbb79337",
   "metadata": {},
   "outputs": [],
   "source": [
    "# m1_20.load_state_dict(torch.load(\"para_origin/m1_20.pkl\"))"
   ]
  },
  {
   "cell_type": "code",
   "execution_count": 200,
   "id": "49240b4f-55b9-426e-a17d-5570a81e7e25",
   "metadata": {},
   "outputs": [],
   "source": [
    "V1_20 = []\n",
    "V1_20_ = []\n",
    "L1_20 = []\n",
    "m1_20.eval()\n",
    "with torch.no_grad():\n",
    "    for f,_,l in all_loader_20:\n",
    "        v1_20 = m1_20(f.float().cuda())\n",
    "        for i in range(v1_20.shape[0]):\n",
    "            V1_20.append(v1_20[i,-1,:].cpu().detach().numpy())\n",
    "            V1_20_.append(v1_20[i,:,:].cpu().detach().numpy())\n",
    "            L1_20.append(l[i])\n",
    "V1_20 = np.stack(V1_20)\n",
    "V1_20_ = np.stack(V1_20_)\n",
    "L1_20 = np.stack(L1_20).reshape(-1)"
   ]
  },
  {
   "cell_type": "code",
   "execution_count": 201,
   "id": "8209f54e-7cbd-49a6-8a8e-1bf89af1fc1b",
   "metadata": {},
   "outputs": [],
   "source": [
    "kmeans1_20 = KMeans(n_clusters=2, n_init=20, random_state=42)\n",
    "kmeans1_20.fit(V1_20)\n",
    "label1_20 = kmeans1_20.predict(V1_20)\n",
    "\n",
    "labels1_20 = np.concatenate([[i] * 20 for i in label1_20])\n",
    "\n",
    "kmeans1_20 = KMeans(n_clusters=2,n_init=20, random_state=42)\n",
    "kmeans1_20.fit(V1_20_.reshape(-1, 16))\n",
    "label1_20_ = kmeans1_20.predict(V1_20_.reshape(-1, 16))"
   ]
  },
  {
   "cell_type": "code",
   "execution_count": 203,
   "id": "d0fc6787-9920-4b28-9469-23abb206f4b1",
   "metadata": {},
   "outputs": [
    {
     "data": {
      "text/plain": [
       "(0.9255211008388975, 0.9258838383838384)"
      ]
     },
     "execution_count": 203,
     "metadata": {},
     "output_type": "execute_result"
    }
   ],
   "source": [
    "np.sum(labels1_20 != L1_20) / len(L1_20), np.sum(label1_20_ != L1_20) / len(L1_20)"
   ]
  },
  {
   "cell_type": "code",
   "execution_count": 204,
   "id": "5a4ec941-6e10-4cd5-8f5a-f4743cd950fb",
   "metadata": {},
   "outputs": [],
   "source": [
    "# torch.save(m1_20.state_dict(), \"results3/m1_20.pkl\")"
   ]
  },
  {
   "cell_type": "code",
   "execution_count": 205,
   "id": "3dfaba25-3d4a-45ac-929b-2859d200dafc",
   "metadata": {},
   "outputs": [],
   "source": [
    "np.save(\"results3/m_1_20.npy\", np.stack(V1_20))\n",
    "np.save(\"results3/m_1_20_all.npy\", np.stack(V1_20_))\n",
    "np.save(\"results3/tru_1_20.npy\", L1_20)"
   ]
  },
  {
   "cell_type": "markdown",
   "id": "a2c977a6-5543-47b0-97b6-075839ff0de1",
   "metadata": {},
   "source": [
    "### 片段为10"
   ]
  },
  {
   "cell_type": "markdown",
   "id": "a52b1ba5-7164-40c1-9896-754b89440770",
   "metadata": {},
   "source": [
    "#### 训练"
   ]
  },
  {
   "cell_type": "code",
   "execution_count": 227,
   "id": "991d746b-f7e3-48ac-9f15-9c1de8df8ac3",
   "metadata": {},
   "outputs": [],
   "source": [
    "m1_10 = Baseline(encoder, base_type=0, combination=False,num_channels=[16, 32, 16]).cuda()"
   ]
  },
  {
   "cell_type": "code",
   "execution_count": 228,
   "id": "f4101cc2-6ab0-46a9-b442-aca207f4e32e",
   "metadata": {},
   "outputs": [],
   "source": [
    "optimizer1_10 = optim.Adam(m1_10.parameters(), lr=1e-3, weight_decay=1e-2)"
   ]
  },
  {
   "cell_type": "code",
   "execution_count": 229,
   "id": "fd468feb-ff78-4d97-afdf-94da75e9805c",
   "metadata": {},
   "outputs": [],
   "source": [
    "Loss1_10 = []"
   ]
  },
  {
   "cell_type": "code",
   "execution_count": 230,
   "id": "e978c666-3cb8-4991-8bac-a3eb0667bcd1",
   "metadata": {},
   "outputs": [
    {
     "name": "stdout",
     "output_type": "stream",
     "text": [
      "0\n",
      "0 8.588842668031392\n",
      "1\n",
      "1 4.926411666368184\n",
      "2\n",
      "2 3.235130604944731\n",
      "3\n",
      "3 2.3455037631486593\n",
      "4\n",
      "4 1.9141659862116764\n",
      "5\n",
      "5 1.654085265962701\n",
      "6\n",
      "6 1.469993886194731\n",
      "7\n",
      "7 1.3440124267025997\n",
      "8\n",
      "8 1.242286675854733\n",
      "9\n",
      "9 1.1611443036480953\n",
      "10\n",
      "10 1.0919834798888157\n",
      "11\n",
      "11 1.0351258657480542\n",
      "12\n",
      "12 0.9705187882247724\n",
      "13\n",
      "13 0.9068230923853422\n",
      "14\n",
      "14 0.8424330510591206\n",
      "15\n",
      "15 0.7781568263706408\n",
      "16\n",
      "16 0.7246207108623103\n",
      "17\n",
      "17 0.6782274324642984\n",
      "18\n",
      "18 0.6382294061936831\n",
      "19\n",
      "19 0.6036417217631089\n",
      "20\n",
      "20 0.5710530375179491\n",
      "21\n",
      "21 0.5439402931614926\n",
      "22\n",
      "22 0.520026539501391\n",
      "23\n",
      "23 0.5017369428747579\n",
      "24\n",
      "24 0.48719676544791773\n",
      "25\n",
      "25 0.46910314967757777\n",
      "26\n",
      "26 0.45475075040992935\n",
      "27\n",
      "27 0.44731196604276957\n",
      "28\n",
      "28 0.4356366897884168\n",
      "29\n",
      "29 0.4281545830400367\n",
      "30\n",
      "30 0.42130024260596227\n",
      "31\n",
      "31 0.4111319160775134\n",
      "32\n",
      "32 0.4035805173610386\n",
      "33\n",
      "33 0.39544362065039185\n",
      "34\n",
      "34 0.3897187231402648\n",
      "35\n",
      "35 0.38299149745389033\n",
      "36\n",
      "36 0.37741611584236745\n",
      "37\n",
      "37 0.37487658074027613\n",
      "38\n",
      "38 0.36858903499026047\n",
      "39\n",
      "39 0.3616032286694175\n",
      "40\n",
      "40 0.3577875322417209\n",
      "41\n",
      "41 0.35440558587249954\n",
      "42\n",
      "42 0.35211096704006195\n",
      "43\n",
      "43 0.346635838872508\n",
      "44\n",
      "44 0.3433120885961934\n",
      "45\n",
      "45 0.34038093137113673\n",
      "46\n",
      "46 0.33657705783843994\n",
      "47\n",
      "47 0.33506445116118383\n",
      "48\n",
      "48 0.33285951849661377\n",
      "49\n",
      "49 0.330302443159254\n",
      "50\n",
      "50 0.328002058361706\n",
      "51\n",
      "51 0.3263769761512154\n",
      "52\n",
      "52 0.3246808859862779\n",
      "53\n",
      "53 0.32377652353362035\n",
      "54\n",
      "54 0.31924818142464284\n",
      "55\n",
      "55 0.32147316556227834\n",
      "56\n",
      "56 0.31641267632183273\n",
      "57\n",
      "57 0.31432403859339264\n",
      "58\n",
      "58 0.3165436520388252\n",
      "59\n",
      "59 0.31299496324438797\n",
      "60\n",
      "60 0.31050487490076767\n",
      "61\n",
      "61 0.30738574580142375\n",
      "62\n",
      "62 0.30854145711974096\n",
      "63\n",
      "63 0.3052243206061815\n",
      "64\n",
      "64 0.30718840109674556\n",
      "65\n",
      "65 0.3097439588684785\n",
      "66\n",
      "66 0.3049367932896865\n",
      "67\n",
      "67 0.30288054205869375\n",
      "68\n",
      "68 0.30156235867425013\n",
      "69\n",
      "69 0.30014946115644353\n",
      "70\n",
      "70 0.2986989068357568\n",
      "71\n",
      "71 0.29908785223960876\n",
      "72\n",
      "72 0.2955238360323404\n",
      "73\n",
      "73 0.29771225389681366\n",
      "74\n",
      "74 0.29660387964625107\n",
      "75\n",
      "75 0.2968208311419738\n",
      "76\n",
      "76 0.2972297723356046\n",
      "77\n",
      "77 0.29308543707195084\n",
      "78\n",
      "78 0.29261563953600433\n",
      "79\n",
      "79 0.29282213433792714\n",
      "80\n",
      "80 0.2905495896151191\n",
      "81\n",
      "81 0.29107682877465296\n",
      "82\n",
      "82 0.2885924926713893\n",
      "83\n",
      "83 0.28878233699422134\n",
      "84\n",
      "84 0.28881640653861196\n",
      "85\n",
      "85 0.289526034734751\n",
      "86\n",
      "86 0.2893122167963731\n",
      "87\n",
      "87 0.2869374952033946\n",
      "88\n",
      "88 0.28555633206116526\n",
      "89\n",
      "89 0.2833865469223575\n",
      "90\n",
      "90 0.2849608142124979\n",
      "91\n",
      "91 0.282015356578325\n",
      "92\n",
      "92 0.283491331103601\n",
      "93\n",
      "93 0.28154941295322616\n",
      "94\n",
      "94 0.28085420319908544\n",
      "95\n",
      "95 0.2818443010512151\n",
      "96\n",
      "96 0.28095697258648117\n",
      "97\n",
      "97 0.2772057974024823\n",
      "98\n",
      "98 0.28116526101764877\n",
      "99\n",
      "99 0.2803755018271898\n"
     ]
    }
   ],
   "source": [
    "m1_10.train()\n",
    "for i in range(100):\n",
    "    Lo1_10 = 0\n",
    "    print(i)\n",
    "    for f,_,_ in train_loader_10:\n",
    "        optimizer1_10.zero_grad()\n",
    "        loss1_10 = m1_10.fit(f.float().cuda())\n",
    "        loss1_10.backward()\n",
    "        optimizer1_10.step()\n",
    "        Lo1_10 += loss1_10.item()\n",
    "    Loss1_10.append(Lo1_10 / len(train_loader_10))\n",
    "    print(i, Loss1_10[-1])"
   ]
  },
  {
   "cell_type": "code",
   "execution_count": 235,
   "id": "50a3b0f8-029a-4be9-a1ce-227db2187aca",
   "metadata": {},
   "outputs": [],
   "source": [
    "torch.save(m1_10.state_dict(), \"results3/m1_10.pkl\")"
   ]
  },
  {
   "cell_type": "code",
   "execution_count": 237,
   "id": "a22661bb-7c95-4ace-bb52-ef704c932f28",
   "metadata": {},
   "outputs": [],
   "source": [
    "V1_10 = []\n",
    "V1_10_ = []\n",
    "L1_10 = []\n",
    "m1_10.eval()\n",
    "with torch.no_grad():\n",
    "    for f,_,l in all_loader_10:\n",
    "        v1_10 = m1_10(f.float().cuda())\n",
    "        for i in range(v1_10.shape[0]):\n",
    "            V1_10.append(v1_10[i,-1,:].cpu().detach().numpy())\n",
    "            V1_10_.append(v1_10[i,:,:].cpu().detach().numpy())\n",
    "            L1_10.append(l[i])\n",
    "V1_10 = np.stack(V1_10)\n",
    "V1_10_ = np.stack(V1_10_)\n",
    "L1_10 = np.stack(L1_10).reshape(-1)"
   ]
  },
  {
   "cell_type": "code",
   "execution_count": 238,
   "id": "ea85f45c-63f3-41bb-bab6-e945dae60978",
   "metadata": {},
   "outputs": [],
   "source": [
    "kmeans1_10 = KMeans(n_clusters=2, n_init=20, random_state=42)\n",
    "kmeans1_10.fit(V1_10)\n",
    "label1_10 = kmeans1_10.predict(V1_10)\n",
    "\n",
    "labels1_10 = np.concatenate([[i] * 10 for i in label1_10])\n",
    "\n",
    "kmeans1_10 = KMeans(n_clusters=2,n_init=20, random_state=42)\n",
    "kmeans1_10.fit(V1_10_.reshape(-1, 16))\n",
    "label1_10_ = kmeans1_10.predict(V1_10_.reshape(-1, 16))"
   ]
  },
  {
   "cell_type": "code",
   "execution_count": 240,
   "id": "7a8be00b-f815-48d4-84ff-cf42bfbff138",
   "metadata": {},
   "outputs": [
    {
     "data": {
      "text/plain": [
       "(0.9225837790517674, 0.9216870042383286)"
      ]
     },
     "execution_count": 240,
     "metadata": {},
     "output_type": "execute_result"
    }
   ],
   "source": [
    "np.sum(labels1_10 == L1_10) / len(L1_10), np.sum(label1_10_ != L1_10) / len(L1_10)"
   ]
  },
  {
   "cell_type": "code",
   "execution_count": 113,
   "id": "1f26692f-76fb-422d-9cd7-91b75a0f38f7",
   "metadata": {},
   "outputs": [],
   "source": [
    "# torch.save(m1_10.state_dict(), \"para_origin/m1_10.pkl\")"
   ]
  },
  {
   "cell_type": "code",
   "execution_count": 241,
   "id": "1ad9da7a-c1d7-4785-8ef5-59b4a092cd9e",
   "metadata": {},
   "outputs": [],
   "source": [
    "np.save(\"results3/m_1_10.npy\", np.stack(V1_10))\n",
    "np.save(\"results3/m_1_10_all.npy\", np.stack(V1_10_))\n",
    "np.save(\"results3/tru_1_10.npy\", L1_10)"
   ]
  },
  {
   "cell_type": "markdown",
   "id": "6f987237-3cfd-473c-8cfd-8ec6c6ac4067",
   "metadata": {},
   "source": [
    "### 片段为40"
   ]
  },
  {
   "cell_type": "markdown",
   "id": "aae49189-b819-4d31-afff-38b65d31ef31",
   "metadata": {},
   "source": [
    "#### 训练"
   ]
  },
  {
   "cell_type": "code",
   "execution_count": 261,
   "id": "aa1e14d9-d667-42e2-a116-d57419c5bbdd",
   "metadata": {},
   "outputs": [],
   "source": [
    "m1_40 = Baseline(encoder, base_type=0, combination=False,num_channels=[16, 32, 16]).cuda()"
   ]
  },
  {
   "cell_type": "code",
   "execution_count": 271,
   "id": "95a20ae9-94d7-41f8-b2d4-488435224959",
   "metadata": {},
   "outputs": [],
   "source": [
    "optimizer1_40 = optim.Adam(m1_40.parameters(), lr=1e-4, weight_decay=1e-1)"
   ]
  },
  {
   "cell_type": "code",
   "execution_count": 263,
   "id": "0f6a313d-d43a-40b6-acd0-5a5da92e2255",
   "metadata": {},
   "outputs": [],
   "source": [
    "Loss1_40 = []"
   ]
  },
  {
   "cell_type": "code",
   "execution_count": 272,
   "id": "71144024-77af-4a5c-b7fa-f26544afb4a8",
   "metadata": {},
   "outputs": [
    {
     "name": "stdout",
     "output_type": "stream",
     "text": [
      "0\n",
      "0 1.5245506763458252\n",
      "1\n",
      "1 1.535777497291565\n",
      "2\n",
      "2 1.5097507238388062\n",
      "3\n",
      "3 1.5150975942611695\n",
      "4\n",
      "4 1.5076086282730103\n",
      "5\n",
      "5 1.4923060655593872\n",
      "6\n",
      "6 1.497950053215027\n",
      "7\n",
      "7 1.4933054208755494\n",
      "8\n",
      "8 1.4993595361709595\n",
      "9\n",
      "9 1.5159958600997925\n"
     ]
    }
   ],
   "source": [
    "m1_40.train()\n",
    "for i in range(10):\n",
    "    Lo1_40 = 0\n",
    "    print(i)\n",
    "    for f,_,_ in train_loader_40:\n",
    "        optimizer1_40.zero_grad()\n",
    "        loss1_40 = m1_40.fit(f.float().cuda())\n",
    "        loss1_40.backward()\n",
    "        optimizer1_40.step()\n",
    "        Lo1_40 += loss1_40.item()\n",
    "    Loss1_40.append(Lo1_40 / len(train_loader_40))\n",
    "    print(i, Loss1_40[-1])"
   ]
  },
  {
   "cell_type": "code",
   "execution_count": 288,
   "id": "963c3c77-1bd1-4d86-9724-c316b7b4a598",
   "metadata": {},
   "outputs": [],
   "source": [
    "# m1_40.load_state_dict(torch.load(\"para_origin/m1_40.pkl\"))"
   ]
  },
  {
   "cell_type": "code",
   "execution_count": 287,
   "id": "f21a45dc-be80-44d8-b019-9d7516bd9731",
   "metadata": {},
   "outputs": [],
   "source": [
    "torch.save(m1_40.state_dict(), \"results3/m1_40.pkl\")"
   ]
  },
  {
   "cell_type": "code",
   "execution_count": 289,
   "id": "6e5cdec1-9754-4f00-bdf8-b0013d22d38b",
   "metadata": {},
   "outputs": [],
   "source": [
    "V1_40 = []\n",
    "V1_40_ = []\n",
    "L1_40 = []\n",
    "m1_40.eval()\n",
    "with torch.no_grad():\n",
    "    for f,_,l in all_loader_40:\n",
    "        v1_40 = m1_40(f.float().cuda())\n",
    "        for i in range(v1_40.shape[0]):\n",
    "            V1_40.append(v1_40[i,-1,:].cpu().detach().numpy())\n",
    "            V1_40_.append(v1_40[i,:,:].cpu().detach().numpy())\n",
    "            L1_40.append(l[i])\n",
    "V1_40 = np.stack(V1_40)\n",
    "V1_40_ = np.stack(V1_40_)\n",
    "L1_40 = np.stack(L1_40).reshape(-1)"
   ]
  },
  {
   "cell_type": "code",
   "execution_count": 290,
   "id": "a5a918ca-03f7-4058-8225-a10341e3e516",
   "metadata": {},
   "outputs": [],
   "source": [
    "kmeans1_40 = KMeans(n_clusters=2, n_init=20, random_state=42)\n",
    "kmeans1_40.fit(V1_40)\n",
    "label1_40 = kmeans1_40.predict(V1_40)\n",
    "\n",
    "labels1_40 = np.concatenate([[i] * 40 for i in label1_40])\n",
    "\n",
    "kmeans1_40 = KMeans(n_clusters=2,n_init=20, random_state=42)\n",
    "kmeans1_40.fit(V1_40_.reshape(-1, 16))\n",
    "label1_40_ = kmeans1_40.predict(V1_40_.reshape(-1, 16))"
   ]
  },
  {
   "cell_type": "code",
   "execution_count": 292,
   "id": "3a84c903-afd9-447c-a0cf-1eedce4d113b",
   "metadata": {},
   "outputs": [
    {
     "data": {
      "text/plain": [
       "(0.9280625402965829, 0.9277713303245219)"
      ]
     },
     "execution_count": 292,
     "metadata": {},
     "output_type": "execute_result"
    }
   ],
   "source": [
    "np.sum(labels1_40 != L1_40) / len(L1_40), np.sum(label1_40_ != L1_40) / len(L1_40)"
   ]
  },
  {
   "cell_type": "code",
   "execution_count": 293,
   "id": "88fedeca-a803-4c9d-bc1b-5dfa06089769",
   "metadata": {},
   "outputs": [],
   "source": [
    "np.save(\"results3/m_1_40.npy\", np.stack(V1_40))\n",
    "np.save(\"results3/m_1_40_all.npy\", np.stack(V1_40_))\n",
    "np.save(\"results3/tru_1_40.npy\", L1_40)"
   ]
  },
  {
   "cell_type": "code",
   "execution_count": 123,
   "id": "70ad48ac-9e06-4583-9eee-7026998f85c4",
   "metadata": {},
   "outputs": [],
   "source": [
    "# torch.save(m1_40.state_dict(), \"para_origin/m1_40.pkl\")\n",
    "# np.save(\"resu_origin/lab_1_40.npy\", labels1_40)\n",
    "# np.save(\"resu_origin/tru_1_40.npy\", L1_40)"
   ]
  },
  {
   "cell_type": "markdown",
   "id": "9ffb5aae-8155-497b-9d84-2a803597b794",
   "metadata": {},
   "source": [
    "### 片段80"
   ]
  },
  {
   "cell_type": "markdown",
   "id": "0267ad3a-35ec-468b-816a-04e49f2f1c14",
   "metadata": {},
   "source": [
    "#### 训练"
   ]
  },
  {
   "cell_type": "code",
   "execution_count": 294,
   "id": "6305f059-9a11-4b45-a9a7-d86a09b3a3a7",
   "metadata": {},
   "outputs": [],
   "source": [
    "m1_80 = Baseline(encoder, base_type=0, combination=False,num_channels=[16, 32, 16]).cuda()"
   ]
  },
  {
   "cell_type": "code",
   "execution_count": 296,
   "id": "c4fc8153-efa5-40e6-acdc-5fd5a79cf197",
   "metadata": {},
   "outputs": [],
   "source": [
    "torch.save(m1_80.state_dict(), \"results3/m1_80.pkl\")"
   ]
  },
  {
   "cell_type": "code",
   "execution_count": 181,
   "id": "780c1dd6-967b-4745-bfd4-d0af46a2b1f7",
   "metadata": {},
   "outputs": [],
   "source": [
    "# optimizer1_80 = optim.Adam(m1_80.parameters(), lr=1e-4, weight_decay=1e-2)"
   ]
  },
  {
   "cell_type": "code",
   "execution_count": 182,
   "id": "50703833-571e-493c-bb44-d12981d080e8",
   "metadata": {},
   "outputs": [],
   "source": [
    "# Loss1_80 = []"
   ]
  },
  {
   "cell_type": "code",
   "execution_count": 183,
   "id": "9c31f12e-2df5-4d68-bb4d-cae6526996be",
   "metadata": {},
   "outputs": [],
   "source": [
    "# m1_80.train()\n",
    "# for i in range(10):\n",
    "#     Lo1_80 = 0\n",
    "#     print(i)\n",
    "#     for f,_,_ in train_loader_80:\n",
    "#         optimizer1_80.zero_grad()\n",
    "#         loss1_80 = m1_80.fit(f.float().cuda())\n",
    "#         loss1_80.backward()\n",
    "#         optimizer1_80.step()\n",
    "#         Lo1_80 += loss1_80.item()\n",
    "#     Loss1_80.append(Lo1_80 / len(train_loader_80))\n",
    "#     print(i, Loss1_80[-1])"
   ]
  },
  {
   "cell_type": "code",
   "execution_count": 297,
   "id": "9062f74e-1348-440d-acec-50638dceb0f5",
   "metadata": {},
   "outputs": [],
   "source": [
    "# m1_80.load_state_dict(torch.load(\"para_origin/m1_80.pkl\"))"
   ]
  },
  {
   "cell_type": "code",
   "execution_count": 308,
   "id": "22030e8f-074b-4af8-be85-7b0adc101630",
   "metadata": {},
   "outputs": [],
   "source": [
    "V1_80 = []\n",
    "V1_80_ = []\n",
    "L1_80 = []\n",
    "m1_80.eval()\n",
    "with torch.no_grad():\n",
    "    for f,_,l in val_loader_80:\n",
    "        v1_80 = m1_80(f.float().cuda())\n",
    "        for i in range(v1_80.shape[0]):\n",
    "            V1_80.append(v1_80[i,-1,:].cpu().detach().numpy())\n",
    "            V1_80_.append(v1_80[i,:,:].cpu().detach().numpy())\n",
    "            L1_80.append(l[i])\n",
    "V1_80 = np.stack(V1_80)\n",
    "V1_80_ = np.stack(V1_80_)\n",
    "L1_80 = np.stack(L1_80).reshape(-1)"
   ]
  },
  {
   "cell_type": "code",
   "execution_count": 309,
   "id": "39aa187d-bd73-4e11-ad48-0d4cfb37c273",
   "metadata": {},
   "outputs": [],
   "source": [
    "kmeans1_80 = KMeans(n_clusters=2, n_init=20, random_state=42)\n",
    "kmeans1_80.fit(V1_80)\n",
    "label1_80 = kmeans1_80.predict(V1_80)\n",
    "\n",
    "labels1_80 = np.concatenate([[i] * 80 for i in label1_80])\n",
    "\n",
    "kmeans1_80 = KMeans(n_clusters=2,n_init=20, random_state=42)\n",
    "kmeans1_80.fit(V1_80_.reshape(-1, 16))\n",
    "label1_80_ = kmeans1_80.predict(V1_80_.reshape(-1, 16))"
   ]
  },
  {
   "cell_type": "code",
   "execution_count": 310,
   "id": "3afa4b43-bbf9-4a66-9423-024875f806c1",
   "metadata": {},
   "outputs": [
    {
     "data": {
      "text/plain": [
       "(0.06975509319462506, 0.9285435630689207)"
      ]
     },
     "execution_count": 310,
     "metadata": {},
     "output_type": "execute_result"
    }
   ],
   "source": [
    "np.sum(labels1_80 != L1_80) / len(L1_80), np.sum(label1_80_ != L1_80) / len(L1_80)"
   ]
  },
  {
   "cell_type": "code",
   "execution_count": 311,
   "id": "7a4f0445-13d2-4a23-a46d-7e911844a147",
   "metadata": {},
   "outputs": [],
   "source": [
    "np.save(\"results3/m_1_80_v.npy\", np.stack(V1_80))\n",
    "np.save(\"results3/m_1_80_all_v.npy\", np.stack(V1_80_))\n",
    "np.save(\"results3/tru_1_80_v.npy\", L1_80)"
   ]
  },
  {
   "cell_type": "code",
   "execution_count": 526,
   "id": "acf9577b-f1a7-4abd-befd-c7f1e8e0803f",
   "metadata": {},
   "outputs": [],
   "source": [
    "# torch.save(m1_80.state_dict(), \"para_origin/m1_80.pkl\")\n",
    "# np.save(\"resu_origin/lab_1_80.npy\", labels1_80)\n",
    "# np.save(\"resu_origin/tru_1_80.npy\", L1_80)"
   ]
  },
  {
   "cell_type": "markdown",
   "id": "9f4f7f7a-1524-4cf4-8f3e-b9b5a7768a49",
   "metadata": {},
   "source": [
    "## 模型2"
   ]
  },
  {
   "cell_type": "markdown",
   "id": "b0c74e2d-f92c-4ef6-8299-d41dcf8a0f61",
   "metadata": {},
   "source": [
    "### 长度为100"
   ]
  },
  {
   "cell_type": "markdown",
   "id": "d770f0af-3f5c-4f03-8421-d9bda0c03302",
   "metadata": {},
   "source": [
    "#### 训练"
   ]
  },
  {
   "cell_type": "code",
   "execution_count": 312,
   "id": "5bd502ce-cd18-4fbc-afaf-c7388c2dcf45",
   "metadata": {},
   "outputs": [],
   "source": [
    "m2_100 = Baseline(encoder, base_type=0, combination=True,num_channels=[16, 32, 16]).cuda()"
   ]
  },
  {
   "cell_type": "code",
   "execution_count": 192,
   "id": "b999a817-f5cd-4155-b0ea-0e0ecd81e818",
   "metadata": {},
   "outputs": [],
   "source": [
    "# optimizer2_100 = optim.Adam(m2_100.parameters(), lr=1e-5, weight_decay=1e-3)"
   ]
  },
  {
   "cell_type": "code",
   "execution_count": 193,
   "id": "03ef3573-412d-4b32-beef-0352c1e4a100",
   "metadata": {},
   "outputs": [],
   "source": [
    "# Loss2_100 = []"
   ]
  },
  {
   "cell_type": "code",
   "execution_count": 194,
   "id": "018343fc-aa1b-4003-b821-2dab23bf62fc",
   "metadata": {},
   "outputs": [],
   "source": [
    "# m2_100.train()\n",
    "# for i in range(100):\n",
    "#     Lo2_100 = 0\n",
    "#     print(i)\n",
    "#     for f,_,_ in train_loader_100:\n",
    "#         optimizer2_100.zero_grad()\n",
    "#         loss2_100 = m2_100.fit(f.float().cuda())\n",
    "#         loss2_100.backward()\n",
    "#         optimizer2_100.step()\n",
    "#         Lo2_100 += loss2_100.item()\n",
    "#     Loss2_100.append(Lo2_100 / len(train_loader_100))\n",
    "#     print(i, Loss2_100[-1])"
   ]
  },
  {
   "cell_type": "code",
   "execution_count": 313,
   "id": "1cd4e133-8dee-42da-81bc-45a1de1f4968",
   "metadata": {},
   "outputs": [
    {
     "data": {
      "text/plain": [
       "<All keys matched successfully>"
      ]
     },
     "execution_count": 313,
     "metadata": {},
     "output_type": "execute_result"
    }
   ],
   "source": [
    "# m2_100.load_state_dict(torch.load(\"para_origin/m2_100.pkl\"))"
   ]
  },
  {
   "cell_type": "code",
   "execution_count": 314,
   "id": "837918c6-7f89-4bee-85a4-c21cfe7f01d3",
   "metadata": {},
   "outputs": [],
   "source": [
    "torch.save(m2_100.state_dict(), \"results3/m2_100.pkl\")"
   ]
  },
  {
   "cell_type": "code",
   "execution_count": 320,
   "id": "5b3efe43-3ffc-46d3-a9dc-d7aa90d3ab5b",
   "metadata": {},
   "outputs": [],
   "source": [
    "V2_100 = []\n",
    "V2_100_ = []\n",
    "L2_100 = []\n",
    "m2_100.eval()\n",
    "with torch.no_grad():\n",
    "    for f,_,l in all_loader_100:\n",
    "        v2_100 = m2_100(f.float().cuda())\n",
    "        for i in range(v2_100.shape[0]):\n",
    "            V2_100.append(v2_100[i,-1,:].cpu().detach().numpy())\n",
    "            V2_100_.append(v2_100[i,:,:].cpu().detach().numpy())\n",
    "            L2_100.append(l[i])\n",
    "V2_100 = np.stack(V2_100)\n",
    "V2_100_ = np.stack(V2_100_)\n",
    "L2_100 = np.stack(L2_100).reshape(-1)"
   ]
  },
  {
   "cell_type": "code",
   "execution_count": 321,
   "id": "7149d940-9c2c-4a02-a7eb-08235afab9a0",
   "metadata": {},
   "outputs": [],
   "source": [
    "kmeans2_100 = KMeans(n_clusters=2,n_init=20, random_state=42)\n",
    "kmeans2_100.fit(V2_100)\n",
    "label2_100 = kmeans2_100.predict(V2_100)\n",
    "\n",
    "labels2_100 = np.concatenate([[i] * 100 for i in label2_100])\n",
    "\n",
    "kmeans2_100 = KMeans(n_clusters=2,n_init=20, random_state=42)\n",
    "kmeans2_100.fit(V2_100_.reshape(-1, 16))\n",
    "label2_100_ = kmeans2_100.predict(V2_100_.reshape(-1, 16))"
   ]
  },
  {
   "cell_type": "code",
   "execution_count": 323,
   "id": "8d225fa4-daac-44da-805f-48d5f6c66f7d",
   "metadata": {},
   "outputs": [
    {
     "data": {
      "text/plain": [
       "(0.925176995969938, 0.9288955451475874)"
      ]
     },
     "execution_count": 323,
     "metadata": {},
     "output_type": "execute_result"
    }
   ],
   "source": [
    "np.sum(labels2_100 != L2_100) / len(L2_100), np.sum(label2_100_ == L2_100) / len(L2_100)"
   ]
  },
  {
   "cell_type": "code",
   "execution_count": 324,
   "id": "bef7dc10-a828-407a-9229-2e35d43e1f2d",
   "metadata": {},
   "outputs": [],
   "source": [
    "np.save(\"results3/m_2_100.npy\", np.stack(V2_100))\n",
    "np.save(\"results3/m_2_100_all.npy\", np.stack(V2_100_))\n",
    "np.save(\"results3/tru_2_100.npy\", L2_100)"
   ]
  },
  {
   "cell_type": "code",
   "execution_count": 195,
   "id": "13ab6a5e-bb9e-4888-a93f-20ba25ce2374",
   "metadata": {},
   "outputs": [],
   "source": [
    "# torch.save(m2_100.state_dict(), \"para_origin/m2_100.pkl\")\n",
    "# np.save(\"resu_origin/lab_2_100.npy\", labels2_100)\n",
    "# np.save(\"resu_origin/tru_2_100.npy\", L2_100)"
   ]
  },
  {
   "cell_type": "markdown",
   "id": "14d32fd2-944b-49b2-a641-95c82a5b9e23",
   "metadata": {},
   "source": [
    "### 片段80"
   ]
  },
  {
   "cell_type": "markdown",
   "id": "9b581fc2-a8aa-4c6e-bda0-7f7fa80ed41c",
   "metadata": {},
   "source": [
    "#### 训练"
   ]
  },
  {
   "cell_type": "code",
   "execution_count": 341,
   "id": "8f8b0568-0cd3-4b3b-84cb-5dfca82fa07a",
   "metadata": {},
   "outputs": [],
   "source": [
    "m2_80 = Baseline(encoder, base_type=0, combination=True,num_channels=[16, 32, 16]).cuda()"
   ]
  },
  {
   "cell_type": "code",
   "execution_count": 342,
   "id": "d81beda1-91bd-490f-9f43-0bac86c1ac28",
   "metadata": {},
   "outputs": [],
   "source": [
    "# optimizer2_80 = optim.Adam(m2_80.parameters(), lr=1e-3, weight_decay=1e-2)"
   ]
  },
  {
   "cell_type": "code",
   "execution_count": 343,
   "id": "adc465d6-72e6-4d00-99b1-f2ff94a31e14",
   "metadata": {},
   "outputs": [],
   "source": [
    "# Loss2_80 = []"
   ]
  },
  {
   "cell_type": "code",
   "execution_count": 344,
   "id": "839fa3ba-a612-4251-8867-caa153302a42",
   "metadata": {},
   "outputs": [],
   "source": [
    "# m2_80.train()\n",
    "# for i in range(100):\n",
    "#     Lo2_80 = 0\n",
    "#     print(i)\n",
    "#     for f,_,_ in train_loader_80:\n",
    "#         optimizer2_80.zero_grad()\n",
    "#         loss2_80 = m2_80.fit(f.float().cuda())\n",
    "#         loss2_80.backward()\n",
    "#         optimizer2_80.step()\n",
    "#         Lo2_80 += loss2_80.item()\n",
    "#     Loss2_80.append(Lo2_80 / len(train_loader_80))\n",
    "#     print(i, Loss2_80[-1])"
   ]
  },
  {
   "cell_type": "code",
   "execution_count": 351,
   "id": "d2bc5c24-71c9-4f1b-a689-3177092505a0",
   "metadata": {},
   "outputs": [],
   "source": [
    "# m2_80.load_state_dict(torch.load(\"para_origin/m2_80.pkl\"))"
   ]
  },
  {
   "cell_type": "code",
   "execution_count": 352,
   "id": "fc0e1873-c8c2-44c3-aec5-f011e3f21fd5",
   "metadata": {},
   "outputs": [],
   "source": [
    "# torch.save(m2_80.state_dict(), \"results3/m2_80.pkl\")"
   ]
  },
  {
   "cell_type": "code",
   "execution_count": 354,
   "id": "cb8af9e4-ff13-48af-8ae6-47059ad0ef12",
   "metadata": {},
   "outputs": [],
   "source": [
    "V2_80 = []\n",
    "V2_80_ = []\n",
    "L2_80 = []\n",
    "m2_80.eval()\n",
    "with torch.no_grad():\n",
    "    for f,_,l in all_loader_80:\n",
    "        v2_80 = m2_80(f.float().cuda())\n",
    "        for i in range(v2_80.shape[0]):\n",
    "            V2_80.append(v2_80[i,-1,:].cpu().detach().numpy())\n",
    "            V2_80_.append(v2_80[i,:,:].cpu().detach().numpy())\n",
    "            L2_80.append(l[i])\n",
    "V2_80 = np.stack(V2_80)\n",
    "V2_80_ = np.stack(V2_80_)\n",
    "L2_80 = np.stack(L2_80).reshape(-1)"
   ]
  },
  {
   "cell_type": "code",
   "execution_count": 355,
   "id": "ff2eff29-2fa1-4b5d-8da6-a8cc7685f8ea",
   "metadata": {},
   "outputs": [],
   "source": [
    "kmeans2_80 = KMeans(n_clusters=2,n_init=20, random_state=42)\n",
    "kmeans2_80.fit(V2_80)\n",
    "label2_80 = kmeans2_80.predict(V2_80)\n",
    "\n",
    "labels2_80 = np.concatenate([[i] * 80 for i in label2_80])\n",
    "\n",
    "kmeans2_80 = KMeans(n_clusters=2,n_init=20, random_state=42)\n",
    "kmeans2_80.fit(V2_80_.reshape(-1, 16))\n",
    "label2_80_ = kmeans2_80.predict(V2_80_.reshape(-1, 16))"
   ]
  },
  {
   "cell_type": "code",
   "execution_count": 358,
   "id": "e82a507a-30b5-4c6f-9c2f-8ccc2dadfc25",
   "metadata": {},
   "outputs": [
    {
     "data": {
      "text/plain": [
       "(0.920795395421436, 0.9220191640652099)"
      ]
     },
     "execution_count": 358,
     "metadata": {},
     "output_type": "execute_result"
    }
   ],
   "source": [
    "np.sum(labels2_80 != L2_80) / len(L2_80), np.sum(label2_80_ != L2_80) / len(L2_80)"
   ]
  },
  {
   "cell_type": "code",
   "execution_count": 357,
   "id": "50d65298-006e-4664-8d6c-dc5672797f50",
   "metadata": {},
   "outputs": [],
   "source": [
    "np.save(\"results3/m_2_80.npy\", np.stack(V2_80))\n",
    "np.save(\"results3/m_2_80_all.npy\", np.stack(V2_80_))\n",
    "np.save(\"results3/tru_2_80.npy\", L2_80)"
   ]
  },
  {
   "cell_type": "code",
   "execution_count": 211,
   "id": "f916e977-1290-425b-8c51-c1b3d009d724",
   "metadata": {},
   "outputs": [],
   "source": [
    "# torch.save(m2_80.state_dict(), \"para_origin/m2_80.pkl\")\n",
    "# np.save(\"resu_origin/lab_2_80.npy\", labels2_80)\n",
    "# np.save(\"resu_origin/tru_2_80.npy\", L2_80)"
   ]
  },
  {
   "cell_type": "markdown",
   "id": "49a06d9d-51c3-449d-ba5d-e9d9c1cad621",
   "metadata": {},
   "source": [
    "### 片段60"
   ]
  },
  {
   "cell_type": "markdown",
   "id": "d6b4b5ea-c9ec-4f96-a0c5-b7ed245cba17",
   "metadata": {},
   "source": [
    "#### 训练"
   ]
  },
  {
   "cell_type": "code",
   "execution_count": 359,
   "id": "17995b47-9061-46ae-9ac4-0f52a6c144c6",
   "metadata": {},
   "outputs": [],
   "source": [
    "m2_60 = Baseline(encoder, base_type=0, combination=True,num_channels=[16, 32, 16]).cuda()"
   ]
  },
  {
   "cell_type": "code",
   "execution_count": 221,
   "id": "dcb6954d-ea55-4615-a243-0014bc976d95",
   "metadata": {},
   "outputs": [],
   "source": [
    "# optimizer2_60 = optim.Adam(m2_60.parameters(), lr=1e-4, weight_decay=1e-1)"
   ]
  },
  {
   "cell_type": "code",
   "execution_count": 222,
   "id": "16f2e814-eb61-45a6-b181-bf82d9681c36",
   "metadata": {},
   "outputs": [],
   "source": [
    "# Loss2_60 = []"
   ]
  },
  {
   "cell_type": "code",
   "execution_count": 223,
   "id": "aabe1daf-1715-4f8a-853e-b357ffef7448",
   "metadata": {},
   "outputs": [],
   "source": [
    "# m2_60.train()\n",
    "# for i in range(10):\n",
    "#     Lo2_60 = 0\n",
    "#     print(i)\n",
    "#     for f,_,_ in train_loader_60:\n",
    "#         optimizer2_60.zero_grad()\n",
    "#         loss2_60 = m2_60.fit(f.float().cuda())\n",
    "#         loss2_60.backward()\n",
    "#         optimizer2_60.step()\n",
    "#         Lo2_60 += loss2_60.item()\n",
    "#     Loss2_60.append(Lo2_60 / len(train_loader_60))\n",
    "#     print(i, Loss2_60[-1])"
   ]
  },
  {
   "cell_type": "code",
   "execution_count": 360,
   "id": "f64d5851-c1e1-422e-a0be-17df24e779e2",
   "metadata": {},
   "outputs": [
    {
     "data": {
      "text/plain": [
       "<All keys matched successfully>"
      ]
     },
     "execution_count": 360,
     "metadata": {},
     "output_type": "execute_result"
    }
   ],
   "source": [
    "m2_60.load_state_dict(torch.load(\"para_origin/m2_60.pkl\"))"
   ]
  },
  {
   "cell_type": "code",
   "execution_count": 361,
   "id": "0fa62f12-e3df-4824-bfa3-0b3bdaf76640",
   "metadata": {},
   "outputs": [],
   "source": [
    "torch.save(m2_60.state_dict(), \"results3/m2_60.pkl\")"
   ]
  },
  {
   "cell_type": "code",
   "execution_count": 366,
   "id": "b82a05c4-19a9-4f09-af0e-6d9eedcd91df",
   "metadata": {},
   "outputs": [],
   "source": [
    "V2_60 = []\n",
    "V2_60_ = []\n",
    "L2_60 = []\n",
    "m2_60.eval()\n",
    "with torch.no_grad():\n",
    "    for f,_,l in all_loader_60:\n",
    "        v2_60 = m2_60(f.float().cuda())\n",
    "        for i in range(v2_60.shape[0]):\n",
    "            V2_60.append(v2_60[i,-1,:].cpu().detach().numpy())\n",
    "            V2_60_.append(v2_60[i,:,:].cpu().detach().numpy())\n",
    "            L2_60.append(l[i])\n",
    "V2_60 = np.stack(V2_60)\n",
    "V2_60_ = np.stack(V2_60_)\n",
    "L2_60 = np.stack(L2_60).reshape(-1)"
   ]
  },
  {
   "cell_type": "code",
   "execution_count": 367,
   "id": "d4fd1a66-9683-4d10-b19c-d17cc81728c1",
   "metadata": {},
   "outputs": [],
   "source": [
    "kmeans2_60 = KMeans(n_clusters=2,n_init=20, random_state=42)\n",
    "kmeans2_60.fit(V2_60)\n",
    "label2_60 = kmeans2_60.predict(V2_60)\n",
    "\n",
    "labels2_60 = np.concatenate([[i] * 60 for i in label2_60])\n",
    "\n",
    "kmeans2_60 = KMeans(n_clusters=2,n_init=20, random_state=42)\n",
    "kmeans2_60.fit(V2_60_.reshape(-1, 16))\n",
    "label2_60_ = kmeans2_60.predict(V2_60_.reshape(-1, 16))"
   ]
  },
  {
   "cell_type": "code",
   "execution_count": 370,
   "id": "1252a074-7291-4f8d-b13f-38fb72392590",
   "metadata": {},
   "outputs": [
    {
     "data": {
      "text/plain": [
       "(0.9258673921022519, 0.9255467754820045)"
      ]
     },
     "execution_count": 370,
     "metadata": {},
     "output_type": "execute_result"
    }
   ],
   "source": [
    "np.sum(labels2_60 == L2_60) / len(L2_60), np.sum(label2_60_ == L2_60) / len(L2_60)"
   ]
  },
  {
   "cell_type": "code",
   "execution_count": 369,
   "id": "eb651571-db98-4db4-abb2-821c9c650b40",
   "metadata": {},
   "outputs": [],
   "source": [
    "np.save(\"results3/m_2_60.npy\", np.stack(V2_60))\n",
    "np.save(\"results3/m_2_60_all.npy\", np.stack(V2_60_))\n",
    "np.save(\"results3/tru_2_60.npy\", L2_60)"
   ]
  },
  {
   "cell_type": "code",
   "execution_count": 224,
   "id": "e7d529f8-1b5a-4384-92df-4000da1981f6",
   "metadata": {},
   "outputs": [],
   "source": [
    "# torch.save(m2_60.state_dict(), \"para_origin/m2_60.pkl\")\n",
    "# np.save(\"resu_origin/lab_2_60.npy\", labels2_60)\n",
    "# np.save(\"resu_origin/tru_2_60.npy\", L2_60)"
   ]
  },
  {
   "cell_type": "markdown",
   "id": "271386cc-3aff-4ea8-908d-bd157d7bc0b8",
   "metadata": {},
   "source": [
    "### 片段40"
   ]
  },
  {
   "cell_type": "markdown",
   "id": "9f9b6138-f123-4b89-abb9-20c20454e70d",
   "metadata": {},
   "source": [
    "#### 训练"
   ]
  },
  {
   "cell_type": "code",
   "execution_count": 371,
   "id": "c0e0e112-abd3-4b64-9ca4-2a5358adf0e8",
   "metadata": {},
   "outputs": [],
   "source": [
    "m2_40 = Baseline(encoder, base_type=0, combination=True,num_channels=[16, 32, 16]).cuda()"
   ]
  },
  {
   "cell_type": "code",
   "execution_count": 385,
   "id": "0d90d659-0964-42e3-8f7c-fdfc5ba3120b",
   "metadata": {},
   "outputs": [],
   "source": [
    "optimizer2_40 = optim.Adam(m2_40.parameters(), lr=1e-4, weight_decay=1e-1)"
   ]
  },
  {
   "cell_type": "code",
   "execution_count": 379,
   "id": "b4241a9c-357d-4447-a42d-1cff4aa3ed57",
   "metadata": {},
   "outputs": [],
   "source": [
    "Loss2_40 = []"
   ]
  },
  {
   "cell_type": "code",
   "execution_count": 386,
   "id": "c62c5a9e-9954-4147-a53e-945c6f3e09d6",
   "metadata": {},
   "outputs": [
    {
     "name": "stdout",
     "output_type": "stream",
     "text": [
      "0\n",
      "0 1.1120956659317016\n",
      "1\n",
      "1 1.1262743711471557\n",
      "2\n",
      "2 1.1232406735420226\n",
      "3\n",
      "3 1.1102930784225464\n",
      "4\n",
      "4 1.1224144756793977\n",
      "5\n",
      "5 1.1167799592018128\n",
      "6\n",
      "6 1.1201257467269898\n",
      "7\n",
      "7 1.125135898590088\n",
      "8\n",
      "8 1.126542443037033\n",
      "9\n",
      "9 1.111837589740753\n"
     ]
    }
   ],
   "source": [
    "m2_40.train()\n",
    "for i in range(10):\n",
    "    Lo2_40 = 0\n",
    "    print(i)\n",
    "    for f,_,_ in train_loader_40:\n",
    "        optimizer2_40.zero_grad()\n",
    "        loss2_40 = m2_40.fit(f.float().cuda())\n",
    "        loss2_40.backward()\n",
    "        optimizer2_40.step()\n",
    "        Lo2_40 += loss2_40.item()\n",
    "    Loss2_40.append(Lo2_40 / len(train_loader_40))\n",
    "    print(i, Loss2_40[-1])"
   ]
  },
  {
   "cell_type": "code",
   "execution_count": 390,
   "id": "dc4eae7b-1ea7-450c-a324-65a78aec2dd0",
   "metadata": {},
   "outputs": [
    {
     "data": {
      "text/plain": [
       "<All keys matched successfully>"
      ]
     },
     "execution_count": 390,
     "metadata": {},
     "output_type": "execute_result"
    }
   ],
   "source": [
    "m2_40.load_state_dict(torch.load(\"para_origin/m2_40.pkl\"))"
   ]
  },
  {
   "cell_type": "code",
   "execution_count": 391,
   "id": "e56722bb-be2f-44dc-991f-0ce43ebcf6e6",
   "metadata": {},
   "outputs": [],
   "source": [
    "torch.save(m2_40.state_dict(), \"results3/m2_40.pkl\")"
   ]
  },
  {
   "cell_type": "code",
   "execution_count": 406,
   "id": "e3cf5864-b317-49a7-8d9c-7656ddfa5880",
   "metadata": {},
   "outputs": [],
   "source": [
    "V2_40 = []\n",
    "V2_40_ = []\n",
    "L2_40 = []\n",
    "m2_40.eval()\n",
    "with torch.no_grad():\n",
    "    for f,_,l in all_loader_40:\n",
    "        v2_40 = m2_40(f.float().cuda())\n",
    "        for i in range(v2_40.shape[0]):\n",
    "            V2_40.append(v2_40[i,-1,:].cpu().detach().numpy())\n",
    "            V2_40_.append(v2_40[i,:,:].cpu().detach().numpy())\n",
    "            L2_40.append(l[i])\n",
    "V2_40 = np.stack(V2_40)\n",
    "V2_40_ = np.stack(V2_40_)\n",
    "L2_40 = np.stack(L2_40).reshape(-1)"
   ]
  },
  {
   "cell_type": "code",
   "execution_count": 407,
   "id": "2041fcfb-20b2-4e07-bad4-85b08a10f1e7",
   "metadata": {},
   "outputs": [],
   "source": [
    "kmeans2_40 = KMeans(n_clusters=2,n_init=20, random_state=42)\n",
    "kmeans2_40.fit(V2_40)\n",
    "label2_40 = kmeans2_40.predict(V2_40)\n",
    "\n",
    "labels2_40 = np.concatenate([[i] * 40 for i in label2_40])\n",
    "\n",
    "kmeans2_40 = KMeans(n_clusters=2,n_init=20, random_state=42)\n",
    "kmeans2_40.fit(V2_40_.reshape(-1, 16))\n",
    "label2_40_ = kmeans2_40.predict(V2_40_.reshape(-1, 16))"
   ]
  },
  {
   "cell_type": "code",
   "execution_count": 408,
   "id": "c9ce00e6-e7eb-463a-9a75-6d55bcea6475",
   "metadata": {},
   "outputs": [
    {
     "data": {
      "text/plain": [
       "(0.9214839888244144, 0.9212314635718891)"
      ]
     },
     "execution_count": 408,
     "metadata": {},
     "output_type": "execute_result"
    }
   ],
   "source": [
    "np.sum(labels2_40 != L2_40) / len(L2_40), np.sum(label2_40_ != L2_40) / len(L2_40)"
   ]
  },
  {
   "cell_type": "code",
   "execution_count": 409,
   "id": "e41b6b12-cd79-4d33-872d-1acefe822774",
   "metadata": {},
   "outputs": [],
   "source": [
    "np.save(\"results3/m_2_40.npy\", np.stack(V2_40))\n",
    "np.save(\"results3/m_2_40_all.npy\", np.stack(V2_40_))\n",
    "np.save(\"results3/tru_2_40.npy\", L2_40)"
   ]
  },
  {
   "cell_type": "code",
   "execution_count": 245,
   "id": "ad97fa7f-918b-4d6d-88d3-ed63583ddbe5",
   "metadata": {},
   "outputs": [],
   "source": [
    "# torch.save(m2_40.state_dict(), \"para_origin/m2_40.pkl\")\n",
    "# np.save(\"resu_origin/lab_2_40.npy\", labels2_40)\n",
    "# np.save(\"resu_origin/tru_2_40.npy\", L2_40)"
   ]
  },
  {
   "cell_type": "markdown",
   "id": "9fa0e2a8-315d-42ec-abb8-81d509e52988",
   "metadata": {},
   "source": [
    "### 片段30"
   ]
  },
  {
   "cell_type": "markdown",
   "id": "6be550e9-7c94-49ed-9019-5cc5de9b7fb8",
   "metadata": {},
   "source": [
    "#### 训练"
   ]
  },
  {
   "cell_type": "code",
   "execution_count": 411,
   "id": "170385a4-8bed-4e3b-8d0a-da46a93cf7e3",
   "metadata": {},
   "outputs": [],
   "source": [
    "m2_30 = Baseline(encoder, base_type=0, combination=True,num_channels=[16, 32, 16]).cuda()"
   ]
  },
  {
   "cell_type": "code",
   "execution_count": 249,
   "id": "427dee1d-6676-4ed8-abd6-ba600497b389",
   "metadata": {},
   "outputs": [],
   "source": [
    "# Loss2_30 = []"
   ]
  },
  {
   "cell_type": "code",
   "execution_count": 250,
   "id": "26d93099-9300-4727-8e81-0bdfb1f5815a",
   "metadata": {},
   "outputs": [],
   "source": [
    "# m2_30.train()\n",
    "# for i in range(50):\n",
    "#     Lo2_30 = 0\n",
    "#     print(i)\n",
    "#     for f,_,_ in train_loader_30:\n",
    "#         optimizer2_30.zero_grad()\n",
    "#         loss2_30 = m2_30.fit(f.float().cuda())\n",
    "#         loss2_30.backward()\n",
    "#         optimizer2_30.step()\n",
    "#         Lo2_30 += loss2_30.item()\n",
    "#     Loss2_30.append(Lo2_30 / len(train_loader_30))\n",
    "#     print(i, Loss2_30[-1])"
   ]
  },
  {
   "cell_type": "code",
   "execution_count": 412,
   "id": "c0a9850d-5699-4ac8-b162-16b53e167218",
   "metadata": {},
   "outputs": [
    {
     "data": {
      "text/plain": [
       "<All keys matched successfully>"
      ]
     },
     "execution_count": 412,
     "metadata": {},
     "output_type": "execute_result"
    }
   ],
   "source": [
    "m2_30.load_state_dict(torch.load(\"para_origin/m2_30.pkl\"))"
   ]
  },
  {
   "cell_type": "code",
   "execution_count": 413,
   "id": "39c73ee2-1740-4b45-b7f5-80252fd1012d",
   "metadata": {},
   "outputs": [],
   "source": [
    "torch.save(m2_30.state_dict(), \"results3/m2_30.pkl\")"
   ]
  },
  {
   "cell_type": "code",
   "execution_count": 419,
   "id": "86a33ddb-de6e-4155-b6d2-8b26a9edf755",
   "metadata": {},
   "outputs": [],
   "source": [
    "V2_30 = []\n",
    "V2_30_ = []\n",
    "L2_30 = []\n",
    "m2_30.eval()\n",
    "with torch.no_grad():\n",
    "    for f,_,l in all_loader_30:\n",
    "        v2_30 = m2_30(f.float().cuda())\n",
    "        for i in range(v2_30.shape[0]):\n",
    "            V2_30.append(v2_30[i,-1,:].cpu().detach().numpy())\n",
    "            V2_30_.append(v2_30[i,:,:].cpu().detach().numpy())\n",
    "            L2_30.append(l[i])\n",
    "V2_30 = np.stack(V2_30)\n",
    "V2_30_ = np.stack(V2_30_)\n",
    "L2_30 = np.stack(L2_30).reshape(-1)"
   ]
  },
  {
   "cell_type": "code",
   "execution_count": 420,
   "id": "52134299-3da0-4582-909a-4dd39041faa3",
   "metadata": {},
   "outputs": [],
   "source": [
    "kmeans2_30 = KMeans(n_clusters=2,n_init=20, random_state=42)\n",
    "kmeans2_30.fit(V2_30)\n",
    "label2_30 = kmeans2_30.predict(V2_30)\n",
    "\n",
    "labels2_30 = np.concatenate([[i] * 30 for i in label2_30])\n",
    "\n",
    "kmeans2_30 = KMeans(n_clusters=2,n_init=20, random_state=42)\n",
    "kmeans2_30.fit(V2_30_.reshape(-1, 16))\n",
    "label2_30_ = kmeans2_30.predict(V2_30_.reshape(-1, 16))"
   ]
  },
  {
   "cell_type": "code",
   "execution_count": 422,
   "id": "89149a1f-2d90-4b5b-8253-3f330f79cf48",
   "metadata": {},
   "outputs": [
    {
     "data": {
      "text/plain": [
       "(0.9245128634087229, 0.9234233074885522)"
      ]
     },
     "execution_count": 422,
     "metadata": {},
     "output_type": "execute_result"
    }
   ],
   "source": [
    "np.sum(labels2_30 != L2_30) / len(L2_30), np.sum(label2_30_ != L2_30) / len(L2_30)"
   ]
  },
  {
   "cell_type": "code",
   "execution_count": 423,
   "id": "4de1669d-597f-4f38-8061-7b9065100cdc",
   "metadata": {},
   "outputs": [],
   "source": [
    "np.save(\"results3/m_2_30.npy\", np.stack(V2_30))\n",
    "np.save(\"results3/m_2_30_all.npy\", np.stack(V2_30_))\n",
    "np.save(\"results3/tru_2_30.npy\", L2_30)"
   ]
  },
  {
   "cell_type": "code",
   "execution_count": 255,
   "id": "0ca41be1-d4c7-487a-816e-2d0c3c08b095",
   "metadata": {},
   "outputs": [],
   "source": [
    "# torch.save(m2_30.state_dict(), \"para_origin/m2_30.pkl\")\n",
    "# np.save(\"resu_origin/lab_2_30.npy\", labels2_30)\n",
    "# np.save(\"resu_origin/tru_2_30.npy\", L2_30)"
   ]
  },
  {
   "cell_type": "markdown",
   "id": "997e7978-f498-4a0a-851c-e53fe8adf8a8",
   "metadata": {},
   "source": [
    "### 片段20"
   ]
  },
  {
   "cell_type": "markdown",
   "id": "2e60865b-c4d4-4247-8ecb-5babef1d96be",
   "metadata": {},
   "source": [
    "#### 训练"
   ]
  },
  {
   "cell_type": "code",
   "execution_count": 424,
   "id": "b73c1079-3be6-4d71-b976-d7e47201b0ac",
   "metadata": {},
   "outputs": [],
   "source": [
    "m2_20 = Baseline(encoder, base_type=0, combination=True,num_channels=[16, 32, 16]).cuda()"
   ]
  },
  {
   "cell_type": "code",
   "execution_count": 261,
   "id": "b19b5113-5399-4a1b-aac3-800b872cb8ae",
   "metadata": {},
   "outputs": [],
   "source": [
    "# optimizer2_20 = optim.Adam(m2_20.parameters(), lr=1e-4, weight_decay=1e-2)"
   ]
  },
  {
   "cell_type": "code",
   "execution_count": 262,
   "id": "db6474b6-433e-47e2-9fdf-b51841107dc8",
   "metadata": {},
   "outputs": [],
   "source": [
    "# Loss2_20 = []"
   ]
  },
  {
   "cell_type": "code",
   "execution_count": 263,
   "id": "99c02126-f505-4070-862a-6a92535c70a7",
   "metadata": {},
   "outputs": [],
   "source": [
    "# m2_20.train()\n",
    "# for i in range(10):\n",
    "#     Lo2_20 = 0\n",
    "#     print(i)\n",
    "#     for f,_,_ in train_loader_20:\n",
    "#         optimizer2_20.zero_grad()\n",
    "#         loss2_20 = m2_20.fit(f.float().cuda())\n",
    "#         loss2_20.backward()\n",
    "#         optimizer2_20.step()\n",
    "#         Lo2_20 += loss2_20.item()\n",
    "#     Loss2_20.append(Lo2_20 / len(train_loader_20))\n",
    "#     print(i, Loss2_20[-1])"
   ]
  },
  {
   "cell_type": "code",
   "execution_count": 425,
   "id": "20187dc3-0f08-4331-8729-0076c43263cd",
   "metadata": {},
   "outputs": [
    {
     "data": {
      "text/plain": [
       "<All keys matched successfully>"
      ]
     },
     "execution_count": 425,
     "metadata": {},
     "output_type": "execute_result"
    }
   ],
   "source": [
    "m2_20.load_state_dict(torch.load(\"para_origin/m2_20.pkl\"))"
   ]
  },
  {
   "cell_type": "code",
   "execution_count": 426,
   "id": "632393c5-253f-4e20-b970-3dc08a744ef7",
   "metadata": {},
   "outputs": [],
   "source": [
    "torch.save(m2_20.state_dict(), \"results3/m2_20.pkl\")"
   ]
  },
  {
   "cell_type": "code",
   "execution_count": 431,
   "id": "b00eb753-fc71-49bf-9d97-ef742583af4e",
   "metadata": {},
   "outputs": [],
   "source": [
    "V2_20 = []\n",
    "V2_20_ = []\n",
    "L2_20 = []\n",
    "m2_20.eval()\n",
    "with torch.no_grad():\n",
    "    for f,_,l in all_loader_20:\n",
    "        v2_20 = m2_20(f.float().cuda())\n",
    "        for i in range(v2_20.shape[0]):\n",
    "            V2_20.append(v2_20[i,-1,:].cpu().detach().numpy())\n",
    "            V2_20_.append(v2_20[i,:,:].cpu().detach().numpy())\n",
    "            L2_20.append(l[i])\n",
    "V2_20 = np.stack(V2_20)\n",
    "V2_20_ = np.stack(V2_20_)\n",
    "L2_20 = np.stack(L2_20).reshape(-1)"
   ]
  },
  {
   "cell_type": "code",
   "execution_count": 432,
   "id": "262e2b8c-6ea4-4edb-a9f0-e1e9b49fd784",
   "metadata": {},
   "outputs": [],
   "source": [
    "kmeans2_20 = KMeans(n_clusters=2,n_init=20, random_state=42)\n",
    "kmeans2_20.fit(V2_20)\n",
    "label2_20 = kmeans2_20.predict(V2_20)\n",
    "\n",
    "labels2_20 = np.concatenate([[i] * 20 for i in label2_20])\n",
    "\n",
    "kmeans2_20 = KMeans(n_clusters=2,n_init=20, random_state=42)\n",
    "kmeans2_20.fit(V2_20_.reshape(-1, 16))\n",
    "label2_20_ = kmeans2_20.predict(V2_20_.reshape(-1, 16))"
   ]
  },
  {
   "cell_type": "code",
   "execution_count": 433,
   "id": "68b2087f-15be-439d-bf00-5bab17f2d56f",
   "metadata": {},
   "outputs": [
    {
     "data": {
      "text/plain": [
       "(0.9246180020544428, 0.9248887176853279)"
      ]
     },
     "execution_count": 433,
     "metadata": {},
     "output_type": "execute_result"
    }
   ],
   "source": [
    "np.sum(labels2_20 != L2_20) / len(L2_20), np.sum(label2_20_ != L2_20) / len(L2_20)"
   ]
  },
  {
   "cell_type": "code",
   "execution_count": 268,
   "id": "f86b4071-8753-4bf0-bb16-39aace1d2888",
   "metadata": {},
   "outputs": [],
   "source": [
    "# torch.save(m2_20.state_dict(), \"para_origin/m2_20.pkl\")\n",
    "# np.save(\"resu_origin/lab_2_20.npy\", labels2_20)\n",
    "# np.save(\"resu_origin/tru_2_20.npy\", L2_20)"
   ]
  },
  {
   "cell_type": "code",
   "execution_count": 434,
   "id": "aca761b0-9d82-469f-89bc-0c0dc8c45b35",
   "metadata": {},
   "outputs": [],
   "source": [
    "np.save(\"results3/m_2_20.npy\", np.stack(V2_20))\n",
    "np.save(\"results3/m_2_20_all.npy\", np.stack(V2_20_))\n",
    "np.save(\"results3/tru_2_20.npy\", L2_20)"
   ]
  },
  {
   "cell_type": "markdown",
   "id": "9b037e38-9a25-4fcc-9b72-112600f65693",
   "metadata": {},
   "source": [
    "### 片段10"
   ]
  },
  {
   "cell_type": "markdown",
   "id": "ae40163f-a8ff-4440-b019-388e4cf25f14",
   "metadata": {},
   "source": [
    "#### 训练"
   ]
  },
  {
   "cell_type": "code",
   "execution_count": 435,
   "id": "7c5a989a-3d58-46d7-a173-6fee4398e04b",
   "metadata": {},
   "outputs": [],
   "source": [
    "m2_10 = Baseline(encoder, base_type=0, combination=True,num_channels=[16, 32, 16]).cuda()"
   ]
  },
  {
   "cell_type": "code",
   "execution_count": 272,
   "id": "82a0b491-7d34-4ef9-a6f7-b2786b539b5e",
   "metadata": {},
   "outputs": [],
   "source": [
    "# optimizer2_10 = optim.Adam(m2_10.parameters(), lr=1e-3, weight_decay=1e-2)"
   ]
  },
  {
   "cell_type": "code",
   "execution_count": 273,
   "id": "2c98d76c-859f-4d6f-94a8-6b7693074390",
   "metadata": {},
   "outputs": [],
   "source": [
    "# Loss2_10 = []"
   ]
  },
  {
   "cell_type": "code",
   "execution_count": 274,
   "id": "e3c568b6-e9cc-469d-b767-1c155a16384a",
   "metadata": {},
   "outputs": [],
   "source": [
    "# m2_10.train()\n",
    "# for i in range(100):\n",
    "#     Lo2_10 = 0\n",
    "#     print(i)\n",
    "#     for f,_,_ in train_loader_10:\n",
    "#         optimizer2_10.zero_grad()\n",
    "#         loss2_10 = m2_10.fit(f.float().cuda())\n",
    "#         loss2_10.backward()\n",
    "#         optimizer2_10.step()\n",
    "#         Lo2_10 += loss2_10.item()\n",
    "#     Loss2_10.append(Lo2_10 / len(train_loader_10))\n",
    "#     print(i, Loss2_10[-1])"
   ]
  },
  {
   "cell_type": "code",
   "execution_count": 436,
   "id": "f7dec8cc-1952-4451-9f1d-a67a534cc1e6",
   "metadata": {},
   "outputs": [
    {
     "data": {
      "text/plain": [
       "<All keys matched successfully>"
      ]
     },
     "execution_count": 436,
     "metadata": {},
     "output_type": "execute_result"
    }
   ],
   "source": [
    "m2_10.load_state_dict(torch.load(\"para_origin/m2_10.pkl\"))"
   ]
  },
  {
   "cell_type": "code",
   "execution_count": 437,
   "id": "e4f603be-69b2-4a77-9d0b-ac1b812a5a39",
   "metadata": {},
   "outputs": [],
   "source": [
    "torch.save(m2_10.state_dict(), \"results3/m2_10.pkl\")"
   ]
  },
  {
   "cell_type": "code",
   "execution_count": 442,
   "id": "a7af0b6e-93d0-4776-8558-2df7d4922a6d",
   "metadata": {},
   "outputs": [],
   "source": [
    "V2_10 = []\n",
    "V2_10_ = []\n",
    "L2_10 = []\n",
    "m2_10.eval()\n",
    "with torch.no_grad():\n",
    "    for f,_,l in all_loader_10:\n",
    "        v2_10 = m2_10(f.float().cuda())\n",
    "        for i in range(v2_10.shape[0]):\n",
    "            V2_10.append(v2_10[i,-1,:].cpu().detach().numpy())\n",
    "            V2_10_.append(v2_10[i,:,:].cpu().detach().numpy())\n",
    "            L2_10.append(l[i])\n",
    "V2_10 = np.stack(V2_10)\n",
    "V2_10_ = np.stack(V2_10_)\n",
    "L2_10 = np.stack(L2_10).reshape(-1)"
   ]
  },
  {
   "cell_type": "code",
   "execution_count": 443,
   "id": "e0e4d84a-63f6-4e7a-9766-d1b3d530d2ea",
   "metadata": {},
   "outputs": [],
   "source": [
    "kmeans2_10 = KMeans(n_clusters=2,n_init=20, random_state=42)\n",
    "kmeans2_10.fit(V2_10)\n",
    "label2_10 = kmeans2_10.predict(V2_10)\n",
    "\n",
    "labels2_10 = np.concatenate([[i] * 10 for i in label2_10])\n",
    "\n",
    "kmeans2_10 = KMeans(n_clusters=2,n_init=20, random_state=42)\n",
    "kmeans2_10.fit(V2_10_.reshape(-1, 16))\n",
    "label2_10_ = kmeans2_10.predict(V2_10_.reshape(-1, 16))"
   ]
  },
  {
   "cell_type": "code",
   "execution_count": 444,
   "id": "7621c3e8-da03-4494-9953-20f6c64b0927",
   "metadata": {},
   "outputs": [
    {
     "data": {
      "text/plain": [
       "(0.9219133331198155, 0.9220115513136683)"
      ]
     },
     "execution_count": 444,
     "metadata": {},
     "output_type": "execute_result"
    }
   ],
   "source": [
    "np.sum(labels2_10 != L2_10) / len(L2_10), np.sum(label2_10_ == L2_10) / len(L2_10)"
   ]
  },
  {
   "cell_type": "code",
   "execution_count": 445,
   "id": "4fef7946-02ca-45e0-bebe-e352f28487b4",
   "metadata": {},
   "outputs": [],
   "source": [
    "np.save(\"results3/m_2_10.npy\", np.stack(V2_10))\n",
    "np.save(\"results3/m_2_10_all.npy\", np.stack(V2_10_))\n",
    "np.save(\"results3/tru_2_10.npy\", L2_10)"
   ]
  },
  {
   "cell_type": "code",
   "execution_count": 275,
   "id": "8bd9f382-5bad-415a-a3f3-b7723fe5d2a2",
   "metadata": {},
   "outputs": [],
   "source": [
    "# torch.save(m2_10.state_dict(), \"para_origin/m2_10.pkl\")\n",
    "# np.save(\"resu_origin/lab_2_10.npy\", labels2_10)\n",
    "# np.save(\"resu_origin/tru_2_10.npy\", L2_10)"
   ]
  },
  {
   "cell_type": "markdown",
   "id": "072aeceb-1572-4940-bb89-7eb65f573990",
   "metadata": {},
   "source": [
    "## 模型3"
   ]
  },
  {
   "cell_type": "markdown",
   "id": "8078ea5b-a342-41f4-8607-ecb085a023a7",
   "metadata": {},
   "source": [
    "### 片段100"
   ]
  },
  {
   "cell_type": "markdown",
   "id": "ef6f88de-7cf6-4051-a49e-3b6d31315d90",
   "metadata": {},
   "source": [
    "#### 训练"
   ]
  },
  {
   "cell_type": "code",
   "execution_count": 446,
   "id": "4dd147fd-e001-49bd-aab5-1ce0287f2d0f",
   "metadata": {},
   "outputs": [],
   "source": [
    "params3 = dict(\n",
    "    input_dim=9,\n",
    "    num_channels=[16, 32, 16],\n",
    "    hidden_dim=32,\n",
    "    num_heads=4,\n",
    "    cluster_num=2,\n",
    "    similarity=\"EUC\",\n",
    "    base_type=0,\n",
    "    combination=False\n",
    ")"
   ]
  },
  {
   "cell_type": "code",
   "execution_count": 447,
   "id": "1ecdbb68-d32b-4c7b-831f-bda4a98446be",
   "metadata": {},
   "outputs": [],
   "source": [
    "m3_100 = DTC(**params3).cuda()"
   ]
  },
  {
   "cell_type": "code",
   "execution_count": 285,
   "id": "908724cd-70e4-4f91-b9e4-0f8574aaf7ba",
   "metadata": {},
   "outputs": [],
   "source": [
    "# optimizer3_100 = optim.Adam(m3_100.parameters(), lr=1e-3, weight_decay=0.1)"
   ]
  },
  {
   "cell_type": "code",
   "execution_count": 286,
   "id": "4247a22c-bae6-4936-a3a3-814e64dd56d1",
   "metadata": {},
   "outputs": [],
   "source": [
    "# Loss3_100 = []"
   ]
  },
  {
   "cell_type": "code",
   "execution_count": 287,
   "id": "1f42e94c-ff5c-453e-a98f-60e5192980b7",
   "metadata": {},
   "outputs": [],
   "source": [
    "# m3_100.train()\n",
    "# for i in range(100):\n",
    "#     Lo3_100 = 0\n",
    "#     print(i)\n",
    "#     for f,_,_ in train_loader_100:\n",
    "#         optimizer3_100.zero_grad()\n",
    "#         _,loss3_100,_ = m3_100.loss(f.float().cuda())\n",
    "#         loss3_100.backward()\n",
    "#         optimizer3_100.step()\n",
    "#         Lo3_100 += loss3_100.item()\n",
    "#     Loss3_100.append(Lo3_100 / len(train_loader_100))\n",
    "#     print(i, Loss3_100[-1])"
   ]
  },
  {
   "cell_type": "code",
   "execution_count": 288,
   "id": "7612a5f4-284f-4b9a-80f0-d41079f8f81b",
   "metadata": {},
   "outputs": [],
   "source": [
    "# Loss3__100 = []\n",
    "# m3_100.init_centroids(train_loader_100)"
   ]
  },
  {
   "cell_type": "code",
   "execution_count": 289,
   "id": "251bcf87-242f-47d8-a640-6e84573e5fb7",
   "metadata": {},
   "outputs": [],
   "source": [
    "# optimizer3_100 = optim.Adam(m3_100.parameters(), lr=1e-5, weight_decay=0.1)"
   ]
  },
  {
   "cell_type": "code",
   "execution_count": 290,
   "id": "0cbc1960-a214-4bb3-bad9-c933b0a9e1f6",
   "metadata": {},
   "outputs": [],
   "source": [
    "# m3_100.train()\n",
    "# for i in range(100):\n",
    "#     print(\"train\", i)\n",
    "#     Lo3__100 = 0\n",
    "#     # print(i)\n",
    "#     for f, _,_ in train_loader_100:\n",
    "#         optimizer3_100.zero_grad()\n",
    "#         loss3_1, loss3_2, loss3_3 = m3_100.loss(f.float().cuda())\n",
    "#         loss3 = 10 * loss3_1 + loss3_2 + 10 * loss3_3\n",
    "#         loss3.backward()\n",
    "#         optimizer3_100.step()\n",
    "#         Lo3__100 += loss3.item()\n",
    "#     Loss3__100.append(Lo3__100 / len(train_loader_100))\n",
    "#     print(i, Loss3__100[-1])"
   ]
  },
  {
   "cell_type": "code",
   "execution_count": 448,
   "id": "4308f7bd-c9df-42a5-aec9-7504a942069c",
   "metadata": {},
   "outputs": [
    {
     "data": {
      "text/plain": [
       "<All keys matched successfully>"
      ]
     },
     "execution_count": 448,
     "metadata": {},
     "output_type": "execute_result"
    }
   ],
   "source": [
    "m3_100.load_state_dict(torch.load(\"para_origin/m3_100.pkl\"))"
   ]
  },
  {
   "cell_type": "code",
   "execution_count": 449,
   "id": "b0c82685-1134-4d21-8621-e48348a8293c",
   "metadata": {},
   "outputs": [],
   "source": [
    "torch.save(m3_100.state_dict(), \"results3/m3_100.pkl\")"
   ]
  },
  {
   "cell_type": "code",
   "execution_count": 450,
   "id": "919f119c-e624-4862-80e3-e249a3481b92",
   "metadata": {},
   "outputs": [],
   "source": [
    "np.save(\"results3/m_3_100_center.npy\", m3_100.cluster.detach().cpu().numpy())"
   ]
  },
  {
   "cell_type": "code",
   "execution_count": 455,
   "id": "153d8cb6-a751-4e21-b253-5678ad18255d",
   "metadata": {},
   "outputs": [],
   "source": [
    "V3_100 = []\n",
    "V3_100_ = []\n",
    "L3_100 = []\n",
    "m3_100.eval()\n",
    "with torch.no_grad():\n",
    "    for f,_,l in all_loader_100:\n",
    "        v3_100 = m3_100(f.float().cuda())\n",
    "        for i in range(v3_100.shape[0]):\n",
    "            V3_100.append(v3_100[i,-1,:].cpu().detach().numpy())\n",
    "            V3_100_.append(v3_100[i,:,:].cpu().detach().numpy())\n",
    "            L3_100.append(l[i])\n",
    "V3_100 = np.stack(V3_100)\n",
    "V3_100_ = np.stack(V3_100_)\n",
    "L3_100 = np.stack(L3_100).reshape(-1)"
   ]
  },
  {
   "cell_type": "code",
   "execution_count": 456,
   "id": "4faac541-0557-4805-8f28-f4e06f40fb52",
   "metadata": {},
   "outputs": [],
   "source": [
    "label3_100 = np.argmin(np.sum(np.power(V3_100[:, np.newaxis,:] - m3_100.cluster.detach().cpu().numpy()[np.newaxis,:,:], 2), axis=-1), axis=-1)\n",
    "\n",
    "labels3_100 = np.concatenate([[i] * 100 for i in label3_100])\n",
    "\n",
    "label3_100_ = np.argmin(np.sum(np.power(V3_100_.reshape(-1,16)[:, np.newaxis,:] - m3_100.cluster.detach().cpu().numpy()[np.newaxis,:,:], 2), axis=-1), axis=-1)\n"
   ]
  },
  {
   "cell_type": "code",
   "execution_count": 457,
   "id": "4f45a6bf-67a4-46c1-b9a4-a78271b39ecc",
   "metadata": {},
   "outputs": [
    {
     "data": {
      "text/plain": [
       "(0.926033111861453, 0.931209018625422)"
      ]
     },
     "execution_count": 457,
     "metadata": {},
     "output_type": "execute_result"
    }
   ],
   "source": [
    "np.sum(labels3_100 != L3_100) / len(L3_100), np.sum(label3_100_ != L3_100) / len(L3_100)"
   ]
  },
  {
   "cell_type": "code",
   "execution_count": 458,
   "id": "d1cd2c15-621a-4f20-835a-ddf991037109",
   "metadata": {},
   "outputs": [],
   "source": [
    "np.save(\"results3/m_3_100.npy\", np.stack(V3_100))\n",
    "np.save(\"results3/m_3_100_all.npy\", np.stack(V3_100_))\n",
    "np.save(\"results3/tru_3_100.npy\", L3_100)"
   ]
  },
  {
   "cell_type": "code",
   "execution_count": 291,
   "id": "492c41ce-8661-4b47-9909-b59152f3c767",
   "metadata": {},
   "outputs": [],
   "source": [
    "# torch.save(m3_100.state_dict(), \"para_origin/m3_100.pkl\")\n",
    "# np.save(\"resu_origin/lab_3_100.npy\", labels3_100)\n",
    "# np.save(\"resu_origin/tru_3_100.npy\", L3_100)"
   ]
  },
  {
   "cell_type": "markdown",
   "id": "835bd3e4-8c3a-4759-b089-7d32c9549498",
   "metadata": {},
   "source": [
    "### 片段80"
   ]
  },
  {
   "cell_type": "markdown",
   "id": "5fead2cd-92a1-41ff-8d75-a80e5b1604d0",
   "metadata": {},
   "source": [
    "#### 训练"
   ]
  },
  {
   "cell_type": "code",
   "execution_count": 459,
   "id": "f6e70dee-6a76-4f44-a22c-494bce95f94a",
   "metadata": {},
   "outputs": [],
   "source": [
    "m3_80 = DTC(**params3).cuda()"
   ]
  },
  {
   "cell_type": "code",
   "execution_count": 304,
   "id": "a39c8342-684a-4136-ae0f-9c87b4358a59",
   "metadata": {},
   "outputs": [],
   "source": [
    "# optimizer3_80 = optim.Adam(m3_80.parameters(), lr=1e-4, weight_decay=0.1)"
   ]
  },
  {
   "cell_type": "code",
   "execution_count": 305,
   "id": "55f6b385-d56a-47c7-b45d-564c1e3ab6e6",
   "metadata": {},
   "outputs": [],
   "source": [
    "# Loss3_80 = []"
   ]
  },
  {
   "cell_type": "code",
   "execution_count": 306,
   "id": "d0f1b05b-93db-49ba-882e-c288547f9384",
   "metadata": {},
   "outputs": [],
   "source": [
    "# m3_80.train()\n",
    "# for i in range(20):\n",
    "#     Lo3_80 = 0\n",
    "#     print(i)\n",
    "#     for f,_,_ in train_loader_80:\n",
    "#         optimizer3_80.zero_grad()\n",
    "#         _,loss3_80,_ = m3_80.loss(f.float().cuda())\n",
    "#         loss3_80.backward()\n",
    "#         optimizer3_80.step()\n",
    "#         Lo3_80 += loss3_80.item()\n",
    "#     Loss3_80.append(Lo3_80 / len(train_loader_80))\n",
    "#     print(i, Loss3_80[-1])"
   ]
  },
  {
   "cell_type": "code",
   "execution_count": 307,
   "id": "9a099e47-b58a-40e4-96d8-6211310bb8ab",
   "metadata": {},
   "outputs": [],
   "source": [
    "# Loss3__80 = []\n",
    "# m3_80.init_centroids(train_loader_80)"
   ]
  },
  {
   "cell_type": "code",
   "execution_count": 308,
   "id": "6325a22e-ba09-4ef2-814d-8cbf82401cba",
   "metadata": {},
   "outputs": [],
   "source": [
    "# optimizer3_80 = optim.Adam(m3_80.parameters(), lr=1e-4, weight_decay=0.1)"
   ]
  },
  {
   "cell_type": "code",
   "execution_count": 309,
   "id": "8eac5862-4204-4740-829c-54c9930fcb51",
   "metadata": {},
   "outputs": [],
   "source": [
    "# m3_80.train()\n",
    "# for i in range(10):\n",
    "#     print(\"train\", i)\n",
    "#     Lo3__80 = 0\n",
    "#     # print(i)\n",
    "#     for f, _,_ in train_loader_80:\n",
    "#         optimizer3_80.zero_grad()\n",
    "#         loss3_1, loss3_2, loss3_3 = m3_80.loss(f.float().cuda())\n",
    "#         loss3 = 10 * loss3_1 + loss3_2 + 10 * loss3_3\n",
    "#         loss3.backward()\n",
    "#         optimizer3_80.step()\n",
    "#         Lo3__80 += loss3.item()\n",
    "#     Loss3__80.append(Lo3__80 / len(train_loader_80))\n",
    "#     print(i, Loss3__80[-1])"
   ]
  },
  {
   "cell_type": "code",
   "execution_count": 460,
   "id": "8f8c6cbe-9c8d-43f6-8120-21a51e94efc5",
   "metadata": {},
   "outputs": [
    {
     "data": {
      "text/plain": [
       "<All keys matched successfully>"
      ]
     },
     "execution_count": 460,
     "metadata": {},
     "output_type": "execute_result"
    }
   ],
   "source": [
    "m3_80.load_state_dict(torch.load(\"para_origin/m3_80.pkl\"))"
   ]
  },
  {
   "cell_type": "code",
   "execution_count": 461,
   "id": "c5772324-1601-4c0d-91d3-a2799b8c87b4",
   "metadata": {},
   "outputs": [],
   "source": [
    "torch.save(m3_80.state_dict(), \"results3/m3_80.pkl\")"
   ]
  },
  {
   "cell_type": "code",
   "execution_count": 462,
   "id": "e0f9a6a8-3998-4d1d-a169-b047e37b802a",
   "metadata": {},
   "outputs": [],
   "source": [
    "np.save(\"results3/m_3_80_center.npy\", m3_80.cluster.detach().cpu().numpy())"
   ]
  },
  {
   "cell_type": "code",
   "execution_count": 467,
   "id": "5b87d4d3-2f70-4c32-b999-f119b127379b",
   "metadata": {},
   "outputs": [],
   "source": [
    "V3_80 = []\n",
    "V3_80_ = []\n",
    "L3_80 = []\n",
    "m3_80.eval()\n",
    "with torch.no_grad():\n",
    "    for f,_,l in all_loader_80:\n",
    "        v3_80 = m3_80(f.float().cuda())\n",
    "        for i in range(v3_80.shape[0]):\n",
    "            V3_80.append(v3_80[i,-1,:].cpu().detach().numpy())\n",
    "            V3_80_.append(v3_80[i,:,:].cpu().detach().numpy())\n",
    "            L3_80.append(l[i])\n",
    "V3_80 = np.stack(V3_80)\n",
    "V3_80_ = np.stack(V3_80_)\n",
    "L3_80 = np.stack(L3_80).reshape(-1)"
   ]
  },
  {
   "cell_type": "code",
   "execution_count": 468,
   "id": "3f45c0dd-8dd7-4c3a-a905-6f7cb1476aaf",
   "metadata": {},
   "outputs": [],
   "source": [
    "label3_80 = np.argmin(np.sum(np.power(V3_80[:, np.newaxis,:] - m3_80.cluster.detach().cpu().numpy()[np.newaxis,:,:], 2), axis=-1), axis=-1)\n",
    "\n",
    "labels3_80 = np.concatenate([[i] * 80 for i in label3_80])\n",
    "\n",
    "label3_80_ = np.argmin(np.sum(np.power(V3_80_.reshape(-1,16)[:, np.newaxis,:] - m3_80.cluster.detach().cpu().numpy()[np.newaxis,:,:], 2), axis=-1), axis=-1)\n"
   ]
  },
  {
   "cell_type": "code",
   "execution_count": 469,
   "id": "9d1b5d18-8f50-4c29-aee4-79504ad5f1c6",
   "metadata": {},
   "outputs": [
    {
     "data": {
      "text/plain": [
       "(0.923637486992716, 0.9259430280957336)"
      ]
     },
     "execution_count": 469,
     "metadata": {},
     "output_type": "execute_result"
    }
   ],
   "source": [
    "np.sum(labels3_80 != L3_80) / len(L3_80), np.sum(label3_80_ != L3_80) / len(L3_80)"
   ]
  },
  {
   "cell_type": "code",
   "execution_count": 311,
   "id": "7a0885a7-2cc7-4b6c-866b-540a9435dae2",
   "metadata": {},
   "outputs": [],
   "source": [
    "# torch.save(m3_80.state_dict(), \"para_origin/m3_80.pkl\")\n",
    "# np.save(\"resu_origin/lab_3_80.npy\", labels3_80)\n",
    "# np.save(\"resu_origin/tru_3_80.npy\", L3_80)"
   ]
  },
  {
   "cell_type": "code",
   "execution_count": 470,
   "id": "9b3d005d-c015-4153-b135-54b5c5dd5376",
   "metadata": {},
   "outputs": [],
   "source": [
    "np.save(\"results3/m_3_80.npy\", np.stack(V3_80))\n",
    "np.save(\"results3/m_3_80_all.npy\", np.stack(V3_80_))\n",
    "np.save(\"results3/tru_3_80.npy\", L3_80)"
   ]
  },
  {
   "cell_type": "markdown",
   "id": "aeb63e9c-b878-4714-a30a-6e3db0f82a0b",
   "metadata": {},
   "source": [
    "### 片段60"
   ]
  },
  {
   "cell_type": "markdown",
   "id": "0807de50-6437-4cb8-9ef6-61fe944117f9",
   "metadata": {},
   "source": [
    "#### 训练"
   ]
  },
  {
   "cell_type": "code",
   "execution_count": 471,
   "id": "2319ba0d-03d0-4f0b-b2ab-45e9044a795f",
   "metadata": {},
   "outputs": [],
   "source": [
    "m3_60 = DTC(**params3).cuda()"
   ]
  },
  {
   "cell_type": "code",
   "execution_count": 317,
   "id": "975ea09a-e8d0-46fe-9626-48669960c1af",
   "metadata": {},
   "outputs": [],
   "source": [
    "# optimizer3_60 = optim.Adam(m3_60.parameters(), lr=1e-3, weight_decay=0.1)"
   ]
  },
  {
   "cell_type": "code",
   "execution_count": 318,
   "id": "dc3cc266-eccf-4341-8aea-9bcb4d77875e",
   "metadata": {},
   "outputs": [],
   "source": [
    "# Loss3_60 = []"
   ]
  },
  {
   "cell_type": "code",
   "execution_count": 319,
   "id": "300b2e06-698f-4947-a974-5c39ea5bb202",
   "metadata": {},
   "outputs": [],
   "source": [
    "# m3_60.train()\n",
    "# for i in range(100):\n",
    "#     Lo3_60 = 0\n",
    "#     print(i)\n",
    "#     for f,_,_ in train_loader_60:\n",
    "#         optimizer3_60.zero_grad()\n",
    "#         _,loss3_60,_ = m3_60.loss(f.float().cuda())\n",
    "#         loss3_60.backward()\n",
    "#         optimizer3_60.step()\n",
    "#         Lo3_60 += loss3_60.item()\n",
    "#     Loss3_60.append(Lo3_60 / len(train_loader_60))\n",
    "#     print(i, Loss3_60[-1])"
   ]
  },
  {
   "cell_type": "code",
   "execution_count": 320,
   "id": "586b766b-6603-4efb-9b84-23caff3ed9fc",
   "metadata": {},
   "outputs": [],
   "source": [
    "# Loss3__60 = []\n",
    "# m3_60.init_centroids(train_loader_60)"
   ]
  },
  {
   "cell_type": "code",
   "execution_count": 321,
   "id": "4d2b68b1-34e1-46df-8a0f-628efb849be2",
   "metadata": {},
   "outputs": [],
   "source": [
    "# optimizer3_60 = optim.Adam(m3_60.parameters(), lr=1e-5, weight_decay=0.1)"
   ]
  },
  {
   "cell_type": "code",
   "execution_count": 322,
   "id": "8e751d6c-4f17-4120-8342-d79850960351",
   "metadata": {},
   "outputs": [],
   "source": [
    "# m3_60.train()\n",
    "# for i in range(10):\n",
    "#     print(\"train\", i)\n",
    "#     Lo3__60 = 0\n",
    "#     # print(i)\n",
    "#     for f, _,_ in train_loader_60:\n",
    "#         optimizer3_60.zero_grad()\n",
    "#         loss3_1, loss3_2, loss3_3 = m3_60.loss(f.float().cuda())\n",
    "#         loss3 = 10 * loss3_1 + loss3_2 + 10 * loss3_3\n",
    "#         loss3.backward()\n",
    "#         optimizer3_60.step()\n",
    "#         Lo3__60 += loss3.item()\n",
    "#     Loss3__60.append(Lo3__60 / len(train_loader_60))\n",
    "#     print(i, Loss3__60[-1])"
   ]
  },
  {
   "cell_type": "code",
   "execution_count": 472,
   "id": "59c3c990-1f34-4dba-bb83-73367e111385",
   "metadata": {},
   "outputs": [
    {
     "data": {
      "text/plain": [
       "<All keys matched successfully>"
      ]
     },
     "execution_count": 472,
     "metadata": {},
     "output_type": "execute_result"
    }
   ],
   "source": [
    "m3_60.load_state_dict(torch.load(\"para_origin/m3_60.pkl\"))"
   ]
  },
  {
   "cell_type": "code",
   "execution_count": 473,
   "id": "0fdb6415-1dcc-4387-84ff-f358a7fddaba",
   "metadata": {},
   "outputs": [],
   "source": [
    "torch.save(m3_60.state_dict(), \"results3/m3_60.pkl\")"
   ]
  },
  {
   "cell_type": "code",
   "execution_count": 474,
   "id": "cabc6c60-fde4-47cc-9def-749dcb4081b6",
   "metadata": {},
   "outputs": [],
   "source": [
    "np.save(\"results3/m_3_60_center.npy\", m3_60.cluster.detach().cpu().numpy())"
   ]
  },
  {
   "cell_type": "code",
   "execution_count": 479,
   "id": "54cba4f5-fa15-4b06-af3c-3d20ad1029ad",
   "metadata": {},
   "outputs": [],
   "source": [
    "V3_60 = []\n",
    "V3_60_ = []\n",
    "L3_60 = []\n",
    "m3_60.eval()\n",
    "with torch.no_grad():\n",
    "    for f,_,l in all_loader_60:\n",
    "        v3_60 = m3_60(f.float().cuda())\n",
    "        for i in range(v3_60.shape[0]):\n",
    "            V3_60.append(v3_60[i,-1,:].cpu().detach().numpy())\n",
    "            V3_60_.append(v3_60[i,:,:].cpu().detach().numpy())\n",
    "            L3_60.append(l[i])\n",
    "V3_60 = np.stack(V3_60)\n",
    "V3_60_ = np.stack(V3_60_)\n",
    "L3_60 = np.stack(L3_60).reshape(-1)"
   ]
  },
  {
   "cell_type": "code",
   "execution_count": 480,
   "id": "e8cd14ae-8287-4f97-966e-d2702e31e6b5",
   "metadata": {},
   "outputs": [],
   "source": [
    "label3_60 = np.argmin(np.sum(np.power(V3_60[:, np.newaxis,:] - m3_60.cluster.detach().cpu().numpy()[np.newaxis,:,:], 2), axis=-1), axis=-1)\n",
    "\n",
    "labels3_60 = np.concatenate([[i] * 60 for i in label3_60])\n",
    "\n",
    "label3_60_ = np.argmin(np.sum(np.power(V3_60_.reshape(-1,16)[:, np.newaxis,:] - m3_60.cluster.detach().cpu().numpy()[np.newaxis,:,:], 2), axis=-1), axis=-1)"
   ]
  },
  {
   "cell_type": "code",
   "execution_count": 481,
   "id": "9d933aeb-f53c-4c5d-ae35-a85bc441aa8f",
   "metadata": {},
   "outputs": [
    {
     "data": {
      "text/plain": [
       "(0.9260444329295939, 0.9263099941706069)"
      ]
     },
     "execution_count": 481,
     "metadata": {},
     "output_type": "execute_result"
    }
   ],
   "source": [
    "np.sum(labels3_60 == L3_60) / len(L3_60), np.sum(label3_60_ == L3_60) / len(L3_60)"
   ]
  },
  {
   "cell_type": "code",
   "execution_count": 482,
   "id": "0e18bbab-9d23-4716-8542-c2c60e546eb7",
   "metadata": {},
   "outputs": [],
   "source": [
    "# torch.save(m3_60.state_dict(), \"para_origin/m3_60.pkl\")\n",
    "# np.save(\"resu_origin/lab_3_60.npy\", labels3_60)\n",
    "# np.save(\"resu_origin/tru_3_60.npy\", L3_60)"
   ]
  },
  {
   "cell_type": "code",
   "execution_count": 483,
   "id": "f6f0fc99-b2d5-40c1-aa57-31a7cb1850ed",
   "metadata": {},
   "outputs": [],
   "source": [
    "np.save(\"results3/m_3_60.npy\", np.stack(V3_60))\n",
    "np.save(\"results3/m_3_60_all.npy\", np.stack(V3_60_))\n",
    "np.save(\"results3/tru_3_60.npy\", L3_60)"
   ]
  },
  {
   "cell_type": "markdown",
   "id": "44cd123c-e0f3-4994-a415-1ae083f3ac6a",
   "metadata": {},
   "source": [
    "### 片段40"
   ]
  },
  {
   "cell_type": "markdown",
   "id": "f54253b0-681c-48dd-9f4c-ab0c3873dede",
   "metadata": {},
   "source": [
    "#### 训练"
   ]
  },
  {
   "cell_type": "code",
   "execution_count": 484,
   "id": "0b374fa8-fba1-4132-91ac-20c5eca31006",
   "metadata": {},
   "outputs": [],
   "source": [
    "m3_40 = DTC(**params3).cuda()"
   ]
  },
  {
   "cell_type": "code",
   "execution_count": 331,
   "id": "ee70b17a-3b6a-4d58-822b-08bc0111c1dd",
   "metadata": {},
   "outputs": [],
   "source": [
    "# optimizer3_40 = optim.Adam(m3_40.parameters(), lr=1e-4, weight_decay=0.1)"
   ]
  },
  {
   "cell_type": "code",
   "execution_count": 332,
   "id": "7cc4fd31-7445-4f4d-b566-12040423c903",
   "metadata": {},
   "outputs": [],
   "source": [
    "# Loss3_40 = []"
   ]
  },
  {
   "cell_type": "code",
   "execution_count": 333,
   "id": "539c0c54-6ece-48ee-90d7-e8585c118f90",
   "metadata": {},
   "outputs": [],
   "source": [
    "# m3_40.train()\n",
    "# for i in range(100):\n",
    "#     Lo3_40 = 0\n",
    "#     print(i)\n",
    "#     for f,_,_ in train_loader_40:\n",
    "#         optimizer3_40.zero_grad()\n",
    "#         _,loss3_40,_ = m3_40.loss(f.float().cuda())\n",
    "#         loss3_40.backward()\n",
    "#         optimizer3_40.step()\n",
    "#         Lo3_40 += loss3_40.item()\n",
    "#     Loss3_40.append(Lo3_40 / len(train_loader_40))\n",
    "#     print(i, Loss3_40[-1])"
   ]
  },
  {
   "cell_type": "code",
   "execution_count": 334,
   "id": "4b85228d-424b-437f-a484-1b438ad91307",
   "metadata": {},
   "outputs": [],
   "source": [
    "# Loss3__40 = []\n",
    "# m3_40.init_centroids(train_loader_40)"
   ]
  },
  {
   "cell_type": "code",
   "execution_count": 335,
   "id": "c88af08c-25e1-45a4-a25c-f8886c8c7bb7",
   "metadata": {},
   "outputs": [],
   "source": [
    "# optimizer3_40 = optim.Adam(m3_40.parameters(), lr=1e-5, weight_decay=0.1)"
   ]
  },
  {
   "cell_type": "code",
   "execution_count": 336,
   "id": "e2b4cbbf-7df5-4f69-9557-59ab2b000b57",
   "metadata": {},
   "outputs": [],
   "source": [
    "# m3_40.train()\n",
    "# for i in range(10):\n",
    "#     print(\"train\", i)\n",
    "#     Lo3__40 = 0\n",
    "#     # print(i)\n",
    "#     for f, _,_ in train_loader_40:\n",
    "#         optimizer3_40.zero_grad()\n",
    "#         loss3_1, loss3_2, loss3_3 = m3_40.loss(f.float().cuda())\n",
    "#         loss3 = 10 * loss3_1 + loss3_2 + 10 * loss3_3\n",
    "#         loss3.backward()\n",
    "#         optimizer3_40.step()\n",
    "#         Lo3__40 += loss3.item()\n",
    "#     Loss3__40.append(Lo3__40 / len(train_loader_40))\n",
    "#     print(i, Loss3__40[-1])"
   ]
  },
  {
   "cell_type": "code",
   "execution_count": 485,
   "id": "f6928f35-2c64-42af-8f0c-084bcc14f94d",
   "metadata": {},
   "outputs": [
    {
     "data": {
      "text/plain": [
       "<All keys matched successfully>"
      ]
     },
     "execution_count": 485,
     "metadata": {},
     "output_type": "execute_result"
    }
   ],
   "source": [
    "m3_40.load_state_dict(torch.load(\"para_origin/m3_40.pkl\"))"
   ]
  },
  {
   "cell_type": "code",
   "execution_count": 486,
   "id": "c440b121-53d2-4d58-bda6-cee016e3c32f",
   "metadata": {},
   "outputs": [],
   "source": [
    "torch.save(m3_40.state_dict(), \"results3/m3_40.pkl\")"
   ]
  },
  {
   "cell_type": "code",
   "execution_count": 487,
   "id": "fc5c7662-7a3c-4c8f-ae90-86686f4c27ce",
   "metadata": {},
   "outputs": [],
   "source": [
    "np.save(\"results3/m_3_40_center.npy\", m3_40.cluster.detach().cpu().numpy())"
   ]
  },
  {
   "cell_type": "code",
   "execution_count": 492,
   "id": "44aa9c17-4143-462e-a8fb-4d8e42cafae3",
   "metadata": {},
   "outputs": [],
   "source": [
    "V3_40 = []\n",
    "V3_40_ = []\n",
    "L3_40 = []\n",
    "m3_40.eval()\n",
    "with torch.no_grad():\n",
    "    for f,_,l in all_loader_40:\n",
    "        v3_40 = m3_40(f.float().cuda())\n",
    "        for i in range(v3_40.shape[0]):\n",
    "            V3_40.append(v3_40[i,-1,:].cpu().detach().numpy())\n",
    "            V3_40_.append(v3_40[i,:,:].cpu().detach().numpy())\n",
    "            L3_40.append(l[i])\n",
    "V3_40 = np.stack(V3_40)\n",
    "V3_40_ = np.stack(V3_40_)\n",
    "L3_40 = np.stack(L3_40).reshape(-1)"
   ]
  },
  {
   "cell_type": "code",
   "execution_count": 493,
   "id": "3bb81d0c-449d-48c6-8a3a-a112b1194623",
   "metadata": {},
   "outputs": [],
   "source": [
    "label3_40 = np.argmin(np.sum(np.power(V3_40[:, np.newaxis,:] - m3_40.cluster.detach().cpu().numpy()[np.newaxis,:,:], 2), axis=-1), axis=-1)\n",
    "\n",
    "labels3_40 = np.concatenate([[i] * 40 for i in label3_40])\n",
    "\n",
    "label3_40_ = np.argmin(np.sum(np.power(V3_40_.reshape(-1,16)[:, np.newaxis,:] - m3_40.cluster.detach().cpu().numpy()[np.newaxis,:,:], 2), axis=-1), axis=-1)"
   ]
  },
  {
   "cell_type": "code",
   "execution_count": 494,
   "id": "4dac20a4-6954-4125-9c3f-12a8cde3cbf8",
   "metadata": {},
   "outputs": [
    {
     "data": {
      "text/plain": [
       "(0.9248087255534064, 0.9250247152374812)"
      ]
     },
     "execution_count": 494,
     "metadata": {},
     "output_type": "execute_result"
    }
   ],
   "source": [
    "np.sum(labels3_40 == L3_40) / len(L3_40), np.sum(label3_40_ == L3_40) / len(L3_40)"
   ]
  },
  {
   "cell_type": "code",
   "execution_count": 344,
   "id": "2b151c12-a97b-4661-b056-9dc63027a55f",
   "metadata": {},
   "outputs": [],
   "source": [
    "# torch.save(m3_40.state_dict(), \"para_origin/m3_40.pkl\")\n",
    "# np.save(\"resu_origin/lab_3_40.npy\", labels3_40)\n",
    "# np.save(\"resu_origin/tru_3_40.npy\", L3_40)"
   ]
  },
  {
   "cell_type": "code",
   "execution_count": 495,
   "id": "8e33306d-471a-4036-942b-d85bbb16b381",
   "metadata": {},
   "outputs": [],
   "source": [
    "np.save(\"results3/m_3_40.npy\", np.stack(V3_40))\n",
    "np.save(\"results3/m_3_40_all.npy\", np.stack(V3_40_))\n",
    "np.save(\"results3/tru_3_40.npy\", L3_40)"
   ]
  },
  {
   "cell_type": "markdown",
   "id": "1cfb1b06-2393-4e5b-80e7-2ee8292a7593",
   "metadata": {},
   "source": [
    "### 片段30"
   ]
  },
  {
   "cell_type": "markdown",
   "id": "e5e7e14d-5398-48e4-b0cf-97a015bb35c3",
   "metadata": {},
   "source": [
    "#### 训练"
   ]
  },
  {
   "cell_type": "code",
   "execution_count": 496,
   "id": "1a84f667-2a5d-41bb-ba71-04d72d225a47",
   "metadata": {},
   "outputs": [],
   "source": [
    "m3_30 = DTC(**params3).cuda()"
   ]
  },
  {
   "cell_type": "code",
   "execution_count": 347,
   "id": "85d400b4-b0ad-45a2-909a-04bc413e5fd2",
   "metadata": {},
   "outputs": [],
   "source": [
    "# optimizer3_30 = optim.Adam(m3_30.parameters(), lr=1e-4, weight_decay=0.1)"
   ]
  },
  {
   "cell_type": "code",
   "execution_count": 348,
   "id": "e81f5e5a-d3a9-472d-9e49-81f294ceec6e",
   "metadata": {},
   "outputs": [],
   "source": [
    "# Loss3_30 = []"
   ]
  },
  {
   "cell_type": "code",
   "execution_count": 349,
   "id": "45d0dd14-3d1d-4e4b-9bce-fd29ac997806",
   "metadata": {},
   "outputs": [],
   "source": [
    "# m3_30.train()\n",
    "# for i in range(100):\n",
    "#     Lo3_30 = 0\n",
    "#     print(i)\n",
    "#     for f,_,_ in train_loader_30:\n",
    "#         optimizer3_30.zero_grad()\n",
    "#         _,loss3_30,_ = m3_30.loss(f.float().cuda())\n",
    "#         loss3_30.backward()\n",
    "#         optimizer3_30.step()\n",
    "#         Lo3_30 += loss3_30.item()\n",
    "#     Loss3_30.append(Lo3_30 / len(train_loader_30))\n",
    "#     print(i, Loss3_30[-1])"
   ]
  },
  {
   "cell_type": "code",
   "execution_count": 350,
   "id": "8cb935c1-15af-4d42-961b-af65cb7da641",
   "metadata": {},
   "outputs": [],
   "source": [
    "# Loss3__30 = []\n",
    "# m3_30.init_centroids(train_loader_30)"
   ]
  },
  {
   "cell_type": "code",
   "execution_count": 351,
   "id": "3bc35bdb-e01b-4fcb-a718-e6965ad9069a",
   "metadata": {},
   "outputs": [],
   "source": [
    "# optimizer3_30 = optim.Adam(m3_30.parameters(), lr=1e-4, weight_decay=0.1)"
   ]
  },
  {
   "cell_type": "code",
   "execution_count": 352,
   "id": "54fa67cc-659f-4c4a-8c38-e1681fe715be",
   "metadata": {},
   "outputs": [],
   "source": [
    "# m3_30.train()\n",
    "# for i in range(10):\n",
    "#     print(\"train\", i)\n",
    "#     Lo3__30 = 0\n",
    "#     # print(i)\n",
    "#     for f, _,_ in train_loader_30:\n",
    "#         optimizer3_30.zero_grad()\n",
    "#         loss3_1, loss3_2, loss3_3 = m3_30.loss(f.float().cuda())\n",
    "#         loss3 = 10 * loss3_1 + loss3_2 + 10 * loss3_3\n",
    "#         loss3.backward()\n",
    "#         optimizer3_30.step()\n",
    "#         Lo3__30 += loss3.item()\n",
    "#     Loss3__30.append(Lo3__30 / len(train_loader_30))\n",
    "#     print(i, Loss3__30[-1])"
   ]
  },
  {
   "cell_type": "code",
   "execution_count": 497,
   "id": "7e038cc2-3c83-42ec-a652-9c7ff82cc96b",
   "metadata": {},
   "outputs": [
    {
     "data": {
      "text/plain": [
       "<All keys matched successfully>"
      ]
     },
     "execution_count": 497,
     "metadata": {},
     "output_type": "execute_result"
    }
   ],
   "source": [
    "m3_30.load_state_dict(torch.load(\"para_origin/m3_30.pkl\"))"
   ]
  },
  {
   "cell_type": "code",
   "execution_count": 498,
   "id": "67b68915-10b1-45d6-816d-fc7b37dadd9e",
   "metadata": {},
   "outputs": [],
   "source": [
    "torch.save(m3_30.state_dict(), \"results3/m3_30.pkl\")"
   ]
  },
  {
   "cell_type": "code",
   "execution_count": 499,
   "id": "8ac28727-b4fd-405f-963d-8867ad56ed9d",
   "metadata": {},
   "outputs": [],
   "source": [
    "np.save(\"results3/m_3_30_center.npy\", m3_30.cluster.detach().cpu().numpy())"
   ]
  },
  {
   "cell_type": "code",
   "execution_count": 504,
   "id": "709fe69e-2aea-483f-bb20-b21478929d78",
   "metadata": {},
   "outputs": [],
   "source": [
    "V3_30 = []\n",
    "V3_30_ = []\n",
    "L3_30 = []\n",
    "m3_30.eval()\n",
    "with torch.no_grad():\n",
    "    for f,_,l in all_loader_30:\n",
    "        v3_30 = m3_30(f.float().cuda())\n",
    "        for i in range(v3_30.shape[0]):\n",
    "            V3_30.append(v3_30[i,-1,:].cpu().detach().numpy())\n",
    "            V3_30_.append(v3_30[i,:,:].cpu().detach().numpy())\n",
    "            L3_30.append(l[i])\n",
    "V3_30 = np.stack(V3_30)\n",
    "V3_30_ = np.stack(V3_30_)\n",
    "L3_30 = np.stack(L3_30).reshape(-1)"
   ]
  },
  {
   "cell_type": "code",
   "execution_count": 505,
   "id": "3568b08e-0668-40fa-a7d2-f32029bc611a",
   "metadata": {},
   "outputs": [],
   "source": [
    "label3_30 = np.argmin(np.sum(np.power(V3_30[:, np.newaxis,:] - m3_30.cluster.detach().cpu().numpy()[np.newaxis,:,:], 2), axis=-1), axis=-1)\n",
    "\n",
    "labels3_30 = np.concatenate([[i] * 30 for i in label3_30])\n",
    "\n",
    "label3_30_ = np.argmin(np.sum(np.power(V3_30_.reshape(-1,16)[:, np.newaxis,:] - m3_30.cluster.detach().cpu().numpy()[np.newaxis,:,:], 2), axis=-1), axis=-1)"
   ]
  },
  {
   "cell_type": "code",
   "execution_count": 506,
   "id": "c5ad99d7-5c21-45b5-956a-ab4c3b2af357",
   "metadata": {},
   "outputs": [
    {
     "data": {
      "text/plain": [
       "(0.9176345054638656, 0.9182543512530965)"
      ]
     },
     "execution_count": 506,
     "metadata": {},
     "output_type": "execute_result"
    }
   ],
   "source": [
    "np.sum(labels3_30 != L3_30) / len(L3_30), np.sum(label3_30_ != L3_30) / len(L3_30)"
   ]
  },
  {
   "cell_type": "code",
   "execution_count": 358,
   "id": "b03c7734-3e94-4726-86c5-57bcb063f362",
   "metadata": {},
   "outputs": [],
   "source": [
    "# torch.save(m3_30.state_dict(), \"para_origin/m3_30.pkl\")\n",
    "# np.save(\"resu_origin/lab_3_30.npy\", labels3_30)\n",
    "# np.save(\"resu_origin/tru_3_30.npy\", L3_30)"
   ]
  },
  {
   "cell_type": "code",
   "execution_count": 507,
   "id": "3c01f442-bede-4c9b-b7ae-d8cf08e2e8cc",
   "metadata": {},
   "outputs": [],
   "source": [
    "np.save(\"results3/m_3_30.npy\", np.stack(V3_30))\n",
    "np.save(\"results3/m_3_30_all.npy\", np.stack(V3_30_))\n",
    "np.save(\"results3/tru_3_30.npy\", L3_30)"
   ]
  },
  {
   "cell_type": "markdown",
   "id": "bbf2d281-69b7-4383-a200-fdc4a9f41e2a",
   "metadata": {},
   "source": [
    "### 片段20"
   ]
  },
  {
   "cell_type": "markdown",
   "id": "d9cdfcb1-19df-49c5-af32-cd6b0bed9b8e",
   "metadata": {},
   "source": [
    "#### 训练"
   ]
  },
  {
   "cell_type": "code",
   "execution_count": 508,
   "id": "eea638bd-8e42-41f5-a6dd-336bfd6f36c6",
   "metadata": {},
   "outputs": [],
   "source": [
    "m3_20 = DTC(**params3).cuda()"
   ]
  },
  {
   "cell_type": "code",
   "execution_count": 361,
   "id": "20d67810-a8c2-41c4-9163-41aafe5fea7e",
   "metadata": {},
   "outputs": [],
   "source": [
    "# optimizer3_20 = optim.Adam(m3_20.parameters(), lr=1e-3, weight_decay=0.1)"
   ]
  },
  {
   "cell_type": "code",
   "execution_count": 362,
   "id": "d49d7fc6-6e6c-4ea0-b38b-c09f2df5e918",
   "metadata": {},
   "outputs": [],
   "source": [
    "# Loss3_20 = []"
   ]
  },
  {
   "cell_type": "code",
   "execution_count": 363,
   "id": "2aa498c9-80f9-4c65-aea4-15fc4d2ad557",
   "metadata": {},
   "outputs": [],
   "source": [
    "# m3_20.train()\n",
    "# for i in range(100):\n",
    "#     Lo3_20 = 0\n",
    "#     print(i)\n",
    "#     for f,_,_ in train_loader_20:\n",
    "#         optimizer3_20.zero_grad()\n",
    "#         _,loss3_20,_ = m3_20.loss(f.float().cuda())\n",
    "#         loss3_20.backward()\n",
    "#         optimizer3_20.step()\n",
    "#         Lo3_20 += loss3_20.item()\n",
    "#     Loss3_20.append(Lo3_20 / len(train_loader_20))\n",
    "#     print(i, Loss3_20[-1])"
   ]
  },
  {
   "cell_type": "code",
   "execution_count": 364,
   "id": "a5027cb6-0089-436c-8e74-70eb1f32844a",
   "metadata": {},
   "outputs": [],
   "source": [
    "# Loss3__20 = []\n",
    "# m3_20.init_centroids(train_loader_20)"
   ]
  },
  {
   "cell_type": "code",
   "execution_count": 365,
   "id": "dc929ec3-de4a-4c18-adbc-f6205a81040c",
   "metadata": {},
   "outputs": [],
   "source": [
    "# optimizer3_20 = optim.Adam(m3_20.parameters(), lr=1e-4, weight_decay=0.1)"
   ]
  },
  {
   "cell_type": "code",
   "execution_count": 366,
   "id": "9ff5d20f-394e-4e16-80f4-785c8f4c4940",
   "metadata": {},
   "outputs": [],
   "source": [
    "# m3_20.train()\n",
    "# for i in range(10):\n",
    "#     print(\"train\", i)\n",
    "#     Lo3__20 = 0\n",
    "#     # print(i)\n",
    "#     for f, _,_ in train_loader_20:\n",
    "#         optimizer3_20.zero_grad()\n",
    "#         loss3_1, loss3_2, loss3_3 = m3_20.loss(f.float().cuda())\n",
    "#         loss3 = 10 * loss3_1 + loss3_2 + 10 * loss3_3\n",
    "#         loss3.backward()\n",
    "#         optimizer3_20.step()\n",
    "#         Lo3__20 += loss3.item()\n",
    "#     Loss3__20.append(Lo3__20 / len(train_loader_20))\n",
    "#     print(i, Loss3__20[-1])"
   ]
  },
  {
   "cell_type": "code",
   "execution_count": 509,
   "id": "1f5d6e35-837f-4a11-883c-ff9d9fbfc567",
   "metadata": {},
   "outputs": [
    {
     "data": {
      "text/plain": [
       "<All keys matched successfully>"
      ]
     },
     "execution_count": 509,
     "metadata": {},
     "output_type": "execute_result"
    }
   ],
   "source": [
    "m3_20.load_state_dict(torch.load(\"para_origin/m3_20.pkl\"))"
   ]
  },
  {
   "cell_type": "code",
   "execution_count": 510,
   "id": "a232f034-b309-4e61-beeb-35d8b63861a5",
   "metadata": {},
   "outputs": [],
   "source": [
    "torch.save(m3_20.state_dict(), \"results3/m3_20.pkl\")"
   ]
  },
  {
   "cell_type": "code",
   "execution_count": 511,
   "id": "56482f9c-6d28-47b6-ae0c-6b5721cce88f",
   "metadata": {},
   "outputs": [],
   "source": [
    "np.save(\"results3/m_3_20_center.npy\", m3_20.cluster.detach().cpu().numpy())"
   ]
  },
  {
   "cell_type": "code",
   "execution_count": 516,
   "id": "da37db2c-5695-4fcc-be7b-42f2e1bc9b41",
   "metadata": {},
   "outputs": [],
   "source": [
    "V3_20 = []\n",
    "V3_20_ = []\n",
    "L3_20 = []\n",
    "m3_20.eval()\n",
    "with torch.no_grad():\n",
    "    for f,_,l in all_loader_20:\n",
    "        v3_20 = m3_20(f.float().cuda())\n",
    "        for i in range(v3_20.shape[0]):\n",
    "            V3_20.append(v3_20[i,-1,:].cpu().detach().numpy())\n",
    "            V3_20_.append(v3_20[i,:,:].cpu().detach().numpy())\n",
    "            L3_20.append(l[i])\n",
    "V3_20 = np.stack(V3_20)\n",
    "V3_20_ = np.stack(V3_20_)\n",
    "L3_20 = np.stack(L3_20).reshape(-1)"
   ]
  },
  {
   "cell_type": "code",
   "execution_count": 517,
   "id": "3f3eca34-88d2-4ac0-ae45-aae5cd293baf",
   "metadata": {},
   "outputs": [],
   "source": [
    "label3_20 = np.argmin(np.sum(np.power(V3_20[:, np.newaxis,:] - m3_20.cluster.detach().cpu().numpy()[np.newaxis,:,:], 2), axis=-1), axis=-1)\n",
    "\n",
    "labels3_20 = np.concatenate([[i] * 20 for i in label3_20])\n",
    "\n",
    "label3_20_ = np.argmin(np.sum(np.power(V3_20_.reshape(-1,16)[:, np.newaxis,:] - m3_20.cluster.detach().cpu().numpy()[np.newaxis,:,:], 2), axis=-1), axis=-1)"
   ]
  },
  {
   "cell_type": "code",
   "execution_count": 518,
   "id": "73d77c74-7dcc-4530-a4eb-a45d428993ea",
   "metadata": {},
   "outputs": [
    {
     "data": {
      "text/plain": [
       "(0.9222810734463277, 0.9227850539291217)"
      ]
     },
     "execution_count": 518,
     "metadata": {},
     "output_type": "execute_result"
    }
   ],
   "source": [
    "np.sum(labels3_20 != L3_20) / len(L3_20), np.sum(label3_20_ != L3_20) / len(L3_20)"
   ]
  },
  {
   "cell_type": "code",
   "execution_count": 371,
   "id": "fc6cc6b3-4b77-4f76-a578-74eecdd357a0",
   "metadata": {},
   "outputs": [],
   "source": [
    "# torch.save(m3_20.state_dict(), \"para_origin/m3_20.pkl\")\n",
    "# np.save(\"resu_origin/lab_3_20.npy\", labels3_20)\n",
    "# np.save(\"resu_origin/tru_3_20.npy\", L3_20)"
   ]
  },
  {
   "cell_type": "code",
   "execution_count": 519,
   "id": "217d6e43-c100-43d0-9830-da57974682be",
   "metadata": {},
   "outputs": [],
   "source": [
    "np.save(\"results3/m_3_20.npy\", np.stack(V3_20))\n",
    "np.save(\"results3/m_3_20_all.npy\", np.stack(V3_20_))\n",
    "np.save(\"results3/tru_3_20.npy\", L3_20)"
   ]
  },
  {
   "cell_type": "markdown",
   "id": "8eeff0d4-7b5e-42ca-9f68-fd98b76e2ed8",
   "metadata": {},
   "source": [
    "### 片段10"
   ]
  },
  {
   "cell_type": "markdown",
   "id": "4219a339-e1e2-4fe3-b629-d89e0a6a3ad5",
   "metadata": {},
   "source": [
    "#### 训练"
   ]
  },
  {
   "cell_type": "code",
   "execution_count": 520,
   "id": "36733729-dc6a-443d-a707-ef5568b08946",
   "metadata": {},
   "outputs": [],
   "source": [
    "m3_10 = DTC(**params3).cuda()"
   ]
  },
  {
   "cell_type": "code",
   "execution_count": 528,
   "id": "a10debfd-4520-4669-a797-a65866e40ab3",
   "metadata": {},
   "outputs": [],
   "source": [
    "optimizer3_10 = optim.Adam(m3_10.parameters(), lr=1e-3, weight_decay=0.1)"
   ]
  },
  {
   "cell_type": "code",
   "execution_count": 529,
   "id": "95b4509a-e9f5-4fc1-a3a2-faaad0f4736f",
   "metadata": {},
   "outputs": [],
   "source": [
    "Loss3_10 = []"
   ]
  },
  {
   "cell_type": "code",
   "execution_count": 530,
   "id": "6f48231f-7881-49cf-aabd-e44aa878772a",
   "metadata": {},
   "outputs": [
    {
     "name": "stdout",
     "output_type": "stream",
     "text": [
      "0\n",
      "0 1.4035057613724156\n",
      "1\n",
      "1 1.3352161206697162\n",
      "2\n",
      "2 1.33147415675615\n",
      "3\n",
      "3 1.3332370958830182\n",
      "4\n",
      "4 1.3461240843722695\n",
      "5\n",
      "5 1.330788044553054\n",
      "6\n",
      "6 1.3310298072664362\n",
      "7\n",
      "7 1.3280740160691111\n",
      "8\n",
      "8 1.334018509638937\n",
      "9\n",
      "9 1.3286524038565786\n"
     ]
    }
   ],
   "source": [
    "m3_10.train()\n",
    "for i in range(10):\n",
    "    Lo3_10 = 0\n",
    "    print(i)\n",
    "    for f,_,_ in train_loader_10:\n",
    "        optimizer3_10.zero_grad()\n",
    "        _,loss3_10,_ = m3_10.loss(f.float().cuda())\n",
    "        loss3_10.backward()\n",
    "        optimizer3_10.step()\n",
    "        Lo3_10 += loss3_10.item()\n",
    "    Loss3_10.append(Lo3_10 / len(train_loader_10))\n",
    "    print(i, Loss3_10[-1])"
   ]
  },
  {
   "cell_type": "code",
   "execution_count": 531,
   "id": "873d4263-5384-4eb7-83b2-55a411486bd6",
   "metadata": {},
   "outputs": [],
   "source": [
    "Loss3__10 = []\n",
    "m3_10.init_centroids(train_loader_10)"
   ]
  },
  {
   "cell_type": "code",
   "execution_count": 532,
   "id": "d081efcf-ab4d-41c4-9eea-0a48fbd2c7d1",
   "metadata": {},
   "outputs": [],
   "source": [
    "optimizer3_10 = optim.Adam(m3_10.parameters(), lr=1e-4, weight_decay=0.1)"
   ]
  },
  {
   "cell_type": "code",
   "execution_count": 535,
   "id": "b4b2e7c5-f00a-4d65-a4c3-33d7c5345556",
   "metadata": {},
   "outputs": [
    {
     "name": "stdout",
     "output_type": "stream",
     "text": [
      "train 0\n",
      "0 19.262069200214587\n",
      "train 1\n",
      "1 19.218692177220394\n",
      "train 2\n",
      "2 19.169776113409746\n",
      "train 3\n",
      "3 19.12315303400943\n",
      "train 4\n",
      "4 19.09516510210539\n",
      "train 5\n",
      "5 19.05381759844328\n",
      "train 6\n",
      "6 19.003249168395996\n",
      "train 7\n",
      "7 18.950824336001748\n",
      "train 8\n",
      "8 18.919983060736406\n",
      "train 9\n",
      "9 18.878799639250104\n",
      "train 10\n",
      "10 18.89264799419202\n",
      "train 11\n",
      "11 18.848557070681924\n",
      "train 12\n",
      "12 18.78935668342992\n",
      "train 13\n",
      "13 18.781097713269684\n",
      "train 14\n",
      "14 18.733061740272923\n",
      "train 15\n",
      "15 18.697420923333418\n",
      "train 16\n",
      "16 18.680262916966488\n",
      "train 17\n",
      "17 18.699260962636846\n",
      "train 18\n",
      "18 18.713309789958753\n",
      "train 19\n",
      "19 18.652171687075967\n"
     ]
    }
   ],
   "source": [
    "m3_10.train()\n",
    "for i in range(20):\n",
    "    print(\"train\", i)\n",
    "    Lo3__10 = 0\n",
    "    # print(i)\n",
    "    for f, _,_ in train_loader_10:\n",
    "        optimizer3_10.zero_grad()\n",
    "        loss3_1, loss3_2, loss3_3 = m3_10.loss(f.float().cuda())\n",
    "        loss3 = 10 * loss3_1 + loss3_2 + 10 * loss3_3\n",
    "        loss3.backward()\n",
    "        optimizer3_10.step()\n",
    "        Lo3__10 += loss3.item()\n",
    "    Loss3__10.append(Lo3__10 / len(train_loader_10))\n",
    "    print(i, Loss3__10[-1])"
   ]
  },
  {
   "cell_type": "code",
   "execution_count": 539,
   "id": "f46e2f8e-c877-43be-a1cd-b67f0d60a5f6",
   "metadata": {},
   "outputs": [],
   "source": [
    "torch.save(m3_10.state_dict(), \"results3/m3_10.pkl\")"
   ]
  },
  {
   "cell_type": "code",
   "execution_count": 540,
   "id": "dacb9b0f-b4d1-4b6c-b4cd-b115e7035dcf",
   "metadata": {},
   "outputs": [],
   "source": [
    "# m3_10.load_state_dict(torch.load(\"para_origin/m3_10.pkl\"))"
   ]
  },
  {
   "cell_type": "code",
   "execution_count": 541,
   "id": "ab976363-2c62-4d9e-8f2b-e1d08055184d",
   "metadata": {},
   "outputs": [],
   "source": [
    "np.save(\"results3/m_3_10_center.npy\", m3_10.cluster.detach().cpu().numpy())"
   ]
  },
  {
   "cell_type": "code",
   "execution_count": 544,
   "id": "22765b9b-9562-45ee-8445-3d9e263c27d1",
   "metadata": {},
   "outputs": [],
   "source": [
    "V3_10 = []\n",
    "V3_10_ = []\n",
    "L3_10 = []\n",
    "m3_10.eval()\n",
    "with torch.no_grad():\n",
    "    for f,_,l in all_loader_10:\n",
    "        v3_10 = m3_10(f.float().cuda())\n",
    "        for i in range(v3_10.shape[0]):\n",
    "            V3_10.append(v3_10[i,-1,:].cpu().detach().numpy())\n",
    "            V3_10_.append(v3_10[i,:,:].cpu().detach().numpy())\n",
    "            L3_10.append(l[i])\n",
    "V3_10 = np.stack(V3_10)\n",
    "V3_10_ = np.stack(V3_10_)\n",
    "L3_10 = np.stack(L3_10).reshape(-1)"
   ]
  },
  {
   "cell_type": "code",
   "execution_count": 545,
   "id": "93e59126-f507-4dc1-a178-6b96607b6b51",
   "metadata": {},
   "outputs": [],
   "source": [
    "label3_10 = np.argmin(np.sum(np.power(V3_10[:, np.newaxis,:] - m3_10.cluster.detach().cpu().numpy()[np.newaxis,:,:], 2), axis=-1), axis=-1)\n",
    "\n",
    "labels3_10 = np.concatenate([[i] * 10 for i in label3_10])\n",
    "\n",
    "label3_10_ = np.argmin(np.sum(np.power(V3_10_.reshape(-1,16)[:, np.newaxis,:] - m3_10.cluster.detach().cpu().numpy()[np.newaxis,:,:], 2), axis=-1), axis=-1)"
   ]
  },
  {
   "cell_type": "code",
   "execution_count": 546,
   "id": "eaba6c79-d77c-452e-ba53-c9623df07110",
   "metadata": {},
   "outputs": [
    {
     "data": {
      "text/plain": [
       "(0.9053358101399609, 0.90538278405876)"
      ]
     },
     "execution_count": 546,
     "metadata": {},
     "output_type": "execute_result"
    }
   ],
   "source": [
    "np.sum(labels3_10 == L3_10) / len(L3_10), np.sum(label3_10_ == L3_10) / len(L3_10)"
   ]
  },
  {
   "cell_type": "code",
   "execution_count": 384,
   "id": "57405ca5-929e-4337-aea7-b57868951557",
   "metadata": {},
   "outputs": [],
   "source": [
    "# torch.save(m3_10.state_dict(), \"para_origin/m3_10.pkl\")\n",
    "# np.save(\"resu_origin/lab_3_10.npy\", labels3_10)\n",
    "# np.save(\"resu_origin/tru_3_10.npy\", L3_10)"
   ]
  },
  {
   "cell_type": "code",
   "execution_count": 547,
   "id": "ad842e24-0ac8-49ed-bbbd-219fff073136",
   "metadata": {},
   "outputs": [],
   "source": [
    "np.save(\"results3/m_3_10.npy\", np.stack(V3_10))\n",
    "np.save(\"results3/m_3_10_all.npy\", np.stack(V3_10_))\n",
    "np.save(\"results3/tru_3_10.npy\", L3_10)"
   ]
  },
  {
   "cell_type": "markdown",
   "id": "ad4b2b95-a2ce-40f4-879f-5d39e0a0ceb6",
   "metadata": {},
   "source": [
    "## 模型4"
   ]
  },
  {
   "cell_type": "code",
   "execution_count": 548,
   "id": "f7831583-4614-4de0-a257-0b4fd0b27755",
   "metadata": {},
   "outputs": [],
   "source": [
    "params4 = dict(\n",
    "    input_dim=9,\n",
    "    num_channels=[16, 32, 16],\n",
    "    hidden_dim=32,\n",
    "    num_heads=4,\n",
    "    cluster_num=2,\n",
    "    similarity=\"EUC\",\n",
    "    base_type=0,\n",
    "    combination=True\n",
    ")"
   ]
  },
  {
   "cell_type": "markdown",
   "id": "d906a597-3938-4ecb-b71c-998e816847aa",
   "metadata": {},
   "source": [
    "### 片段100"
   ]
  },
  {
   "cell_type": "markdown",
   "id": "5d968054-077d-43d1-bef2-d70aece26dfe",
   "metadata": {},
   "source": [
    "#### 训练"
   ]
  },
  {
   "cell_type": "code",
   "execution_count": 549,
   "id": "52f8ff45-5653-4d42-aff2-da28f86207c0",
   "metadata": {},
   "outputs": [],
   "source": [
    "m4_100 = DTC(**params4).cuda()"
   ]
  },
  {
   "cell_type": "code",
   "execution_count": 388,
   "id": "638d7295-1c03-4054-8869-1d143f3185d0",
   "metadata": {},
   "outputs": [],
   "source": [
    "# optimizer4_100 = optim.Adam(m4_100.parameters(), lr=1e-3, weight_decay=0.1)"
   ]
  },
  {
   "cell_type": "code",
   "execution_count": 389,
   "id": "6a8c6063-37b2-4373-bd5e-1a89001107de",
   "metadata": {},
   "outputs": [],
   "source": [
    "# Loss4_100 = []"
   ]
  },
  {
   "cell_type": "code",
   "execution_count": 390,
   "id": "12a3cb17-dd14-4e96-affb-faf0b24c9b87",
   "metadata": {},
   "outputs": [],
   "source": [
    "# m4_100.train()\n",
    "# for i in range(100):\n",
    "#     Lo4_100 = 0\n",
    "#     print(i)\n",
    "#     for f,_,_ in train_loader_100:\n",
    "#         optimizer4_100.zero_grad()\n",
    "#         _,loss4_100,_ = m4_100.loss(f.float().cuda())\n",
    "#         loss4_100.backward()\n",
    "#         optimizer4_100.step()\n",
    "#         Lo4_100 += loss4_100.item()\n",
    "#     Loss4_100.append(Lo4_100 / len(train_loader_100))\n",
    "#     print(i, Loss4_100[-1])"
   ]
  },
  {
   "cell_type": "code",
   "execution_count": 391,
   "id": "ff627b5c-810a-4ae7-be39-2ad5c45663bc",
   "metadata": {},
   "outputs": [],
   "source": [
    "# Loss4__100 = []\n",
    "# m4_100.init_centroids(train_loader_100)"
   ]
  },
  {
   "cell_type": "code",
   "execution_count": 392,
   "id": "a01268c5-d7fd-4e2b-b2e5-c5b49a202902",
   "metadata": {},
   "outputs": [],
   "source": [
    "# optimizer4_100 = optim.Adam(m4_100.parameters(), lr=1e-5, weight_decay=0.1)"
   ]
  },
  {
   "cell_type": "code",
   "execution_count": 393,
   "id": "56d177bb-faa6-4110-a392-aae3b154ba2c",
   "metadata": {},
   "outputs": [],
   "source": [
    "# m4_100.train()\n",
    "# for i in range(10):\n",
    "#     print(\"train\", i)\n",
    "#     Lo4__100 = 0\n",
    "#     # print(i)\n",
    "#     for f, _,_ in train_loader_100:\n",
    "#         optimizer4_100.zero_grad()\n",
    "#         loss4_1, loss4_2, loss4_3 = m4_100.loss(f.float().cuda())\n",
    "#         loss4 = 10 * loss4_1 + loss4_2 + 10 * loss4_3\n",
    "#         loss4.backward()\n",
    "#         optimizer4_100.step()\n",
    "#         Lo4__100 += loss4.item()\n",
    "#     Loss4__100.append(Lo4__100 / len(train_loader_100))\n",
    "#     print(i, Loss4__100[-1])"
   ]
  },
  {
   "cell_type": "code",
   "execution_count": 550,
   "id": "6e7c7eec-3e42-4cd8-a756-4e4cfa682a33",
   "metadata": {},
   "outputs": [
    {
     "data": {
      "text/plain": [
       "<All keys matched successfully>"
      ]
     },
     "execution_count": 550,
     "metadata": {},
     "output_type": "execute_result"
    }
   ],
   "source": [
    "m4_100.load_state_dict(torch.load(\"para_origin/m4_100.pkl\"))"
   ]
  },
  {
   "cell_type": "code",
   "execution_count": 551,
   "id": "80b0e767-2f63-4fad-a8d3-5011083bf228",
   "metadata": {},
   "outputs": [],
   "source": [
    "torch.save(m4_100.state_dict(), \"results3/m4_100.pkl\")"
   ]
  },
  {
   "cell_type": "code",
   "execution_count": 552,
   "id": "8415ec3e-098a-4532-8afa-2e64d628fbef",
   "metadata": {},
   "outputs": [],
   "source": [
    "np.save(\"results3/m_4_100_center.npy\", m4_100.cluster.detach().cpu().numpy())"
   ]
  },
  {
   "cell_type": "code",
   "execution_count": 557,
   "id": "ce448ad5-9d1b-4542-89b9-dd4ec252d29c",
   "metadata": {},
   "outputs": [],
   "source": [
    "V4_100 = []\n",
    "V4_100_ = []\n",
    "L4_100 = []\n",
    "m4_100.eval()\n",
    "with torch.no_grad():\n",
    "    for f,_,l in all_loader_100:\n",
    "        v4_100 = m4_100(f.float().cuda())\n",
    "        for i in range(v4_100.shape[0]):\n",
    "            V4_100.append(v4_100[i,-1,:].cpu().detach().numpy())\n",
    "            V4_100_.append(v4_100[i,:,:].cpu().detach().numpy())\n",
    "            L4_100.append(l[i])\n",
    "V4_100 = np.stack(V4_100)\n",
    "V4_100_ = np.stack(V4_100_)\n",
    "L4_100 = np.stack(L4_100).reshape(-1)"
   ]
  },
  {
   "cell_type": "code",
   "execution_count": 558,
   "id": "5678fa90-f5ff-4109-b5eb-4fa3490cf454",
   "metadata": {},
   "outputs": [],
   "source": [
    "label4_100 = np.argmin(np.sum(np.power(V4_100[:, np.newaxis,:] - m4_100.cluster.detach().cpu().numpy()[np.newaxis,:,:], 2), axis=-1), axis=-1)\n",
    "\n",
    "labels4_100 = np.concatenate([[i] * 100 for i in label4_100])\n",
    "\n",
    "label4_100_ = np.argmin(np.sum(np.power(V4_100_.reshape(-1,16)[:, np.newaxis,:] - m4_100.cluster.detach().cpu().numpy()[np.newaxis,:,:], 2), axis=-1), axis=-1)"
   ]
  },
  {
   "cell_type": "code",
   "execution_count": 559,
   "id": "f4c2ffe7-0866-470d-8b44-5b3f9822758f",
   "metadata": {},
   "outputs": [
    {
     "data": {
      "text/plain": [
       "(0.9255582180590349, 0.9274262062956105)"
      ]
     },
     "execution_count": 559,
     "metadata": {},
     "output_type": "execute_result"
    }
   ],
   "source": [
    "np.sum(labels4_100 == L4_100) / len(L4_100), np.sum(label4_100_ == L4_100) / len(L4_100)"
   ]
  },
  {
   "cell_type": "code",
   "execution_count": 560,
   "id": "08b994fa-6afa-43ed-afc8-283e781ae132",
   "metadata": {},
   "outputs": [],
   "source": [
    "# torch.save(m4_100.state_dict(), \"para_origin/m4_100.pkl\")\n",
    "# np.save(\"resu_origin/lab_4_100.npy\", labels4_100)\n",
    "# np.save(\"resu_origin/tru_4_100.npy\", L4_100)"
   ]
  },
  {
   "cell_type": "code",
   "execution_count": 561,
   "id": "00922271-a0df-4870-b7ee-20ce81fec68a",
   "metadata": {},
   "outputs": [],
   "source": [
    "np.save(\"results3/m_4_100.npy\", np.stack(V4_100))\n",
    "np.save(\"results3/m_4_100_all.npy\", np.stack(V4_100_))\n",
    "np.save(\"results3/tru_4_100.npy\", L4_100)"
   ]
  },
  {
   "cell_type": "markdown",
   "id": "b6c24bc8-bffd-4a13-b82c-859606bc423c",
   "metadata": {},
   "source": [
    "### 片段80"
   ]
  },
  {
   "cell_type": "markdown",
   "id": "9a8e9f63-8fdb-46f6-9952-45aab999102f",
   "metadata": {},
   "source": [
    "#### 训练"
   ]
  },
  {
   "cell_type": "code",
   "execution_count": 563,
   "id": "d071bd61-c38a-445d-b726-898b61b95712",
   "metadata": {},
   "outputs": [],
   "source": [
    "m4_80 = DTC(**params4).cuda()"
   ]
  },
  {
   "cell_type": "code",
   "execution_count": 401,
   "id": "a1e378c4-3c7a-48a9-8c2f-e575a3bbb119",
   "metadata": {},
   "outputs": [],
   "source": [
    "# optimizer4_80 = optim.Adam(m4_80.parameters(), lr=1e-3, weight_decay=0.1)"
   ]
  },
  {
   "cell_type": "code",
   "execution_count": 402,
   "id": "07e69310-9b06-42ec-b8b2-a46a18ce0c11",
   "metadata": {},
   "outputs": [],
   "source": [
    "# Loss4_80 = []"
   ]
  },
  {
   "cell_type": "code",
   "execution_count": 403,
   "id": "e1a198ea-43e9-4f17-ba3f-4adbecbf765b",
   "metadata": {},
   "outputs": [],
   "source": [
    "# m4_80.train()\n",
    "# for i in range(100):\n",
    "#     Lo4_80 = 0\n",
    "#     print(i)\n",
    "#     for f,_,_ in train_loader_80:\n",
    "#         optimizer4_80.zero_grad()\n",
    "#         _,loss4_80,_ = m4_80.loss(f.float().cuda())\n",
    "#         loss4_80.backward()\n",
    "#         optimizer4_80.step()\n",
    "#         Lo4_80 += loss4_80.item()\n",
    "#     Loss4_80.append(Lo4_80 / len(train_loader_80))\n",
    "#     print(i, Loss4_80[-1])"
   ]
  },
  {
   "cell_type": "code",
   "execution_count": 404,
   "id": "4d6bf5f3-8884-4921-8721-46d27d3ac3cf",
   "metadata": {},
   "outputs": [],
   "source": [
    "# Loss4__80 = []\n",
    "# m4_80.init_centroids(train_loader_80)"
   ]
  },
  {
   "cell_type": "code",
   "execution_count": 405,
   "id": "3d6f69a1-4346-4d20-81dd-fb9821fc7908",
   "metadata": {},
   "outputs": [],
   "source": [
    "# optimizer4_80 = optim.Adam(m4_80.parameters(), lr=1e-4, weight_decay=0.1)"
   ]
  },
  {
   "cell_type": "code",
   "execution_count": 406,
   "id": "e14d7876-afe4-4e6d-b9a7-afce7d810c30",
   "metadata": {},
   "outputs": [],
   "source": [
    "# m4_80.train()\n",
    "# for i in range(10):\n",
    "#     print(\"train\", i)\n",
    "#     Lo4__80 = 0\n",
    "#     # print(i)\n",
    "#     for f, _,_ in train_loader_80:\n",
    "#         optimizer4_80.zero_grad()\n",
    "#         loss4_1, loss4_2, loss4_3 = m4_80.loss(f.float().cuda())\n",
    "#         loss4 = 10 * loss4_1 + loss4_2 + 10 * loss4_3\n",
    "#         loss4.backward()\n",
    "#         optimizer4_80.step()\n",
    "#         Lo4__80 += loss4.item()\n",
    "#     Loss4__80.append(Lo4__80 / len(train_loader_80))\n",
    "#     print(i, Loss4__80[-1])"
   ]
  },
  {
   "cell_type": "code",
   "execution_count": 577,
   "id": "70b8d754-5793-4d7f-a3af-0eff04bec0aa",
   "metadata": {},
   "outputs": [
    {
     "data": {
      "text/plain": [
       "<All keys matched successfully>"
      ]
     },
     "execution_count": 577,
     "metadata": {},
     "output_type": "execute_result"
    }
   ],
   "source": [
    "m4_80.load_state_dict(torch.load(\"para_origin/m4_80.pkl\"))"
   ]
  },
  {
   "cell_type": "code",
   "execution_count": 565,
   "id": "f9b27e79-e81a-44e5-8b60-3aa40e280aee",
   "metadata": {},
   "outputs": [],
   "source": [
    "torch.save(m4_80.state_dict(), \"results3/m4_80.pkl\")"
   ]
  },
  {
   "cell_type": "code",
   "execution_count": 566,
   "id": "f251a984-9e9d-47eb-a23d-0f9492705974",
   "metadata": {},
   "outputs": [],
   "source": [
    "np.save(\"results3/m_4_80_center.npy\", m4_80.cluster.detach().cpu().numpy())"
   ]
  },
  {
   "cell_type": "code",
   "execution_count": 571,
   "id": "d5ff3d8a-bf60-44ea-a900-45f6be6aa4ce",
   "metadata": {},
   "outputs": [],
   "source": [
    "V4_80 = []\n",
    "V4_80_ = []\n",
    "L4_80 = []\n",
    "m4_80.eval()\n",
    "with torch.no_grad():\n",
    "    for f,_,l in all_loader_80:\n",
    "        v4_80 = m4_80(f.float().cuda())\n",
    "        for i in range(v4_80.shape[0]):\n",
    "            V4_80.append(v4_80[i,-1,:].cpu().detach().numpy())\n",
    "            V4_80_.append(v4_80[i,:,:].cpu().detach().numpy())\n",
    "            L4_80.append(l[i])\n",
    "V4_80 = np.stack(V4_80)\n",
    "V4_80_ = np.stack(V4_80_)\n",
    "L4_80 = np.stack(L4_80).reshape(-1)"
   ]
  },
  {
   "cell_type": "code",
   "execution_count": 572,
   "id": "8f11010c-3bfe-4c8f-8dde-37c173632567",
   "metadata": {},
   "outputs": [],
   "source": [
    "label4_80 = np.argmin(np.sum(np.power(V4_80[:, np.newaxis,:] - m4_80.cluster.detach().cpu().numpy()[np.newaxis,:,:], 2), axis=-1), axis=-1)\n",
    "\n",
    "labels4_80 = np.concatenate([[i] * 80 for i in label4_80])\n",
    "\n",
    "label4_80_ = np.argmin(np.sum(np.power(V4_80_.reshape(-1,16)[:, np.newaxis,:] - m4_80.cluster.detach().cpu().numpy()[np.newaxis,:,:], 2), axis=-1), axis=-1)"
   ]
  },
  {
   "cell_type": "code",
   "execution_count": 573,
   "id": "dda8c3d5-88cd-424d-9430-a18ac4f2b15d",
   "metadata": {},
   "outputs": [
    {
     "data": {
      "text/plain": [
       "(0.9281011533125216, 0.9309985258411377)"
      ]
     },
     "execution_count": 573,
     "metadata": {},
     "output_type": "execute_result"
    }
   ],
   "source": [
    "np.sum(labels4_80 != L4_80) / len(L4_80), np.sum(label4_80_ != L4_80) / len(L4_80)"
   ]
  },
  {
   "cell_type": "code",
   "execution_count": 574,
   "id": "8c5f4fad-d1cb-4533-9d45-c9909a5e4ee4",
   "metadata": {},
   "outputs": [],
   "source": [
    "# torch.save(m4_80.state_dict(), \"para_origin/m4_80.pkl\")\n",
    "# np.save(\"resu_origin/lab_4_80.npy\", labels4_80)\n",
    "# np.save(\"resu_origin/tru_4_80.npy\", L4_80)"
   ]
  },
  {
   "cell_type": "code",
   "execution_count": 575,
   "id": "1cbcf766-08e8-4176-affd-81dd780bc8fd",
   "metadata": {},
   "outputs": [],
   "source": [
    "np.save(\"results3/m_4_80.npy\", np.stack(V4_80))\n",
    "np.save(\"results3/m_4_80_all.npy\", np.stack(V4_80_))\n",
    "np.save(\"results3/tru_4_80.npy\", L4_80)"
   ]
  },
  {
   "cell_type": "markdown",
   "id": "7a522c19-5f4b-4fdd-b5f8-6d2f9493e29c",
   "metadata": {},
   "source": [
    "### 片段60"
   ]
  },
  {
   "cell_type": "markdown",
   "id": "670dd4b1-28f0-4c87-8549-f039568eeb15",
   "metadata": {},
   "source": [
    "#### 训练"
   ]
  },
  {
   "cell_type": "code",
   "execution_count": 578,
   "id": "8a6f1f41-69e0-48c9-a54b-e172abb64ccd",
   "metadata": {},
   "outputs": [],
   "source": [
    "m4_60 = DTC(**params4).cuda()"
   ]
  },
  {
   "cell_type": "code",
   "execution_count": 431,
   "id": "c6e67429-1ba2-4c2c-a83a-37b71d136f82",
   "metadata": {},
   "outputs": [],
   "source": [
    "# optimizer4_60 = optim.Adam(m4_60.parameters(), lr=1e-3, weight_decay=0.1)"
   ]
  },
  {
   "cell_type": "code",
   "execution_count": 432,
   "id": "106f17f2-109d-4b9e-9236-55898ed3f1a9",
   "metadata": {},
   "outputs": [],
   "source": [
    "# Loss4_60 = []"
   ]
  },
  {
   "cell_type": "code",
   "execution_count": 433,
   "id": "f1db76bb-22fe-443e-8bdd-4329e1ee8b11",
   "metadata": {},
   "outputs": [],
   "source": [
    "# m4_60.train()\n",
    "# for i in range(100):\n",
    "#     Lo4_60 = 0\n",
    "#     print(i)\n",
    "#     for f,_,_ in train_loader_60:\n",
    "#         optimizer4_60.zero_grad()\n",
    "#         _,loss4_60,_ = m4_60.loss(f.float().cuda())\n",
    "#         loss4_60.backward()\n",
    "#         optimizer4_60.step()\n",
    "#         Lo4_60 += loss4_60.item()\n",
    "#     Loss4_60.append(Lo4_60 / len(train_loader_60))\n",
    "#     print(i, Loss4_60[-1])"
   ]
  },
  {
   "cell_type": "code",
   "execution_count": 434,
   "id": "8f7a5c9a-3f90-484e-b151-22c384edf893",
   "metadata": {},
   "outputs": [],
   "source": [
    "# Loss4__60 = []\n",
    "# m4_60.init_centroids(train_loader_60)"
   ]
  },
  {
   "cell_type": "code",
   "execution_count": 435,
   "id": "4e009d41-aeb2-4de5-a283-2621b463dc5d",
   "metadata": {},
   "outputs": [],
   "source": [
    "# optimizer4_60 = optim.Adam(m4_60.parameters(), lr=1e-5, weight_decay=0.1)"
   ]
  },
  {
   "cell_type": "code",
   "execution_count": 436,
   "id": "06113d68-aed8-43cf-9011-f338e0ecf973",
   "metadata": {},
   "outputs": [],
   "source": [
    "# m4_60.train()\n",
    "# for i in range(10):\n",
    "#     print(\"train\", i)\n",
    "#     Lo4__60 = 0\n",
    "#     # print(i)\n",
    "#     for f, _,_ in train_loader_60:\n",
    "#         optimizer4_60.zero_grad()\n",
    "#         loss4_1, loss4_2, loss4_3 = m4_60.loss(f.float().cuda())\n",
    "#         loss4 = 10 * loss4_1 + loss4_2 + 10 * loss4_3\n",
    "#         loss4.backward()\n",
    "#         optimizer4_60.step()\n",
    "#         Lo4__60 += loss4.item()\n",
    "#     Loss4__60.append(Lo4__60 / len(train_loader_60))\n",
    "#     print(i, Loss4__60[-1])"
   ]
  },
  {
   "cell_type": "code",
   "execution_count": 579,
   "id": "3c3d0ee0-bd87-47d8-ab0f-fc58c38ea57c",
   "metadata": {},
   "outputs": [
    {
     "data": {
      "text/plain": [
       "<All keys matched successfully>"
      ]
     },
     "execution_count": 579,
     "metadata": {},
     "output_type": "execute_result"
    }
   ],
   "source": [
    "m4_60.load_state_dict(torch.load(\"para_origin/m4_60.pkl\"))"
   ]
  },
  {
   "cell_type": "code",
   "execution_count": 580,
   "id": "96d9b993-1cd5-4a6e-91b1-6cf6e93ef180",
   "metadata": {},
   "outputs": [],
   "source": [
    "torch.save(m4_60.state_dict(), \"results3/m4_60.pkl\")"
   ]
  },
  {
   "cell_type": "code",
   "execution_count": 581,
   "id": "48a6984f-cf84-4717-a9cb-a481236ef34c",
   "metadata": {},
   "outputs": [],
   "source": [
    "np.save(\"results3/m_4_60_center.npy\", m4_60.cluster.detach().cpu().numpy())"
   ]
  },
  {
   "cell_type": "code",
   "execution_count": 586,
   "id": "d19d3972-a733-4fd2-82f3-5910d3f21615",
   "metadata": {},
   "outputs": [],
   "source": [
    "V4_60 = []\n",
    "V4_60_ = []\n",
    "L4_60 = []\n",
    "m4_60.eval()\n",
    "with torch.no_grad():\n",
    "    for f,_,l in all_loader_60:\n",
    "        v4_60 = m4_60(f.float().cuda())\n",
    "        for i in range(v4_60.shape[0]):\n",
    "            V4_60.append(v4_60[i,-1,:].cpu().detach().numpy())\n",
    "            V4_60_.append(v4_60[i,:,:].cpu().detach().numpy())\n",
    "            L4_60.append(l[i])\n",
    "V4_60 = np.stack(V4_60)\n",
    "V4_60_ = np.stack(V4_60_)\n",
    "L4_60 = np.stack(L4_60).reshape(-1)"
   ]
  },
  {
   "cell_type": "code",
   "execution_count": 587,
   "id": "77532ba8-4080-40fd-9ba8-389b54a169b7",
   "metadata": {},
   "outputs": [],
   "source": [
    "label4_60 = np.argmin(np.sum(np.power(V4_60[:, np.newaxis,:] - m4_60.cluster.detach().cpu().numpy()[np.newaxis,:,:], 2), axis=-1), axis=-1)\n",
    "\n",
    "labels4_60 = np.concatenate([[i] * 60 for i in label4_60])\n",
    "\n",
    "label4_60_ = np.argmin(np.sum(np.power(V4_60_.reshape(-1,16)[:, np.newaxis,:] - m4_60.cluster.detach().cpu().numpy()[np.newaxis,:,:], 2), axis=-1), axis=-1)"
   ]
  },
  {
   "cell_type": "code",
   "execution_count": 588,
   "id": "5d6dc6c0-a630-4918-b8e7-eaa5531d8aed",
   "metadata": {},
   "outputs": [
    {
     "data": {
      "text/plain": [
       "(0.9185979230088305, 0.9186270699743075)"
      ]
     },
     "execution_count": 588,
     "metadata": {},
     "output_type": "execute_result"
    }
   ],
   "source": [
    "np.sum(labels4_60 != L4_60) / len(L4_60), np.sum(label4_60_ != L4_60) / len(L4_60)"
   ]
  },
  {
   "cell_type": "code",
   "execution_count": 441,
   "id": "308399c7-3b5d-4c64-97b4-0c4a1598a079",
   "metadata": {},
   "outputs": [],
   "source": [
    "# torch.save(m4_60.state_dict(), \"para_origin/m4_60.pkl\")\n",
    "# np.save(\"resu_origin/lab_4_60.npy\", labels4_60)\n",
    "# np.save(\"resu_origin/tru_4_60.npy\", L4_60)"
   ]
  },
  {
   "cell_type": "code",
   "execution_count": 589,
   "id": "0f103ae6-4d08-4559-835f-c19e77803dcd",
   "metadata": {},
   "outputs": [],
   "source": [
    "np.save(\"results3/m_4_60.npy\", np.stack(V4_60))\n",
    "np.save(\"results3/m_4_60_all.npy\", np.stack(V4_60_))\n",
    "np.save(\"results3/tru_4_60.npy\", L4_60)"
   ]
  },
  {
   "cell_type": "markdown",
   "id": "35a880d6-e51b-41b6-956f-31519440d7bb",
   "metadata": {},
   "source": [
    "### 片段40"
   ]
  },
  {
   "cell_type": "markdown",
   "id": "32e838bb-57ca-49e9-a040-8b5394decc01",
   "metadata": {},
   "source": [
    "#### 训练"
   ]
  },
  {
   "cell_type": "code",
   "execution_count": 590,
   "id": "31007b46-2e88-4468-b092-452ffdaedcf6",
   "metadata": {},
   "outputs": [],
   "source": [
    "m4_40 = DTC(**params4).cuda()"
   ]
  },
  {
   "cell_type": "code",
   "execution_count": 591,
   "id": "7292751f-ff06-431a-8817-1880e3276379",
   "metadata": {},
   "outputs": [],
   "source": [
    "# optimizer4_40 = optim.Adam(m4_40.parameters(), lr=1e-3, weight_decay=0.1)"
   ]
  },
  {
   "cell_type": "code",
   "execution_count": 592,
   "id": "f191a386-b073-41da-aa80-c7c518077623",
   "metadata": {},
   "outputs": [],
   "source": [
    "# Loss4_40 = []"
   ]
  },
  {
   "cell_type": "code",
   "execution_count": 446,
   "id": "e987f43f-eac3-424f-9dd8-477637826fce",
   "metadata": {},
   "outputs": [],
   "source": [
    "# m4_40.train()\n",
    "# for i in range(100):\n",
    "#     Lo4_40 = 0\n",
    "#     print(i)\n",
    "#     for f,_,_ in train_loader_40:\n",
    "#         optimizer4_40.zero_grad()\n",
    "#         _,loss4_40,_ = m4_40.loss(f.float().cuda())\n",
    "#         loss4_40.backward()\n",
    "#         optimizer4_40.step()\n",
    "#         Lo4_40 += loss4_40.item()\n",
    "#     Loss4_40.append(Lo4_40 / len(train_loader_40))\n",
    "#     print(i, Loss4_40[-1])"
   ]
  },
  {
   "cell_type": "code",
   "execution_count": 447,
   "id": "4e098479-ff7c-463f-b98d-25cd2a9edac7",
   "metadata": {},
   "outputs": [],
   "source": [
    "# Loss4__40 = []\n",
    "# m4_40.init_centroids(train_loader_40)"
   ]
  },
  {
   "cell_type": "code",
   "execution_count": 448,
   "id": "8fb6f2b9-79ee-4efc-9377-912b4e56f9d2",
   "metadata": {},
   "outputs": [],
   "source": [
    "# optimizer4_40 = optim.Adam(m4_40.parameters(), lr=1e-5, weight_decay=0.1)"
   ]
  },
  {
   "cell_type": "code",
   "execution_count": 449,
   "id": "6125d1bb-fb8d-47aa-af2d-8f95580aec6d",
   "metadata": {},
   "outputs": [],
   "source": [
    "# m4_40.train()\n",
    "# for i in range(10):\n",
    "#     print(\"train\", i)\n",
    "#     Lo4__40 = 0\n",
    "#     # print(i)\n",
    "#     for f, _,_ in train_loader_40:\n",
    "#         optimizer4_40.zero_grad()\n",
    "#         loss4_1, loss4_2, loss4_3 = m4_40.loss(f.float().cuda())\n",
    "#         loss4 = 10 * loss4_1 + loss4_2 + 10 * loss4_3\n",
    "#         loss4.backward()\n",
    "#         optimizer4_40.step()\n",
    "#         Lo4__40 += loss4.item()\n",
    "#     Loss4__40.append(Lo4__40 / len(train_loader_40))\n",
    "#     print(i, Loss4__40[-1])"
   ]
  },
  {
   "cell_type": "code",
   "execution_count": 593,
   "id": "c5d2565f-33fc-46c4-9a98-8d2bc4975cfd",
   "metadata": {},
   "outputs": [
    {
     "data": {
      "text/plain": [
       "<All keys matched successfully>"
      ]
     },
     "execution_count": 593,
     "metadata": {},
     "output_type": "execute_result"
    }
   ],
   "source": [
    "m4_40.load_state_dict(torch.load(\"para_origin/m4_40.pkl\"))"
   ]
  },
  {
   "cell_type": "code",
   "execution_count": 594,
   "id": "1fe5da8a-ebba-430f-9106-489a824de1da",
   "metadata": {},
   "outputs": [],
   "source": [
    "torch.save(m4_40.state_dict(), \"results3/m4_40.pkl\")"
   ]
  },
  {
   "cell_type": "code",
   "execution_count": 595,
   "id": "3ee1859f-0a61-4a27-a5d4-25365f8a24f7",
   "metadata": {},
   "outputs": [],
   "source": [
    "np.save(\"results3/m_4_40_center.npy\", m4_40.cluster.detach().cpu().numpy())"
   ]
  },
  {
   "cell_type": "code",
   "execution_count": 600,
   "id": "560d30bf-f93d-4c69-9988-44b5b5b9eeca",
   "metadata": {},
   "outputs": [],
   "source": [
    "V4_40 = []\n",
    "V4_40_ = []\n",
    "L4_40 = []\n",
    "m4_40.eval()\n",
    "with torch.no_grad():\n",
    "    for f,_,l in all_loader_40:\n",
    "        v4_40 = m4_40(f.float().cuda())\n",
    "        for i in range(v4_40.shape[0]):\n",
    "            V4_40.append(v4_40[i,-1,:].cpu().detach().numpy())\n",
    "            V4_40_.append(v4_40[i,:,:].cpu().detach().numpy())\n",
    "            L4_40.append(l[i])\n",
    "V4_40 = np.stack(V4_40)\n",
    "V4_40_ = np.stack(V4_40_)\n",
    "L4_40 = np.stack(L4_40).reshape(-1)"
   ]
  },
  {
   "cell_type": "code",
   "execution_count": 601,
   "id": "2f75dde7-2205-4443-8082-62324800580a",
   "metadata": {},
   "outputs": [],
   "source": [
    "label4_40 = np.argmin(np.sum(np.power(V4_40[:, np.newaxis,:] - m4_40.cluster.detach().cpu().numpy()[np.newaxis,:,:], 2), axis=-1), axis=-1)\n",
    "\n",
    "labels4_40 = np.concatenate([[i] * 40 for i in label4_40])\n",
    "\n",
    "label4_40_ = np.argmin(np.sum(np.power(V4_40_.reshape(-1,16)[:, np.newaxis,:] - m4_40.cluster.detach().cpu().numpy()[np.newaxis,:,:], 2), axis=-1), axis=-1)"
   ]
  },
  {
   "cell_type": "code",
   "execution_count": 602,
   "id": "cf053490-6aab-455c-868e-2f0b417bd9bc",
   "metadata": {},
   "outputs": [
    {
     "data": {
      "text/plain": [
       "(0.9208370943477326, 0.920899419729207)"
      ]
     },
     "execution_count": 602,
     "metadata": {},
     "output_type": "execute_result"
    }
   ],
   "source": [
    "np.sum(labels4_40 != L4_40) / len(L4_40), np.sum(label4_40_ != L4_40) / len(L4_40)"
   ]
  },
  {
   "cell_type": "code",
   "execution_count": 603,
   "id": "35836725-2931-4b29-b893-2a75a943cbbd",
   "metadata": {},
   "outputs": [],
   "source": [
    "# torch.save(m4_40.state_dict(), \"para_origin/m4_40.pkl\")\n",
    "# np.save(\"resu_origin/lab_4_40.npy\", labels4_40)\n",
    "# np.save(\"resu_origin/tru_4_40.npy\", L4_40)"
   ]
  },
  {
   "cell_type": "code",
   "execution_count": 604,
   "id": "1a8dc56f-c3c1-43a9-bc66-f196cd030a45",
   "metadata": {},
   "outputs": [],
   "source": [
    "np.save(\"results3/m_4_40.npy\", np.stack(V4_40))\n",
    "np.save(\"results3/m_4_40_all.npy\", np.stack(V4_40_))\n",
    "np.save(\"results3/tru_4_40.npy\", L4_40)"
   ]
  },
  {
   "cell_type": "markdown",
   "id": "f7b08c82-cf05-42e4-9585-ed0941da98a2",
   "metadata": {},
   "source": [
    "### 片段30"
   ]
  },
  {
   "cell_type": "markdown",
   "id": "30b5db05-29e6-48f5-b992-70d84c983fa3",
   "metadata": {},
   "source": [
    "#### 训练"
   ]
  },
  {
   "cell_type": "code",
   "execution_count": 605,
   "id": "4999cfe8-3360-43f0-9535-9a2d8d89206c",
   "metadata": {},
   "outputs": [],
   "source": [
    "m4_30 = DTC(**params4).cuda()"
   ]
  },
  {
   "cell_type": "code",
   "execution_count": 457,
   "id": "ab355de8-df68-4d2e-8b75-ea19ccb008ba",
   "metadata": {},
   "outputs": [],
   "source": [
    "# optimizer4_30 = optim.Adam(m4_30.parameters(), lr=1e-3, weight_decay=0.1)"
   ]
  },
  {
   "cell_type": "code",
   "execution_count": 458,
   "id": "e584904c-1185-4711-9862-c0ac4a39cc64",
   "metadata": {},
   "outputs": [],
   "source": [
    "# Loss4_30 = []"
   ]
  },
  {
   "cell_type": "code",
   "execution_count": 459,
   "id": "0a6a43a7-4154-4a91-8354-07def5592c80",
   "metadata": {},
   "outputs": [],
   "source": [
    "# m4_30.train()\n",
    "# for i in range(100):\n",
    "#     Lo4_30 = 0\n",
    "#     print(i)\n",
    "#     for f,_,_ in train_loader_30:\n",
    "#         optimizer4_30.zero_grad()\n",
    "#         _,loss4_30,_ = m4_30.loss(f.float().cuda())\n",
    "#         loss4_30.backward()\n",
    "#         optimizer4_30.step()\n",
    "#         Lo4_30 += loss4_30.item()\n",
    "#     Loss4_30.append(Lo4_30 / len(train_loader_30))\n",
    "#     print(i, Loss4_30[-1])"
   ]
  },
  {
   "cell_type": "code",
   "execution_count": 460,
   "id": "8b89f021-9bc1-47f5-aa3c-96f6c2228b7d",
   "metadata": {},
   "outputs": [],
   "source": [
    "# Loss4__30 = []\n",
    "# m4_30.init_centroids(train_loader_30)"
   ]
  },
  {
   "cell_type": "code",
   "execution_count": 461,
   "id": "fe0b53ec-68eb-4921-8dc8-6189e0eb905e",
   "metadata": {},
   "outputs": [],
   "source": [
    "# optimizer4_30 = optim.Adam(m4_30.parameters(), lr=1e-5, weight_decay=0.1)"
   ]
  },
  {
   "cell_type": "code",
   "execution_count": 462,
   "id": "e28de232-a114-4650-bbee-75d006218c60",
   "metadata": {},
   "outputs": [],
   "source": [
    "# m4_30.train()\n",
    "# for i in range(10):\n",
    "#     print(\"train\", i)\n",
    "#     Lo4__30 = 0\n",
    "#     # print(i)\n",
    "#     for f, _,_ in train_loader_30:\n",
    "#         optimizer4_30.zero_grad()\n",
    "#         loss4_1, loss4_2, loss4_3 = m4_30.loss(f.float().cuda())\n",
    "#         loss4 = 10 * loss4_1 + loss4_2 + 10 * loss4_3\n",
    "#         loss4.backward()\n",
    "#         optimizer4_30.step()\n",
    "#         Lo4__30 += loss4.item()\n",
    "#     Loss4__30.append(Lo4__30 / len(train_loader_30))\n",
    "#     print(i, Loss4__30[-1])"
   ]
  },
  {
   "cell_type": "code",
   "execution_count": 606,
   "id": "ab7058a8-937b-4fe8-b2c2-d31224fe0497",
   "metadata": {},
   "outputs": [
    {
     "data": {
      "text/plain": [
       "<All keys matched successfully>"
      ]
     },
     "execution_count": 606,
     "metadata": {},
     "output_type": "execute_result"
    }
   ],
   "source": [
    "m4_30.load_state_dict(torch.load(\"para_origin/m4_30.pkl\"))"
   ]
  },
  {
   "cell_type": "code",
   "execution_count": 607,
   "id": "bbb94b3a-4af1-4434-8e37-4bf85f43c17d",
   "metadata": {},
   "outputs": [],
   "source": [
    "torch.save(m4_30.state_dict(), \"results3/m4_30.pkl\")"
   ]
  },
  {
   "cell_type": "code",
   "execution_count": 608,
   "id": "dec679f5-93f0-4efe-abc2-8430d504bfac",
   "metadata": {},
   "outputs": [],
   "source": [
    "np.save(\"results3/m_4_30_center.npy\", m4_30.cluster.detach().cpu().numpy())"
   ]
  },
  {
   "cell_type": "code",
   "execution_count": 613,
   "id": "37249747-445d-4dc9-8397-37e5e3107f58",
   "metadata": {},
   "outputs": [],
   "source": [
    "V4_30 = []\n",
    "V4_30_ = []\n",
    "L4_30 = []\n",
    "m4_30.eval()\n",
    "with torch.no_grad():\n",
    "    for f,_,l in all_loader_30:\n",
    "        v4_30 = m4_30(f.float().cuda())\n",
    "        for i in range(v4_30.shape[0]):\n",
    "            V4_30.append(v4_30[i,-1,:].cpu().detach().numpy())\n",
    "            V4_30_.append(v4_30[i,:,:].cpu().detach().numpy())\n",
    "            L4_30.append(l[i])\n",
    "V4_30 = np.stack(V4_30)\n",
    "V4_30_ = np.stack(V4_30_)\n",
    "L4_30 = np.stack(L4_30).reshape(-1)"
   ]
  },
  {
   "cell_type": "code",
   "execution_count": 614,
   "id": "a33cd838-856f-4e98-9c02-e8259444bf8a",
   "metadata": {},
   "outputs": [],
   "source": [
    "label4_30 = np.argmin(np.sum(np.power(V4_30[:, np.newaxis,:] - m4_30.cluster.detach().cpu().numpy()[np.newaxis,:,:], 2), axis=-1), axis=-1)\n",
    "\n",
    "labels4_30 = np.concatenate([[i] * 30 for i in label4_30])\n",
    "\n",
    "label4_30_ = np.argmin(np.sum(np.power(V4_30_.reshape(-1,16)[:, np.newaxis,:] - m4_30.cluster.detach().cpu().numpy()[np.newaxis,:,:], 2), axis=-1), axis=-1)"
   ]
  },
  {
   "cell_type": "code",
   "execution_count": 615,
   "id": "7f3b0308-6cbf-4eaa-9e90-e54c763a247f",
   "metadata": {},
   "outputs": [
    {
     "data": {
      "text/plain": [
       "(0.9250233246469131, 0.9240367188924278)"
      ]
     },
     "execution_count": 615,
     "metadata": {},
     "output_type": "execute_result"
    }
   ],
   "source": [
    "np.sum(labels4_30 != L4_30) / len(L4_30), np.sum(label4_30_ != L4_30) / len(L4_30)"
   ]
  },
  {
   "cell_type": "code",
   "execution_count": 616,
   "id": "7c9a7515-ebb5-4d76-af21-c16507d28cec",
   "metadata": {},
   "outputs": [],
   "source": [
    "# torch.save(m4_30.state_dict(), \"para_origin/m4_30.pkl\")\n",
    "# np.save(\"resu_origin/lab_4_30.npy\", labels4_30)\n",
    "# np.save(\"resu_origin/tru_4_30.npy\", L4_30)"
   ]
  },
  {
   "cell_type": "code",
   "execution_count": 617,
   "id": "725a3f2a-8af5-450c-87c0-70fead5a9f30",
   "metadata": {},
   "outputs": [],
   "source": [
    "np.save(\"results3/m_4_30.npy\", np.stack(V4_30))\n",
    "np.save(\"results3/m_4_30_all.npy\", np.stack(V4_30_))\n",
    "np.save(\"results3/tru_4_30.npy\", L4_30)"
   ]
  },
  {
   "cell_type": "markdown",
   "id": "5f0f00e8-37cd-4e5d-a5a7-ab48dea0546e",
   "metadata": {},
   "source": [
    "### 片段20"
   ]
  },
  {
   "cell_type": "markdown",
   "id": "d0969b28-53b5-4841-bc52-8920fdaf0ae2",
   "metadata": {},
   "source": [
    "#### 训练"
   ]
  },
  {
   "cell_type": "code",
   "execution_count": 618,
   "id": "dff72eed-5111-43ac-a861-fb33d93aaa62",
   "metadata": {},
   "outputs": [],
   "source": [
    "m4_20 = DTC(**params4).cuda()"
   ]
  },
  {
   "cell_type": "code",
   "execution_count": 470,
   "id": "be060443-4354-4dcf-bbad-e1e0b3103796",
   "metadata": {},
   "outputs": [],
   "source": [
    "# optimizer4_20 = optim.Adam(m4_20.parameters(), lr=1e-3, weight_decay=0.1)"
   ]
  },
  {
   "cell_type": "code",
   "execution_count": 471,
   "id": "7e8379b8-81ff-4cf2-8486-33466c8bc89d",
   "metadata": {},
   "outputs": [],
   "source": [
    "# Loss4_20 = []"
   ]
  },
  {
   "cell_type": "code",
   "execution_count": 472,
   "id": "b8e096fe-18b2-44ae-98ec-cdadec71bd99",
   "metadata": {},
   "outputs": [],
   "source": [
    "# m4_20.train()\n",
    "# for i in range(100):\n",
    "#     Lo4_20 = 0\n",
    "#     print(i)\n",
    "#     for f,_,_ in train_loader_20:\n",
    "#         optimizer4_20.zero_grad()\n",
    "#         _,loss4_20,_ = m4_20.loss(f.float().cuda())\n",
    "#         loss4_20.backward()\n",
    "#         optimizer4_20.step()\n",
    "#         Lo4_20 += loss4_20.item()\n",
    "#     Loss4_20.append(Lo4_20 / len(train_loader_20))\n",
    "#     print(i, Loss4_20[-1])"
   ]
  },
  {
   "cell_type": "code",
   "execution_count": 473,
   "id": "39ee28b1-52ed-475b-bfc0-404afa9264ea",
   "metadata": {},
   "outputs": [],
   "source": [
    "# Loss4__20 = []\n",
    "# m4_20.init_centroids(train_loader_20)"
   ]
  },
  {
   "cell_type": "code",
   "execution_count": 474,
   "id": "77442ce8-68e9-49a4-96d6-c9020973a6e8",
   "metadata": {},
   "outputs": [],
   "source": [
    "# optimizer4_20 = optim.Adam(m4_20.parameters(), lr=1e-5, weight_decay=0.1)"
   ]
  },
  {
   "cell_type": "code",
   "execution_count": 475,
   "id": "5e9592cb-8b9c-4c29-87aa-bf0cb48e2d51",
   "metadata": {},
   "outputs": [],
   "source": [
    "# m4_20.train()\n",
    "# for i in range(10):\n",
    "#     print(\"train\", i)\n",
    "#     Lo4__20 = 0\n",
    "#     # print(i)\n",
    "#     for f, _,_ in train_loader_20:\n",
    "#         optimizer4_20.zero_grad()\n",
    "#         loss4_1, loss4_2, loss4_3 = m4_20.loss(f.float().cuda())\n",
    "#         loss4 = 10 * loss4_1 + loss4_2 + 10 * loss4_3\n",
    "#         loss4.backward()\n",
    "#         optimizer4_20.step()\n",
    "#         Lo4__20 += loss4.item()\n",
    "#     Loss4__20.append(Lo4__20 / len(train_loader_20))\n",
    "#     print(i, Loss4__20[-1])"
   ]
  },
  {
   "cell_type": "code",
   "execution_count": 619,
   "id": "88f7f98f-e2ab-49e0-bc5f-cfc910cac824",
   "metadata": {},
   "outputs": [
    {
     "data": {
      "text/plain": [
       "<All keys matched successfully>"
      ]
     },
     "execution_count": 619,
     "metadata": {},
     "output_type": "execute_result"
    }
   ],
   "source": [
    "m4_20.load_state_dict(torch.load(\"para_origin/m4_20.pkl\"))"
   ]
  },
  {
   "cell_type": "code",
   "execution_count": 620,
   "id": "7abb45d9-6409-4a5a-96ca-7a5d2b618d6e",
   "metadata": {},
   "outputs": [],
   "source": [
    "torch.save(m4_20.state_dict(), \"results3/m4_20.pkl\")"
   ]
  },
  {
   "cell_type": "code",
   "execution_count": 621,
   "id": "ec2e237d-e8ad-49ec-b67c-374b72b1da4d",
   "metadata": {},
   "outputs": [],
   "source": [
    "np.save(\"results3/m_4_20_center.npy\", m4_20.cluster.detach().cpu().numpy())"
   ]
  },
  {
   "cell_type": "code",
   "execution_count": 626,
   "id": "23697ba5-c6c5-48ee-b46e-9d4c99d4791c",
   "metadata": {},
   "outputs": [],
   "source": [
    "V4_20 = []\n",
    "V4_20_ = []\n",
    "L4_20 = []\n",
    "m4_20.eval()\n",
    "with torch.no_grad():\n",
    "    for f,_,l in all_loader_20:\n",
    "        v4_20 = m4_20(f.float().cuda())\n",
    "        for i in range(v4_20.shape[0]):\n",
    "            V4_20.append(v4_20[i,-1,:].cpu().detach().numpy())\n",
    "            V4_20_.append(v4_20[i,:,:].cpu().detach().numpy())\n",
    "            L4_20.append(l[i])\n",
    "V4_20 = np.stack(V4_20)\n",
    "V4_20_ = np.stack(V4_20_)\n",
    "L4_20 = np.stack(L4_20).reshape(-1)"
   ]
  },
  {
   "cell_type": "code",
   "execution_count": 627,
   "id": "dffcd059-654c-4df6-a120-a977b276279f",
   "metadata": {},
   "outputs": [],
   "source": [
    "label4_20 = np.argmin(np.sum(np.power(V4_20[:, np.newaxis,:] - m4_20.cluster.detach().cpu().numpy()[np.newaxis,:,:], 2), axis=-1), axis=-1)\n",
    "\n",
    "labels4_20 = np.concatenate([[i] * 20 for i in label4_20])\n",
    "\n",
    "label4_20_ = np.argmin(np.sum(np.power(V4_20_.reshape(-1,16)[:, np.newaxis,:] - m4_20.cluster.detach().cpu().numpy()[np.newaxis,:,:], 2), axis=-1), axis=-1)"
   ]
  },
  {
   "cell_type": "code",
   "execution_count": 628,
   "id": "ba914483-8872-4dea-9768-47468c582b13",
   "metadata": {},
   "outputs": [
    {
     "data": {
      "text/plain": [
       "(0.923802645095018, 0.9234377675055642)"
      ]
     },
     "execution_count": 628,
     "metadata": {},
     "output_type": "execute_result"
    }
   ],
   "source": [
    "np.sum(labels4_20 == L4_20) / len(L4_20), np.sum(label4_20_ == L4_20) / len(L4_20)"
   ]
  },
  {
   "cell_type": "code",
   "execution_count": 629,
   "id": "d436470a-3a52-4ba6-ada5-91fb427721dd",
   "metadata": {},
   "outputs": [],
   "source": [
    "# torch.save(m4_20.state_dict(), \"para_origin/m4_20.pkl\")\n",
    "# np.save(\"resu_origin/lab_4_20.npy\", labels4_20)\n",
    "# np.save(\"resu_origin/tru_4_20.npy\", L4_20)"
   ]
  },
  {
   "cell_type": "code",
   "execution_count": 630,
   "id": "014d021b-4241-41a5-8929-baa7ad99e6e9",
   "metadata": {},
   "outputs": [],
   "source": [
    "np.save(\"results3/m_4_20.npy\", np.stack(V4_20))\n",
    "np.save(\"results3/m_4_20_all.npy\", np.stack(V4_20_))\n",
    "np.save(\"results3/tru_4_20.npy\", L4_20)"
   ]
  },
  {
   "cell_type": "markdown",
   "id": "559f0af0-33de-4098-aada-2eedafa8a0fb",
   "metadata": {},
   "source": [
    "### 片段10"
   ]
  },
  {
   "cell_type": "markdown",
   "id": "2d9c5352-db4c-4a37-a30a-32b944cbfcf4",
   "metadata": {},
   "source": [
    "#### 训练"
   ]
  },
  {
   "cell_type": "code",
   "execution_count": 631,
   "id": "1528dc47-8b3b-460b-b3b8-091b1d06f7fb",
   "metadata": {},
   "outputs": [],
   "source": [
    "m4_10 = DTC(**params4).cuda()"
   ]
  },
  {
   "cell_type": "code",
   "execution_count": 485,
   "id": "15ee8110-a286-4945-98d9-5a3e948350ef",
   "metadata": {},
   "outputs": [],
   "source": [
    "# optimizer4_10 = optim.Adam(m4_10.parameters(), lr=1e-3, weight_decay=0.1)"
   ]
  },
  {
   "cell_type": "code",
   "execution_count": 486,
   "id": "2b0f6889-1f53-41da-a16c-66de7b5564ea",
   "metadata": {},
   "outputs": [],
   "source": [
    "# Loss4_10 = []"
   ]
  },
  {
   "cell_type": "code",
   "execution_count": 487,
   "id": "a6cd66a4-b20a-4631-ac38-0a30170f2955",
   "metadata": {},
   "outputs": [],
   "source": [
    "# m4_10.train()\n",
    "# for i in range(100):\n",
    "#     Lo4_10 = 0\n",
    "#     print(i)\n",
    "#     for f,_,_ in train_loader_10:\n",
    "#         optimizer4_10.zero_grad()\n",
    "#         _,loss4_10,_ = m4_10.loss(f.float().cuda())\n",
    "#         loss4_10.backward()\n",
    "#         optimizer4_10.step()\n",
    "#         Lo4_10 += loss4_10.item()\n",
    "#     Loss4_10.append(Lo4_10 / len(train_loader_10))\n",
    "#     print(i, Loss4_10[-1])"
   ]
  },
  {
   "cell_type": "code",
   "execution_count": 488,
   "id": "1c3a5996-8767-4009-bf08-90af2a65edd7",
   "metadata": {},
   "outputs": [],
   "source": [
    "# Loss4__10 = []\n",
    "# m4_10.init_centroids(train_loader_10)"
   ]
  },
  {
   "cell_type": "code",
   "execution_count": 489,
   "id": "d4605497-0674-4116-b1f7-1594e5770c09",
   "metadata": {},
   "outputs": [],
   "source": [
    "# optimizer4_10 = optim.Adam(m4_10.parameters(), lr=1e-5, weight_decay=0.1)"
   ]
  },
  {
   "cell_type": "code",
   "execution_count": 490,
   "id": "2eda61a4-e3d4-409e-9f76-f188a42e5883",
   "metadata": {},
   "outputs": [],
   "source": [
    "# m4_10.train()\n",
    "# for i in range(10):\n",
    "#     print(\"train\", i)\n",
    "#     Lo4__10 = 0\n",
    "#     # print(i)\n",
    "#     for f, _,_ in train_loader_10:\n",
    "#         optimizer4_10.zero_grad()\n",
    "#         loss4_1, loss4_2, loss4_3 = m4_10.loss(f.float().cuda())\n",
    "#         loss4 = 10 * loss4_1 + loss4_2 + 10 * loss4_3\n",
    "#         loss4.backward()\n",
    "#         optimizer4_10.step()\n",
    "#         Lo4__10 += loss4.item()\n",
    "#     Loss4__10.append(Lo4__10 / len(train_loader_10))\n",
    "#     print(i, Loss4__10[-1])"
   ]
  },
  {
   "cell_type": "code",
   "execution_count": 632,
   "id": "7195adb6-7c98-42e5-b842-a3e560c05ad7",
   "metadata": {},
   "outputs": [
    {
     "data": {
      "text/plain": [
       "<All keys matched successfully>"
      ]
     },
     "execution_count": 632,
     "metadata": {},
     "output_type": "execute_result"
    }
   ],
   "source": [
    "m4_10.load_state_dict(torch.load(\"para_origin/m4_10.pkl\"))"
   ]
  },
  {
   "cell_type": "code",
   "execution_count": 633,
   "id": "e890742e-80e6-4e5d-84a5-348da87eba9a",
   "metadata": {},
   "outputs": [],
   "source": [
    "torch.save(m4_10.state_dict(), \"results3/m4_10.pkl\")"
   ]
  },
  {
   "cell_type": "code",
   "execution_count": 634,
   "id": "227de5d0-a46e-47f3-a926-89ccd8f96637",
   "metadata": {},
   "outputs": [],
   "source": [
    "np.save(\"results3/m_4_10_center.npy\", m4_10.cluster.detach().cpu().numpy())"
   ]
  },
  {
   "cell_type": "code",
   "execution_count": 639,
   "id": "4280f1ff-7d19-4f3e-892a-6255e58a6f87",
   "metadata": {},
   "outputs": [],
   "source": [
    "V4_10 = []\n",
    "V4_10_ = []\n",
    "L4_10 = []\n",
    "m4_10.eval()\n",
    "with torch.no_grad():\n",
    "    for f,_,l in all_loader_10:\n",
    "        v4_10 = m4_10(f.float().cuda())\n",
    "        for i in range(v4_10.shape[0]):\n",
    "            V4_10.append(v4_10[i,-1,:].cpu().detach().numpy())\n",
    "            V4_10_.append(v4_10[i,:,:].cpu().detach().numpy())\n",
    "            L4_10.append(l[i])\n",
    "V4_10 = np.stack(V4_10)\n",
    "V4_10_ = np.stack(V4_10_)\n",
    "L4_10 = np.stack(L4_10).reshape(-1)"
   ]
  },
  {
   "cell_type": "code",
   "execution_count": 640,
   "id": "2dcd941a-4346-4f5e-9c3c-729abe456675",
   "metadata": {},
   "outputs": [],
   "source": [
    "label4_10 = np.argmin(np.sum(np.power(V4_10[:, np.newaxis,:] - m4_10.cluster.detach().cpu().numpy()[np.newaxis,:,:], 2), axis=-1), axis=-1)\n",
    "\n",
    "labels4_10 = np.concatenate([[i] * 10 for i in label4_10])\n",
    "\n",
    "\n",
    "label4_10_ = np.argmin(np.sum(np.power(V4_10_.reshape(-1,16)[:, np.newaxis,:] - m4_10.cluster.detach().cpu().numpy()[np.newaxis,:,:], 2), axis=-1), axis=-1)"
   ]
  },
  {
   "cell_type": "code",
   "execution_count": 641,
   "id": "50f180e6-9663-4f43-bb11-3625e9a3fa62",
   "metadata": {},
   "outputs": [
    {
     "data": {
      "text/plain": [
       "(0.9173547278181682, 0.9178266021842872)"
      ]
     },
     "execution_count": 641,
     "metadata": {},
     "output_type": "execute_result"
    }
   ],
   "source": [
    "np.sum(labels4_10 != L4_10) / len(L4_10), np.sum(label4_10_ != L4_10) / len(L4_10)"
   ]
  },
  {
   "cell_type": "code",
   "execution_count": 642,
   "id": "1edfac7e-cef5-4224-9211-93e3154c04cf",
   "metadata": {},
   "outputs": [],
   "source": [
    "np.save(\"results3/m_4_10.npy\", np.stack(V4_10))\n",
    "np.save(\"results3/m_4_10_all.npy\", np.stack(V4_10_))\n",
    "np.save(\"results3/tru_4_10.npy\", L4_10)"
   ]
  },
  {
   "cell_type": "code",
   "execution_count": 495,
   "id": "58f2fd14-cdea-4d0c-811f-7da746b0c52d",
   "metadata": {},
   "outputs": [],
   "source": [
    "# torch.save(m4_10.state_dict(), \"para_origin/m4_10.pkl\")\n",
    "# np.save(\"resu_origin/lab_4_10.npy\", labels4_10)\n",
    "# np.save(\"resu_origin/tru_4_10.npy\", L4_10)"
   ]
  },
  {
   "cell_type": "markdown",
   "id": "f6697634-7e0c-44a3-a88e-4d9cc3c83a9e",
   "metadata": {},
   "source": [
    "## 模型5"
   ]
  },
  {
   "cell_type": "markdown",
   "id": "964a3247-0b93-42d9-bdba-789deebda824",
   "metadata": {},
   "source": [
    "### 片段100"
   ]
  },
  {
   "cell_type": "markdown",
   "id": "8703d4f9-4ef9-4b47-bd60-4e3b2a7facc6",
   "metadata": {},
   "source": [
    "#### 训练"
   ]
  },
  {
   "cell_type": "code",
   "execution_count": 643,
   "id": "5a1d1dd2-6069-4421-91e3-09b0238b47aa",
   "metadata": {},
   "outputs": [],
   "source": [
    "m5_100 = Baseline(encoder, base_type=1, combination=False, num_channels=[16, 16]).cuda()"
   ]
  },
  {
   "cell_type": "code",
   "execution_count": 644,
   "id": "c256a49e-4f5b-4e43-a67e-b1c7f092716a",
   "metadata": {},
   "outputs": [],
   "source": [
    "# optimizer5_100 = optim.Adam(m5_100.parameters(), lr=1e-4, weight_decay=1e-5)"
   ]
  },
  {
   "cell_type": "code",
   "execution_count": 645,
   "id": "42a0ff96-9a6f-47a1-9a5a-1e27a240f3d8",
   "metadata": {},
   "outputs": [],
   "source": [
    "# Loss5_100 = []"
   ]
  },
  {
   "cell_type": "code",
   "execution_count": 646,
   "id": "de9cb922-1b54-4883-8589-50d4b686f889",
   "metadata": {},
   "outputs": [],
   "source": [
    "# m5_100.train()\n",
    "# for i in range(100):\n",
    "#     Lo5_100 = 0\n",
    "#     print(i)\n",
    "#     for f,_,_ in train_loader_100:\n",
    "#         optimizer5_100.zero_grad()\n",
    "#         loss5_100 = m5_100.fit(f.float().cuda())\n",
    "#         loss5_100.backward()\n",
    "#         optimizer5_100.step()\n",
    "#         Lo5_100 += loss5_100.item()\n",
    "#     Loss5_100.append(Lo5_100 / len(train_loader_100))\n",
    "#     print(i, Loss5_100[-1])"
   ]
  },
  {
   "cell_type": "code",
   "execution_count": 647,
   "id": "5e039a73-e9d3-4750-a500-45f0e8cebd23",
   "metadata": {},
   "outputs": [
    {
     "data": {
      "text/plain": [
       "<All keys matched successfully>"
      ]
     },
     "execution_count": 647,
     "metadata": {},
     "output_type": "execute_result"
    }
   ],
   "source": [
    "m5_100.load_state_dict(torch.load(\"para_origin/m5_100.pkl\"))"
   ]
  },
  {
   "cell_type": "code",
   "execution_count": 648,
   "id": "91e17fab-7ccf-4625-9068-cda26aa2d5f2",
   "metadata": {},
   "outputs": [],
   "source": [
    "torch.save(m5_100.state_dict(), \"results3/m5_100.pkl\")"
   ]
  },
  {
   "cell_type": "code",
   "execution_count": 656,
   "id": "9c1e2bfa-cc50-4216-a28f-106c2ef5eca3",
   "metadata": {},
   "outputs": [],
   "source": [
    "V5_100 = []\n",
    "V5_100_ = []\n",
    "L5_100 = []\n",
    "m5_100.eval()\n",
    "with torch.no_grad():\n",
    "    for f,_,l in all_loader_100:\n",
    "        v5_100 = m5_100(f.float().cuda())\n",
    "        for i in range(v5_100.shape[0]):\n",
    "            V5_100.append(v5_100[i,-1,:].cpu().detach().numpy())\n",
    "            V5_100_.append(v5_100[i,:,:].cpu().detach().numpy())\n",
    "            L5_100.append(l[i])\n",
    "V5_100 = np.stack(V5_100)\n",
    "V5_100_ = np.stack(V5_100_)\n",
    "L5_100 = np.stack(L5_100).reshape(-1)"
   ]
  },
  {
   "cell_type": "code",
   "execution_count": 657,
   "id": "48bae8d0-d465-4cfb-9f04-f59d2b72f963",
   "metadata": {},
   "outputs": [],
   "source": [
    "kmeans5_100 = KMeans(n_clusters=2,n_init=20, random_state=42)\n",
    "kmeans5_100.fit(V5_100)\n",
    "label5_100 = kmeans5_100.predict(V5_100)\n",
    "\n",
    "labels5_100 = np.concatenate([[i] * 100 for i in label5_100])\n",
    "\n",
    "kmeans5_100 = KMeans(n_clusters=2,n_init=20, random_state=42)\n",
    "kmeans5_100.fit(V5_100_.reshape(-1, 16))\n",
    "label5_100_ = kmeans5_100.predict(V5_100_.reshape(-1, 16))"
   ]
  },
  {
   "cell_type": "code",
   "execution_count": 659,
   "id": "ba6f571b-4c4d-4ff3-9391-2a237337c3a7",
   "metadata": {},
   "outputs": [
    {
     "data": {
      "text/plain": [
       "(0.9129452129397669, 0.9183552989870385)"
      ]
     },
     "execution_count": 659,
     "metadata": {},
     "output_type": "execute_result"
    }
   ],
   "source": [
    "np.sum(labels5_100 != L5_100) / len(L5_100), np.sum(label5_100_ == L5_100) / len(L5_100)"
   ]
  },
  {
   "cell_type": "code",
   "execution_count": 660,
   "id": "e689e244-896f-4669-853a-ba05b74eecd1",
   "metadata": {},
   "outputs": [],
   "source": [
    "np.save(\"results3/m_5_100.npy\", np.stack(V5_100))\n",
    "np.save(\"results3/m_5_100_all.npy\", np.stack(V5_100_))\n",
    "np.save(\"results3/tru_5_100.npy\", L5_100)"
   ]
  },
  {
   "cell_type": "code",
   "execution_count": 661,
   "id": "96819123-e282-4778-bff2-c33084d7161a",
   "metadata": {},
   "outputs": [],
   "source": [
    "# torch.save(m5_100.state_dict(), \"para_origin/m5_100.pkl\")\n",
    "# np.save(\"resu_origin/lab_5_100.npy\", labels5_100)\n",
    "# np.save(\"resu_origin/tru_5_100.npy\", L5_100)\n"
   ]
  },
  {
   "cell_type": "markdown",
   "id": "0816fdd8-9726-4aca-b2af-7256b7383815",
   "metadata": {},
   "source": [
    "### 片段80"
   ]
  },
  {
   "cell_type": "markdown",
   "id": "f1ad9708-80c2-4a0d-b289-13edd85fae23",
   "metadata": {},
   "source": [
    "#### 训练"
   ]
  },
  {
   "cell_type": "code",
   "execution_count": 714,
   "id": "cbda5630-b255-4aa8-8262-fd2590c21361",
   "metadata": {},
   "outputs": [],
   "source": [
    "m5_80 = Baseline(encoder, base_type=1, combination=False, num_channels=[16, 16])"
   ]
  },
  {
   "cell_type": "code",
   "execution_count": 718,
   "id": "0b114eb5-1bf3-4ae5-8495-413ffd55fa73",
   "metadata": {},
   "outputs": [],
   "source": [
    "optimizer5_80 = optim.Adam(m5_80.parameters(), lr=1e-3, weight_decay=1e-10)"
   ]
  },
  {
   "cell_type": "code",
   "execution_count": 716,
   "id": "4ecba28f-2669-418b-9ab7-de890429169c",
   "metadata": {},
   "outputs": [],
   "source": [
    "Loss5_80 = []"
   ]
  },
  {
   "cell_type": "code",
   "execution_count": 726,
   "id": "4152cae9-6684-45f2-8c07-f7628aee5fed",
   "metadata": {},
   "outputs": [
    {
     "name": "stdout",
     "output_type": "stream",
     "text": [
      "0\n",
      "0 3.8741524696350096\n",
      "1\n",
      "1 3.881334590911865\n",
      "2\n",
      "2 3.8768096446990965\n",
      "3\n",
      "3 3.8574526786804197\n",
      "4\n",
      "4 3.839255523681641\n"
     ]
    }
   ],
   "source": [
    "m5_80.train()\n",
    "for i in range(5):\n",
    "    Lo5_80 = 0\n",
    "    print(i)\n",
    "    for f,_,_ in train_loader_80:\n",
    "        optimizer5_80.zero_grad()\n",
    "        loss5_80 = m5_80.fit(f.float().cuda())\n",
    "        loss5_80.backward()\n",
    "        optimizer5_80.step()\n",
    "        Lo5_80 += loss5_80.item()\n",
    "    Loss5_80.append(Lo5_80 / len(train_loader_80))\n",
    "    print(i, Loss5_80[-1])"
   ]
  },
  {
   "cell_type": "code",
   "execution_count": 702,
   "id": "ec43b61a-494b-47c6-9262-bdd2ebee32f8",
   "metadata": {},
   "outputs": [
    {
     "data": {
      "text/plain": [
       "<All keys matched successfully>"
      ]
     },
     "execution_count": 702,
     "metadata": {},
     "output_type": "execute_result"
    }
   ],
   "source": [
    "m5_80.load_state_dict(torch.load(\"para_origin/m5_80.pkl\"))"
   ]
  },
  {
   "cell_type": "code",
   "execution_count": 725,
   "id": "f60c8570-ad18-42f2-99a9-15f52ec0b44c",
   "metadata": {},
   "outputs": [],
   "source": [
    "torch.save(m5_80.state_dict(), \"results3/m5_80.pkl\")"
   ]
  },
  {
   "cell_type": "code",
   "execution_count": 728,
   "id": "fa3a9abd-8e1f-4ba3-8f23-bed09cab2231",
   "metadata": {},
   "outputs": [],
   "source": [
    "V5_80 = []\n",
    "V5_80_ = []\n",
    "L5_80 = []\n",
    "m5_80.eval()\n",
    "with torch.no_grad():\n",
    "    for f,_,l in all_loader_80:\n",
    "        v5_80 = m5_80(f.float().cuda())\n",
    "        for i in range(v5_80.shape[0]):\n",
    "            V5_80.append(v5_80[i,-1,:].cpu().detach().numpy())\n",
    "            V5_80_.append(v5_80[i,:,:].cpu().detach().numpy())\n",
    "            L5_80.append(l[i])\n",
    "V5_80 = np.stack(V5_80)\n",
    "V5_80_ = np.stack(V5_80_)\n",
    "L5_80 = np.stack(L5_80).reshape(-1)"
   ]
  },
  {
   "cell_type": "code",
   "execution_count": 729,
   "id": "3780b92a-4946-4a5d-b126-bcfe0130c2ef",
   "metadata": {},
   "outputs": [],
   "source": [
    "kmeans5_80 = KMeans(n_clusters=2,n_init=20, random_state=42)\n",
    "kmeans5_80.fit(V5_80)\n",
    "label5_80 = kmeans5_80.predict(V5_80)\n",
    "\n",
    "labels5_80 = np.concatenate([[i] * 80 for i in label5_80])\n",
    "\n",
    "\n",
    "kmeans5_80 = KMeans(n_clusters=2,n_init=20, random_state=42)\n",
    "kmeans5_80.fit(V5_80_.reshape(-1, 16))\n",
    "label5_80_ = kmeans5_80.predict(V5_80_.reshape(-1, 16))"
   ]
  },
  {
   "cell_type": "code",
   "execution_count": 732,
   "id": "20a8ea98-1df6-42b0-9ab7-b604743c5d01",
   "metadata": {},
   "outputs": [
    {
     "data": {
      "text/plain": [
       "(0.8981085241068332, 0.9000075875823794)"
      ]
     },
     "execution_count": 732,
     "metadata": {},
     "output_type": "execute_result"
    }
   ],
   "source": [
    "np.sum(labels5_80 != L5_80) / len(L5_80), np.sum(label5_80_ != L5_80) / len(L5_80)"
   ]
  },
  {
   "cell_type": "code",
   "execution_count": 731,
   "id": "e9631ab0-d9ef-42c2-9600-9e066e51905e",
   "metadata": {},
   "outputs": [],
   "source": [
    "# torch.save(m5_80.state_dict(), \"para_origin/m5_80.pkl\")\n",
    "# np.save(\"resu_origin/lab_5_80.npy\", labels5_80)\n",
    "# np.save(\"resu_origin/tru_5_80.npy\", L5_80)"
   ]
  },
  {
   "cell_type": "code",
   "execution_count": 733,
   "id": "0f6607b8-533d-4c65-a360-d6a0509cde5e",
   "metadata": {},
   "outputs": [],
   "source": [
    "np.save(\"results3/m_5_80.npy\", np.stack(V5_80))\n",
    "np.save(\"results3/m_5_80_all.npy\", np.stack(V5_80_))\n",
    "np.save(\"results3/tru_5_80.npy\", L5_80)"
   ]
  },
  {
   "cell_type": "markdown",
   "id": "1700a48a-d8dc-4b2d-8c1a-fde95d112683",
   "metadata": {},
   "source": [
    "### 片段60"
   ]
  },
  {
   "cell_type": "markdown",
   "id": "d0fd9735-274c-46e0-8747-12e432437af9",
   "metadata": {},
   "source": [
    "#### 训练"
   ]
  },
  {
   "cell_type": "code",
   "execution_count": 734,
   "id": "e06d9a4e-6e78-4b8a-ab15-af2020b34d3b",
   "metadata": {},
   "outputs": [],
   "source": [
    "m5_60 = Baseline(encoder, base_type=1, combination=False, num_channels=[16, 16])"
   ]
  },
  {
   "cell_type": "code",
   "execution_count": 118,
   "id": "29a82afd-2143-4e99-bac6-266f9d3bd6a3",
   "metadata": {},
   "outputs": [],
   "source": [
    "# optimizer5_60 = optim.Adam(m5_60.parameters(), lr=1e-4, weight_decay=1e-6)"
   ]
  },
  {
   "cell_type": "code",
   "execution_count": 119,
   "id": "5aa899ad-403c-4b61-bd20-d60da0b642d1",
   "metadata": {},
   "outputs": [],
   "source": [
    "# Loss5_60 = []"
   ]
  },
  {
   "cell_type": "code",
   "execution_count": 120,
   "id": "2a3ddd76-8ba8-4753-a931-387aab7f9cc0",
   "metadata": {},
   "outputs": [],
   "source": [
    "# m5_60.train()\n",
    "# for i in range(10):\n",
    "#     Lo5_60 = 0\n",
    "#     print(i)\n",
    "#     for f,_,_ in train_loader_60:\n",
    "#         optimizer5_60.zero_grad()\n",
    "#         loss5_60 = m5_60.fit(f.float().cuda())\n",
    "#         loss5_60.backward()\n",
    "#         optimizer5_60.step()\n",
    "#         Lo5_60 += loss5_60.item()\n",
    "#     Loss5_60.append(Lo5_60 / len(train_loader_60))\n",
    "#     print(i, Loss5_60[-1])"
   ]
  },
  {
   "cell_type": "code",
   "execution_count": 735,
   "id": "09875a67-e43a-40ae-a2ca-a9adbe7d637b",
   "metadata": {},
   "outputs": [
    {
     "data": {
      "text/plain": [
       "<All keys matched successfully>"
      ]
     },
     "execution_count": 735,
     "metadata": {},
     "output_type": "execute_result"
    }
   ],
   "source": [
    "m5_60.load_state_dict(torch.load(\"para_origin/m5_60.pkl\"))"
   ]
  },
  {
   "cell_type": "code",
   "execution_count": 736,
   "id": "42570149-f95a-4df0-a30d-3a38970f0442",
   "metadata": {},
   "outputs": [],
   "source": [
    "torch.save(m5_60.state_dict(), \"results3/m5_60.pkl\")"
   ]
  },
  {
   "cell_type": "code",
   "execution_count": 741,
   "id": "7245a15d-4ff6-4dad-9346-f6706ac4d885",
   "metadata": {},
   "outputs": [],
   "source": [
    "V5_60 = []\n",
    "V5_60_ = []\n",
    "L5_60 = []\n",
    "m5_60.eval()\n",
    "with torch.no_grad():\n",
    "    for f,_,l in all_loader_60:\n",
    "        v5_60 = m5_60(f.float().cuda())\n",
    "        for i in range(v5_60.shape[0]):\n",
    "            V5_60.append(v5_60[i,-1,:].cpu().detach().numpy())\n",
    "            V5_60_.append(v5_60[i,:,:].cpu().detach().numpy())\n",
    "            L5_60.append(l[i])\n",
    "V5_60 = np.stack(V5_60)\n",
    "V5_60_ = np.stack(V5_60_)\n",
    "L5_60 = np.stack(L5_60).reshape(-1)"
   ]
  },
  {
   "cell_type": "code",
   "execution_count": 742,
   "id": "dad2c896-af1c-400f-b231-e256c406aefc",
   "metadata": {},
   "outputs": [],
   "source": [
    "kmeans5_60 = KMeans(n_clusters=2,n_init=20, random_state=42)\n",
    "kmeans5_60.fit(V5_60)\n",
    "label5_60 = kmeans5_60.predict(V5_60)\n",
    "\n",
    "labels5_60 = np.concatenate([[i] * 60 for i in label5_60])\n",
    "\n",
    "kmeans5_60 = KMeans(n_clusters=2,n_init=20, random_state=42)\n",
    "kmeans5_60.fit(V5_60_.reshape(-1, 16))\n",
    "label5_60_ = kmeans5_60.predict(V5_60_.reshape(-1, 16))"
   ]
  },
  {
   "cell_type": "code",
   "execution_count": 743,
   "id": "71963d22-592e-458f-a8d2-09224dd47ed1",
   "metadata": {},
   "outputs": [
    {
     "data": {
      "text/plain": [
       "(0.9209922922469072, 0.9222844743830559)"
      ]
     },
     "execution_count": 743,
     "metadata": {},
     "output_type": "execute_result"
    }
   ],
   "source": [
    "np.sum(labels5_60 != L5_60) / len(L5_60), np.sum(label5_60_ != L5_60) / len(L5_60)"
   ]
  },
  {
   "cell_type": "code",
   "execution_count": 744,
   "id": "95264b14-6ebe-46b4-9b82-a76a01f52aa6",
   "metadata": {},
   "outputs": [],
   "source": [
    "np.save(\"results3/m_5_60.npy\", np.stack(V5_60))\n",
    "np.save(\"results3/m_5_60_all.npy\", np.stack(V5_60_))\n",
    "np.save(\"results3/tru_5_60.npy\", L5_60)"
   ]
  },
  {
   "cell_type": "code",
   "execution_count": 128,
   "id": "fe2b3f41-e781-4c5e-80c3-d18f5fb65e5a",
   "metadata": {},
   "outputs": [],
   "source": [
    "# torch.save(m5_60.state_dict(), \"para_origin/m5_60.pkl\")\n",
    "# np.save(\"resu_origin/lab_5_60.npy\", labels5_60)\n",
    "# np.save(\"resu_origin/tru_5_60.npy\", L5_60)"
   ]
  },
  {
   "cell_type": "markdown",
   "id": "85381038-f9f5-48e7-b630-e73c68c75253",
   "metadata": {},
   "source": [
    "### 片段40"
   ]
  },
  {
   "cell_type": "markdown",
   "id": "7cec2c2c-b1d7-47eb-a2b3-08e4cb749f37",
   "metadata": {},
   "source": [
    "#### 训练"
   ]
  },
  {
   "cell_type": "code",
   "execution_count": 745,
   "id": "c78ddc22-39d3-4dec-ae4a-9fcb79cb812f",
   "metadata": {},
   "outputs": [],
   "source": [
    "m5_40 = Baseline(encoder, base_type=1, combination=False, num_channels=[16, 16]).cuda()"
   ]
  },
  {
   "cell_type": "code",
   "execution_count": 132,
   "id": "66efbe49-ff9c-4ebd-83ba-e0722fbfb8e6",
   "metadata": {},
   "outputs": [],
   "source": [
    "# optimizer5_40 = optim.Adam(m5_40.parameters(), lr=1e-3, weight_decay=1e-6)"
   ]
  },
  {
   "cell_type": "code",
   "execution_count": 133,
   "id": "bbe46231-6881-4e04-ac47-35575dae5a5a",
   "metadata": {},
   "outputs": [],
   "source": [
    "# Loss5_40 = []"
   ]
  },
  {
   "cell_type": "code",
   "execution_count": 134,
   "id": "63e42547-2441-4b3b-8476-29d596d034d5",
   "metadata": {},
   "outputs": [],
   "source": [
    "# m5_40.train()\n",
    "# for i in range(100):\n",
    "#     Lo5_40 = 0\n",
    "#     print(i)\n",
    "#     for f,_,_ in train_loader_40:\n",
    "#         optimizer5_40.zero_grad()\n",
    "#         loss5_40 = m5_40.fit(f.float().cuda())\n",
    "#         loss5_40.backward()\n",
    "#         optimizer5_40.step()\n",
    "#         Lo5_40 += loss5_40.item()\n",
    "#     Loss5_40.append(Lo5_40 / len(train_loader_40))\n",
    "#     print(i, Loss5_40[-1])"
   ]
  },
  {
   "cell_type": "code",
   "execution_count": 746,
   "id": "d2f1d76e-8efb-4b49-aafe-2721084b86ad",
   "metadata": {},
   "outputs": [
    {
     "data": {
      "text/plain": [
       "<All keys matched successfully>"
      ]
     },
     "execution_count": 746,
     "metadata": {},
     "output_type": "execute_result"
    }
   ],
   "source": [
    "m5_40.load_state_dict(torch.load(\"para_origin/m5_40.pkl\"))"
   ]
  },
  {
   "cell_type": "code",
   "execution_count": 747,
   "id": "cc88923f-8160-4849-9123-1524e574b4e4",
   "metadata": {},
   "outputs": [],
   "source": [
    "torch.save(m5_40.state_dict(), \"results3/m5_40.pkl\")"
   ]
  },
  {
   "cell_type": "code",
   "execution_count": 751,
   "id": "50e856ba-805c-4218-9023-313a2f4f10ef",
   "metadata": {},
   "outputs": [],
   "source": [
    "V5_40 = []\n",
    "V5_40_ = []\n",
    "L5_40 = []\n",
    "m5_40.eval()\n",
    "with torch.no_grad():\n",
    "    for f,_,l in all_loader_40:\n",
    "        v5_40 = m5_40(f.float().cuda())\n",
    "        for i in range(v5_40.shape[0]):\n",
    "            V5_40.append(v5_40[i,-1,:].cpu().detach().numpy())\n",
    "            V5_40_.append(v5_40[i,:,:].cpu().detach().numpy())\n",
    "            L5_40.append(l[i])\n",
    "V5_40 = np.stack(V5_40)\n",
    "V5_40_ = np.stack(V5_40_)\n",
    "L5_40 = np.stack(L5_40).reshape(-1)"
   ]
  },
  {
   "cell_type": "code",
   "execution_count": 752,
   "id": "8a5f0a80-1351-4114-bb93-8e7f3d12cd80",
   "metadata": {},
   "outputs": [],
   "source": [
    "kmeans5_40 = KMeans(n_clusters=2,n_init=20, random_state=42)\n",
    "kmeans5_40.fit(V5_40)\n",
    "label5_40 = kmeans5_40.predict(V5_40)\n",
    "\n",
    "labels5_40 = np.concatenate([[i] * 40 for i in label5_40])\n",
    "\n",
    "kmeans5_40 = KMeans(n_clusters=2,n_init=20, random_state=42)\n",
    "kmeans5_40.fit(V5_40_.reshape(-1, 16))\n",
    "label5_40_ = kmeans5_40.predict(V5_40_.reshape(-1, 16))"
   ]
  },
  {
   "cell_type": "code",
   "execution_count": 753,
   "id": "281840a0-be76-4c16-9253-8ffe46575b8e",
   "metadata": {},
   "outputs": [
    {
     "data": {
      "text/plain": [
       "(0.9133408553621319, 0.9130528691166989)"
      ]
     },
     "execution_count": 753,
     "metadata": {},
     "output_type": "execute_result"
    }
   ],
   "source": [
    "np.sum(labels5_40 != L5_40) / len(L5_40), np.sum(label5_40_ != L5_40) / len(L5_40)"
   ]
  },
  {
   "cell_type": "code",
   "execution_count": 754,
   "id": "e3550af5-23f2-4e33-8dcb-ec8f76331cad",
   "metadata": {},
   "outputs": [],
   "source": [
    "np.save(\"results3/m_5_40.npy\", np.stack(V5_40))\n",
    "np.save(\"results3/m_5_40_all.npy\", np.stack(V5_40_))\n",
    "np.save(\"results3/tru_5_40.npy\", L5_40)"
   ]
  },
  {
   "cell_type": "code",
   "execution_count": 141,
   "id": "b8576b18-dff3-4265-9618-cb1985b2df0f",
   "metadata": {},
   "outputs": [],
   "source": [
    "# torch.save(m5_40.state_dict(), \"para_origin/m5_40.pkl\")\n",
    "# np.save(\"resu_origin/lab_5_40.npy\", labels5_40)\n",
    "# np.save(\"resu_origin/tru_5_40.npy\", L5_40)"
   ]
  },
  {
   "cell_type": "markdown",
   "id": "69826867-ba95-45fa-835d-e7d35239233c",
   "metadata": {},
   "source": [
    "### 片段30"
   ]
  },
  {
   "cell_type": "markdown",
   "id": "c9e88912-f238-49fb-9560-f05a0ad5d578",
   "metadata": {},
   "source": [
    "#### 训练"
   ]
  },
  {
   "cell_type": "code",
   "execution_count": 755,
   "id": "3fdbe9da-e4fe-411a-a808-a25119f9613a",
   "metadata": {},
   "outputs": [],
   "source": [
    "m5_30 = Baseline(encoder, base_type=1, combination=False, num_channels=[16, 16]).cuda()"
   ]
  },
  {
   "cell_type": "code",
   "execution_count": 145,
   "id": "a1f5daf1-35f8-4f7c-bdc1-e657a74a463b",
   "metadata": {},
   "outputs": [],
   "source": [
    "# optimizer5_30 = optim.Adam(m5_30.parameters(), lr=1e-4, weight_decay=1e-6)"
   ]
  },
  {
   "cell_type": "code",
   "execution_count": 146,
   "id": "cd0a3ca4-82e0-46f2-8121-a850b66ed905",
   "metadata": {},
   "outputs": [],
   "source": [
    "# Loss5_30 = []"
   ]
  },
  {
   "cell_type": "code",
   "execution_count": 147,
   "id": "476f2f6b-1aa1-4964-bf25-57f0641d1456",
   "metadata": {},
   "outputs": [],
   "source": [
    "# m5_30.train()\n",
    "# for i in range(10):\n",
    "#     Lo5_30 = 0\n",
    "#     print(i)\n",
    "#     for f,_,_ in train_loader_30:\n",
    "#         optimizer5_30.zero_grad()\n",
    "#         loss5_30 = m5_30.fit(f.float().cuda())\n",
    "#         loss5_30.backward()\n",
    "#         optimizer5_30.step()\n",
    "#         Lo5_30 += loss5_30.item()\n",
    "#     Loss5_30.append(Lo5_30 / len(train_loader_30))\n",
    "#     print(i, Loss5_30[-1])"
   ]
  },
  {
   "cell_type": "code",
   "execution_count": 756,
   "id": "c0fe71cd-634b-49ba-ad18-398f0e62817c",
   "metadata": {},
   "outputs": [
    {
     "data": {
      "text/plain": [
       "<All keys matched successfully>"
      ]
     },
     "execution_count": 756,
     "metadata": {},
     "output_type": "execute_result"
    }
   ],
   "source": [
    "m5_30.load_state_dict(torch.load(\"para_origin/m5_30.pkl\"))"
   ]
  },
  {
   "cell_type": "code",
   "execution_count": 757,
   "id": "ab2d0394-88fa-4921-b762-4a6c029aebc5",
   "metadata": {},
   "outputs": [],
   "source": [
    "torch.save(m5_30.state_dict(), \"results3/m5_30.pkl\")"
   ]
  },
  {
   "cell_type": "code",
   "execution_count": 762,
   "id": "1cfe45f1-43ae-4015-b1d6-82d5bdb5d97e",
   "metadata": {},
   "outputs": [],
   "source": [
    "V5_30 = []\n",
    "V5_30_ = []\n",
    "L5_30 = []\n",
    "m5_30.eval()\n",
    "with torch.no_grad():\n",
    "    for f,_,l in all_loader_30:\n",
    "        v5_30 = m5_30(f.float().cuda())\n",
    "        for i in range(v5_30.shape[0]):\n",
    "            V5_30.append(v5_30[i,-1,:].cpu().detach().numpy())\n",
    "            V5_30_.append(v5_30[i,:,:].cpu().detach().numpy())\n",
    "            L5_30.append(l[i])\n",
    "V5_30 = np.stack(V5_30)\n",
    "V5_30_ = np.stack(V5_30_)\n",
    "L5_30 = np.stack(L5_30).reshape(-1)"
   ]
  },
  {
   "cell_type": "code",
   "execution_count": 763,
   "id": "67792488-8616-4464-88e0-99d85ea96e7e",
   "metadata": {},
   "outputs": [],
   "source": [
    "kmeans5_30 = KMeans(n_clusters=2,n_init=20, random_state=42)\n",
    "kmeans5_30.fit(V5_30)\n",
    "label5_30 = kmeans5_30.predict(V5_30)\n",
    "\n",
    "labels5_30 = np.concatenate([[i] * 30 for i in label5_30])\n",
    "\n",
    "kmeans5_30 = KMeans(n_clusters=2,n_init=20, random_state=42)\n",
    "kmeans5_30.fit(V5_30_.reshape(-1, 16))\n",
    "label5_30_ = kmeans5_30.predict(V5_30_.reshape(-1, 16))"
   ]
  },
  {
   "cell_type": "code",
   "execution_count": 764,
   "id": "cae6301b-6529-4394-ac2b-3b8a5ce6b643",
   "metadata": {},
   "outputs": [
    {
     "data": {
      "text/plain": [
       "(0.911461785112977, 0.9123379339188624)"
      ]
     },
     "execution_count": 764,
     "metadata": {},
     "output_type": "execute_result"
    }
   ],
   "source": [
    "np.sum(labels5_30 == L5_30) / len(L5_30), np.sum(label5_30_ != L5_30) / len(L5_30)"
   ]
  },
  {
   "cell_type": "code",
   "execution_count": 765,
   "id": "0c5b788a-5c3f-4699-9bf5-30383e11cff5",
   "metadata": {},
   "outputs": [],
   "source": [
    "np.save(\"results3/m_5_30.npy\", np.stack(V5_30))\n",
    "np.save(\"results3/m_5_30_all.npy\", np.stack(V5_30_))\n",
    "np.save(\"results3/tru_5_30.npy\", L5_30)"
   ]
  },
  {
   "cell_type": "code",
   "execution_count": 152,
   "id": "d977cc82-f620-4070-8b06-f211c2fdccc6",
   "metadata": {},
   "outputs": [],
   "source": [
    "# torch.save(m5_30.state_dict(), \"para_origin/m5_30.pkl\")\n",
    "# np.save(\"resu_origin/lab_5_30.npy\", labels5_30)\n",
    "# np.save(\"resu_origin/tru_5_30.npy\", L5_30)"
   ]
  },
  {
   "cell_type": "markdown",
   "id": "f214444c-60bf-43bb-a84c-aa847d99e654",
   "metadata": {},
   "source": [
    "### 片段20"
   ]
  },
  {
   "cell_type": "markdown",
   "id": "1427aa1a-80a2-414c-83b2-5fbe9d937abc",
   "metadata": {},
   "source": [
    "#### 训练"
   ]
  },
  {
   "cell_type": "code",
   "execution_count": 766,
   "id": "60173a15-4a81-4bc4-9f89-b6a43e9561dd",
   "metadata": {},
   "outputs": [],
   "source": [
    "m5_20 = Baseline(encoder, base_type=1, combination=False, num_channels=[16, 16]).cuda()"
   ]
  },
  {
   "cell_type": "code",
   "execution_count": 767,
   "id": "aecbe9eb-52b6-4af2-90f6-44668c394ed2",
   "metadata": {},
   "outputs": [],
   "source": [
    "# optimizer5_20 = optim.Adam(m5_20.parameters(), lr=1e-4, weight_decay=1e-6)"
   ]
  },
  {
   "cell_type": "code",
   "execution_count": 768,
   "id": "278a0e25-9aa6-43ed-aa9e-4d02e3b280b3",
   "metadata": {},
   "outputs": [],
   "source": [
    "# Loss5_20 = []"
   ]
  },
  {
   "cell_type": "code",
   "execution_count": 769,
   "id": "ea0aa7e2-e874-4dbc-b7d3-4c48a75149ca",
   "metadata": {},
   "outputs": [],
   "source": [
    "# m5_20.train()\n",
    "# for i in range(10):\n",
    "#     Lo5_20 = 0\n",
    "#     print(i)\n",
    "#     for f,_,_ in train_loader_20:\n",
    "#         optimizer5_20.zero_grad()\n",
    "#         loss5_20 = m5_20.fit(f.float().cuda())\n",
    "#         loss5_20.backward()\n",
    "#         optimizer5_20.step()\n",
    "#         Lo5_20 += loss5_20.item()\n",
    "#     Loss5_20.append(Lo5_20 / len(train_loader_20))\n",
    "#     print(i, Loss5_20[-1])"
   ]
  },
  {
   "cell_type": "code",
   "execution_count": 770,
   "id": "8eff06e2-467e-4428-9c49-fa569e3697e5",
   "metadata": {},
   "outputs": [
    {
     "data": {
      "text/plain": [
       "<All keys matched successfully>"
      ]
     },
     "execution_count": 770,
     "metadata": {},
     "output_type": "execute_result"
    }
   ],
   "source": [
    "m5_20.load_state_dict(torch.load(\"para_origin/m5_20.pkl\"))"
   ]
  },
  {
   "cell_type": "code",
   "execution_count": 771,
   "id": "26b81e0a-9613-4c4a-910d-bc011060a0c3",
   "metadata": {},
   "outputs": [],
   "source": [
    "torch.save(m5_20.state_dict(), \"results3/m5_20.pkl\")"
   ]
  },
  {
   "cell_type": "code",
   "execution_count": 776,
   "id": "bda4c27a-6e0e-48df-8041-99b2f2d8de34",
   "metadata": {
    "scrolled": true
   },
   "outputs": [],
   "source": [
    "V5_20 = []\n",
    "V5_20_ = []\n",
    "L5_20 = []\n",
    "m5_20.eval()\n",
    "with torch.no_grad():\n",
    "    for f,_,l in all_loader_20:\n",
    "        v5_20 = m5_20(f.float().cuda())\n",
    "        for i in range(v5_20.shape[0]):\n",
    "            V5_20.append(v5_20[i,-1,:].cpu().detach().numpy())\n",
    "            V5_20_.append(v5_20[i,:,:].cpu().detach().numpy())\n",
    "            L5_20.append(l[i])\n",
    "V5_20 = np.stack(V5_20)\n",
    "V5_20_ = np.stack(V5_20_)\n",
    "L5_20 = np.stack(L5_20).reshape(-1)\n",
    "\n"
   ]
  },
  {
   "cell_type": "code",
   "execution_count": 777,
   "id": "f8ce5e42-7c70-4178-bb65-94b3a71e68fd",
   "metadata": {},
   "outputs": [],
   "source": [
    "kmeans5_20 = KMeans(n_clusters=2,n_init=20, random_state=42)\n",
    "kmeans5_20.fit(V5_20)\n",
    "label5_20 = kmeans5_20.predict(V5_20)\n",
    "\n",
    "labels5_20 = np.concatenate([[i] * 20 for i in label5_20])\n",
    "\n",
    "kmeans5_20 = KMeans(n_clusters=2,n_init=20, random_state=42)\n",
    "kmeans5_20.fit(V5_20_.reshape(-1, 16))\n",
    "label5_20_ = kmeans5_20.predict(V5_20_.reshape(-1, 16))"
   ]
  },
  {
   "cell_type": "code",
   "execution_count": 778,
   "id": "efaa1fd4-5b92-4130-8e8c-cfb76f909762",
   "metadata": {},
   "outputs": [
    {
     "data": {
      "text/plain": [
       "(0.9072815014552302, 0.9074655452833419)"
      ]
     },
     "execution_count": 778,
     "metadata": {},
     "output_type": "execute_result"
    }
   ],
   "source": [
    "np.sum(labels5_20 == L5_20) / len(L5_20), np.sum(label5_20_ != L5_20) / len(L5_20)"
   ]
  },
  {
   "cell_type": "code",
   "execution_count": 163,
   "id": "4582f634-890f-439e-a689-a92aa06a4649",
   "metadata": {},
   "outputs": [],
   "source": [
    "# torch.save(m5_20.state_dict(), \"para_origin/m5_20.pkl\")\n",
    "# np.save(\"resu_origin/lab_5_20.npy\", labels5_20)\n",
    "# np.save(\"resu_origin/tru_5_20.npy\", L5_20)"
   ]
  },
  {
   "cell_type": "code",
   "execution_count": 779,
   "id": "f6af4c14-2a6a-439b-9a29-494e6b9a9611",
   "metadata": {},
   "outputs": [],
   "source": [
    "np.save(\"results3/m_5_20.npy\", np.stack(V5_20))\n",
    "np.save(\"results3/m_5_20_all.npy\", np.stack(V5_20_))\n",
    "np.save(\"results3/tru_5_20.npy\", L5_20)"
   ]
  },
  {
   "cell_type": "markdown",
   "id": "9673b303-17a9-463b-8f50-2757cffcc4d8",
   "metadata": {},
   "source": [
    "### 片段10"
   ]
  },
  {
   "cell_type": "markdown",
   "id": "b10fbf18-6cab-4a8e-b0a7-09a69cc660b4",
   "metadata": {},
   "source": [
    "#### 训练"
   ]
  },
  {
   "cell_type": "code",
   "execution_count": 8,
   "id": "4d69e321-d9ae-4a7a-baf5-a73b3c2a2e72",
   "metadata": {},
   "outputs": [],
   "source": [
    "m5_10 = Baseline(encoder, base_type=1, combination=False, num_channels=[16, 16]).cuda()"
   ]
  },
  {
   "cell_type": "code",
   "execution_count": 184,
   "id": "075e4480-df4b-4a11-bfaf-d354814a0442",
   "metadata": {},
   "outputs": [],
   "source": [
    "# optimizer5_10 = optim.Adam(m5_10.parameters(), lr=1e-3, weight_decay=1e-6)"
   ]
  },
  {
   "cell_type": "code",
   "execution_count": 183,
   "id": "79596c05-99fe-4dd8-a957-3c2e5897766b",
   "metadata": {},
   "outputs": [],
   "source": [
    "# Loss5_10 = []"
   ]
  },
  {
   "cell_type": "code",
   "execution_count": 181,
   "id": "34666be9-2e76-4b7a-9726-7c9e8e1b24cc",
   "metadata": {},
   "outputs": [],
   "source": [
    "# m5_10.train()\n",
    "# for i in range(100):\n",
    "#     Lo5_10 = 0\n",
    "#     print(i)\n",
    "#     for f,_,_ in train_loader_10:\n",
    "#         optimizer5_10.zero_grad()\n",
    "#         loss5_10 = m5_10.fit(f.float().cuda())\n",
    "#         loss5_10.backward()\n",
    "#         optimizer5_10.step()\n",
    "#         Lo5_10 += loss5_10.item()\n",
    "#     Loss5_10.append(Lo5_10 / len(train_loader_10))\n",
    "#     print(i, Loss5_10[-1])"
   ]
  },
  {
   "cell_type": "code",
   "execution_count": 9,
   "id": "245fe439-f381-4ce5-ab61-11811e305cdc",
   "metadata": {},
   "outputs": [
    {
     "data": {
      "text/plain": [
       "<All keys matched successfully>"
      ]
     },
     "execution_count": 9,
     "metadata": {},
     "output_type": "execute_result"
    }
   ],
   "source": [
    "m5_10.load_state_dict(torch.load(\"para_origin/m5_10.pkl\"))"
   ]
  },
  {
   "cell_type": "code",
   "execution_count": 10,
   "id": "23800374-8a61-4196-801b-8ac87c7c7320",
   "metadata": {},
   "outputs": [],
   "source": [
    "torch.save(m5_10.state_dict(), \"results3/m5_10.pkl\")"
   ]
  },
  {
   "cell_type": "code",
   "execution_count": 786,
   "id": "4c696318-05ff-4fce-8296-03147c54a385",
   "metadata": {},
   "outputs": [],
   "source": [
    "V5_10 = []\n",
    "V5_10_ = []\n",
    "L5_10 = []\n",
    "m5_10.eval()\n",
    "with torch.no_grad():\n",
    "    for f,_,l in all_loader_10:\n",
    "        v5_10 = m5_10(f.float().cuda())\n",
    "        for i in range(v5_10.shape[0]):\n",
    "            V5_10.append(v5_10[i,-1,:].cpu().detach().numpy())\n",
    "            V5_10_.append(v5_10[i,:,:].cpu().detach().numpy())\n",
    "            L5_10.append(l[i])\n",
    "V5_10 = np.stack(V5_10)\n",
    "V5_10_ = np.stack(V5_10_)\n",
    "L5_10 = np.stack(L5_10).reshape(-1)"
   ]
  },
  {
   "cell_type": "code",
   "execution_count": 787,
   "id": "1c4644d3-c1a8-4080-9191-61629c4c3ebb",
   "metadata": {},
   "outputs": [],
   "source": [
    "kmeans5_10 = KMeans(n_clusters=2,n_init=20, random_state=42)\n",
    "kmeans5_10.fit(V5_10)\n",
    "label5_10 = kmeans5_10.predict(V5_10)\n",
    "\n",
    "labels5_10 = np.concatenate([[i] * 10 for i in label5_10])\n",
    "\n",
    "kmeans5_10 = KMeans(n_clusters=2,n_init=20, random_state=42)\n",
    "kmeans5_10.fit(V5_10_.reshape(-1, 16))\n",
    "label5_10_ = kmeans5_10.predict(V5_10_.reshape(-1, 16))"
   ]
  },
  {
   "cell_type": "code",
   "execution_count": 788,
   "id": "8bcbd2ff-5b7a-43e5-85ab-d2df7b4dbcdd",
   "metadata": {},
   "outputs": [
    {
     "data": {
      "text/plain": [
       "(0.915601746575708, 0.9142256242727049)"
      ]
     },
     "execution_count": 788,
     "metadata": {},
     "output_type": "execute_result"
    }
   ],
   "source": [
    "np.sum(labels5_10 == L5_10) / len(L5_10), np.sum(label5_10_ != L5_10) / len(L5_10)"
   ]
  },
  {
   "cell_type": "code",
   "execution_count": 789,
   "id": "c5659986-0df1-4e96-8d8b-e6e9c61b7dc8",
   "metadata": {},
   "outputs": [],
   "source": [
    "np.save(\"results3/m_5_10.npy\", np.stack(V5_10))\n",
    "np.save(\"results3/m_5_10_all.npy\", np.stack(V5_10_))\n",
    "np.save(\"results3/tru_5_10.npy\", L5_10)"
   ]
  },
  {
   "cell_type": "code",
   "execution_count": 186,
   "id": "dd6a8944-7167-40ad-88d5-16992e6aee79",
   "metadata": {},
   "outputs": [],
   "source": [
    "# torch.save(m5_10.state_dict(), \"para_origin/m5_10.pkl\")\n",
    "# np.save(\"resu_origin/lab_5_10.npy\", labels5_10)\n",
    "# np.save(\"resu_origin/tru_5_10.npy\", L5_10)"
   ]
  },
  {
   "cell_type": "markdown",
   "id": "bc89ffd0-2d80-47ca-b1dd-6d75fa174bfd",
   "metadata": {},
   "source": [
    "## 模型6"
   ]
  },
  {
   "cell_type": "markdown",
   "id": "a6da0f8f-7d3a-43a3-9b8c-5c473847d1fc",
   "metadata": {},
   "source": [
    "### 片段100"
   ]
  },
  {
   "cell_type": "markdown",
   "id": "da01432e-da29-4aee-8a01-af735514037d",
   "metadata": {},
   "source": [
    "#### 训练"
   ]
  },
  {
   "cell_type": "code",
   "execution_count": 790,
   "id": "7252387d-379c-4746-9637-7d00db8bb79c",
   "metadata": {},
   "outputs": [],
   "source": [
    "m6_100 = Baseline(encoder, base_type=1, combination=True, num_channels=[16, 32]).cuda()"
   ]
  },
  {
   "cell_type": "code",
   "execution_count": 791,
   "id": "cde62782-11be-4b26-8dc8-663875eb475c",
   "metadata": {},
   "outputs": [],
   "source": [
    "# optimizer6_100 = optim.Adam(m6_100.parameters(), lr=1e-3, weight_decay=1e-10)"
   ]
  },
  {
   "cell_type": "code",
   "execution_count": 792,
   "id": "e9dd2b15-c6ec-4055-b021-a39882cfaf42",
   "metadata": {},
   "outputs": [],
   "source": [
    "# Loss6_100 = []"
   ]
  },
  {
   "cell_type": "code",
   "execution_count": 793,
   "id": "5c96e9aa-c641-4990-a4aa-ef74b1d262d9",
   "metadata": {},
   "outputs": [],
   "source": [
    "# m6_100.train()\n",
    "# for i in range(50):\n",
    "#     Lo6_100 = 0\n",
    "#     print(i)\n",
    "#     for f,_,_ in train_loader_100:\n",
    "#         optimizer6_100.zero_grad()\n",
    "#         loss6_100 = m6_100.fit(f.float().cuda())\n",
    "#         loss6_100.backward()\n",
    "#         optimizer6_100.step()\n",
    "#         Lo6_100 += loss6_100.item()\n",
    "#     Loss6_100.append(Lo6_100 / len(train_loader_100))\n",
    "#     print(i, Loss6_100[-1])"
   ]
  },
  {
   "cell_type": "code",
   "execution_count": 794,
   "id": "5837689a-cd49-4239-8ddc-94ccec810b26",
   "metadata": {},
   "outputs": [
    {
     "data": {
      "text/plain": [
       "<All keys matched successfully>"
      ]
     },
     "execution_count": 794,
     "metadata": {},
     "output_type": "execute_result"
    }
   ],
   "source": [
    "m6_100.load_state_dict(torch.load(\"para_origin/m6_100.pkl\"))"
   ]
  },
  {
   "cell_type": "code",
   "execution_count": 795,
   "id": "169c0683-d62a-4671-a4a1-eb07cd1c5c9d",
   "metadata": {},
   "outputs": [],
   "source": [
    "torch.save(m6_100.state_dict(), \"results3/m6_100.pkl\")"
   ]
  },
  {
   "cell_type": "code",
   "execution_count": 800,
   "id": "4977462e-19ca-4ca8-9c8d-face309bae76",
   "metadata": {},
   "outputs": [],
   "source": [
    "V6_100 = []\n",
    "V6_100_ = []\n",
    "L6_100 = []\n",
    "m6_100.eval()\n",
    "with torch.no_grad():\n",
    "    for f,_,l in all_loader_100:\n",
    "        v6_100 = m6_100(f.float().cuda())\n",
    "        for i in range(v6_100.shape[0]):\n",
    "            V6_100.append(v6_100[i,-1,:].cpu().detach().numpy())\n",
    "            V6_100_.append(v6_100[i,:,:].cpu().detach().numpy())\n",
    "            L6_100.append(l[i])\n",
    "V6_100 = np.stack(V6_100)\n",
    "V6_100_ = np.stack(V6_100_)\n",
    "L6_100 = np.stack(L6_100).reshape(-1)"
   ]
  },
  {
   "cell_type": "code",
   "execution_count": 801,
   "id": "284ae8dd-2753-4427-9178-90ee29c245ea",
   "metadata": {},
   "outputs": [],
   "source": [
    "kmeans6_100 = KMeans(n_clusters=2,n_init=20, random_state=42)\n",
    "kmeans6_100.fit(V6_100)\n",
    "label6_100 = kmeans6_100.predict(V6_100)\n",
    "\n",
    "labels6_100 = np.concatenate([[i] * 100 for i in label6_100])\n",
    "\n",
    "kmeans6_100 = KMeans(n_clusters=2,n_init=20, random_state=42)\n",
    "kmeans6_100.fit(V6_100_.reshape(-1, 16))\n",
    "label6_100_ = kmeans6_100.predict(V6_100_.reshape(-1, 16))"
   ]
  },
  {
   "cell_type": "code",
   "execution_count": 802,
   "id": "00dede82-27ae-4b8b-a980-105fbc627eb4",
   "metadata": {},
   "outputs": [
    {
     "data": {
      "text/plain": [
       "(0.9097712667465417, 0.9150669861670842)"
      ]
     },
     "execution_count": 802,
     "metadata": {},
     "output_type": "execute_result"
    }
   ],
   "source": [
    "np.sum(labels6_100 != L6_100) / len(L6_100), np.sum(label6_100_ != L6_100) / len(L6_100)"
   ]
  },
  {
   "cell_type": "code",
   "execution_count": 803,
   "id": "84e8de85-19da-4823-941a-0f4ae5c9e76a",
   "metadata": {},
   "outputs": [],
   "source": [
    "# torch.save(m6_100.state_dict(), \"para_origin/m6_100.pkl\")\n",
    "# np.save(\"resu_origin/lab_6_100.npy\", labels6_100)\n",
    "# np.save(\"resu_origin/tru_6_100.npy\", L6_100)"
   ]
  },
  {
   "cell_type": "code",
   "execution_count": 804,
   "id": "b9377cad-5b22-4b21-aba3-a1c9eedf3f96",
   "metadata": {},
   "outputs": [],
   "source": [
    "np.save(\"results3/m_6_100.npy\", np.stack(V6_100))\n",
    "np.save(\"results3/m_6_100_all.npy\", np.stack(V6_100_))\n",
    "np.save(\"results3/tru_6_100.npy\", L6_100)"
   ]
  },
  {
   "cell_type": "markdown",
   "id": "e559796b-178a-4423-accb-1bc7d46e4d25",
   "metadata": {},
   "source": [
    "### 片段80"
   ]
  },
  {
   "cell_type": "markdown",
   "id": "4464ce3d-4c58-4266-ad13-f618e925fbb4",
   "metadata": {},
   "source": [
    "#### 训练"
   ]
  },
  {
   "cell_type": "code",
   "execution_count": 805,
   "id": "0c7bc5e0-3d70-486a-a61b-93f36a1672bf",
   "metadata": {},
   "outputs": [],
   "source": [
    "m6_80 = Baseline(encoder, base_type=1, combination=True, num_channels=[16, 32]).cuda()"
   ]
  },
  {
   "cell_type": "code",
   "execution_count": 806,
   "id": "f832aa99-de09-4538-babf-1e420ad4afcc",
   "metadata": {},
   "outputs": [],
   "source": [
    "# optimizer6_80 = optim.Adam(m6_80.parameters(), lr=1e-3, weight_decay=1e-6)"
   ]
  },
  {
   "cell_type": "code",
   "execution_count": 807,
   "id": "ab7f20a5-e069-4b20-aaef-864de452c7eb",
   "metadata": {},
   "outputs": [],
   "source": [
    "# Loss6_80 = []"
   ]
  },
  {
   "cell_type": "code",
   "execution_count": 808,
   "id": "792d0280-49d9-4c4a-8028-6bedef0b5f8c",
   "metadata": {},
   "outputs": [],
   "source": [
    "# m6_80.train()\n",
    "# for i in range(100):\n",
    "#     Lo6_80 = 0\n",
    "#     print(i)\n",
    "#     for f,_,_ in train_loader_80:\n",
    "#         optimizer6_80.zero_grad()\n",
    "#         loss6_80 = m6_80.fit(f.float().cuda())\n",
    "#         loss6_80.backward()\n",
    "#         optimizer6_80.step()\n",
    "#         Lo6_80 += loss6_80.item()\n",
    "#     Loss6_80.append(Lo6_80 / len(train_loader_80))\n",
    "#     print(i, Loss6_80[-1])"
   ]
  },
  {
   "cell_type": "code",
   "execution_count": 809,
   "id": "130910ff-9a3b-4faf-a9f0-ccc3bdd5dac9",
   "metadata": {},
   "outputs": [
    {
     "data": {
      "text/plain": [
       "<All keys matched successfully>"
      ]
     },
     "execution_count": 809,
     "metadata": {},
     "output_type": "execute_result"
    }
   ],
   "source": [
    "m6_80.load_state_dict(torch.load(\"para_origin/m6_80.pkl\"))"
   ]
  },
  {
   "cell_type": "code",
   "execution_count": 810,
   "id": "ab9c2108-a245-4f4c-9989-09c147525168",
   "metadata": {},
   "outputs": [],
   "source": [
    "torch.save(m6_80.state_dict(), \"results3/m6_80.pkl\")"
   ]
  },
  {
   "cell_type": "code",
   "execution_count": 815,
   "id": "f67cb753-19fb-46d1-bda0-2b4b1f592e6e",
   "metadata": {},
   "outputs": [],
   "source": [
    "V6_80 = []\n",
    "V6_80_ = []\n",
    "L6_80 = []\n",
    "m6_80.eval()\n",
    "with torch.no_grad():\n",
    "    for f,_,l in all_loader_80:\n",
    "        v6_80 = m6_80(f.float().cuda())\n",
    "        for i in range(v6_80.shape[0]):\n",
    "            V6_80.append(v6_80[i,-1,:].cpu().detach().numpy())\n",
    "            V6_80_.append(v6_80[i,:,:].cpu().detach().numpy())\n",
    "            L6_80.append(l[i])\n",
    "V6_80 = np.stack(V6_80)\n",
    "V6_80_ = np.stack(V6_80_)\n",
    "L6_80 = np.stack(L6_80).reshape(-1)"
   ]
  },
  {
   "cell_type": "code",
   "execution_count": 816,
   "id": "03b0b900-b815-4372-9077-b556185a6599",
   "metadata": {},
   "outputs": [],
   "source": [
    "kmeans6_80 = KMeans(n_clusters=2,n_init=20, random_state=42)\n",
    "kmeans6_80.fit(V6_80)\n",
    "label6_80 = kmeans6_80.predict(V6_80)\n",
    "\n",
    "labels6_80 = np.concatenate([[i] * 80 for i in label6_80])\n",
    "\n",
    "kmeans6_80 = KMeans(n_clusters=2,n_init=20, random_state=42)\n",
    "kmeans6_80.fit(V6_80_.reshape(-1, 16))\n",
    "label6_80_ = kmeans6_80.predict(V6_80_.reshape(-1, 16))"
   ]
  },
  {
   "cell_type": "code",
   "execution_count": 817,
   "id": "036b8318-6729-4954-a360-e33ca299549e",
   "metadata": {},
   "outputs": [
    {
     "data": {
      "text/plain": [
       "(0.08944567291016302, 0.08608112209503989)"
      ]
     },
     "execution_count": 817,
     "metadata": {},
     "output_type": "execute_result"
    }
   ],
   "source": [
    "np.sum(labels6_80 == L6_80) / len(L6_80), np.sum(label6_80_ == L6_80) / len(L6_80)"
   ]
  },
  {
   "cell_type": "code",
   "execution_count": 818,
   "id": "bc8ac8c9-50d1-4013-947d-d745208556d2",
   "metadata": {},
   "outputs": [],
   "source": [
    "# torch.save(m6_80.state_dict(), \"para_origin/m6_80.pkl\")\n",
    "# np.save(\"resu_origin/lab_6_80.npy\", labels6_80)\n",
    "# np.save(\"resu_origin/tru_6_80.npy\", L6_80)"
   ]
  },
  {
   "cell_type": "code",
   "execution_count": 819,
   "id": "cdb95765-3460-43eb-be72-c26da91895a7",
   "metadata": {},
   "outputs": [],
   "source": [
    "np.save(\"results3/m_6_80.npy\", np.stack(V6_80))\n",
    "np.save(\"results3/m_6_80_all.npy\", np.stack(V6_80_))\n",
    "np.save(\"results3/tru_6_80.npy\", L6_80)"
   ]
  },
  {
   "cell_type": "markdown",
   "id": "f510ff07-6e45-4ae7-ac9d-d3a4670fb53f",
   "metadata": {},
   "source": [
    "### 片段60"
   ]
  },
  {
   "cell_type": "markdown",
   "id": "a48fbaf0-511c-4348-b0b7-780b24180560",
   "metadata": {},
   "source": [
    "#### 训练"
   ]
  },
  {
   "cell_type": "code",
   "execution_count": 820,
   "id": "31e250a5-2bea-4fb9-8721-57d9e4740bd3",
   "metadata": {},
   "outputs": [],
   "source": [
    "m6_60 = Baseline(encoder, base_type=1, combination=True, num_channels=[16, 32])"
   ]
  },
  {
   "cell_type": "code",
   "execution_count": 236,
   "id": "f95c24eb-f053-4d81-a780-62096cca4cf9",
   "metadata": {},
   "outputs": [],
   "source": [
    "# optimizer6_60 = optim.Adam(m6_60.parameters(), lr=1e-3, weight_decay=1e-10)"
   ]
  },
  {
   "cell_type": "code",
   "execution_count": 237,
   "id": "d99736ac-ece6-4d67-99ab-32996179819d",
   "metadata": {},
   "outputs": [],
   "source": [
    "# Loss6_60 = []"
   ]
  },
  {
   "cell_type": "code",
   "execution_count": 238,
   "id": "a822286e-71f8-4e0d-a04e-8bef9a1828a6",
   "metadata": {},
   "outputs": [],
   "source": [
    "# m6_60.train()\n",
    "# for i in range(100):\n",
    "#     Lo6_60 = 0\n",
    "#     print(i)\n",
    "#     for f,_,_ in train_loader_60:\n",
    "#         optimizer6_60.zero_grad()\n",
    "#         loss6_60 = m6_60.fit(f.float().cuda())\n",
    "#         loss6_60.backward()\n",
    "#         optimizer6_60.step()\n",
    "#         Lo6_60 += loss6_60.item()\n",
    "#     Loss6_60.append(Lo6_60 / len(train_loader_60))\n",
    "#     print(i, Loss6_60[-1])"
   ]
  },
  {
   "cell_type": "code",
   "execution_count": 1082,
   "id": "aa661a33-d4ab-4360-9a78-518f5850f961",
   "metadata": {},
   "outputs": [
    {
     "data": {
      "text/plain": [
       "<All keys matched successfully>"
      ]
     },
     "execution_count": 1082,
     "metadata": {},
     "output_type": "execute_result"
    }
   ],
   "source": [
    "m6_60.load_state_dict(torch.load(\"para_origin/m6_60.pkl\"))"
   ]
  },
  {
   "cell_type": "code",
   "execution_count": 1083,
   "id": "fa66bcf8-4c70-4f56-94b4-1d6c95ac1306",
   "metadata": {},
   "outputs": [],
   "source": [
    "torch.save(m6_60.state_dict(), \"results3/m6_60.pkl\")"
   ]
  },
  {
   "cell_type": "code",
   "execution_count": 827,
   "id": "11714d59-ef6c-4ecc-a003-be99cc640500",
   "metadata": {},
   "outputs": [],
   "source": [
    "V6_60 = []\n",
    "V6_60_ = []\n",
    "L6_60 = []\n",
    "m6_60.eval()\n",
    "with torch.no_grad():\n",
    "    for f,_,l in all_loader_60:\n",
    "        v6_60 = m6_60(f.float().cuda())\n",
    "        for i in range(v6_60.shape[0]):\n",
    "            V6_60.append(v6_60[i,-1,:].cpu().detach().numpy())\n",
    "            V6_60_.append(v6_60[i,:,:].cpu().detach().numpy())\n",
    "            L6_60.append(l[i])\n",
    "V6_60 = np.stack(V6_60)\n",
    "V6_60_ = np.stack(V6_60_)\n",
    "L6_60 = np.stack(L6_60).reshape(-1)"
   ]
  },
  {
   "cell_type": "code",
   "execution_count": 828,
   "id": "26375687-7ae5-4c1b-8c0f-1237a099003b",
   "metadata": {},
   "outputs": [],
   "source": [
    "kmeans6_60 = KMeans(n_clusters=2,n_init=20, random_state=42)\n",
    "kmeans6_60.fit(V6_60)\n",
    "label6_60 = kmeans6_60.predict(V6_60)\n",
    "\n",
    "labels6_60 = np.concatenate([[i] * 60 for i in label6_60])\n",
    "\n",
    "kmeans6_60 = KMeans(n_clusters=2,n_init=20, random_state=42)\n",
    "kmeans6_60.fit(V6_60_.reshape(-1, 16))\n",
    "label6_60_ = kmeans6_60.predict(V6_60_.reshape(-1, 16))"
   ]
  },
  {
   "cell_type": "code",
   "execution_count": 829,
   "id": "a8af6fc1-2a25-490d-9c5b-ece4590c53c4",
   "metadata": {},
   "outputs": [
    {
     "data": {
      "text/plain": [
       "(0.09960273765572036, 0.9019560852386813)"
      ]
     },
     "execution_count": 829,
     "metadata": {},
     "output_type": "execute_result"
    }
   ],
   "source": [
    "np.sum(labels6_60 == L6_60) / len(L6_60), np.sum(label6_60_ == L6_60) / len(L6_60)"
   ]
  },
  {
   "cell_type": "code",
   "execution_count": 830,
   "id": "5bd52f4d-4d85-4edf-9751-58edc354335f",
   "metadata": {},
   "outputs": [],
   "source": [
    "np.save(\"results3/m_6_60.npy\", np.stack(V6_60))\n",
    "np.save(\"results3/m_6_60_all.npy\", np.stack(V6_60_))\n",
    "np.save(\"results3/tru_6_60.npy\", L6_60)"
   ]
  },
  {
   "cell_type": "code",
   "execution_count": 243,
   "id": "2724e26e-acb4-4c9a-b4ea-fcde42ff4df4",
   "metadata": {},
   "outputs": [],
   "source": [
    "# torch.save(m6_60.state_dict(), \"para_origin/m6_60.pkl\")\n",
    "# np.save(\"resu_origin/lab_6_60.npy\", labels6_60)\n",
    "# np.save(\"resu_origin/tru_6_60.npy\", L6_60)"
   ]
  },
  {
   "cell_type": "markdown",
   "id": "e31f6e70-d77b-47e8-9c66-5fdab28dd3ba",
   "metadata": {},
   "source": [
    "### 片段40"
   ]
  },
  {
   "cell_type": "markdown",
   "id": "4b1eaf82-a434-4241-a70e-eb0c11af0df4",
   "metadata": {},
   "source": [
    "#### 训练"
   ]
  },
  {
   "cell_type": "code",
   "execution_count": 831,
   "id": "e08d3664-8d36-41e5-b115-4e22e302aa4e",
   "metadata": {},
   "outputs": [],
   "source": [
    "m6_40 = Baseline(encoder, base_type=1, combination=True, num_channels=[16, 16])"
   ]
  },
  {
   "cell_type": "code",
   "execution_count": 247,
   "id": "43a22d6d-d21a-485c-bb82-8e22ba22a498",
   "metadata": {},
   "outputs": [],
   "source": [
    "# optimizer6_40 = optim.Adam(m6_40.parameters(), lr=1e-3, weight_decay=1e-6)"
   ]
  },
  {
   "cell_type": "code",
   "execution_count": 248,
   "id": "88dabcc4-c1e9-4a7e-bf2c-b9edcb235e77",
   "metadata": {},
   "outputs": [],
   "source": [
    "# Loss6_40 = []"
   ]
  },
  {
   "cell_type": "code",
   "execution_count": 249,
   "id": "20ef22ee-17d7-45bb-92ea-0205e3f2eb26",
   "metadata": {},
   "outputs": [],
   "source": [
    "# m6_40.train()\n",
    "# for i in range(100):\n",
    "#     Lo6_40 = 0\n",
    "#     print(i)\n",
    "#     for f,_,_ in train_loader_40:\n",
    "#         optimizer6_40.zero_grad()\n",
    "#         loss6_40 = m6_40.fit(f.float().cuda())\n",
    "#         loss6_40.backward()\n",
    "#         optimizer6_40.step()\n",
    "#         Lo6_40 += loss6_40.item()\n",
    "#     Loss6_40.append(Lo6_40 / len(train_loader_40))\n",
    "#     print(i, Loss6_40[-1])"
   ]
  },
  {
   "cell_type": "code",
   "execution_count": 832,
   "id": "bb7aa9b9-352f-4a63-9ff1-33f6e58c8fca",
   "metadata": {},
   "outputs": [
    {
     "data": {
      "text/plain": [
       "<All keys matched successfully>"
      ]
     },
     "execution_count": 832,
     "metadata": {},
     "output_type": "execute_result"
    }
   ],
   "source": [
    "m6_40.load_state_dict(torch.load(\"para_origin/m6_40.pkl\"))"
   ]
  },
  {
   "cell_type": "code",
   "execution_count": 833,
   "id": "838d932a-a933-4610-bf9b-e438ddc8bda4",
   "metadata": {},
   "outputs": [],
   "source": [
    "torch.save(m6_40.state_dict(), \"results3/m6_40.pkl\")"
   ]
  },
  {
   "cell_type": "code",
   "execution_count": 838,
   "id": "4cd16699-bfb0-4e98-a791-c587505f3542",
   "metadata": {},
   "outputs": [],
   "source": [
    "V6_40 = []\n",
    "V6_40_ = []\n",
    "L6_40 = []\n",
    "m6_40.eval()\n",
    "with torch.no_grad():\n",
    "    for f,_,l in all_loader_40:\n",
    "        v6_40 = m6_40(f.float().cuda())\n",
    "        for i in range(v6_40.shape[0]):\n",
    "            V6_40.append(v6_40[i,-1,:].cpu().detach().numpy())\n",
    "            V6_40_.append(v6_40[i,:,:].cpu().detach().numpy())\n",
    "            L6_40.append(l[i])\n",
    "V6_40 = np.stack(V6_40)\n",
    "V6_40_ = np.stack(V6_40_)\n",
    "L6_40 = np.stack(L6_40).reshape(-1)"
   ]
  },
  {
   "cell_type": "code",
   "execution_count": 839,
   "id": "85a20e9d-37bd-4d76-ab66-c221127084ec",
   "metadata": {},
   "outputs": [],
   "source": [
    "kmeans6_40 = KMeans(n_clusters=2,n_init=20, random_state=42)\n",
    "kmeans6_40.fit(V6_40)\n",
    "label6_40 = kmeans6_40.predict(V6_40)\n",
    "\n",
    "labels6_40 = np.concatenate([[i] * 40 for i in label6_40])\n",
    "\n",
    "kmeans6_40 = KMeans(n_clusters=2,n_init=20, random_state=42)\n",
    "kmeans6_40.fit(V6_40_.reshape(-1, 16))\n",
    "label6_40_ = kmeans6_40.predict(V6_40_.reshape(-1, 16))"
   ]
  },
  {
   "cell_type": "code",
   "execution_count": 840,
   "id": "5bda0098-1b38-4fc9-aeaf-c9a5ef8d3dfb",
   "metadata": {},
   "outputs": [
    {
     "data": {
      "text/plain": [
       "(0.9162250161186332, 0.9175918762088975)"
      ]
     },
     "execution_count": 840,
     "metadata": {},
     "output_type": "execute_result"
    }
   ],
   "source": [
    "np.sum(labels6_40 != L6_40) / len(L6_40), np.sum(label6_40_ != L6_40) / len(L6_40)"
   ]
  },
  {
   "cell_type": "code",
   "execution_count": 841,
   "id": "bbd03050-7376-4c3c-86fb-9adb655aa6b3",
   "metadata": {},
   "outputs": [],
   "source": [
    "np.save(\"results3/m_6_40.npy\", np.stack(V6_40))\n",
    "np.save(\"results3/m_6_40_all.npy\", np.stack(V6_40_))\n",
    "np.save(\"results3/tru_6_40.npy\", L6_40)"
   ]
  },
  {
   "cell_type": "code",
   "execution_count": 256,
   "id": "20442f70-e7f7-47cc-a9e3-2e4845cb59d5",
   "metadata": {},
   "outputs": [],
   "source": [
    "# torch.save(m6_40.state_dict(), \"para_origin/m6_40.pkl\")\n",
    "# np.save(\"resu_origin/lab_6_40.npy\", labels6_40)\n",
    "# np.save(\"resu_origin/tru_6_40.npy\", L6_40)"
   ]
  },
  {
   "cell_type": "markdown",
   "id": "d3c5e3c7-c633-4843-b120-cb04f5e9f811",
   "metadata": {},
   "source": [
    "### 片段30"
   ]
  },
  {
   "cell_type": "markdown",
   "id": "6335c368-7e51-4575-ac88-1cf770e84b00",
   "metadata": {},
   "source": [
    "#### 训练"
   ]
  },
  {
   "cell_type": "code",
   "execution_count": 842,
   "id": "15fefc53-9e78-4a5d-8220-4327a60483f7",
   "metadata": {},
   "outputs": [],
   "source": [
    "m6_30 = Baseline(encoder, base_type=1, combination=True, num_channels=[16, 16]).cuda()"
   ]
  },
  {
   "cell_type": "code",
   "execution_count": 848,
   "id": "497d9004-ea1f-4077-8ab0-1ca636eb3192",
   "metadata": {},
   "outputs": [],
   "source": [
    "optimizer6_30 = optim.Adam(m6_30.parameters(), lr=1e-4, weight_decay=1e-6)"
   ]
  },
  {
   "cell_type": "code",
   "execution_count": 849,
   "id": "b6ca90af-8414-4d92-b395-ae264ef8abef",
   "metadata": {},
   "outputs": [],
   "source": [
    "Loss6_30 = []"
   ]
  },
  {
   "cell_type": "code",
   "execution_count": 850,
   "id": "84df64a1-480e-467c-ae7b-8579adee555a",
   "metadata": {},
   "outputs": [
    {
     "name": "stdout",
     "output_type": "stream",
     "text": [
      "0\n",
      "0 3.601438577358539\n",
      "1\n",
      "1 3.585924478677603\n",
      "2\n",
      "2 3.5734469890594482\n",
      "3\n",
      "3 3.5864334106445312\n",
      "4\n",
      "4 3.580242267021766\n",
      "5\n",
      "5 3.585022449493408\n",
      "6\n",
      "6 3.586742712901189\n",
      "7\n",
      "7 3.581689504476694\n",
      "8\n",
      "8 3.5848632775820217\n",
      "9\n",
      "9 3.579262513380784\n"
     ]
    }
   ],
   "source": [
    "m6_30.train()\n",
    "for i in range(10):\n",
    "    Lo6_30 = 0\n",
    "    print(i)\n",
    "    for f,_,_ in train_loader_30:\n",
    "        optimizer6_30.zero_grad()\n",
    "        loss6_30 = m6_30.fit(f.float().cuda())\n",
    "        loss6_30.backward()\n",
    "        optimizer6_30.step()\n",
    "        Lo6_30 += loss6_30.item()\n",
    "    Loss6_30.append(Lo6_30 / len(train_loader_30))\n",
    "    print(i, Loss6_30[-1])"
   ]
  },
  {
   "cell_type": "code",
   "execution_count": 843,
   "id": "c9a8c8eb-ad2e-450d-b4f3-87e8c5d7e885",
   "metadata": {},
   "outputs": [
    {
     "data": {
      "text/plain": [
       "<All keys matched successfully>"
      ]
     },
     "execution_count": 843,
     "metadata": {},
     "output_type": "execute_result"
    }
   ],
   "source": [
    "m6_30.load_state_dict(torch.load(\"para_origin/m6_30.pkl\"))"
   ]
  },
  {
   "cell_type": "code",
   "execution_count": 844,
   "id": "31b533f2-c33e-41fa-8aba-5dd8073059db",
   "metadata": {},
   "outputs": [],
   "source": [
    "torch.save(m6_30.state_dict(), \"results3/m6_30.pkl\")"
   ]
  },
  {
   "cell_type": "code",
   "execution_count": 861,
   "id": "bf6e5351-1f50-465b-979d-e6a17701726f",
   "metadata": {},
   "outputs": [],
   "source": [
    "V6_30 = []\n",
    "V6_30_ = []\n",
    "L6_30 = []\n",
    "m6_30.eval()\n",
    "with torch.no_grad():\n",
    "    for f,_,l in val_loader_30:\n",
    "        v6_30 = m6_30(f.float().cuda())\n",
    "        for i in range(v6_30.shape[0]):\n",
    "            V6_30.append(v6_30[i,-1,:].cpu().detach().numpy())\n",
    "            V6_30_.append(v6_30[i,:,:].cpu().detach().numpy())\n",
    "            L6_30.append(l[i])\n",
    "V6_30 = np.stack(V6_30)\n",
    "V6_30_ = np.stack(V6_30_)\n",
    "L6_30 = np.stack(L6_30).reshape(-1)"
   ]
  },
  {
   "cell_type": "code",
   "execution_count": 862,
   "id": "78ec7d6f-25e4-42e7-bd4d-732e4b074503",
   "metadata": {},
   "outputs": [],
   "source": [
    "kmeans6_30 = KMeans(n_clusters=2,n_init=20, random_state=42)\n",
    "kmeans6_30.fit(V6_30)\n",
    "label6_30 = kmeans6_30.predict(V6_30)\n",
    "\n",
    "labels6_30 = np.concatenate([[i] * 30 for i in label6_30])\n",
    "\n",
    "kmeans6_30 = KMeans(n_clusters=2,n_init=20, random_state=42)\n",
    "kmeans6_30.fit(V6_30_.reshape(-1, 16))\n",
    "label6_30_ = kmeans6_30.predict(V6_30_.reshape(-1, 16))"
   ]
  },
  {
   "cell_type": "code",
   "execution_count": 863,
   "id": "e9a2ce31-f28c-4c33-81b1-bdbe70fcf5b8",
   "metadata": {},
   "outputs": [
    {
     "data": {
      "text/plain": [
       "(0.895919789823602, 0.8977802798777546)"
      ]
     },
     "execution_count": 863,
     "metadata": {},
     "output_type": "execute_result"
    }
   ],
   "source": [
    "np.sum(labels6_30 == L6_30) / len(L6_30), np.sum(label6_30_ == L6_30) / len(L6_30)"
   ]
  },
  {
   "cell_type": "code",
   "execution_count": 864,
   "id": "4484c475-99ad-4e8d-a881-3fa461f76f6b",
   "metadata": {},
   "outputs": [],
   "source": [
    "np.save(\"results3/m_6_30_v.npy\", np.stack(V6_30))\n",
    "np.save(\"results3/m_6_30_all_v.npy\", np.stack(V6_30_))\n",
    "np.save(\"results3/tru_6_30_v.npy\", L6_30)"
   ]
  },
  {
   "cell_type": "code",
   "execution_count": 264,
   "id": "4db061ee-57a3-42c7-b02b-8fcccb54ab14",
   "metadata": {},
   "outputs": [],
   "source": [
    "# torch.save(m6_30.state_dict(), \"para_origin/m6_30.pkl\")\n",
    "# np.save(\"resu_origin/lab_6_30.npy\", labels6_30)\n",
    "# np.save(\"resu_origin/tru_6_30.npy\", L6_30)"
   ]
  },
  {
   "cell_type": "markdown",
   "id": "16d7ffbf-e313-4567-b428-1579b7507852",
   "metadata": {},
   "source": [
    "### 片段20"
   ]
  },
  {
   "cell_type": "markdown",
   "id": "35dd28b5-14fc-4067-acc9-9a2ae4539852",
   "metadata": {},
   "source": [
    "#### 训练"
   ]
  },
  {
   "cell_type": "code",
   "execution_count": 865,
   "id": "49be0610-38d4-4149-b538-ec0f4ff46bb4",
   "metadata": {},
   "outputs": [],
   "source": [
    "m6_20 = Baseline(encoder, base_type=1, combination=True, num_channels=[16, 16]).cuda()"
   ]
  },
  {
   "cell_type": "code",
   "execution_count": 266,
   "id": "86072586-0082-4304-8172-881379462250",
   "metadata": {},
   "outputs": [],
   "source": [
    "# optimizer6_20 = optim.Adam(m6_20.parameters(), lr=1e-3, weight_decay=1e-6)"
   ]
  },
  {
   "cell_type": "code",
   "execution_count": 267,
   "id": "371cec6b-0fc9-4140-9453-41205f3bf6de",
   "metadata": {},
   "outputs": [],
   "source": [
    "# Loss6_20 = []"
   ]
  },
  {
   "cell_type": "code",
   "execution_count": 268,
   "id": "ba7f4f98-7f14-41aa-bee8-d1cff1553af7",
   "metadata": {},
   "outputs": [],
   "source": [
    "# m6_20.train()\n",
    "# for i in range(100):\n",
    "#     Lo6_20 = 0\n",
    "#     print(i)\n",
    "#     for f,_,_ in train_loader_20:\n",
    "#         optimizer6_20.zero_grad()\n",
    "#         loss6_20 = m6_20.fit(f.float().cuda())\n",
    "#         loss6_20.backward()\n",
    "#         optimizer6_20.step()\n",
    "#         Lo6_20 += loss6_20.item()\n",
    "#     Loss6_20.append(Lo6_20 / len(train_loader_20))\n",
    "#     print(i, Loss6_20[-1])"
   ]
  },
  {
   "cell_type": "code",
   "execution_count": 866,
   "id": "a7e7be41-251f-4981-a9e2-4be3d81b4381",
   "metadata": {},
   "outputs": [
    {
     "data": {
      "text/plain": [
       "<All keys matched successfully>"
      ]
     },
     "execution_count": 866,
     "metadata": {},
     "output_type": "execute_result"
    }
   ],
   "source": [
    "m6_20.load_state_dict(torch.load(\"para_origin/m6_20.pkl\"))"
   ]
  },
  {
   "cell_type": "code",
   "execution_count": 867,
   "id": "9a2771a8-a87b-4e4c-a14d-899819dbed4c",
   "metadata": {},
   "outputs": [],
   "source": [
    "torch.save(m6_20.state_dict(), \"results3/m6_20.pkl\")"
   ]
  },
  {
   "cell_type": "code",
   "execution_count": 872,
   "id": "d26d9ddd-263c-43e4-97b0-7052ab9a53e2",
   "metadata": {},
   "outputs": [],
   "source": [
    "V6_20 = []\n",
    "V6_20_ = []\n",
    "L6_20 = []\n",
    "m6_20.eval()\n",
    "with torch.no_grad():\n",
    "    for f,_,l in all_loader_20:\n",
    "        v6_20 = m6_20(f.float().cuda())\n",
    "        for i in range(v6_20.shape[0]):\n",
    "            V6_20.append(v6_20[i,-1,:].cpu().detach().numpy())\n",
    "            V6_20_.append(v6_20[i,:,:].cpu().detach().numpy())\n",
    "            L6_20.append(l[i])\n",
    "V6_20 = np.stack(V6_20)\n",
    "V6_20_ = np.stack(V6_20_)\n",
    "L6_20 = np.stack(L6_20).reshape(-1)"
   ]
  },
  {
   "cell_type": "code",
   "execution_count": 873,
   "id": "1a37fed2-6eca-4c1a-b8e4-ff0db6618d8b",
   "metadata": {},
   "outputs": [],
   "source": [
    "kmeans6_20 = KMeans(n_clusters=2,n_init=20, random_state=42)\n",
    "kmeans6_20.fit(V6_20)\n",
    "label6_20 = kmeans6_20.predict(V6_20)\n",
    "\n",
    "labels6_20 = np.concatenate([[i] * 20 for i in label6_20])\n",
    "\n",
    "kmeans6_20 = KMeans(n_clusters=2,n_init=20, random_state=42)\n",
    "kmeans6_20.fit(V6_20_.reshape(-1, 16))\n",
    "label6_20_ = kmeans6_20.predict(V6_20_.reshape(-1, 16))"
   ]
  },
  {
   "cell_type": "code",
   "execution_count": 874,
   "id": "ca8ff072-98bd-44b8-8cc4-45e577748d44",
   "metadata": {},
   "outputs": [
    {
     "data": {
      "text/plain": [
       "(0.09119478685156651, 0.09125470809792843)"
      ]
     },
     "execution_count": 874,
     "metadata": {},
     "output_type": "execute_result"
    }
   ],
   "source": [
    "np.sum(labels6_20 == L6_20) / len(L6_20), np.sum(label6_20_ == L6_20) / len(L6_20)"
   ]
  },
  {
   "cell_type": "code",
   "execution_count": 875,
   "id": "6ae86e5e-9915-4fbb-817a-1c4f1f028d80",
   "metadata": {},
   "outputs": [],
   "source": [
    "np.save(\"results3/m_6_20.npy\", np.stack(V6_20))\n",
    "np.save(\"results3/m_6_20_all.npy\", np.stack(V6_20_))\n",
    "np.save(\"results3/tru_6_20.npy\", L6_20)"
   ]
  },
  {
   "cell_type": "code",
   "execution_count": 275,
   "id": "bbb8a1c3-90bf-4f02-89ac-196bef33be8c",
   "metadata": {},
   "outputs": [],
   "source": [
    "# torch.save(m6_20.state_dict(), \"para_origin/m6_20.pkl\")\n",
    "# np.save(\"resu_origin/lab_6_20.npy\", labels6_20)\n",
    "# np.save(\"resu_origin/tru_6_20.npy\", L6_20)"
   ]
  },
  {
   "cell_type": "markdown",
   "id": "289804b9-d225-4dc0-961b-4b11afd8dc36",
   "metadata": {},
   "source": [
    "### 片段10"
   ]
  },
  {
   "cell_type": "markdown",
   "id": "55d66839-2ef9-4eee-b094-8afcaa472ef5",
   "metadata": {},
   "source": [
    "#### 训练"
   ]
  },
  {
   "cell_type": "code",
   "execution_count": 876,
   "id": "ddeafe3d-709b-45c1-afa0-09295f8f26b9",
   "metadata": {},
   "outputs": [],
   "source": [
    "m6_10 = Baseline(encoder, base_type=1, combination=True, num_channels=[16, 16]).cuda()"
   ]
  },
  {
   "cell_type": "code",
   "execution_count": 877,
   "id": "650ace80-2170-4f90-95cf-08e8b39384b4",
   "metadata": {},
   "outputs": [],
   "source": [
    "# optimizer6_10 = optim.Adam(m6_10.parameters(), lr=1e-3, weight_decay=1e-6)"
   ]
  },
  {
   "cell_type": "code",
   "execution_count": 279,
   "id": "10b43964-3e69-421b-8845-d73b5652c18a",
   "metadata": {},
   "outputs": [],
   "source": [
    "# Loss6_10 = []"
   ]
  },
  {
   "cell_type": "code",
   "execution_count": 280,
   "id": "7978f46c-c7df-4785-a9bc-b438974eef36",
   "metadata": {},
   "outputs": [],
   "source": [
    "# m6_10.train()\n",
    "# for i in range(100):\n",
    "#     Lo6_10 = 0\n",
    "#     print(i)\n",
    "#     for f,_,_ in train_loader_10:\n",
    "#         optimizer6_10.zero_grad()\n",
    "#         loss6_10 = m6_10.fit(f.float().cuda())\n",
    "#         loss6_10.backward()\n",
    "#         optimizer6_10.step()\n",
    "#         Lo6_10 += loss6_10.item()\n",
    "#     Loss6_10.append(Lo6_10 / len(train_loader_10))\n",
    "#     print(i, Loss6_10[-1])"
   ]
  },
  {
   "cell_type": "code",
   "execution_count": 878,
   "id": "1c7384c0-3943-4234-9078-7b7cce98126c",
   "metadata": {},
   "outputs": [
    {
     "data": {
      "text/plain": [
       "<All keys matched successfully>"
      ]
     },
     "execution_count": 878,
     "metadata": {},
     "output_type": "execute_result"
    }
   ],
   "source": [
    "m6_10.load_state_dict(torch.load(\"para_origin/m6_10.pkl\"))"
   ]
  },
  {
   "cell_type": "code",
   "execution_count": 879,
   "id": "0342b22e-88e2-4581-83cf-c649de32b8ac",
   "metadata": {},
   "outputs": [],
   "source": [
    "torch.save(m6_10.state_dict(), \"results3/m6_10.pkl\")"
   ]
  },
  {
   "cell_type": "code",
   "execution_count": 884,
   "id": "df5d5df0-12c7-48f9-bc30-836366d8fd76",
   "metadata": {},
   "outputs": [],
   "source": [
    "V6_10 = []\n",
    "V6_10_ = []\n",
    "L6_10 = []\n",
    "m6_10.eval()\n",
    "with torch.no_grad():\n",
    "    for f,_,l in all_loader_10:\n",
    "        v6_10 = m6_10(f.float().cuda())\n",
    "        for i in range(v6_10.shape[0]):\n",
    "            V6_10.append(v6_10[i,-1,:].cpu().detach().numpy())\n",
    "            V6_10_.append(v6_10[i,:,:].cpu().detach().numpy())\n",
    "            L6_10.append(l[i])\n",
    "V6_10 = np.stack(V6_10)\n",
    "V6_10_ = np.stack(V6_10_)\n",
    "L6_10 = np.stack(L6_10).reshape(-1)"
   ]
  },
  {
   "cell_type": "code",
   "execution_count": 885,
   "id": "cd5474bf-9f39-4db5-95ff-491ccc87d1e5",
   "metadata": {},
   "outputs": [],
   "source": [
    "kmeans6_10 = KMeans(n_clusters=2,n_init=20, random_state=42)\n",
    "kmeans6_10.fit(V6_10)\n",
    "label6_10 = kmeans6_10.predict(V6_10)\n",
    "\n",
    "labels6_10 = np.concatenate([[i] * 10 for i in label6_10])\n",
    "\n",
    "kmeans6_10 = KMeans(n_clusters=2,n_init=20, random_state=42)\n",
    "kmeans6_10.fit(V6_10_.reshape(-1, 16))\n",
    "label6_10_ = kmeans6_10.predict(V6_10_.reshape(-1, 16))\n"
   ]
  },
  {
   "cell_type": "code",
   "execution_count": 886,
   "id": "f8e1e6d7-ec57-4e66-b9a3-bcab6e0ea17e",
   "metadata": {},
   "outputs": [
    {
     "data": {
      "text/plain": [
       "(0.9106502684986495, 0.9098314276868548)"
      ]
     },
     "execution_count": 886,
     "metadata": {},
     "output_type": "execute_result"
    }
   ],
   "source": [
    "np.sum(labels6_10 != L6_10) / len(L6_10), np.sum(label6_10_ != L6_10) / len(L6_10)"
   ]
  },
  {
   "cell_type": "code",
   "execution_count": 887,
   "id": "db3f861d-d541-45b1-88bb-0aedf5e7bb22",
   "metadata": {},
   "outputs": [],
   "source": [
    "# torch.save(m6_10.state_dict(), \"para_origin/m6_10.pkl\")\n",
    "# np.save(\"resu_origin/lab_6_10.npy\", labels6_10)\n",
    "# np.save(\"resu_origin/tru_6_10.npy\", L6_10)"
   ]
  },
  {
   "cell_type": "code",
   "execution_count": 888,
   "id": "8ad0a38c-ee3c-4f52-bb72-9acd7efc6e7c",
   "metadata": {},
   "outputs": [],
   "source": [
    "np.save(\"results3/m_6_10.npy\", np.stack(V6_10))\n",
    "np.save(\"results3/m_6_10_all.npy\", np.stack(V6_10_))\n",
    "np.save(\"results3/tru_6_10.npy\", L6_10)"
   ]
  },
  {
   "cell_type": "markdown",
   "id": "48ad235e-7555-4cd5-8fe7-3139d7a8d010",
   "metadata": {},
   "source": [
    "## 模型7"
   ]
  },
  {
   "cell_type": "code",
   "execution_count": 889,
   "id": "2919d7d9-82c2-4357-80dc-9c9e316ce22e",
   "metadata": {},
   "outputs": [],
   "source": [
    "params7 = dict(\n",
    "    input_dim=9,\n",
    "    num_channels=[16,  16],\n",
    "    hidden_dim=32,\n",
    "    num_heads=4,\n",
    "    cluster_num=2,\n",
    "    similarity=\"EUC\",\n",
    "    base_type=1,\n",
    "    combination=False\n",
    ")"
   ]
  },
  {
   "cell_type": "markdown",
   "id": "4cd3b28b-2d15-4bd1-b97a-edb22ed36303",
   "metadata": {},
   "source": [
    "### 片段100"
   ]
  },
  {
   "cell_type": "markdown",
   "id": "bc6f735c-32a0-41d5-9814-e4b3142b81f7",
   "metadata": {},
   "source": [
    "#### 训练"
   ]
  },
  {
   "cell_type": "code",
   "execution_count": 890,
   "id": "b00b6b67-41ff-4714-a767-9f2533534982",
   "metadata": {},
   "outputs": [],
   "source": [
    "m7_100 = DTC(**params7).cuda()"
   ]
  },
  {
   "cell_type": "code",
   "execution_count": 891,
   "id": "3a78f535-32c8-42c8-9701-049a5b4e8102",
   "metadata": {},
   "outputs": [
    {
     "data": {
      "text/plain": [
       "<All keys matched successfully>"
      ]
     },
     "execution_count": 891,
     "metadata": {},
     "output_type": "execute_result"
    }
   ],
   "source": [
    "m7_100.load_state_dict(torch.load(\"para_origin/m7_100.pkl\"))"
   ]
  },
  {
   "cell_type": "code",
   "execution_count": 909,
   "id": "b43fdb9a-a54a-43f3-b937-47be30e6e9a2",
   "metadata": {},
   "outputs": [],
   "source": [
    "torch.save(m7_100.state_dict(), \"results3/m7_100.pkl\")"
   ]
  },
  {
   "cell_type": "code",
   "execution_count": 892,
   "id": "e6bffa2b-3308-471f-a6e2-c82d1c094668",
   "metadata": {},
   "outputs": [],
   "source": [
    "# optimizer7_100 = optim.Adam(m7_100.parameters(), lr=1e-3, weight_decay=1e-10)"
   ]
  },
  {
   "cell_type": "code",
   "execution_count": 893,
   "id": "45a521dd-b7c1-4bf1-a6d6-006afdc69453",
   "metadata": {},
   "outputs": [],
   "source": [
    "# Loss7_100 = []"
   ]
  },
  {
   "cell_type": "code",
   "execution_count": 894,
   "id": "9a0883b5-0625-49b5-a85e-06ac0994f1e4",
   "metadata": {},
   "outputs": [],
   "source": [
    "# m7_100.train()\n",
    "# for i in range(10):\n",
    "#     Lo7_100 = 0\n",
    "#     print(i)\n",
    "#     for f,_,_ in train_loader_100:\n",
    "#         optimizer7_100.zero_grad()\n",
    "#         _,loss7_100,_ = m7_100.loss(f.float().cuda())\n",
    "#         loss7_100.backward()\n",
    "#         optimizer7_100.step()\n",
    "#         Lo7_100 += loss7_100.item()\n",
    "#     Loss7_100.append(Lo7_100 / len(train_loader_100))\n",
    "#     print(i, Loss7_100[-1])"
   ]
  },
  {
   "cell_type": "code",
   "execution_count": 895,
   "id": "22555eb7-e30b-4f18-84f3-755188fb8194",
   "metadata": {},
   "outputs": [],
   "source": [
    "# Loss7__100 = []\n",
    "# m7_100.init_centroids(train_loader_100)"
   ]
  },
  {
   "cell_type": "code",
   "execution_count": 896,
   "id": "9ef443a4-131a-416c-a20f-b63cdb4cf17a",
   "metadata": {},
   "outputs": [],
   "source": [
    "# optimizer7_100 = optim.Adam(m7_100.parameters(), lr=1e-5, weight_decay=1e-10)"
   ]
  },
  {
   "cell_type": "code",
   "execution_count": 897,
   "id": "7b34c2e3-7d97-4535-9d81-1f3169a6ff6a",
   "metadata": {},
   "outputs": [],
   "source": [
    "# m7_100.train()\n",
    "# for i in range(10):\n",
    "#     print(\"train\", i)\n",
    "#     Lo7__100 = 0\n",
    "#     # print(i)\n",
    "#     for f, _,_ in train_loader_100:\n",
    "#         optimizer7_100.zero_grad()\n",
    "#         loss7_1, loss7_2, loss7_3 = m7_100.loss(f.float().cuda())\n",
    "#         loss7 = 10 * loss7_1 + loss7_2 + 10 * loss7_3\n",
    "#         loss7.backward()\n",
    "#         optimizer7_100.step()\n",
    "#         Lo7__100 += loss7.item()\n",
    "#     Loss7__100.append(Lo7__100 / len(train_loader_100))\n",
    "#     print(i, Loss7__100[-1])"
   ]
  },
  {
   "cell_type": "code",
   "execution_count": 902,
   "id": "67725389-2a09-4c9c-bca1-8b03f02eb1d1",
   "metadata": {},
   "outputs": [],
   "source": [
    "V7_100 = []\n",
    "V7_100_ = []\n",
    "L7_100 = []\n",
    "m7_100.eval()\n",
    "with torch.no_grad():\n",
    "    for f,_,l in all_loader_100:\n",
    "        v7_100 = m7_100(f.float().cuda())\n",
    "        for i in range(v7_100.shape[0]):\n",
    "            V7_100.append(v7_100[i,-1,:].cpu().detach().numpy())\n",
    "            V7_100_.append(v7_100[i,:,:].cpu().detach().numpy())\n",
    "            L7_100.append(l[i])\n",
    "V7_100 = np.stack(V7_100)\n",
    "V7_100_ = np.stack(V7_100_)\n",
    "L7_100 = np.stack(L7_100).reshape(-1)"
   ]
  },
  {
   "cell_type": "code",
   "execution_count": 903,
   "id": "88ee5f19-750e-4210-ab93-9bb4d9b9252b",
   "metadata": {},
   "outputs": [],
   "source": [
    "label7_100 = np.argmin(np.sum(np.power(V7_100[:, np.newaxis,:] - m7_100.cluster.detach().cpu().numpy()[np.newaxis,:,:], 2), axis=-1), axis=-1)\n",
    "\n",
    "labels7_100 = np.concatenate([[i] * 100 for i in label7_100])\n",
    "\n",
    "\n",
    "label7_100_ = np.argmin(np.sum(np.power(V7_100_.reshape(-1,16)[:, np.newaxis,:] - m7_100.cluster.detach().cpu().numpy()[np.newaxis,:,:], 2), axis=-1), axis=-1)"
   ]
  },
  {
   "cell_type": "code",
   "execution_count": 904,
   "id": "85a4a6bb-6fb3-4108-b95c-5e61d3454492",
   "metadata": {},
   "outputs": [
    {
     "data": {
      "text/plain": [
       "(0.8950517372835203, 0.899272410412809)"
      ]
     },
     "execution_count": 904,
     "metadata": {},
     "output_type": "execute_result"
    }
   ],
   "source": [
    "np.sum(labels7_100 != L7_100) / len(L7_100), np.sum(label7_100_ != L7_100) / len(L7_100)"
   ]
  },
  {
   "cell_type": "code",
   "execution_count": 319,
   "id": "3dd7b6d8-dd45-40b5-9827-2086de5ad989",
   "metadata": {},
   "outputs": [],
   "source": [
    "# torch.save(m7_100.state_dict(), \"para_origin/m7_100.pkl\")\n",
    "# np.save(\"resu_origin/lab_7_100.npy\", labels7_100)\n",
    "# np.save(\"resu_origin/tru_7_100.npy\", L7_100)"
   ]
  },
  {
   "cell_type": "code",
   "execution_count": 905,
   "id": "15f6dfc1-38d7-4549-956e-fd468ae9fcbf",
   "metadata": {},
   "outputs": [],
   "source": [
    "np.save(\"results3/m_7_100.npy\", np.stack(V7_100))\n",
    "np.save(\"results3/m_7_100_center.npy\", m7_100.cluster.detach().cpu().numpy())\n",
    "np.save(\"results3/m_7_100_all.npy\", np.stack(V7_100_))\n",
    "np.save(\"results3/tru_7_100.npy\", L7_100)"
   ]
  },
  {
   "cell_type": "markdown",
   "id": "35cf38fd-fe1a-45d6-a2b7-ccfed992555a",
   "metadata": {},
   "source": [
    "### 片段80"
   ]
  },
  {
   "cell_type": "markdown",
   "id": "a4861659-e1b6-42e6-92da-ee58e2803ef2",
   "metadata": {},
   "source": [
    "#### 训练"
   ]
  },
  {
   "cell_type": "code",
   "execution_count": 906,
   "id": "b344363f-cc84-441e-835b-2c1e95c3419a",
   "metadata": {},
   "outputs": [],
   "source": [
    "m7_80 = DTC(**params7).cuda()"
   ]
  },
  {
   "cell_type": "code",
   "execution_count": 322,
   "id": "c5308df2-f110-43e0-8ee8-841204e191ff",
   "metadata": {},
   "outputs": [],
   "source": [
    "# optimizer7_80 = optim.Adam(m7_80.parameters(), lr=1e-3, weight_decay=1e-6)"
   ]
  },
  {
   "cell_type": "code",
   "execution_count": 323,
   "id": "36d727d1-d25a-4efd-ab72-7e8680bdb0f6",
   "metadata": {},
   "outputs": [],
   "source": [
    "# Loss7_80 = []"
   ]
  },
  {
   "cell_type": "code",
   "execution_count": 324,
   "id": "9cbfc0c4-7961-470c-af51-db992a65daa1",
   "metadata": {},
   "outputs": [],
   "source": [
    "# m7_80.train()\n",
    "# for i in range(10):\n",
    "#     Lo7_80 = 0\n",
    "#     print(i)\n",
    "#     for f,_,_ in train_loader_80:\n",
    "#         optimizer7_80.zero_grad()\n",
    "#         _,loss7_80,_ = m7_80.loss(f.float().cuda())\n",
    "#         loss7_80.backward()\n",
    "#         optimizer7_80.step()\n",
    "#         Lo7_80 += loss7_80.item()\n",
    "#     Loss7_80.append(Lo7_80 / len(train_loader_80))\n",
    "#     print(i, Loss7_80[-1])"
   ]
  },
  {
   "cell_type": "code",
   "execution_count": 325,
   "id": "b5937c65-a58f-43c5-8389-005d8da2ec79",
   "metadata": {},
   "outputs": [],
   "source": [
    "# Loss7__80 = []\n",
    "# m7_80.init_centroids(train_loader_80)"
   ]
  },
  {
   "cell_type": "code",
   "execution_count": 326,
   "id": "1ef8c54c-3c3a-4d74-bec4-3f21b104067c",
   "metadata": {},
   "outputs": [],
   "source": [
    "# optimizer7_80 = optim.Adam(m7_80.parameters(), lr=1e-4, weight_decay=1e-6)"
   ]
  },
  {
   "cell_type": "code",
   "execution_count": 327,
   "id": "46fdb785-6163-4d38-8f7d-2c31ced1ffec",
   "metadata": {},
   "outputs": [],
   "source": [
    "# m7_80.train()\n",
    "# for i in range(10):\n",
    "#     print(\"train\", i)\n",
    "#     Lo7__80 = 0\n",
    "#     # print(i)\n",
    "#     for f, _,_ in train_loader_80:\n",
    "#         optimizer7_80.zero_grad()\n",
    "#         loss7_1, loss7_2, loss7_3 = m7_80.loss(f.float().cuda())\n",
    "#         loss7 = 10 * loss7_1 + loss7_2 + 10 * loss7_3\n",
    "#         loss7.backward()\n",
    "#         optimizer7_80.step()\n",
    "#         Lo7__80 += loss7.item()\n",
    "#     Loss7__80.append(Lo7__80 / len(train_loader_80))\n",
    "#     print(i, Loss7__80[-1])"
   ]
  },
  {
   "cell_type": "code",
   "execution_count": 907,
   "id": "3c43a140-19ae-4f5c-b7b4-83e0ba8daa45",
   "metadata": {},
   "outputs": [
    {
     "data": {
      "text/plain": [
       "<All keys matched successfully>"
      ]
     },
     "execution_count": 907,
     "metadata": {},
     "output_type": "execute_result"
    }
   ],
   "source": [
    "m7_80.load_state_dict(torch.load(\"para_origin/m7_80.pkl\"))"
   ]
  },
  {
   "cell_type": "code",
   "execution_count": 908,
   "id": "ed362d9a-1d88-4b2b-b5ff-3d3a8792d5e0",
   "metadata": {},
   "outputs": [],
   "source": [
    "torch.save(m7_80.state_dict(), \"results3/m7_80.pkl\")"
   ]
  },
  {
   "cell_type": "code",
   "execution_count": 914,
   "id": "2ceae7c3-6b8c-431f-acd8-7a30e9acf0fd",
   "metadata": {},
   "outputs": [],
   "source": [
    "V7_80 = []\n",
    "V7_80_ = []\n",
    "L7_80 = []\n",
    "m7_80.eval()\n",
    "with torch.no_grad():\n",
    "    for f,_,l in all_loader_80:\n",
    "        v7_80 = m7_80(f.float().cuda())\n",
    "        for i in range(v7_80.shape[0]):\n",
    "            V7_80.append(v7_80[i,-1,:].cpu().detach().numpy())\n",
    "            V7_80_.append(v7_80[i,:,:].cpu().detach().numpy())\n",
    "            L7_80.append(l[i])\n",
    "V7_80 = np.stack(V7_80)\n",
    "V7_80_ = np.stack(V7_80_)\n",
    "L7_80 = np.stack(L7_80).reshape(-1)"
   ]
  },
  {
   "cell_type": "code",
   "execution_count": 915,
   "id": "f8a34d92-0df1-4dba-b3e8-017e97e1b23c",
   "metadata": {},
   "outputs": [],
   "source": [
    "label7_80 = np.argmin(np.sum(np.power(V7_80[:, np.newaxis,:] - m7_80.cluster.detach().cpu().numpy()[np.newaxis,:,:], 2), axis=-1), axis=-1)\n",
    "\n",
    "labels7_80 = np.concatenate([[i] * 80 for i in label7_80])\n",
    "\n",
    "label7_80_ = np.argmin(np.sum(np.power(V7_80_.reshape(-1,16)[:, np.newaxis,:] - m7_80.cluster.detach().cpu().numpy()[np.newaxis,:,:], 2), axis=-1), axis=-1)"
   ]
  },
  {
   "cell_type": "code",
   "execution_count": 916,
   "id": "81846c5a-c72a-4eaf-8e95-e23babad4af1",
   "metadata": {},
   "outputs": [
    {
     "data": {
      "text/plain": [
       "(0.9102941814082552, 0.9135698491155047)"
      ]
     },
     "execution_count": 916,
     "metadata": {},
     "output_type": "execute_result"
    }
   ],
   "source": [
    "np.sum(labels7_80 != L7_80) / len(L7_80), np.sum(label7_80_ != L7_80) / len(L7_80)"
   ]
  },
  {
   "cell_type": "code",
   "execution_count": 917,
   "id": "25e340d5-dfb2-420c-98b8-6e4024d23319",
   "metadata": {},
   "outputs": [],
   "source": [
    "# torch.save(m7_80.state_dict(), \"para_origin/m7_80.pkl\")\n",
    "# np.save(\"resu_origin/lab_7_80.npy\", labels7_80)\n",
    "# np.save(\"resu_origin/tru_7_80.npy\", L7_80)"
   ]
  },
  {
   "cell_type": "code",
   "execution_count": 918,
   "id": "41c522a5-5d1d-4e5d-9bdc-227a914bb03b",
   "metadata": {},
   "outputs": [],
   "source": [
    "np.save(\"results3/m_7_80.npy\", np.stack(V7_80))\n",
    "np.save(\"results3/m_7_80_center.npy\", m7_80.cluster.detach().cpu().numpy())\n",
    "np.save(\"results3/m_7_80_all.npy\", np.stack(V7_80_))\n",
    "np.save(\"results3/tru_7_80.npy\", L7_80)"
   ]
  },
  {
   "cell_type": "markdown",
   "id": "3bdb8562-dae2-422d-b60e-680a5ba5aa1d",
   "metadata": {},
   "source": [
    "### 片段60"
   ]
  },
  {
   "cell_type": "markdown",
   "id": "a8f6b4d3-f4be-4948-a886-3cb5b3f0e580",
   "metadata": {},
   "source": [
    "#### 训练"
   ]
  },
  {
   "cell_type": "code",
   "execution_count": 919,
   "id": "3ba3d296-d268-4a15-8368-7dfdc93943ef",
   "metadata": {},
   "outputs": [],
   "source": [
    "m7_60 = DTC(**params7).cuda()"
   ]
  },
  {
   "cell_type": "code",
   "execution_count": 921,
   "id": "16227675-8acb-4d7b-8b95-51db14acde06",
   "metadata": {},
   "outputs": [],
   "source": [
    "optimizer7_60 = optim.Adam(m7_60.parameters(), lr=1e-3, weight_decay=1e-6)"
   ]
  },
  {
   "cell_type": "code",
   "execution_count": 922,
   "id": "f9c46bfe-9dc5-4547-a0bf-864353693501",
   "metadata": {},
   "outputs": [],
   "source": [
    "Loss7_60 = []"
   ]
  },
  {
   "cell_type": "code",
   "execution_count": 923,
   "id": "208e71c9-cac1-4bbd-83dc-2b2e74bcfe1d",
   "metadata": {},
   "outputs": [
    {
     "name": "stdout",
     "output_type": "stream",
     "text": [
      "0\n",
      "0 3.6708967004503523\n",
      "1\n",
      "1 3.684907981327602\n",
      "2\n",
      "2 3.536820956638881\n",
      "3\n",
      "3 3.638200521469116\n",
      "4\n",
      "4 3.5031088079724992\n",
      "5\n",
      "5 3.596392801829747\n",
      "6\n",
      "6 3.663446835109166\n",
      "7\n",
      "7 3.5541465623038158\n",
      "8\n",
      "8 3.5640580654144287\n",
      "9\n",
      "9 3.5190646648406982\n",
      "10\n",
      "10 3.477837937218802\n",
      "11\n",
      "11 3.5737743377685547\n",
      "12\n",
      "12 3.604029893875122\n",
      "13\n",
      "13 3.5061593736921037\n",
      "14\n",
      "14 3.5707942758287703\n",
      "15\n",
      "15 3.6241963590894426\n",
      "16\n",
      "16 3.6085638999938965\n",
      "17\n",
      "17 3.531268664768764\n",
      "18\n",
      "18 3.5149151597704207\n",
      "19\n",
      "19 3.5758047785077776\n",
      "20\n",
      "20 3.6095210143498013\n",
      "21\n",
      "21 3.6065877165113176\n",
      "22\n",
      "22 3.545387336186\n",
      "23\n",
      "23 3.558757713862828\n",
      "24\n",
      "24 3.5664572715759277\n",
      "25\n",
      "25 3.5155326298304965\n",
      "26\n",
      "26 3.5580848285130093\n",
      "27\n",
      "27 3.612170457839966\n",
      "28\n",
      "28 3.534059592655727\n",
      "29\n",
      "29 3.590317726135254\n",
      "30\n",
      "30 3.5478645052228654\n",
      "31\n",
      "31 3.70340827533177\n",
      "32\n",
      "32 3.4866999898638045\n",
      "33\n",
      "33 3.5089246204921176\n",
      "34\n",
      "34 3.5857835837772916\n",
      "35\n",
      "35 3.6359715461730957\n",
      "36\n",
      "36 3.554575204849243\n",
      "37\n",
      "37 3.5001522472926547\n",
      "38\n",
      "38 3.5213283470698764\n",
      "39\n",
      "39 3.540418897356306\n",
      "40\n",
      "40 3.5191986901419505\n",
      "41\n",
      "41 3.6446222918374196\n",
      "42\n",
      "42 3.5058631215776717\n",
      "43\n",
      "43 3.6611976282937184\n",
      "44\n",
      "44 3.519296850476946\n",
      "45\n",
      "45 3.452027286802019\n",
      "46\n",
      "46 3.568159443991525\n",
      "47\n",
      "47 3.6561645099094937\n",
      "48\n",
      "48 3.5107506002698625\n",
      "49\n",
      "49 3.5866503715515137\n",
      "50\n",
      "50 3.430548940386091\n",
      "51\n",
      "51 3.516085692814418\n",
      "52\n",
      "52 3.679849999291556\n",
      "53\n",
      "53 3.6251700946262906\n",
      "54\n",
      "54 3.4935598032815114\n",
      "55\n",
      "55 3.5124688148498535\n",
      "56\n",
      "56 3.5598885331835066\n",
      "57\n",
      "57 3.535923549107143\n",
      "58\n",
      "58 3.5447431973048618\n",
      "59\n",
      "59 3.568018538611276\n",
      "60\n",
      "60 3.4675204072679793\n",
      "61\n",
      "61 3.570080586842128\n",
      "62\n",
      "62 3.653585910797119\n",
      "63\n",
      "63 3.5193213394709995\n",
      "64\n",
      "64 3.5257957662854875\n",
      "65\n",
      "65 3.471565008163452\n",
      "66\n",
      "66 3.486203738621303\n",
      "67\n",
      "67 3.5010037422180176\n",
      "68\n",
      "68 3.527918611254011\n",
      "69\n",
      "69 3.5314749649592807\n",
      "70\n",
      "70 3.4890619686671664\n",
      "71\n",
      "71 3.552295139857701\n",
      "72\n",
      "72 3.553685801369803\n",
      "73\n",
      "73 3.54113575390407\n",
      "74\n",
      "74 3.6217077459607805\n",
      "75\n",
      "75 3.456489154270717\n",
      "76\n",
      "76 3.531142371041434\n",
      "77\n",
      "77 3.546046188899449\n",
      "78\n",
      "78 3.612898554120745\n",
      "79\n",
      "79 3.55456873348781\n",
      "80\n",
      "80 3.5459639004298618\n",
      "81\n",
      "81 3.45403300012861\n",
      "82\n",
      "82 3.448867150715419\n",
      "83\n",
      "83 3.579604387283325\n",
      "84\n",
      "84 3.549708843231201\n",
      "85\n",
      "85 3.524139268057687\n",
      "86\n",
      "86 3.5306384563446045\n",
      "87\n",
      "87 3.536888292857579\n",
      "88\n",
      "88 3.5423835005078996\n",
      "89\n",
      "89 3.4835209165300642\n",
      "90\n",
      "90 3.510828733444214\n",
      "91\n",
      "91 3.4640555381774902\n",
      "92\n",
      "92 3.5481373923165456\n",
      "93\n",
      "93 3.5016428402491977\n",
      "94\n",
      "94 3.5622123309544156\n",
      "95\n",
      "95 3.526489223752703\n",
      "96\n",
      "96 3.509295804159982\n",
      "97\n",
      "97 3.5714387553078786\n",
      "98\n",
      "98 3.4814353670392717\n",
      "99\n",
      "99 3.4475318023136685\n"
     ]
    }
   ],
   "source": [
    "m7_60.train()\n",
    "for i in range(100):\n",
    "    Lo7_60 = 0\n",
    "    print(i)\n",
    "    for f,_,_ in train_loader_60:\n",
    "        optimizer7_60.zero_grad()\n",
    "        _,loss7_60,_ = m7_60.loss(f.float().cuda())\n",
    "        loss7_60.backward()\n",
    "        optimizer7_60.step()\n",
    "        Lo7_60 += loss7_60.item()\n",
    "    Loss7_60.append(Lo7_60 / len(train_loader_60))\n",
    "    print(i, Loss7_60[-1])"
   ]
  },
  {
   "cell_type": "code",
   "execution_count": 924,
   "id": "ed815d85-1d56-40de-97db-f35b1eff985b",
   "metadata": {},
   "outputs": [],
   "source": [
    "Loss7__60 = []\n",
    "m7_60.init_centroids(train_loader_60)"
   ]
  },
  {
   "cell_type": "code",
   "execution_count": 933,
   "id": "c5939bc9-4acb-4a53-983f-0f72d39c43e6",
   "metadata": {},
   "outputs": [],
   "source": [
    "optimizer7_60 = optim.Adam(m7_60.parameters(), lr=1e-5, weight_decay=1e-6)"
   ]
  },
  {
   "cell_type": "code",
   "execution_count": 934,
   "id": "32ed9d1d-e968-48c7-956d-39c4b1770aff",
   "metadata": {},
   "outputs": [
    {
     "name": "stdout",
     "output_type": "stream",
     "text": [
      "train 0\n",
      "0 23.706896100725448\n",
      "train 1\n",
      "1 23.43231419154576\n",
      "train 2\n",
      "2 23.598148618425643\n",
      "train 3\n",
      "3 23.591060365949357\n",
      "train 4\n",
      "4 23.542666843959264\n",
      "train 5\n",
      "5 23.287957055228098\n",
      "train 6\n",
      "6 23.531969342912948\n",
      "train 7\n",
      "7 23.508146013532365\n",
      "train 8\n",
      "8 23.6398868560791\n",
      "train 9\n",
      "9 23.37938908168248\n"
     ]
    }
   ],
   "source": [
    "m7_60.train()\n",
    "for i in range(10):\n",
    "    print(\"train\", i)\n",
    "    Lo7__60 = 0\n",
    "    # print(i)\n",
    "    for f, _,_ in train_loader_60:\n",
    "        optimizer7_60.zero_grad()\n",
    "        loss7_1, loss7_2, loss7_3 = m7_60.loss(f.float().cuda())\n",
    "        loss7 = 10 * loss7_1 + loss7_2 + 10 * loss7_3\n",
    "        loss7.backward()\n",
    "        optimizer7_60.step()\n",
    "        Lo7__60 += loss7.item()\n",
    "    Loss7__60.append(Lo7__60 / len(train_loader_60))\n",
    "    print(i, Loss7__60[-1])"
   ]
  },
  {
   "cell_type": "code",
   "execution_count": 931,
   "id": "850956a9-3a91-4512-8e81-1d94218fcf7f",
   "metadata": {},
   "outputs": [],
   "source": [
    "# m7_60.load_state_dict(torch.load(\"para_origin/m7_60.pkl\"))"
   ]
  },
  {
   "cell_type": "code",
   "execution_count": 939,
   "id": "8cdc0504-a032-4e57-a343-44041fa5c74c",
   "metadata": {},
   "outputs": [],
   "source": [
    "torch.save(m7_60.state_dict(), \"results3/m7_60.pkl\")"
   ]
  },
  {
   "cell_type": "code",
   "execution_count": 941,
   "id": "911d3653-a32c-484f-81e2-4e5a15c8ac23",
   "metadata": {},
   "outputs": [],
   "source": [
    "V7_60 = []\n",
    "V7_60_ = []\n",
    "L7_60 = []\n",
    "m7_60.eval()\n",
    "with torch.no_grad():\n",
    "    for f,_,l in all_loader_60:\n",
    "        v7_60 = m7_60(f.float().cuda())\n",
    "        for i in range(v7_60.shape[0]):\n",
    "            V7_60.append(v7_60[i,-1,:].cpu().detach().numpy())\n",
    "            V7_60_.append(v7_60[i,:,:].cpu().detach().numpy())\n",
    "            L7_60.append(l[i])\n",
    "V7_60 = np.stack(V7_60)\n",
    "V7_60_ = np.stack(V7_60_)\n",
    "L7_60 = np.stack(L7_60).reshape(-1)"
   ]
  },
  {
   "cell_type": "code",
   "execution_count": 942,
   "id": "61cd8227-c94a-4365-9721-51b486d1d55f",
   "metadata": {},
   "outputs": [],
   "source": [
    "label7_60 = np.argmin(np.sum(np.power(V7_60[:, np.newaxis,:] - m7_60.cluster.detach().cpu().numpy()[np.newaxis,:,:], 2), axis=-1), axis=-1)\n",
    "\n",
    "labels7_60 = np.concatenate([[i] * 60 for i in label7_60])\n",
    "\n",
    "label7_60_ = np.argmin(np.sum(np.power(V7_60_.reshape(-1,16)[:, np.newaxis,:] - m7_60.cluster.detach().cpu().numpy()[np.newaxis,:,:], 2), axis=-1), axis=-1)\n"
   ]
  },
  {
   "cell_type": "code",
   "execution_count": 943,
   "id": "123e3c1d-9a6b-4aa7-8573-4cba6d0147f6",
   "metadata": {},
   "outputs": [
    {
     "data": {
      "text/plain": [
       "(0.894626163179826, 0.8944448042835244)"
      ]
     },
     "execution_count": 943,
     "metadata": {},
     "output_type": "execute_result"
    }
   ],
   "source": [
    "np.sum(labels7_60 == L7_60) / len(L7_60), np.sum(label7_60_ == L7_60) / len(L7_60)"
   ]
  },
  {
   "cell_type": "code",
   "execution_count": 359,
   "id": "1edd57cb-9f7c-47e6-853a-c40a8e44894c",
   "metadata": {},
   "outputs": [],
   "source": [
    "# torch.save(m7_60.state_dict(), \"para_origin/m7_60.pkl\")\n",
    "# np.save(\"resu_origin/lab_7_60.npy\", labels7_60)\n",
    "# np.save(\"resu_origin/tru_7_60.npy\", L7_60)"
   ]
  },
  {
   "cell_type": "code",
   "execution_count": 944,
   "id": "217f8de6-64a4-4e2d-837b-b0c272a3690f",
   "metadata": {},
   "outputs": [],
   "source": [
    "np.save(\"origin_re/m_7_60.npy\", np.stack(V7_60))\n",
    "np.save(\"origin_re/m_7_60_center.npy\", m7_60.cluster.detach().cpu().numpy())\n",
    "np.save(\"origin_re/m_7_60_all.npy\", np.stack(V7_60_))\n",
    "np.save(\"origin_re/tru_7_60.npy\", L7_60)"
   ]
  },
  {
   "cell_type": "markdown",
   "id": "e08a091a-b501-47a5-b8ff-c8ea12149f3f",
   "metadata": {},
   "source": [
    "### 片段40"
   ]
  },
  {
   "cell_type": "markdown",
   "id": "0585e9a5-7bce-4453-a0d0-b3cbe5ffb1d7",
   "metadata": {},
   "source": [
    "#### 训练"
   ]
  },
  {
   "cell_type": "code",
   "execution_count": 945,
   "id": "1fcacf3b-5079-42a8-ba7d-8c34e922fcf8",
   "metadata": {},
   "outputs": [],
   "source": [
    "m7_40 = DTC(**params7).cuda()"
   ]
  },
  {
   "cell_type": "code",
   "execution_count": 362,
   "id": "17024efd-f008-4936-9571-c8ff183bfae6",
   "metadata": {},
   "outputs": [],
   "source": [
    "# optimizer7_40 = optim.Adam(m7_40.parameters(), lr=1e-3, weight_decay=1e-6)"
   ]
  },
  {
   "cell_type": "code",
   "execution_count": 363,
   "id": "74ebef9f-a37a-4fa1-8ad3-0cc8e947a758",
   "metadata": {},
   "outputs": [],
   "source": [
    "# Loss7_40 = []"
   ]
  },
  {
   "cell_type": "code",
   "execution_count": 364,
   "id": "7b96dd9d-4e15-449c-8bd3-64c21b241d8c",
   "metadata": {},
   "outputs": [],
   "source": [
    "# m7_40.train()\n",
    "# for i in range(100):\n",
    "#     Lo7_40 = 0\n",
    "#     print(i)\n",
    "#     for f,_,_ in train_loader_40:\n",
    "#         optimizer7_40.zero_grad()\n",
    "#         _,loss7_40,_ = m7_40.loss(f.float().cuda())\n",
    "#         loss7_40.backward()\n",
    "#         optimizer7_40.step()\n",
    "#         Lo7_40 += loss7_40.item()\n",
    "#     Loss7_40.append(Lo7_40 / len(train_loader_40))\n",
    "#     print(i, Loss7_40[-1])"
   ]
  },
  {
   "cell_type": "code",
   "execution_count": 365,
   "id": "63c62cfb-fad7-4e7d-ac16-750173d70b9c",
   "metadata": {},
   "outputs": [],
   "source": [
    "# Loss7__40 = []\n",
    "# m7_40.init_centroids(train_loader_40)"
   ]
  },
  {
   "cell_type": "code",
   "execution_count": 366,
   "id": "573fafbb-fe94-4155-ab24-46a61a1300df",
   "metadata": {},
   "outputs": [],
   "source": [
    "# optimizer7_40 = optim.Adam(m7_40.parameters(), lr=1e-4, weight_decay=1e-6)"
   ]
  },
  {
   "cell_type": "code",
   "execution_count": 367,
   "id": "b1d6b55f-e5c7-4097-a5ef-167d18437bdd",
   "metadata": {},
   "outputs": [],
   "source": [
    "# m7_40.train()\n",
    "# for i in range(50):\n",
    "#     print(\"train\", i)\n",
    "#     Lo7__40 = 0\n",
    "#     # print(i)\n",
    "#     for f, _,_ in train_loader_40:\n",
    "#         optimizer7_40.zero_grad()\n",
    "#         loss7_1, loss7_2, loss7_3 = m7_40.loss(f.float().cuda())\n",
    "#         loss7 = 10 * loss7_1 + loss7_2 + 10 * loss7_3\n",
    "#         loss7.backward()\n",
    "#         optimizer7_40.step()\n",
    "#         Lo7__40 += loss7.item()\n",
    "#     Loss7__40.append(Lo7__40 / len(train_loader_40))\n",
    "#     print(i, Loss7__40[-1])"
   ]
  },
  {
   "cell_type": "code",
   "execution_count": 946,
   "id": "3f30f4b4-72c4-40b9-b4c5-142234878711",
   "metadata": {},
   "outputs": [
    {
     "data": {
      "text/plain": [
       "<All keys matched successfully>"
      ]
     },
     "execution_count": 946,
     "metadata": {},
     "output_type": "execute_result"
    }
   ],
   "source": [
    "m7_40.load_state_dict(torch.load(\"para_origin/m7_40.pkl\"))"
   ]
  },
  {
   "cell_type": "code",
   "execution_count": 947,
   "id": "6cd36e55-2e42-41f0-b2f5-dee0f4f9c69e",
   "metadata": {},
   "outputs": [],
   "source": [
    "torch.save(m7_40.state_dict(), \"results3/m7_40.pkl\")"
   ]
  },
  {
   "cell_type": "code",
   "execution_count": 952,
   "id": "bbe7462f-9080-4cd0-bced-f3da4e522216",
   "metadata": {},
   "outputs": [],
   "source": [
    "V7_40 = []\n",
    "V7_40_ = []\n",
    "L7_40 = []\n",
    "m7_40.eval()\n",
    "with torch.no_grad():\n",
    "    for f,_,l in all_loader_40:\n",
    "        v7_40 = m7_40(f.float().cuda())\n",
    "        for i in range(v7_40.shape[0]):\n",
    "            V7_40.append(v7_40[i,-1,:].cpu().detach().numpy())\n",
    "            V7_40_.append(v7_40[i,:,:].cpu().detach().numpy())\n",
    "            L7_40.append(l[i])\n",
    "V7_40 = np.stack(V7_40)\n",
    "V7_40_ = np.stack(V7_40_)\n",
    "L7_40 = np.stack(L7_40).reshape(-1)"
   ]
  },
  {
   "cell_type": "code",
   "execution_count": 953,
   "id": "9300169c-a5a9-46a7-bee6-d8fa6442cdc7",
   "metadata": {},
   "outputs": [],
   "source": [
    "label7_40 = np.argmin(np.sum(np.power(V7_40[:, np.newaxis,:] - m7_40.cluster.detach().cpu().numpy()[np.newaxis,:,:], 2), axis=-1), axis=-1)\n",
    "\n",
    "labels7_40 = np.concatenate([[i] * 40 for i in label7_40])\n",
    "\n",
    "label7_40_ = np.argmin(np.sum(np.power(V7_40_.reshape(-1,16)[:, np.newaxis,:] - m7_40.cluster.detach().cpu().numpy()[np.newaxis,:,:], 2), axis=-1), axis=-1)"
   ]
  },
  {
   "cell_type": "code",
   "execution_count": 954,
   "id": "4c632177-5547-4aac-b9e9-4d3091ea67de",
   "metadata": {},
   "outputs": [
    {
     "data": {
      "text/plain": [
       "(0.9036266924564796, 0.9057167418869546)"
      ]
     },
     "execution_count": 954,
     "metadata": {},
     "output_type": "execute_result"
    }
   ],
   "source": [
    "np.sum(labels7_40 != L7_40) / len(L7_40), np.sum(label7_40_ != L7_40) / len(L7_40)"
   ]
  },
  {
   "cell_type": "code",
   "execution_count": 376,
   "id": "9baff94d-7cfe-4a4e-9a30-379a88171535",
   "metadata": {},
   "outputs": [],
   "source": [
    "# torch.save(m7_40.state_dict(), \"para_origin/m7_40.pkl\")\n",
    "# np.save(\"resu_origin/lab_7_40.npy\", labels7_40)\n",
    "# np.save(\"resu_origin/tru_7_40.npy\", L7_40)"
   ]
  },
  {
   "cell_type": "code",
   "execution_count": 955,
   "id": "cb8bb2bc-1f52-4824-83c9-5140892e563e",
   "metadata": {},
   "outputs": [],
   "source": [
    "np.save(\"origin_re/m_7_40.npy\", np.stack(V7_40))\n",
    "np.save(\"origin_re/m_7_40_center.npy\", m7_40.cluster.detach().cpu().numpy())\n",
    "np.save(\"origin_re/m_7_40_all.npy\", np.stack(V7_40_))\n",
    "np.save(\"origin_re/tru_7_40.npy\", L7_40)"
   ]
  },
  {
   "cell_type": "markdown",
   "id": "20418c4b-cd6a-4813-be37-3248d3d5a684",
   "metadata": {},
   "source": [
    "### 片段30"
   ]
  },
  {
   "cell_type": "markdown",
   "id": "7c70cd18-a000-44c6-8502-a1ff8db0f5f6",
   "metadata": {},
   "source": [
    "#### 训练"
   ]
  },
  {
   "cell_type": "code",
   "execution_count": 956,
   "id": "7ca9efa4-ed24-447c-8645-092b7f284fc7",
   "metadata": {},
   "outputs": [],
   "source": [
    "m7_30 = DTC(**params7).cuda()"
   ]
  },
  {
   "cell_type": "code",
   "execution_count": 957,
   "id": "08c9b5fe-b5c9-4b11-9eb4-44968dce8758",
   "metadata": {},
   "outputs": [],
   "source": [
    "# optimizer7_30 = optim.Adam(m7_30.parameters(), lr=1e-4, weight_decay=1e-6)"
   ]
  },
  {
   "cell_type": "code",
   "execution_count": 958,
   "id": "17e9efb9-9e34-47bf-8fd3-7ebd28e8289f",
   "metadata": {},
   "outputs": [],
   "source": [
    "# Loss7_30 = []"
   ]
  },
  {
   "cell_type": "code",
   "execution_count": 959,
   "id": "a415fddd-6de6-495e-9036-2935ae286af0",
   "metadata": {},
   "outputs": [],
   "source": [
    "# m7_30.train()\n",
    "# for i in range(10):\n",
    "#     Lo7_30 = 0\n",
    "#     print(i)\n",
    "#     for f,_,_ in train_loader_30:\n",
    "#         optimizer7_30.zero_grad()\n",
    "#         _,loss7_30,_ = m7_30.loss(f.float().cuda())\n",
    "#         loss7_30.backward()\n",
    "#         optimizer7_30.step()\n",
    "#         Lo7_30 += loss7_30.item()\n",
    "#     Loss7_30.append(Lo7_30 / len(train_loader_30))\n",
    "#     print(i, Loss7_30[-1])"
   ]
  },
  {
   "cell_type": "code",
   "execution_count": 960,
   "id": "e2d0761a-a715-492c-af06-14dc5e5e0fed",
   "metadata": {},
   "outputs": [],
   "source": [
    "# Loss7__30 = []\n",
    "# m7_30.init_centroids(train_loader_30)"
   ]
  },
  {
   "cell_type": "code",
   "execution_count": 961,
   "id": "28fd701f-ffa4-4e8c-83ff-0d2e50beab35",
   "metadata": {},
   "outputs": [],
   "source": [
    "# optimizer7_30 = optim.Adam(m7_30.parameters(), lr=1e-4, weight_decay=1e-6)"
   ]
  },
  {
   "cell_type": "code",
   "execution_count": 962,
   "id": "26b5cf25-cf80-4eb7-a58c-9b48bff4f528",
   "metadata": {},
   "outputs": [],
   "source": [
    "# m7_30.train()\n",
    "# for i in range(10):\n",
    "#     print(\"train\", i)\n",
    "#     Lo7__30 = 0\n",
    "#     # print(i)\n",
    "#     for f, _,_ in train_loader_30:\n",
    "#         optimizer7_30.zero_grad()\n",
    "#         loss7_1, loss7_2, loss7_3 = m7_30.loss(f.float().cuda())\n",
    "#         loss7 = 10 * loss7_1 + loss7_2 + 10 * loss7_3\n",
    "#         loss7.backward()\n",
    "#         optimizer7_30.step()\n",
    "#         Lo7__30 += loss7.item()\n",
    "#     Loss7__30.append(Lo7__30 / len(train_loader_30))\n",
    "#     print(i, Loss7__30[-1])"
   ]
  },
  {
   "cell_type": "code",
   "execution_count": 963,
   "id": "e28ede52-2f8e-4423-a80b-837aaea88a4c",
   "metadata": {},
   "outputs": [
    {
     "data": {
      "text/plain": [
       "<All keys matched successfully>"
      ]
     },
     "execution_count": 963,
     "metadata": {},
     "output_type": "execute_result"
    }
   ],
   "source": [
    "m7_30.load_state_dict(torch.load(\"para_origin/m7_30.pkl\"))"
   ]
  },
  {
   "cell_type": "code",
   "execution_count": 964,
   "id": "9fcd4091-fafc-438f-9263-68500fe701b9",
   "metadata": {},
   "outputs": [],
   "source": [
    "torch.save(m7_30.state_dict(), \"results3/m7_30.pkl\")"
   ]
  },
  {
   "cell_type": "code",
   "execution_count": 969,
   "id": "31e93ee5-eb03-46bf-9655-c6725e76c0a1",
   "metadata": {},
   "outputs": [],
   "source": [
    "V7_30 = []\n",
    "V7_30_ = []\n",
    "L7_30 = []\n",
    "m7_30.eval()\n",
    "with torch.no_grad():\n",
    "    for f,_,l in all_loader_30:\n",
    "        v7_30 = m7_30(f.float().cuda())\n",
    "        for i in range(v7_30.shape[0]):\n",
    "            V7_30.append(v7_30[i,-1,:].cpu().detach().numpy())\n",
    "            V7_30_.append(v7_30[i,:,:].cpu().detach().numpy())\n",
    "            L7_30.append(l[i])\n",
    "V7_30 = np.stack(V7_30)\n",
    "V7_30_ = np.stack(V7_30_)\n",
    "L7_30 = np.stack(L7_30).reshape(-1)"
   ]
  },
  {
   "cell_type": "code",
   "execution_count": 970,
   "id": "fe418366-9b31-492e-a263-4ed63499feda",
   "metadata": {},
   "outputs": [],
   "source": [
    "label7_30 = np.argmin(np.sum(np.power(V7_30[:, np.newaxis,:] - m7_30.cluster.detach().cpu().numpy()[np.newaxis,:,:], 2), axis=-1), axis=-1)\n",
    "\n",
    "labels7_30 = np.concatenate([[i] * 30 for i in label7_30])\n",
    "\n",
    "label7_30_ = np.argmin(np.sum(np.power(V7_30_.reshape(-1,16)[:, np.newaxis,:] - m7_30.cluster.detach().cpu().numpy()[np.newaxis,:,:], 2), axis=-1), axis=-1)"
   ]
  },
  {
   "cell_type": "code",
   "execution_count": 971,
   "id": "62d699b4-2c60-4179-9f6e-c90c4db4cf4d",
   "metadata": {},
   "outputs": [
    {
     "data": {
      "text/plain": [
       "(0.8923259230661991, 0.8930272710699311)"
      ]
     },
     "execution_count": 971,
     "metadata": {},
     "output_type": "execute_result"
    }
   ],
   "source": [
    "np.sum(labels7_30 != L7_30) / len(L7_30), np.sum(label7_30_ != L7_30) / len(L7_30)"
   ]
  },
  {
   "cell_type": "code",
   "execution_count": 389,
   "id": "b4e144c9-ad52-4b00-8d55-1eea90661907",
   "metadata": {},
   "outputs": [],
   "source": [
    "# torch.save(m7_30.state_dict(), \"para_origin/m7_30.pkl\")\n",
    "# np.save(\"resu_origin/lab_7_30.npy\", labels7_30)\n",
    "# np.save(\"resu_origin/tru_7_30.npy\", L7_30)"
   ]
  },
  {
   "cell_type": "code",
   "execution_count": 972,
   "id": "6a42b349-0d78-4c93-91e8-c4ebe8599df7",
   "metadata": {},
   "outputs": [],
   "source": [
    "np.save(\"origin_re/m_7_30.npy\", np.stack(V7_30))\n",
    "np.save(\"origin_re/m_7_30_center.npy\", m7_30.cluster.detach().cpu().numpy())\n",
    "np.save(\"origin_re/m_7_30_all.npy\", np.stack(V7_30_))\n",
    "np.save(\"origin_re/tru_7_30.npy\", L7_30)"
   ]
  },
  {
   "cell_type": "markdown",
   "id": "f2a82c9c-9769-4615-8c8a-cb8a23d7afa9",
   "metadata": {},
   "source": [
    "### 片段20"
   ]
  },
  {
   "cell_type": "markdown",
   "id": "a8f90f74-4c82-4c7a-bd2b-5845dcd446fe",
   "metadata": {},
   "source": [
    "#### 训练"
   ]
  },
  {
   "cell_type": "code",
   "execution_count": 973,
   "id": "30fe2192-4383-4096-8103-7e48807e9637",
   "metadata": {},
   "outputs": [],
   "source": [
    "m7_20 = DTC(**params7).cuda()"
   ]
  },
  {
   "cell_type": "code",
   "execution_count": 974,
   "id": "177d9b96-6a93-426e-b0a0-6a0ab0fc7ec7",
   "metadata": {},
   "outputs": [],
   "source": [
    "# optimizer7_20 = optim.Adam(m7_20.parameters(), lr=1e-3, weight_decay=1e-6)"
   ]
  },
  {
   "cell_type": "code",
   "execution_count": 975,
   "id": "c6906bfa-1c8f-4a53-850c-1988196d8047",
   "metadata": {},
   "outputs": [],
   "source": [
    "# Loss7_20 = []"
   ]
  },
  {
   "cell_type": "code",
   "execution_count": 976,
   "id": "f12e1c78-e73b-45cc-8fd6-4e0e98e18d1e",
   "metadata": {},
   "outputs": [],
   "source": [
    "# m7_20.train()\n",
    "# for i in range(100):\n",
    "#     Lo7_20 = 0\n",
    "#     print(i)\n",
    "#     for f,_,_ in train_loader_20:\n",
    "#         optimizer7_20.zero_grad()\n",
    "#         _,loss7_20,_ = m7_20.loss(f.float().cuda())\n",
    "#         loss7_20.backward()\n",
    "#         optimizer7_20.step()\n",
    "#         Lo7_20 += loss7_20.item()\n",
    "#     Loss7_20.append(Lo7_20 / len(train_loader_20))\n",
    "#     print(i, Loss7_20[-1])"
   ]
  },
  {
   "cell_type": "code",
   "execution_count": 977,
   "id": "5f193fb2-083b-4e47-b9eb-fc5a01ece0e6",
   "metadata": {},
   "outputs": [],
   "source": [
    "# Loss7__20 = []\n",
    "# m7_20.init_centroids(train_loader_20)"
   ]
  },
  {
   "cell_type": "code",
   "execution_count": 978,
   "id": "12d2bd81-987d-4d7a-b22b-d76931c89692",
   "metadata": {},
   "outputs": [],
   "source": [
    "# optimizer7_20 = optim.Adam(m7_20.parameters(), lr=1e-4, weight_decay=1e-6)"
   ]
  },
  {
   "cell_type": "code",
   "execution_count": 979,
   "id": "2059369b-c7e6-4412-8545-5f8ff528458e",
   "metadata": {},
   "outputs": [],
   "source": [
    "# m7_20.train()\n",
    "# for i in range(10):\n",
    "#     print(\"train\", i)\n",
    "#     Lo7__20 = 0\n",
    "#     # print(i)\n",
    "#     for f, _,_ in train_loader_20:\n",
    "#         optimizer7_20.zero_grad()\n",
    "#         loss7_1, loss7_2, loss7_3 = m7_20.loss(f.float().cuda())\n",
    "#         loss7 = 10 * loss7_1 + loss7_2 + 10 * loss7_3\n",
    "#         loss7.backward()\n",
    "#         optimizer7_20.step()\n",
    "#         Lo7__20 += loss7.item()\n",
    "#     Loss7__20.append(Lo7__20 / len(train_loader_20))\n",
    "#     print(i, Loss7__20[-1])"
   ]
  },
  {
   "cell_type": "code",
   "execution_count": 980,
   "id": "3f2a5668-52c9-4354-b7e2-5ea99c79fcc6",
   "metadata": {},
   "outputs": [
    {
     "data": {
      "text/plain": [
       "<All keys matched successfully>"
      ]
     },
     "execution_count": 980,
     "metadata": {},
     "output_type": "execute_result"
    }
   ],
   "source": [
    "m7_20.load_state_dict(torch.load(\"para_origin/m7_20.pkl\"))"
   ]
  },
  {
   "cell_type": "code",
   "execution_count": 981,
   "id": "19b33758-8e0d-4d18-b06e-ec9057d1af06",
   "metadata": {},
   "outputs": [],
   "source": [
    "torch.save(m7_20.state_dict(), \"results3/m7_20.pkl\")"
   ]
  },
  {
   "cell_type": "code",
   "execution_count": 986,
   "id": "3e3aff2a-6bcc-4c6e-acb6-6f9b911bc6ba",
   "metadata": {},
   "outputs": [],
   "source": [
    "V7_20 = []\n",
    "V7_20_ = []\n",
    "L7_20 = []\n",
    "m7_20.eval()\n",
    "with torch.no_grad():\n",
    "    for f,_,l in all_loader_20:\n",
    "        v7_20 = m7_20(f.float().cuda())\n",
    "        for i in range(v7_20.shape[0]):\n",
    "            V7_20.append(v7_20[i,-1,:].cpu().detach().numpy())\n",
    "            V7_20_.append(v7_20[i,:,:].cpu().detach().numpy())\n",
    "            L7_20.append(l[i])\n",
    "V7_20 = np.stack(V7_20)\n",
    "V7_20_ = np.stack(V7_20_)\n",
    "L7_20 = np.stack(L7_20).reshape(-1)"
   ]
  },
  {
   "cell_type": "code",
   "execution_count": 987,
   "id": "17b2e823-3d24-414e-ad65-be40bb4b4673",
   "metadata": {},
   "outputs": [],
   "source": [
    "label7_20 = np.argmin(np.sum(np.power(V7_20[:, np.newaxis,:] - m7_20.cluster.detach().cpu().numpy()[np.newaxis,:,:], 2), axis=-1), axis=-1)\n",
    "\n",
    "labels7_20 = np.concatenate([[i] * 20 for i in label7_20])\n",
    "\n",
    "label7_20_ = np.argmin(np.sum(np.power(V7_20_.reshape(-1,16)[:, np.newaxis,:] - m7_20.cluster.detach().cpu().numpy()[np.newaxis,:,:], 2), axis=-1), axis=-1)"
   ]
  },
  {
   "cell_type": "code",
   "execution_count": 988,
   "id": "650ccea7-ee49-44cd-927e-4501bedc527e",
   "metadata": {},
   "outputs": [
    {
     "data": {
      "text/plain": [
       "(0.9204556154768019, 0.9211907207669919)"
      ]
     },
     "execution_count": 988,
     "metadata": {},
     "output_type": "execute_result"
    }
   ],
   "source": [
    "np.sum(labels7_20 == L7_20) / len(L7_20), np.sum(label7_20_ == L7_20) / len(L7_20)"
   ]
  },
  {
   "cell_type": "code",
   "execution_count": 408,
   "id": "d176d209-39d1-47d2-aa3f-cbb70442fc02",
   "metadata": {},
   "outputs": [],
   "source": [
    "# torch.save(m7_20.state_dict(), \"para_origin/m7_20.pkl\")\n",
    "# np.save(\"resu_origin/lab_7_20.npy\", labels7_20)\n",
    "# np.save(\"resu_origin/tru_7_20.npy\", L7_20)"
   ]
  },
  {
   "cell_type": "code",
   "execution_count": 989,
   "id": "6f741b17-2296-48ec-9a66-3f5de10b91af",
   "metadata": {},
   "outputs": [],
   "source": [
    "np.save(\"results3/m_7_20.npy\", np.stack(V7_20))\n",
    "np.save(\"results3/m_7_20_center.npy\", m7_20.cluster.detach().cpu().numpy())\n",
    "np.save(\"results3/m_7_20_all.npy\", np.stack(V7_20_))\n",
    "np.save(\"results3/tru_7_20.npy\", L7_20)"
   ]
  },
  {
   "cell_type": "markdown",
   "id": "e63fc959-12c5-4972-ab88-7c9bd50954bb",
   "metadata": {},
   "source": [
    "### 片段10"
   ]
  },
  {
   "cell_type": "markdown",
   "id": "4cab2050-b441-4148-a710-74fe8b45e2e9",
   "metadata": {},
   "source": [
    "#### 训练"
   ]
  },
  {
   "cell_type": "code",
   "execution_count": 990,
   "id": "a4000126-7047-4463-80c6-53c900df86be",
   "metadata": {},
   "outputs": [],
   "source": [
    "m7_10 = DTC(**params7).cuda()"
   ]
  },
  {
   "cell_type": "code",
   "execution_count": 991,
   "id": "306e0fb1-0a43-4bbb-b5b8-6922c30e7bef",
   "metadata": {},
   "outputs": [],
   "source": [
    "# optimizer7_10 = optim.Adam(m7_10.parameters(), lr=1e-3, weight_decay=1e-6)"
   ]
  },
  {
   "cell_type": "code",
   "execution_count": 412,
   "id": "e6120f8e-afa5-4ae2-8d0c-3d95e3e2e463",
   "metadata": {},
   "outputs": [],
   "source": [
    "# Loss7_10 = []"
   ]
  },
  {
   "cell_type": "code",
   "execution_count": 413,
   "id": "ff9d4f46-2680-4ca2-aff5-ed372a5e27b9",
   "metadata": {},
   "outputs": [],
   "source": [
    "# m7_10.train()\n",
    "# for i in range(100):\n",
    "#     Lo7_10 = 0\n",
    "#     print(i)\n",
    "#     for f,_,_ in train_loader_10:\n",
    "#         optimizer7_10.zero_grad()\n",
    "#         _,loss7_10,_ = m7_10.loss(f.float().cuda())\n",
    "#         loss7_10.backward()\n",
    "#         optimizer7_10.step()\n",
    "#         Lo7_10 += loss7_10.item()\n",
    "#     Loss7_10.append(Lo7_10 / len(train_loader_10))\n",
    "#     print(i, Loss7_10[-1])"
   ]
  },
  {
   "cell_type": "code",
   "execution_count": 992,
   "id": "b7f98d99-09a0-41d5-b696-01b7e1f97f8d",
   "metadata": {},
   "outputs": [],
   "source": [
    "# Loss7__10 = []\n",
    "# m7_10.init_centroids(train_loader_10)"
   ]
  },
  {
   "cell_type": "code",
   "execution_count": 993,
   "id": "e29433c9-2361-4272-aef3-9917662d678b",
   "metadata": {},
   "outputs": [],
   "source": [
    "# optimizer7_10 = optim.Adam(m7_10.parameters(), lr=1e-4, weight_decay=1e-6)"
   ]
  },
  {
   "cell_type": "code",
   "execution_count": 430,
   "id": "1d6e71c2-bb8c-4bd9-8a90-880951fd2f74",
   "metadata": {},
   "outputs": [
    {
     "name": "stdout",
     "output_type": "stream",
     "text": [
      "train 0\n",
      "0 29.840122875414398\n",
      "train 1\n",
      "1 29.790344790408486\n",
      "train 2\n",
      "2 29.762309626529092\n",
      "train 3\n",
      "3 29.68538851487009\n",
      "train 4\n",
      "4 29.665365269309596\n",
      "train 5\n",
      "5 29.62992959273489\n",
      "train 6\n",
      "6 29.587546499151934\n",
      "train 7\n",
      "7 29.55250082517925\n",
      "train 8\n",
      "8 29.50965560109992\n",
      "train 9\n",
      "9 29.46232459419652\n"
     ]
    }
   ],
   "source": [
    "m7_10.train()\n",
    "for i in range(10):\n",
    "    print(\"train\", i)\n",
    "    Lo7__10 = 0\n",
    "    # print(i)\n",
    "    for f, _,_ in train_loader_10:\n",
    "        optimizer7_10.zero_grad()\n",
    "        loss7_1, loss7_2, loss7_3 = m7_10.loss(f.float().cuda())\n",
    "        loss7 = 10 * loss7_1 + loss7_2 + 10 * loss7_3\n",
    "        loss7.backward()\n",
    "        optimizer7_10.step()\n",
    "        Lo7__10 += loss7.item()\n",
    "    Loss7__10.append(Lo7__10 / len(train_loader_10))\n",
    "    print(i, Loss7__10[-1])"
   ]
  },
  {
   "cell_type": "code",
   "execution_count": 994,
   "id": "c5f146ce-0732-4ca9-8c08-33572a33f2bf",
   "metadata": {},
   "outputs": [
    {
     "data": {
      "text/plain": [
       "<All keys matched successfully>"
      ]
     },
     "execution_count": 994,
     "metadata": {},
     "output_type": "execute_result"
    }
   ],
   "source": [
    "m7_10.load_state_dict(torch.load(\"para_origin/m7_10.pkl\"))"
   ]
  },
  {
   "cell_type": "code",
   "execution_count": 995,
   "id": "8ea7646e-54cf-4220-ac1f-c1c9195bde69",
   "metadata": {},
   "outputs": [],
   "source": [
    "torch.save(m7_10.state_dict(), \"results3/m7_10.pkl\")"
   ]
  },
  {
   "cell_type": "code",
   "execution_count": 1000,
   "id": "fe0724ff-2bad-4a53-99f3-77d4cf76c1f6",
   "metadata": {},
   "outputs": [],
   "source": [
    "V7_10 = []\n",
    "V7_10_ = []\n",
    "L7_10 = []\n",
    "m7_10.eval()\n",
    "with torch.no_grad():\n",
    "    for f,_,l in all_loader_10:\n",
    "        v7_10 = m7_10(f.float().cuda())\n",
    "        for i in range(v7_10.shape[0]):\n",
    "            V7_10.append(v7_10[i,-1,:].cpu().detach().numpy())\n",
    "            V7_10_.append(v7_10[i,:,:].cpu().detach().numpy())\n",
    "            L7_10.append(l[i])\n",
    "V7_10 = np.stack(V7_10)\n",
    "V7_10_ = np.stack(V7_10_)\n",
    "L7_10 = np.stack(L7_10).reshape(-1)"
   ]
  },
  {
   "cell_type": "code",
   "execution_count": 1001,
   "id": "99b3dd65-1315-4e55-91eb-4b8c43bc07bc",
   "metadata": {},
   "outputs": [],
   "source": [
    "label7_10 = np.argmin(np.sum(np.power(V7_10[:, np.newaxis,:] - m7_10.cluster.detach().cpu().numpy()[np.newaxis,:,:], 2), axis=-1), axis=-1)\n",
    "\n",
    "labels7_10 = np.concatenate([[i] * 10 for i in label7_10])\n",
    "\n",
    "label7_10_ = np.argmin(np.sum(np.power(V7_10_.reshape(-1,16)[:, np.newaxis,:] - m7_10.cluster.detach().cpu().numpy()[np.newaxis,:,:], 2), axis=-1), axis=-1)"
   ]
  },
  {
   "cell_type": "code",
   "execution_count": 1002,
   "id": "3f41d2ef-1662-4fc4-92ca-f9e18beb3351",
   "metadata": {},
   "outputs": [
    {
     "data": {
      "text/plain": [
       "(0.9180507958876469, 0.9130096403292445)"
      ]
     },
     "execution_count": 1002,
     "metadata": {},
     "output_type": "execute_result"
    }
   ],
   "source": [
    "np.sum(labels7_10 == L7_10) / len(L7_10), np.sum(label7_10_ == L7_10) / len(L7_10)"
   ]
  },
  {
   "cell_type": "code",
   "execution_count": 428,
   "id": "a0bb9487-6a4a-4ec4-9f06-ab03991d2c83",
   "metadata": {},
   "outputs": [],
   "source": [
    "# torch.save(m7_10.state_dict(), \"para_origin/m7_10.pkl\")\n",
    "# np.save(\"resu_origin/lab_7_10.npy\", labels7_10)\n",
    "# np.save(\"resu_origin/tru_7_10.npy\", L7_10)"
   ]
  },
  {
   "cell_type": "code",
   "execution_count": 1003,
   "id": "70555fb9-68a8-4a9a-af4c-43f8b03d5a5b",
   "metadata": {},
   "outputs": [],
   "source": [
    "np.save(\"results3/m_7_10.npy\", np.stack(V7_10))\n",
    "np.save(\"results3/m_7_10_center.npy\", m7_10.cluster.detach().cpu().numpy())\n",
    "np.save(\"results3/m_7_10_all.npy\", np.stack(V7_10_))\n",
    "np.save(\"results3/tru_7_10.npy\", L7_10)"
   ]
  },
  {
   "cell_type": "markdown",
   "id": "ac31429a-f262-4191-86c2-8b610595e891",
   "metadata": {},
   "source": [
    "## 模型8"
   ]
  },
  {
   "cell_type": "code",
   "execution_count": 1019,
   "id": "2c381eec-9dc8-4b3d-95b9-2a906d763331",
   "metadata": {},
   "outputs": [],
   "source": [
    "params8 = dict(\n",
    "    input_dim=9,\n",
    "    num_channels=[16, 16],\n",
    "    hidden_dim=32,\n",
    "    num_heads=4,\n",
    "    cluster_num=2,\n",
    "    similarity=\"EUC\",\n",
    "    base_type=1,\n",
    "    combination=True\n",
    ")"
   ]
  },
  {
   "cell_type": "markdown",
   "id": "82fb524c-70c7-4526-8693-cff199695549",
   "metadata": {},
   "source": [
    "### 片段100"
   ]
  },
  {
   "cell_type": "markdown",
   "id": "04bf92a4-cdca-4623-b08c-ff447a5dc0c9",
   "metadata": {},
   "source": [
    "#### 训练"
   ]
  },
  {
   "cell_type": "code",
   "execution_count": 1020,
   "id": "3a885f1a-8c9b-4d67-b252-ba33741cb849",
   "metadata": {},
   "outputs": [],
   "source": [
    "params81 = dict(\n",
    "    input_dim=9,\n",
    "    num_channels=[16, 32, 16],\n",
    "    hidden_dim=32,\n",
    "    num_heads=4,\n",
    "    cluster_num=2,\n",
    "    similarity=\"EUC\",\n",
    "    base_type=1,\n",
    "    combination=True\n",
    ")"
   ]
  },
  {
   "cell_type": "code",
   "execution_count": 1021,
   "id": "1834789c-9cd5-4864-8a99-f56c91f77e5c",
   "metadata": {},
   "outputs": [],
   "source": [
    "m8_100 = DTC(**params81).cuda()"
   ]
  },
  {
   "cell_type": "code",
   "execution_count": 1012,
   "id": "d83da1fe-cb5e-41ac-b43e-1610fd261d69",
   "metadata": {},
   "outputs": [],
   "source": [
    "# optimizer8_100 = optim.Adam(m8_100.parameters(), lr=1e-3, weight_decay=1e-10)"
   ]
  },
  {
   "cell_type": "code",
   "execution_count": 1013,
   "id": "a39a51be-435d-4d2b-9d44-2363ed19b055",
   "metadata": {},
   "outputs": [],
   "source": [
    "# Loss8_100 = []"
   ]
  },
  {
   "cell_type": "code",
   "execution_count": 1014,
   "id": "fb53dcf9-a972-4d62-b5b4-f837edeb358a",
   "metadata": {},
   "outputs": [],
   "source": [
    "# m8_100.train()\n",
    "# for i in range(100):\n",
    "#     Lo8_100 = 0\n",
    "#     print(i)\n",
    "#     for f,_,_ in train_loader_100:\n",
    "#         optimizer8_100.zero_grad()\n",
    "#         _,loss8_100,_ = m8_100.loss(f.float().cuda())\n",
    "#         loss8_100.backward()\n",
    "#         optimizer8_100.step()\n",
    "#         Lo8_100 += loss8_100.item()\n",
    "#     Loss8_100.append(Lo8_100 / len(train_loader_100))\n",
    "#     print(i, Loss8_100[-1])"
   ]
  },
  {
   "cell_type": "code",
   "execution_count": 1015,
   "id": "c94605c5-f6a2-46eb-96c4-27d9c78a9b6e",
   "metadata": {},
   "outputs": [],
   "source": [
    "# Loss8__100 = []\n",
    "# m8_100.init_centroids(train_loader_100)"
   ]
  },
  {
   "cell_type": "code",
   "execution_count": 1016,
   "id": "35584130-5249-4991-ad5c-9f9fb78667c6",
   "metadata": {},
   "outputs": [],
   "source": [
    "# optimizer8_100 = optim.Adam(m8_100.parameters(), lr=1e-4, weight_decay=1e-10)"
   ]
  },
  {
   "cell_type": "code",
   "execution_count": 1017,
   "id": "d5ffdd75-30b8-433d-ac00-328200559e64",
   "metadata": {},
   "outputs": [],
   "source": [
    "# m8_100.train()\n",
    "# for i in range(20):\n",
    "#     print(\"train\", i)\n",
    "#     Lo8__100 = 0\n",
    "#     # print(i)\n",
    "#     for f, _,_ in train_loader_100:\n",
    "#         optimizer8_100.zero_grad()\n",
    "#         loss8_1, loss8_2, loss8_3 = m8_100.loss(f.float().cuda())\n",
    "#         loss8 = 10 * loss8_1 + loss8_2 + 10 * loss8_3\n",
    "#         loss8.backward()\n",
    "#         optimizer8_100.step()\n",
    "#         Lo8__100 += loss8.item()\n",
    "#     Loss8__100.append(Lo8__100 / len(train_loader_100))\n",
    "#     print(i, Loss8__100[-1])"
   ]
  },
  {
   "cell_type": "code",
   "execution_count": 1022,
   "id": "01eb6135-53b7-4cc5-8669-939686eb98d8",
   "metadata": {},
   "outputs": [
    {
     "data": {
      "text/plain": [
       "<All keys matched successfully>"
      ]
     },
     "execution_count": 1022,
     "metadata": {},
     "output_type": "execute_result"
    }
   ],
   "source": [
    "m8_100.load_state_dict(torch.load(\"para_origin/m8_100.pkl\"))"
   ]
  },
  {
   "cell_type": "code",
   "execution_count": 1023,
   "id": "5bf72eb4-56ed-40d9-8e2a-c8429c1ed217",
   "metadata": {},
   "outputs": [],
   "source": [
    "torch.save(m8_100.state_dict(), \"results3/m8_100.pkl\")"
   ]
  },
  {
   "cell_type": "code",
   "execution_count": 1028,
   "id": "6b30f6e2-4589-4a30-8762-cfa12be0cf09",
   "metadata": {},
   "outputs": [],
   "source": [
    "V8_100 = []\n",
    "V8_100_ = []\n",
    "L8_100 = []\n",
    "m8_100.eval()\n",
    "with torch.no_grad():\n",
    "    for f,_,l in all_loader_100:\n",
    "        v8_100 = m8_100(f.float().cuda())\n",
    "        for i in range(v8_100.shape[0]):\n",
    "            V8_100.append(v8_100[i,-1,:].cpu().detach().numpy())\n",
    "            V8_100_.append(v8_100[i,:,:].cpu().detach().numpy())\n",
    "            L8_100.append(l[i])\n",
    "V8_100 = np.stack(V8_100)\n",
    "V8_100_ = np.stack(V8_100_)\n",
    "L8_100 = np.stack(L8_100).reshape(-1)"
   ]
  },
  {
   "cell_type": "code",
   "execution_count": 1029,
   "id": "29681f02-b6b8-4040-99b4-ce82dcfc8056",
   "metadata": {},
   "outputs": [],
   "source": [
    "label8_100 = np.argmin(np.sum(np.power(V8_100[:, np.newaxis,:] - m8_100.cluster.detach().cpu().numpy()[np.newaxis,:,:], 2), axis=-1), axis=-1)\n",
    "labels8_100 = np.concatenate([[i] * 100 for i in label8_100])\n",
    "\n",
    "label8_100_ = np.argmin(np.sum(np.power(V8_100_.reshape(-1,16)[:, np.newaxis,:] - m8_100.cluster.detach().cpu().numpy()[np.newaxis,:,:], 2), axis=-1), axis=-1)"
   ]
  },
  {
   "cell_type": "code",
   "execution_count": 1030,
   "id": "d4a4a5fd-db4e-4a4e-a8d3-6878aa239346",
   "metadata": {},
   "outputs": [
    {
     "data": {
      "text/plain": [
       "(0.8937926151835313, 0.8996416512362487)"
      ]
     },
     "execution_count": 1030,
     "metadata": {},
     "output_type": "execute_result"
    }
   ],
   "source": [
    "np.sum(labels8_100 == L8_100) / len(L8_100), np.sum(label8_100_ == L8_100) / len(L8_100)"
   ]
  },
  {
   "cell_type": "code",
   "execution_count": 32,
   "id": "4820d749-e737-4a31-9b40-7ed8e8034dcb",
   "metadata": {},
   "outputs": [],
   "source": [
    "# torch.save(m8_100.state_dict(), \"para_origin/m8_100.pkl\")\n",
    "# np.save(\"resu_origin/lab_8_100.npy\", labels8_100)\n",
    "# np.save(\"resu_origin/tru_8_100.npy\", L8_100)"
   ]
  },
  {
   "cell_type": "code",
   "execution_count": 1031,
   "id": "16819856-f653-4b65-81b8-1d7ec7420564",
   "metadata": {},
   "outputs": [],
   "source": [
    "np.save(\"results3/m_8_100.npy\", np.stack(V8_100))\n",
    "np.save(\"results3/m_8_100_center.npy\", m8_100.cluster.detach().cpu().numpy())\n",
    "np.save(\"results3/m_8_100_all.npy\", np.stack(V8_100_))\n",
    "np.save(\"results3/tru_8_100.npy\", L8_100)"
   ]
  },
  {
   "cell_type": "markdown",
   "id": "6f4a3d6e-e216-4883-9907-5e0c120a91ff",
   "metadata": {},
   "source": [
    "### 片段80"
   ]
  },
  {
   "cell_type": "markdown",
   "id": "0efe8283-12a0-4613-b006-24ad5e9b7b2b",
   "metadata": {},
   "source": [
    "#### 训练"
   ]
  },
  {
   "cell_type": "code",
   "execution_count": 1032,
   "id": "0fad612a-e4ae-4dc9-9550-a1de33c0fadd",
   "metadata": {},
   "outputs": [],
   "source": [
    "m8_80 = DTC(**params8).cuda()"
   ]
  },
  {
   "cell_type": "code",
   "execution_count": 1044,
   "id": "a7e41373-eb1b-4bce-be74-771a612ed222",
   "metadata": {},
   "outputs": [],
   "source": [
    "optimizer8_80 = optim.Adam(m8_80.parameters(), lr=1e-3, weight_decay=1e-6)"
   ]
  },
  {
   "cell_type": "code",
   "execution_count": 1045,
   "id": "37bc9fdf-6cda-4cc1-bae8-19955223e5f3",
   "metadata": {},
   "outputs": [],
   "source": [
    "Loss8_80 = []"
   ]
  },
  {
   "cell_type": "code",
   "execution_count": 1046,
   "id": "3322a57f-c769-4be4-a568-26fc703a554f",
   "metadata": {},
   "outputs": [
    {
     "name": "stdout",
     "output_type": "stream",
     "text": [
      "0\n",
      "0 3.6915391445159913\n",
      "1\n",
      "1 3.7225297927856444\n",
      "2\n",
      "2 3.6350571632385256\n",
      "3\n",
      "3 3.6837016582489013\n",
      "4\n",
      "4 3.6918553352355956\n",
      "5\n",
      "5 3.689515161514282\n",
      "6\n",
      "6 3.667152833938599\n",
      "7\n",
      "7 3.6571403980255126\n",
      "8\n",
      "8 3.65274395942688\n",
      "9\n",
      "9 3.656302070617676\n",
      "10\n",
      "10 3.6419846534729006\n",
      "11\n",
      "11 3.6663665771484375\n",
      "12\n",
      "12 3.6401312351226807\n",
      "13\n",
      "13 3.6453399658203125\n",
      "14\n",
      "14 3.6616204738616944\n",
      "15\n",
      "15 3.655742120742798\n",
      "16\n",
      "16 3.6588018894195558\n",
      "17\n",
      "17 3.6257418632507323\n",
      "18\n",
      "18 3.631911039352417\n",
      "19\n",
      "19 3.6514291286468508\n"
     ]
    }
   ],
   "source": [
    "m8_80.train()\n",
    "for i in range(20):\n",
    "    Lo8_80 = 0\n",
    "    print(i)\n",
    "    for f,_,_ in train_loader_80:\n",
    "        optimizer8_80.zero_grad()\n",
    "        _,loss8_80,_ = m8_80.loss(f.float().cuda())\n",
    "        loss8_80.backward()\n",
    "        optimizer8_80.step()\n",
    "        Lo8_80 += loss8_80.item()\n",
    "    Loss8_80.append(Lo8_80 / len(train_loader_80))\n",
    "    print(i, Loss8_80[-1])"
   ]
  },
  {
   "cell_type": "code",
   "execution_count": 1047,
   "id": "e2042095-e4e9-4e95-84a3-ed45142e1545",
   "metadata": {},
   "outputs": [],
   "source": [
    "Loss8__80 = []\n",
    "m8_80.init_centroids(train_loader_80)"
   ]
  },
  {
   "cell_type": "code",
   "execution_count": 1048,
   "id": "94eba46e-6fbc-4df7-921c-9f8b6ff4902f",
   "metadata": {},
   "outputs": [],
   "source": [
    "optimizer8_80 = optim.Adam(m8_80.parameters(), lr=1e-4, weight_decay=1e-6)"
   ]
  },
  {
   "cell_type": "code",
   "execution_count": 1054,
   "id": "d8899487-ecb1-46cb-96c4-888837d1369e",
   "metadata": {},
   "outputs": [
    {
     "name": "stdout",
     "output_type": "stream",
     "text": [
      "train 0\n",
      "0 22.036985397338867\n",
      "train 1\n",
      "1 21.984739685058592\n",
      "train 2\n",
      "2 21.994092559814455\n",
      "train 3\n",
      "3 21.850332260131836\n",
      "train 4\n",
      "4 21.846411895751952\n",
      "train 5\n",
      "5 21.732990646362303\n",
      "train 6\n",
      "6 21.691002655029298\n",
      "train 7\n",
      "7 21.67252998352051\n",
      "train 8\n",
      "8 21.613021469116212\n",
      "train 9\n",
      "9 21.596163940429687\n"
     ]
    }
   ],
   "source": [
    "m8_80.train()\n",
    "for i in range(10):\n",
    "    print(\"train\", i)\n",
    "    Lo8__80 = 0\n",
    "    # print(i)\n",
    "    for f, _,_ in train_loader_80:\n",
    "        optimizer8_80.zero_grad()\n",
    "        loss8_1, loss8_2, loss8_3 = m8_80.loss(f.float().cuda())\n",
    "        loss8 = 10 * loss8_1 + loss8_2 + 10 * loss8_3\n",
    "        loss8.backward()\n",
    "        optimizer8_80.step()\n",
    "        Lo8__80 += loss8.item()\n",
    "    Loss8__80.append(Lo8__80 / len(train_loader_80))\n",
    "    print(i, Loss8__80[-1])"
   ]
  },
  {
   "cell_type": "code",
   "execution_count": 1059,
   "id": "b0cc2fb9-2bf9-457f-869f-b596e659baa0",
   "metadata": {},
   "outputs": [],
   "source": [
    "# m8_80.load_state_dict(torch.load(\"para_origin/m8_80.pkl\"))"
   ]
  },
  {
   "cell_type": "code",
   "execution_count": 1058,
   "id": "b099bc11-f09a-4e14-af0b-446606ae4dcb",
   "metadata": {},
   "outputs": [],
   "source": [
    "torch.save(m8_80.state_dict(), \"results3/m8_80.pkl\")"
   ]
  },
  {
   "cell_type": "code",
   "execution_count": 1064,
   "id": "f779a033-fbc4-4418-b7f9-2cc192c13893",
   "metadata": {},
   "outputs": [],
   "source": [
    "V8_80 = []\n",
    "V8_80_ = []\n",
    "L8_80 = []\n",
    "m8_80.eval()\n",
    "with torch.no_grad():\n",
    "    for f,_,l in all_loader_80:\n",
    "        v8_80 = m8_80(f.float().cuda())\n",
    "        for i in range(v8_80.shape[0]):\n",
    "            V8_80.append(v8_80[i,-1,:].cpu().detach().numpy())\n",
    "            V8_80_.append(v8_80[i,:,:].cpu().detach().numpy())\n",
    "            L8_80.append(l[i])\n",
    "V8_80 = np.stack(V8_80)\n",
    "V8_80_ = np.stack(V8_80_)\n",
    "L8_80 = np.stack(L8_80).reshape(-1)"
   ]
  },
  {
   "cell_type": "code",
   "execution_count": 1065,
   "id": "bec35ea2-ed57-492b-a478-09e442f299f0",
   "metadata": {},
   "outputs": [],
   "source": [
    "label8_80 = np.argmin(np.sum(np.power(V8_80[:, np.newaxis,:] - m8_80.cluster.detach().cpu().numpy()[np.newaxis,:,:], 2), axis=-1), axis=-1)\n",
    "labels8_80 = np.concatenate([[i] * 80 for i in label8_80])\n",
    "\n",
    "label8_80_ = np.argmin(np.sum(np.power(V8_80_.reshape(-1,16)[:, np.newaxis,:] - m8_80.cluster.detach().cpu().numpy()[np.newaxis,:,:], 2), axis=-1), axis=-1)"
   ]
  },
  {
   "cell_type": "code",
   "execution_count": 1066,
   "id": "b7e19839-7331-4ec2-b9ea-8297b487a848",
   "metadata": {},
   "outputs": [
    {
     "data": {
      "text/plain": [
       "(0.8951406954561221, 0.8986298994103364)"
      ]
     },
     "execution_count": 1066,
     "metadata": {},
     "output_type": "execute_result"
    }
   ],
   "source": [
    "np.sum(labels8_80 != L8_80) / len(L8_80), np.sum(label8_80_ != L8_80) / len(L8_80)"
   ]
  },
  {
   "cell_type": "code",
   "execution_count": 80,
   "id": "d18952c3-2131-4746-a342-6ad27e05259e",
   "metadata": {},
   "outputs": [],
   "source": [
    "# torch.save(m8_80.state_dict(), \"para_origin/m8_80.pkl\")\n",
    "# np.save(\"resu_origin/lab_8_80.npy\", labels8_80)\n",
    "# np.save(\"resu_origin/tru_8_80.npy\", L8_80)"
   ]
  },
  {
   "cell_type": "code",
   "execution_count": 1067,
   "id": "e12d804d-624a-4c6a-90f0-20bca5cfab14",
   "metadata": {},
   "outputs": [],
   "source": [
    "np.save(\"results3/m_8_80.npy\", np.stack(V8_80))\n",
    "np.save(\"results3/m_8_80_center.npy\", m8_80.cluster.detach().cpu().numpy())\n",
    "np.save(\"results3/m_8_80_all.npy\", np.stack(V8_80_))\n",
    "np.save(\"results3/tru_8_80.npy\", L8_80)"
   ]
  },
  {
   "cell_type": "markdown",
   "id": "6b239338-3aa3-475f-8fb3-ce0f8e9df14b",
   "metadata": {},
   "source": [
    "### 片段60"
   ]
  },
  {
   "cell_type": "markdown",
   "id": "a0158069-1c3f-436f-acff-a8f15a17e4d2",
   "metadata": {},
   "source": [
    "#### 训练"
   ]
  },
  {
   "cell_type": "code",
   "execution_count": 1068,
   "id": "92f38573-b95d-44a7-b0ab-801451cae551",
   "metadata": {},
   "outputs": [],
   "source": [
    "m8_60 = DTC(**params8).cuda()"
   ]
  },
  {
   "cell_type": "code",
   "execution_count": 83,
   "id": "00e8088b-9d50-4e48-ad1d-571d6be707c1",
   "metadata": {},
   "outputs": [],
   "source": [
    "# optimizer8_60 = optim.Adam(m8_60.parameters(), lr=1e-3, weight_decay=1e-6)"
   ]
  },
  {
   "cell_type": "code",
   "execution_count": 84,
   "id": "27938956-a72b-41a4-8d94-79b41f0909f1",
   "metadata": {},
   "outputs": [],
   "source": [
    "# Loss8_60 = []"
   ]
  },
  {
   "cell_type": "code",
   "execution_count": 85,
   "id": "5ea6d164-0479-4c07-a58b-13ff15751100",
   "metadata": {},
   "outputs": [],
   "source": [
    "# m8_60.train()\n",
    "# for i in range(100):\n",
    "#     Lo8_60 = 0\n",
    "#     print(i)\n",
    "#     for f,_,_ in train_loader_60:\n",
    "#         optimizer8_60.zero_grad()\n",
    "#         _,loss8_60,_ = m8_60.loss(f.float().cuda())\n",
    "#         loss8_60.backward()\n",
    "#         optimizer8_60.step()\n",
    "#         Lo8_60 += loss8_60.item()\n",
    "#     Loss8_60.append(Lo8_60 / len(train_loader_60))\n",
    "#     print(i, Loss8_60[-1])"
   ]
  },
  {
   "cell_type": "code",
   "execution_count": 86,
   "id": "62500020-48d9-48f0-a2c3-1cc60f7c05eb",
   "metadata": {},
   "outputs": [],
   "source": [
    "# Loss8__60 = []\n",
    "# m8_60.init_centroids(train_loader_60)"
   ]
  },
  {
   "cell_type": "code",
   "execution_count": 87,
   "id": "170bb1ab-c595-4a9d-9ac8-414c2dc321c0",
   "metadata": {},
   "outputs": [],
   "source": [
    "# optimizer8_60 = optim.Adam(m8_60.parameters(), lr=1e-5, weight_decay=1e-6)"
   ]
  },
  {
   "cell_type": "code",
   "execution_count": 88,
   "id": "f13e89be-17a2-4fdf-a8b0-06567822d16d",
   "metadata": {},
   "outputs": [],
   "source": [
    "# m8_60.train()\n",
    "# for i in range(10):\n",
    "#     print(\"train\", i)\n",
    "#     Lo8__60 = 0\n",
    "#     # print(i)\n",
    "#     for f, _,_ in train_loader_60:\n",
    "#         optimizer8_60.zero_grad()\n",
    "#         loss8_1, loss8_2, loss8_3 = m8_60.loss(f.float().cuda())\n",
    "#         loss8 = 10 * loss8_1 + loss8_2 + 10 * loss8_3\n",
    "#         loss8.backward()\n",
    "#         optimizer8_60.step()\n",
    "#         Lo8__60 += loss8.item()\n",
    "#     Loss8__60.append(Lo8__60 / len(train_loader_60))\n",
    "#     print(i, Loss8__60[-1])"
   ]
  },
  {
   "cell_type": "code",
   "execution_count": 1069,
   "id": "2cd202b0-5b21-4335-853e-e572b90ac420",
   "metadata": {},
   "outputs": [
    {
     "data": {
      "text/plain": [
       "<All keys matched successfully>"
      ]
     },
     "execution_count": 1069,
     "metadata": {},
     "output_type": "execute_result"
    }
   ],
   "source": [
    "m8_60.load_state_dict(torch.load(\"para_origin/m8_60.pkl\"))"
   ]
  },
  {
   "cell_type": "code",
   "execution_count": 1081,
   "id": "9e46c70d-98c6-4c72-a007-103293c24258",
   "metadata": {},
   "outputs": [],
   "source": [
    "torch.save(m8_60.state_dict(), \"results3/m8_60.pkl\")"
   ]
  },
  {
   "cell_type": "code",
   "execution_count": 1075,
   "id": "5b515d3d-2e8e-4c5a-9a4b-502f11d0fb7a",
   "metadata": {},
   "outputs": [],
   "source": [
    "V8_60 = []\n",
    "V8_60_ = []\n",
    "L8_60 = []\n",
    "m8_60.eval()\n",
    "with torch.no_grad():\n",
    "    for f,_,l in all_loader_60:\n",
    "        v8_60 = m8_60(f.float().cuda())\n",
    "        for i in range(v8_60.shape[0]):\n",
    "            V8_60.append(v8_60[i,-1,:].cpu().detach().numpy())\n",
    "            V8_60_.append(v8_60[i,:,:].cpu().detach().numpy())\n",
    "            L8_60.append(l[i])\n",
    "V8_60 = np.stack(V8_60)\n",
    "V8_60_ = np.stack(V8_60_)\n",
    "L8_60 = np.stack(L8_60).reshape(-1)"
   ]
  },
  {
   "cell_type": "code",
   "execution_count": 1076,
   "id": "84ce3007-41ed-45f5-9d10-919b48495aed",
   "metadata": {},
   "outputs": [],
   "source": [
    "label8_60 = np.argmin(np.sum(np.power(V8_60[:, np.newaxis,:] - m8_60.cluster.detach().cpu().numpy()[np.newaxis,:,:], 2), axis=-1), axis=-1)\n",
    "labels8_60 = np.concatenate([[i] * 60 for i in label8_60])\n",
    "\n",
    "label8_60_ = np.argmin(np.sum(np.power(V8_60_.reshape(-1,16)[:, np.newaxis,:] - m8_60.cluster.detach().cpu().numpy()[np.newaxis,:,:], 2), axis=-1), axis=-1)"
   ]
  },
  {
   "cell_type": "code",
   "execution_count": 1077,
   "id": "95dde140-43e5-4b83-95b0-cdbc79ae9703",
   "metadata": {},
   "outputs": [
    {
     "data": {
      "text/plain": [
       "(0.8968132651078438, 0.8994127426214996)"
      ]
     },
     "execution_count": 1077,
     "metadata": {},
     "output_type": "execute_result"
    }
   ],
   "source": [
    "np.sum(labels8_60 == L8_60) / len(L8_60), np.sum(label8_60_ == L8_60) / len(L8_60)"
   ]
  },
  {
   "cell_type": "code",
   "execution_count": 1078,
   "id": "c963e8e6-55ca-4f40-8ed9-e05063b0892e",
   "metadata": {},
   "outputs": [],
   "source": [
    "np.save(\"results3/m_8_60.npy\", np.stack(V8_60))\n",
    "np.save(\"results3/m_8_60_center.npy\", m8_60.cluster.detach().cpu().numpy())\n",
    "np.save(\"results3/m_8_60_all.npy\", np.stack(V8_60_))\n",
    "np.save(\"results3/tru_8_60.npy\", L8_60)"
   ]
  },
  {
   "cell_type": "code",
   "execution_count": 95,
   "id": "01a88758-980c-4e2d-a9b3-9dfe687b69af",
   "metadata": {},
   "outputs": [],
   "source": [
    "# torch.save(m8_60.state_dict(), \"para_origin/m8_60.pkl\")\n",
    "# np.save(\"resu_origin/lab_8_60.npy\", labels8_60)\n",
    "# np.save(\"resu_origin/tru_8_60.npy\", L8_60)"
   ]
  },
  {
   "cell_type": "markdown",
   "id": "12d4c94b-d941-4113-81dc-8ac89aac67fe",
   "metadata": {},
   "source": [
    "### 片段40"
   ]
  },
  {
   "cell_type": "markdown",
   "id": "6ffc7421-bfcc-4f7e-8e8c-22fef06e43d3",
   "metadata": {},
   "source": [
    "#### 训练"
   ]
  },
  {
   "cell_type": "code",
   "execution_count": 1157,
   "id": "cc5ab2eb-52f9-4eb5-922b-406a2baba01e",
   "metadata": {},
   "outputs": [],
   "source": [
    "m8_40 = DTC(**params8).cuda()"
   ]
  },
  {
   "cell_type": "code",
   "execution_count": 1158,
   "id": "f10872a6-6721-49c7-99e5-9ce67863c636",
   "metadata": {},
   "outputs": [],
   "source": [
    "optimizer8_40 = optim.Adam(m8_40.parameters(), lr=1e-3, weight_decay=1e-6)"
   ]
  },
  {
   "cell_type": "code",
   "execution_count": 1159,
   "id": "5cd9b2a0-51cc-442c-9f06-745a94d08dab",
   "metadata": {},
   "outputs": [],
   "source": [
    "Loss8_40 = []"
   ]
  },
  {
   "cell_type": "code",
   "execution_count": 1161,
   "id": "0bb74863-cbb2-4354-bbe4-ce33c21b9691",
   "metadata": {},
   "outputs": [
    {
     "name": "stdout",
     "output_type": "stream",
     "text": [
      "0\n",
      "0 3.6837690591812136\n",
      "1\n",
      "1 3.6805558443069457\n",
      "2\n",
      "2 3.6528385400772097\n",
      "3\n",
      "3 3.673092746734619\n",
      "4\n",
      "4 3.6240303039550783\n",
      "5\n",
      "5 3.6814918994903563\n",
      "6\n",
      "6 3.6783679723739624\n",
      "7\n",
      "7 3.648926019668579\n",
      "8\n",
      "8 3.6812311887741087\n",
      "9\n",
      "9 3.603833627700806\n"
     ]
    }
   ],
   "source": [
    "m8_40.train()\n",
    "for i in range(10):\n",
    "    Lo8_40 = 0\n",
    "    print(i)\n",
    "    for f,_,_ in train_loader_40:\n",
    "        optimizer8_40.zero_grad()\n",
    "        _,loss8_40,_ = m8_40.loss(f.float().cuda())\n",
    "        loss8_40.backward()\n",
    "        optimizer8_40.step()\n",
    "        Lo8_40 += loss8_40.item()\n",
    "    Loss8_40.append(Lo8_40 / len(train_loader_40))\n",
    "    print(i, Loss8_40[-1])"
   ]
  },
  {
   "cell_type": "code",
   "execution_count": 1162,
   "id": "001714d7-5897-4ec6-83c1-d6d63890db27",
   "metadata": {},
   "outputs": [],
   "source": [
    "Loss8__40 = []\n",
    "m8_40.init_centroids(train_loader_40)"
   ]
  },
  {
   "cell_type": "code",
   "execution_count": 1163,
   "id": "f247d908-3cb3-40e9-8c56-4eb232ea34e5",
   "metadata": {},
   "outputs": [],
   "source": [
    "optimizer8_40 = optim.Adam(m8_40.parameters(), lr=1e-4, weight_decay=1e-6)"
   ]
  },
  {
   "cell_type": "code",
   "execution_count": 1180,
   "id": "46df9f91-d3d5-41ff-bdeb-3b0e362dfe52",
   "metadata": {},
   "outputs": [
    {
     "name": "stdout",
     "output_type": "stream",
     "text": [
      "train 0\n",
      "0 22.295129013061523\n",
      "train 1\n",
      "1 22.207276916503908\n",
      "train 2\n",
      "2 22.176611328125\n",
      "train 3\n",
      "3 22.210022163391113\n",
      "train 4\n",
      "4 22.099320220947266\n",
      "train 5\n",
      "5 22.032995986938477\n",
      "train 6\n",
      "6 22.022671699523926\n",
      "train 7\n",
      "7 21.99158134460449\n",
      "train 8\n",
      "8 21.91714687347412\n",
      "train 9\n",
      "9 21.974028015136717\n"
     ]
    }
   ],
   "source": [
    "m8_40.train()\n",
    "for i in range(10):\n",
    "    print(\"train\", i)\n",
    "    Lo8__40 = 0\n",
    "    # print(i)\n",
    "    for f, _,_ in train_loader_40:\n",
    "        optimizer8_40.zero_grad()\n",
    "        loss8_1, loss8_2, loss8_3 = m8_40.loss(f.float().cuda())\n",
    "        loss8 = 10 * loss8_1 + loss8_2 + 10 * loss8_3\n",
    "        loss8.backward()\n",
    "        optimizer8_40.step()\n",
    "        Lo8__40 += loss8.item()\n",
    "    Loss8__40.append(Lo8__40 / len(train_loader_40))\n",
    "    print(i, Loss8__40[-1])"
   ]
  },
  {
   "cell_type": "code",
   "execution_count": 1179,
   "id": "53d18ac9-c9a6-49dc-b07c-6f2470a135e7",
   "metadata": {},
   "outputs": [],
   "source": [
    "# m8_40.load_state_dict(torch.load(\"para_origin/m8_40.pkl\"))"
   ]
  },
  {
   "cell_type": "code",
   "execution_count": 1178,
   "id": "20450e20-36c3-4b16-a519-812464b79350",
   "metadata": {},
   "outputs": [],
   "source": [
    "torch.save(m8_40.state_dict(), \"results3/m8_40.pkl\")"
   ]
  },
  {
   "cell_type": "code",
   "execution_count": 1185,
   "id": "7694f6a3-870b-41fa-a8e2-99ac6dd332f9",
   "metadata": {},
   "outputs": [],
   "source": [
    "V8_40 = []\n",
    "V8_40_ = []\n",
    "L8_40 = []\n",
    "m8_40.eval()\n",
    "with torch.no_grad():\n",
    "    for f,_,l in all_loader_40:\n",
    "        v8_40 = m8_40(f.float().cuda())\n",
    "        for i in range(v8_40.shape[0]):\n",
    "            V8_40.append(v8_40[i,-1,:].cpu().detach().numpy())\n",
    "            V8_40_.append(v8_40[i,:,:].cpu().detach().numpy())\n",
    "            L8_40.append(l[i])\n",
    "V8_40 = np.stack(V8_40)\n",
    "V8_40_ = np.stack(V8_40_)\n",
    "L8_40 = np.stack(L8_40).reshape(-1)"
   ]
  },
  {
   "cell_type": "code",
   "execution_count": 1186,
   "id": "287d6d68-fcad-4924-af20-64edb6a5f420",
   "metadata": {},
   "outputs": [],
   "source": [
    "label8_40 = np.argmin(np.sum(np.power(V8_40[:, np.newaxis,:] - m8_40.cluster.detach().cpu().numpy()[np.newaxis,:,:], 2), axis=-1), axis=-1)\n",
    "labels8_40 = np.concatenate([[i] * 40 for i in label8_40])\n",
    "label8_40_ = np.argmin(np.sum(np.power(V8_40_.reshape(-1,16)[:, np.newaxis,:] - m8_40.cluster.detach().cpu().numpy()[np.newaxis,:,:], 2), axis=-1), axis=-1)"
   ]
  },
  {
   "cell_type": "code",
   "execution_count": 1187,
   "id": "dd18a5d1-abbd-4507-8b6c-92480ee730d7",
   "metadata": {},
   "outputs": [
    {
     "data": {
      "text/plain": [
       "(0.9062228669675478, 0.9083634214485279)"
      ]
     },
     "execution_count": 1187,
     "metadata": {},
     "output_type": "execute_result"
    }
   ],
   "source": [
    "np.sum(labels8_40 == L8_40) / len(L8_40), np.sum(label8_40_ == L8_40) / len(L8_40)"
   ]
  },
  {
   "cell_type": "code",
   "execution_count": 109,
   "id": "88e72799-d1d9-41d2-9065-be95082e9dd2",
   "metadata": {},
   "outputs": [],
   "source": [
    "# torch.save(m8_40.state_dict(), \"para_origin/m8_40.pkl\")\n",
    "# np.save(\"resu_origin/lab_8_40.npy\", labels8_40)\n",
    "# np.save(\"resu_origin/tru_8_40.npy\", L8_40)"
   ]
  },
  {
   "cell_type": "code",
   "execution_count": 1188,
   "id": "038d2145-845a-42fc-9d94-ed68fbfd94a5",
   "metadata": {},
   "outputs": [],
   "source": [
    "np.save(\"results3/m_8_40.npy\", np.stack(V8_40))\n",
    "np.save(\"results3/m_8_40_center.npy\", m8_40.cluster.detach().cpu().numpy())\n",
    "np.save(\"results3/m_8_40_all.npy\", np.stack(V8_40_))\n",
    "np.save(\"results3/tru_8_40.npy\", L8_40)"
   ]
  },
  {
   "cell_type": "markdown",
   "id": "a7cb7742-3ca1-4d97-b260-af340f9cd17a",
   "metadata": {},
   "source": [
    "### 片段30"
   ]
  },
  {
   "cell_type": "markdown",
   "id": "d8798206-53c6-45a0-9931-2b5eeb03e35b",
   "metadata": {},
   "source": [
    "#### 训练"
   ]
  },
  {
   "cell_type": "code",
   "execution_count": 1089,
   "id": "23eb3439-4a87-44c3-9bc3-c8419d65570c",
   "metadata": {},
   "outputs": [],
   "source": [
    "m8_30 = DTC(**params8).cuda()"
   ]
  },
  {
   "cell_type": "code",
   "execution_count": 112,
   "id": "963f8132-f293-43d9-a110-a548996bf835",
   "metadata": {},
   "outputs": [],
   "source": [
    "# optimizer8_30 = optim.Adam(m8_30.parameters(), lr=1e-3, weight_decay=1e-6)"
   ]
  },
  {
   "cell_type": "code",
   "execution_count": 113,
   "id": "e809e404-bd8e-47ec-8d9f-3f8f99ed1ecf",
   "metadata": {},
   "outputs": [],
   "source": [
    "# Loss8_30 = []"
   ]
  },
  {
   "cell_type": "code",
   "execution_count": 114,
   "id": "eb5909b5-cd16-4af2-a9b0-5a8459a54b48",
   "metadata": {},
   "outputs": [],
   "source": [
    "# m8_30.train()\n",
    "# for i in range(100):\n",
    "#     Lo8_30 = 0\n",
    "#     print(i)\n",
    "#     for f,_,_ in train_loader_30:\n",
    "#         optimizer8_30.zero_grad()\n",
    "#         _,loss8_30,_ = m8_30.loss(f.float().cuda())\n",
    "#         loss8_30.backward()\n",
    "#         optimizer8_30.step()\n",
    "#         Lo8_30 += loss8_30.item()\n",
    "#     Loss8_30.append(Lo8_30 / len(train_loader_30))\n",
    "#     print(i, Loss8_30[-1])"
   ]
  },
  {
   "cell_type": "code",
   "execution_count": 115,
   "id": "d33a2645-6eb6-435a-9154-d2371194436d",
   "metadata": {},
   "outputs": [],
   "source": [
    "# Loss8__30 = []\n",
    "# m8_30.init_centroids(train_loader_30)"
   ]
  },
  {
   "cell_type": "code",
   "execution_count": 116,
   "id": "134f5bb5-154d-4dae-a0fe-f0ef33b013ab",
   "metadata": {},
   "outputs": [],
   "source": [
    "# optimizer8_30 = optim.Adam(m8_30.parameters(), lr=1e-4, weight_decay=1e-6)"
   ]
  },
  {
   "cell_type": "code",
   "execution_count": 117,
   "id": "259395dd-c568-4eea-bd4c-27fec3117755",
   "metadata": {},
   "outputs": [],
   "source": [
    "# m8_30.train()\n",
    "# for i in range(20):\n",
    "#     print(\"train\", i)\n",
    "#     Lo8__30 = 0\n",
    "#     # print(i)\n",
    "#     for f, _,_ in train_loader_30:\n",
    "#         optimizer8_30.zero_grad()\n",
    "#         loss8_1, loss8_2, loss8_3 = m8_30.loss(f.float().cuda())\n",
    "#         loss8 = 10 * loss8_1 + loss8_2 + 10 * loss8_3\n",
    "#         loss8.backward()\n",
    "#         optimizer8_30.step()\n",
    "#         Lo8__30 += loss8.item()\n",
    "#     Loss8__30.append(Lo8__30 / len(train_loader_30))\n",
    "#     print(i, Loss8__30[-1])"
   ]
  },
  {
   "cell_type": "code",
   "execution_count": 1090,
   "id": "0d1e18f9-3d31-4238-b0a2-fddc9f80daa4",
   "metadata": {},
   "outputs": [
    {
     "data": {
      "text/plain": [
       "<All keys matched successfully>"
      ]
     },
     "execution_count": 1090,
     "metadata": {},
     "output_type": "execute_result"
    }
   ],
   "source": [
    "m8_30.load_state_dict(torch.load(\"para_origin/m8_30.pkl\"))"
   ]
  },
  {
   "cell_type": "code",
   "execution_count": 1091,
   "id": "fe507bec-4210-4439-abc1-cf387afadfbf",
   "metadata": {},
   "outputs": [],
   "source": [
    "torch.save(m8_30.state_dict(), \"results3/m8_30.pkl\")"
   ]
  },
  {
   "cell_type": "code",
   "execution_count": 1096,
   "id": "46de29c8-29e6-44d1-80a6-57f4614530df",
   "metadata": {},
   "outputs": [],
   "source": [
    "V8_30 = []\n",
    "V8_30_ = []\n",
    "L8_30 = []\n",
    "m8_30.eval()\n",
    "with torch.no_grad():\n",
    "    for f,_,l in all_loader_30:\n",
    "        v8_30 = m8_30(f.float().cuda())\n",
    "        for i in range(v8_30.shape[0]):\n",
    "            V8_30.append(v8_30[i,-1,:].cpu().detach().numpy())\n",
    "            V8_30_.append(v8_30[i,:,:].cpu().detach().numpy())\n",
    "            L8_30.append(l[i])\n",
    "V8_30 = np.stack(V8_30)\n",
    "V8_30_ = np.stack(V8_30_)\n",
    "L8_30 = np.stack(L8_30).reshape(-1)"
   ]
  },
  {
   "cell_type": "code",
   "execution_count": 1097,
   "id": "2b97a131-2064-487c-b4df-bbfbaa9e0cea",
   "metadata": {},
   "outputs": [],
   "source": [
    "label8_30 = np.argmin(np.sum(np.power(V8_30[:, np.newaxis,:] - m8_30.cluster.detach().cpu().numpy()[np.newaxis,:,:], 2), axis=-1), axis=-1)\n",
    "labels8_30 = np.concatenate([[i] * 30 for i in label8_30])\n",
    "\n",
    "label8_30_ = np.argmin(np.sum(np.power(V8_30_.reshape(-1,16)[:, np.newaxis,:] - m8_30.cluster.detach().cpu().numpy()[np.newaxis,:,:], 2), axis=-1), axis=-1)"
   ]
  },
  {
   "cell_type": "code",
   "execution_count": 1098,
   "id": "5cd4c01e-4eb8-4926-9f25-11201497c7cf",
   "metadata": {},
   "outputs": [
    {
     "data": {
      "text/plain": [
       "(0.9090038499072376, 0.909380261450525)"
      ]
     },
     "execution_count": 1098,
     "metadata": {},
     "output_type": "execute_result"
    }
   ],
   "source": [
    "np.sum(labels8_30 != L8_30) / len(L8_30), np.sum(label8_30_ != L8_30) / len(L8_30)"
   ]
  },
  {
   "cell_type": "code",
   "execution_count": 1099,
   "id": "8c8efb5c-b76b-4047-8784-82d111e9e21b",
   "metadata": {},
   "outputs": [],
   "source": [
    "np.save(\"results3/m_8_30.npy\", np.stack(V8_30))\n",
    "np.save(\"results3/m_8_30_center.npy\", m8_30.cluster.detach().cpu().numpy())\n",
    "np.save(\"results3/m_8_30_all.npy\", np.stack(V8_30_))\n",
    "np.save(\"results3/tru_8_30.npy\", L8_30)"
   ]
  },
  {
   "cell_type": "code",
   "execution_count": 124,
   "id": "4c79c4cd-8fa6-4217-900b-98a3cea781f2",
   "metadata": {},
   "outputs": [],
   "source": [
    "# torch.save(m8_30.state_dict(), \"para_origin/m8_30.pkl\")\n",
    "# np.save(\"resu_origin/lab_8_30.npy\", labels8_30)\n",
    "# np.save(\"resu_origin/tru_8_30.npy\", L8_30)"
   ]
  },
  {
   "cell_type": "markdown",
   "id": "bbae9fb2-d9c2-4c9c-aae1-306771da68a3",
   "metadata": {},
   "source": [
    "### 片段20"
   ]
  },
  {
   "cell_type": "markdown",
   "id": "d87902d3-ebfa-4bcd-84d5-9ee9d26df047",
   "metadata": {},
   "source": [
    "#### 训练"
   ]
  },
  {
   "cell_type": "code",
   "execution_count": 1100,
   "id": "17a23d5e-41f4-4696-8e89-7e99277ddb96",
   "metadata": {},
   "outputs": [],
   "source": [
    "m8_20 = DTC(**params8).cuda()"
   ]
  },
  {
   "cell_type": "code",
   "execution_count": 126,
   "id": "c4788a71-a8b4-4fa0-85a9-f62c22fb0f74",
   "metadata": {},
   "outputs": [],
   "source": [
    "# optimizer8_20 = optim.Adam(m8_20.parameters(), lr=1e-3, weight_decay=1e-6)"
   ]
  },
  {
   "cell_type": "code",
   "execution_count": 127,
   "id": "ee28d91b-008e-474c-8570-74f43c02cabb",
   "metadata": {},
   "outputs": [],
   "source": [
    "# Loss8_20 = []"
   ]
  },
  {
   "cell_type": "code",
   "execution_count": 128,
   "id": "c45abec5-613a-405c-ae14-b007d5a6eb49",
   "metadata": {},
   "outputs": [],
   "source": [
    "# m8_20.train()\n",
    "# for i in range(100):\n",
    "#     Lo8_20 = 0\n",
    "#     print(i)\n",
    "#     for f,_,_ in train_loader_20:\n",
    "#         optimizer8_20.zero_grad()\n",
    "#         _,loss8_20,_ = m8_20.loss(f.float().cuda())\n",
    "#         loss8_20.backward()\n",
    "#         optimizer8_20.step()\n",
    "#         Lo8_20 += loss8_20.item()\n",
    "#     Loss8_20.append(Lo8_20 / len(train_loader_20))\n",
    "#     print(i, Loss8_20[-1])"
   ]
  },
  {
   "cell_type": "code",
   "execution_count": 129,
   "id": "880d9987-faab-4e5b-8cb9-7e48cf2e0deb",
   "metadata": {},
   "outputs": [],
   "source": [
    "# Loss8__20 = []\n",
    "# m8_20.init_centroids(train_loader_20)"
   ]
  },
  {
   "cell_type": "code",
   "execution_count": 130,
   "id": "e2e4d751-924c-4c6b-a1b4-7a5d31c1308d",
   "metadata": {},
   "outputs": [],
   "source": [
    "# optimizer8_20 = optim.Adam(m8_20.parameters(), lr=1e-5, weight_decay=1e-6)"
   ]
  },
  {
   "cell_type": "code",
   "execution_count": 131,
   "id": "6fb676c8-67e8-4350-9757-6f1fb9bd76e2",
   "metadata": {},
   "outputs": [],
   "source": [
    "# m8_20.train()\n",
    "# for i in range(20):\n",
    "#     print(\"train\", i)\n",
    "#     Lo8__20 = 0\n",
    "#     # print(i)\n",
    "#     for f, _,_ in train_loader_20:\n",
    "#         optimizer8_20.zero_grad()\n",
    "#         loss8_1, loss8_2, loss8_3 = m8_20.loss(f.float().cuda())\n",
    "#         loss8 = 10 * loss8_1 + loss8_2 + 10 * loss8_3\n",
    "#         loss8.backward()\n",
    "#         optimizer8_20.step()\n",
    "#         Lo8__20 += loss8.item()\n",
    "#     Loss8__20.append(Lo8__20 / len(train_loader_20))\n",
    "#     print(i, Loss8__20[-1])"
   ]
  },
  {
   "cell_type": "code",
   "execution_count": 1101,
   "id": "39d1644c-5797-4e85-a60b-f814636f10e8",
   "metadata": {},
   "outputs": [
    {
     "data": {
      "text/plain": [
       "<All keys matched successfully>"
      ]
     },
     "execution_count": 1101,
     "metadata": {},
     "output_type": "execute_result"
    }
   ],
   "source": [
    "m8_20.load_state_dict(torch.load(\"para_origin/m8_20.pkl\"))"
   ]
  },
  {
   "cell_type": "code",
   "execution_count": 1102,
   "id": "48d12246-6788-4ade-8fcc-f40accf4edbe",
   "metadata": {},
   "outputs": [],
   "source": [
    "torch.save(m8_20.state_dict(), \"results3/m8_20.pkl\")"
   ]
  },
  {
   "cell_type": "code",
   "execution_count": 1107,
   "id": "aafefc9e-2d40-4ebe-98bc-70949a952fac",
   "metadata": {},
   "outputs": [],
   "source": [
    "V8_20 = []\n",
    "V8_20_ = []\n",
    "L8_20 = []\n",
    "m8_20.eval()\n",
    "with torch.no_grad():\n",
    "    for f,_,l in all_loader_20:\n",
    "        v8_20 = m8_20(f.float().cuda())\n",
    "        for i in range(v8_20.shape[0]):\n",
    "            V8_20.append(v8_20[i,-1,:].cpu().detach().numpy())\n",
    "            V8_20_.append(v8_20[i,:,:].cpu().detach().numpy())\n",
    "            L8_20.append(l[i])\n",
    "V8_20 = np.stack(V8_20)\n",
    "V8_20_ = np.stack(V8_20_)\n",
    "L8_20 = np.stack(L8_20).reshape(-1)"
   ]
  },
  {
   "cell_type": "code",
   "execution_count": 1108,
   "id": "b04aec99-d5c7-4b3c-8a5d-b952f7eb6730",
   "metadata": {},
   "outputs": [],
   "source": [
    "label8_20 = np.argmin(np.sum(np.power(V8_20[:, np.newaxis,:] - m8_20.cluster.detach().cpu().numpy()[np.newaxis,:,:], 2), axis=-1), axis=-1)\n",
    "labels8_20 = np.concatenate([[i] * 20 for i in label8_20])\n",
    "\n",
    "label8_20_ = np.argmin(np.sum(np.power(V8_20_.reshape(-1,16)[:, np.newaxis,:] - m8_20.cluster.detach().cpu().numpy()[np.newaxis,:,:], 2), axis=-1), axis=-1)"
   ]
  },
  {
   "cell_type": "code",
   "execution_count": 1109,
   "id": "0c442474-b01e-4cb0-b436-73231e9734c9",
   "metadata": {},
   "outputs": [
    {
     "data": {
      "text/plain": [
       "(0.09898454887861667, 0.09791666666666667)"
      ]
     },
     "execution_count": 1109,
     "metadata": {},
     "output_type": "execute_result"
    }
   ],
   "source": [
    "np.sum(labels8_20 == L8_20) / len(L8_20),np.sum(label8_20_ == L8_20) / len(L8_20)"
   ]
  },
  {
   "cell_type": "code",
   "execution_count": 1110,
   "id": "1cae829a-d800-47f9-adc6-fb98f828c3a0",
   "metadata": {},
   "outputs": [],
   "source": [
    "np.save(\"results3/m_8_20.npy\", np.stack(V8_20))\n",
    "np.save(\"results3/m_8_20_center.npy\", m8_20.cluster.detach().cpu().numpy())\n",
    "np.save(\"results3/m_8_20_all.npy\", np.stack(V8_20_))\n",
    "np.save(\"results3/tru_8_20.npy\", L8_20)"
   ]
  },
  {
   "cell_type": "code",
   "execution_count": 138,
   "id": "f9484c1c-f2b9-44d2-9d77-46527ea7d723",
   "metadata": {},
   "outputs": [],
   "source": [
    "# torch.save(m8_20.state_dict(), \"para_origin/m8_20.pkl\")\n",
    "# np.save(\"resu_origin/lab_8_20.npy\", labels8_20)\n",
    "# np.save(\"resu_origin/tru_8_20.npy\", L8_20)"
   ]
  },
  {
   "cell_type": "markdown",
   "id": "29c1f9ec-2d56-4ce8-9de0-dd31d94415b9",
   "metadata": {},
   "source": [
    "### 片段10"
   ]
  },
  {
   "cell_type": "markdown",
   "id": "1ecefee1-7a3e-4c52-835d-c2f1c24c138a",
   "metadata": {},
   "source": [
    "#### 训练"
   ]
  },
  {
   "cell_type": "code",
   "execution_count": 1111,
   "id": "db4ae7ec-f8c2-4577-b0aa-4242e8c7c8e7",
   "metadata": {},
   "outputs": [],
   "source": [
    "m8_10 = DTC(**params8).cuda()"
   ]
  },
  {
   "cell_type": "code",
   "execution_count": 1123,
   "id": "91b899ae-174b-4b15-baa7-3c5ab21c6ede",
   "metadata": {},
   "outputs": [],
   "source": [
    "optimizer8_10 = optim.Adam(m8_10.parameters(), lr=1e-3, weight_decay=1e-6)"
   ]
  },
  {
   "cell_type": "code",
   "execution_count": 1124,
   "id": "f758cc6e-70ed-4976-8c5a-b1920c48140b",
   "metadata": {},
   "outputs": [],
   "source": [
    "Loss8_10 = []"
   ]
  },
  {
   "cell_type": "code",
   "execution_count": 1129,
   "id": "c62f1669-9105-4173-993b-a0a204099efe",
   "metadata": {},
   "outputs": [
    {
     "name": "stdout",
     "output_type": "stream",
     "text": [
      "0\n",
      "0 3.576621049328854\n",
      "1\n",
      "1 3.5736146977073266\n",
      "2\n",
      "2 3.564556272406327\n",
      "3\n",
      "3 3.5643749738994397\n",
      "4\n",
      "4 3.5656462845049406\n",
      "5\n",
      "5 3.559080274481522\n",
      "6\n",
      "6 3.5525950067921688\n",
      "7\n",
      "7 3.5540599132839\n",
      "8\n",
      "8 3.5627776070644983\n",
      "9\n",
      "9 3.5637620373776087\n"
     ]
    }
   ],
   "source": [
    "m8_10.train()\n",
    "for i in range(10):\n",
    "    Lo8_10 = 0\n",
    "    print(i)\n",
    "    for f,_,_ in train_loader_10:\n",
    "        optimizer8_10.zero_grad()\n",
    "        _,loss8_10,_ = m8_10.loss(f.float().cuda())\n",
    "        loss8_10.backward()\n",
    "        optimizer8_10.step()\n",
    "        Lo8_10 += loss8_10.item()\n",
    "    Loss8_10.append(Lo8_10 / len(train_loader_10))\n",
    "    print(i, Loss8_10[-1])"
   ]
  },
  {
   "cell_type": "code",
   "execution_count": 1133,
   "id": "d6c3f1fe-a0be-4aac-8f3b-93cf42cc9c14",
   "metadata": {},
   "outputs": [],
   "source": [
    "Loss8__10 = []\n",
    "m8_10.init_centroids(train_loader_10)"
   ]
  },
  {
   "cell_type": "code",
   "execution_count": 1134,
   "id": "857f9edf-679e-40b0-856c-0273e83d032d",
   "metadata": {},
   "outputs": [],
   "source": [
    "optimizer8_10 = optim.Adam(m8_10.parameters(), lr=1e-4, weight_decay=1e-6)"
   ]
  },
  {
   "cell_type": "code",
   "execution_count": 1135,
   "id": "ea70955e-f381-4bd9-a622-6ea161c4b6e5",
   "metadata": {},
   "outputs": [
    {
     "name": "stdout",
     "output_type": "stream",
     "text": [
      "train 0\n",
      "0 31.749215176230983\n",
      "train 1\n",
      "1 31.26348530618768\n",
      "train 2\n",
      "2 30.82835659227873\n",
      "train 3\n",
      "3 31.612926282380755\n",
      "train 4\n",
      "4 31.505449495817487\n",
      "train 5\n",
      "5 31.44054307435688\n",
      "train 6\n",
      "6 31.322871208190918\n",
      "train 7\n",
      "7 31.1388837412784\n",
      "train 8\n",
      "8 30.931367673371966\n",
      "train 9\n",
      "9 31.049267266926012\n"
     ]
    }
   ],
   "source": [
    "m8_10.train()\n",
    "for i in range(10):\n",
    "    print(\"train\", i)\n",
    "    Lo8__10 = 0\n",
    "    # print(i)\n",
    "    for f, _,_ in train_loader_10:\n",
    "        optimizer8_10.zero_grad()\n",
    "        loss8_1, loss8_2, loss8_3 = m8_10.loss(f.float().cuda())\n",
    "        loss8 = 10 * loss8_1 + loss8_2 + 10 * loss8_3\n",
    "        loss8.backward()\n",
    "        optimizer8_10.step()\n",
    "        Lo8__10 += loss8.item()\n",
    "    Loss8__10.append(Lo8__10 / len(train_loader_10))\n",
    "    print(i, Loss8__10[-1])"
   ]
  },
  {
   "cell_type": "code",
   "execution_count": 1139,
   "id": "e59430b0-5b56-4533-9712-32e54a0b4a7c",
   "metadata": {},
   "outputs": [
    {
     "data": {
      "text/plain": [
       "<All keys matched successfully>"
      ]
     },
     "execution_count": 1139,
     "metadata": {},
     "output_type": "execute_result"
    }
   ],
   "source": [
    "m8_10.load_state_dict(torch.load(\"para_origin/m8_10.pkl\"))"
   ]
  },
  {
   "cell_type": "code",
   "execution_count": 1140,
   "id": "7f18333f-1f54-41aa-b292-606cd4bafaf0",
   "metadata": {},
   "outputs": [],
   "source": [
    "torch.save(m8_10.state_dict(), \"results3/m8_10.pkl\")"
   ]
  },
  {
   "cell_type": "code",
   "execution_count": 1145,
   "id": "1ed42a21-e015-4ee5-8a77-d94917f06cd6",
   "metadata": {},
   "outputs": [],
   "source": [
    "V8_10 = []\n",
    "V8_10_ = []\n",
    "L8_10 = []\n",
    "m8_10.eval()\n",
    "with torch.no_grad():\n",
    "    for f,_,l in all_loader_10:\n",
    "        v8_10 = m8_10(f.float().cuda())\n",
    "        for i in range(v8_10.shape[0]):\n",
    "            V8_10.append(v8_10[i,-1,:].cpu().detach().numpy())\n",
    "            V8_10_.append(v8_10[i,:,:].cpu().detach().numpy())\n",
    "            L8_10.append(l[i])\n",
    "V8_10 = np.stack(V8_10)\n",
    "V8_10_ = np.stack(V8_10_)\n",
    "L8_10 = np.stack(L8_10).reshape(-1)"
   ]
  },
  {
   "cell_type": "code",
   "execution_count": 1146,
   "id": "e992fbea-e6c4-49cd-ba1a-b9407b596923",
   "metadata": {},
   "outputs": [],
   "source": [
    "label8_10 = np.argmin(np.sum(np.power(V8_10[:, np.newaxis,:] - m8_10.cluster.detach().cpu().numpy()[np.newaxis,:,:], 2), axis=-1), axis=-1)\n",
    "labels8_10 = np.concatenate([[i] * 10 for i in label8_10])\n",
    "\n",
    "label8_10_ = np.argmin(np.sum(np.power(V8_10_.reshape(-1,16)[:, np.newaxis,:] - m8_10.cluster.detach().cpu().numpy()[np.newaxis,:,:], 2), axis=-1), axis=-1)"
   ]
  },
  {
   "cell_type": "code",
   "execution_count": 1147,
   "id": "6b90ba28-19b2-4fb9-90e3-7755de80cdd8",
   "metadata": {},
   "outputs": [
    {
     "data": {
      "text/plain": [
       "(0.8900095015426662, 0.887212418195988)"
      ]
     },
     "execution_count": 1147,
     "metadata": {},
     "output_type": "execute_result"
    }
   ],
   "source": [
    "np.sum(labels8_10 != L8_10) / len(L8_10), np.sum(label8_10_ != L8_10) / len(L8_10)"
   ]
  },
  {
   "cell_type": "code",
   "execution_count": 152,
   "id": "54d82d00-2a74-4d02-bd70-6df14e4a0cd1",
   "metadata": {},
   "outputs": [],
   "source": [
    "# torch.save(m8_10.state_dict(), \"para_origin/m8_10.pkl\")\n",
    "# np.save(\"resu_origin/lab_8_10.npy\", labels8_10)\n",
    "# np.save(\"resu_origin/tru_8_10.npy\", L8_10)"
   ]
  },
  {
   "cell_type": "code",
   "execution_count": 1148,
   "id": "bb6f5cce-f3c7-4595-9ea1-39bb674e563d",
   "metadata": {},
   "outputs": [],
   "source": [
    "np.save(\"results3/m_8_10.npy\", np.stack(V8_10))\n",
    "np.save(\"results3/m_8_10_center.npy\", m8_10.cluster.detach().cpu().numpy())\n",
    "np.save(\"results3/m_8_10_all.npy\", np.stack(V8_10_))\n",
    "np.save(\"results3/tru_8_10.npy\", L8_10)"
   ]
  },
  {
   "cell_type": "markdown",
   "id": "c6f36a2d-72fd-4723-b4a7-35970e735f93",
   "metadata": {},
   "source": [
    "#### 结果"
   ]
  },
  {
   "cell_type": "code",
   "execution_count": 1189,
   "id": "c920d714-4db2-4586-949b-b031faa06aad",
   "metadata": {},
   "outputs": [],
   "source": [
    "import os"
   ]
  },
  {
   "cell_type": "code",
   "execution_count": 1190,
   "id": "8629cf82-915f-4b16-8654-0d9d66799dc4",
   "metadata": {},
   "outputs": [
    {
     "data": {
      "text/plain": [
       "427"
      ]
     },
     "execution_count": 1190,
     "metadata": {},
     "output_type": "execute_result"
    }
   ],
   "source": [
    "len(os.listdir(\"results3/\"))"
   ]
  },
  {
   "cell_type": "code",
   "execution_count": 1194,
   "id": "c30da246-e0bc-44a8-900a-2b24b5b8b82c",
   "metadata": {},
   "outputs": [
    {
     "data": {
      "text/plain": [
       "427"
      ]
     },
     "execution_count": 1194,
     "metadata": {},
     "output_type": "execute_result"
    }
   ],
   "source": [
    "7 * 8 + 7 * 8 * 6 + 7 * 4 + 7"
   ]
  },
  {
   "cell_type": "code",
   "execution_count": 1195,
   "id": "1c1b826e-bd2d-4884-b7bb-06b8e6a9d991",
   "metadata": {},
   "outputs": [
    {
     "name": "stdout",
     "output_type": "stream",
     "text": [
      "  adding: results3/index_10.npy (deflated 63%)\n",
      "  adding: results3/index_100.npy (deflated 68%)\n",
      "  adding: results3/index_20.npy (deflated 65%)\n",
      "  adding: results3/index_30.npy (deflated 65%)\n",
      "  adding: results3/index_40.npy (deflated 66%)\n",
      "  adding: results3/index_60.npy (deflated 67%)\n",
      "  adding: results3/index_80.npy (deflated 67%)\n",
      "  adding: results3/m1_10.pkl (deflated 23%)\n",
      "  adding: results3/m1_100.pkl (deflated 23%)\n",
      "  adding: results3/m1_20.pkl (deflated 24%)\n",
      "  adding: results3/m1_30.pkl (deflated 24%)\n",
      "  adding: results3/m1_40.pkl (deflated 23%)\n",
      "  adding: results3/m1_60.pkl (deflated 23%)\n",
      "  adding: results3/m1_80.pkl (deflated 24%)\n",
      "  adding: results3/m2_10.pkl (deflated 23%)\n",
      "  adding: results3/m2_100.pkl (deflated 24%)\n",
      "  adding: results3/m2_20.pkl (deflated 23%)\n",
      "  adding: results3/m2_30.pkl (deflated 24%)\n",
      "  adding: results3/m2_40.pkl (deflated 22%)\n",
      "  adding: results3/m2_60.pkl (deflated 22%)\n",
      "  adding: results3/m2_80.pkl (deflated 24%)\n",
      "  adding: results3/m3_10.pkl (deflated 21%)\n",
      "  adding: results3/m3_100.pkl (deflated 21%)\n",
      "  adding: results3/m3_20.pkl (deflated 21%)\n",
      "  adding: results3/m3_30.pkl (deflated 21%)\n",
      "  adding: results3/m3_40.pkl (deflated 21%)\n",
      "  adding: results3/m3_60.pkl (deflated 21%)\n",
      "  adding: results3/m3_80.pkl (deflated 21%)\n",
      "  adding: results3/m4_10.pkl (deflated 23%)\n",
      "  adding: results3/m4_100.pkl (deflated 20%)\n",
      "  adding: results3/m4_20.pkl (deflated 20%)\n",
      "  adding: results3/m4_30.pkl (deflated 20%)\n",
      "  adding: results3/m4_40.pkl (deflated 20%)\n",
      "  adding: results3/m4_60.pkl (deflated 20%)\n",
      "  adding: results3/m4_80.pkl (deflated 20%)\n",
      "  adding: results3/m5_100.pkl (deflated 21%)\n",
      "  adding: results3/m5_20.pkl (deflated 20%)\n",
      "  adding: results3/m5_30.pkl (deflated 20%)\n",
      "  adding: results3/m5_40.pkl (deflated 20%)\n",
      "  adding: results3/m5_60.pkl (deflated 20%)\n",
      "  adding: results3/m5_80.pkl (deflated 20%)\n",
      "  adding: results3/m6_10.pkl (deflated 20%)\n",
      "  adding: results3/m6_100.pkl (deflated 15%)\n",
      "  adding: results3/m6_20.pkl (deflated 20%)\n",
      "  adding: results3/m6_30.pkl (deflated 20%)\n",
      "  adding: results3/m6_40.pkl (deflated 20%)\n",
      "  adding: results3/m6_60.pkl (deflated 15%)\n",
      "  adding: results3/m6_80.pkl (deflated 15%)\n",
      "  adding: results3/m7_10.pkl (deflated 12%)\n",
      "  adding: results3/m7_100.pkl (deflated 12%)\n",
      "  adding: results3/m7_20.pkl (deflated 12%)\n",
      "  adding: results3/m7_30.pkl (deflated 12%)\n",
      "  adding: results3/m7_40.pkl (deflated 12%)\n",
      "  adding: results3/m7_60.pkl (deflated 12%)\n",
      "  adding: results3/m7_80.pkl (deflated 12%)\n",
      "  adding: results3/m8_10.pkl (deflated 12%)\n",
      "  adding: results3/m8_100.pkl (deflated 11%)\n",
      "  adding: results3/m8_20.pkl (deflated 12%)\n",
      "  adding: results3/m8_30.pkl (deflated 12%)\n",
      "  adding: results3/m8_40.pkl (deflated 12%)\n",
      "  adding: results3/m8_60.pkl (deflated 13%)\n",
      "  adding: results3/m8_80.pkl (deflated 12%)\n",
      "  adding: results3/m_1_10.npy (deflated 7%)\n",
      "  adding: results3/m_1_100.npy (deflated 7%)\n",
      "  adding: results3/m_1_100_all.npy (deflated 9%)\n",
      "  adding: results3/m_1_100_all_v.npy (deflated 8%)\n",
      "  adding: results3/m_1_100_v.npy (deflated 7%)\n",
      "  adding: results3/m_1_10_all.npy (deflated 8%)\n",
      "  adding: results3/m_1_10_all_v.npy (deflated 7%)\n",
      "  adding: results3/m_1_10_v.npy (deflated 7%)\n",
      "  adding: results3/m_1_20.npy (deflated 8%)\n",
      "  adding: results3/m_1_20_all.npy (deflated 8%)\n",
      "  adding: results3/m_1_20_all_v.npy (deflated 8%)\n",
      "  adding: results3/m_1_20_v.npy (deflated 8%)\n",
      "  adding: results3/m_1_30.npy (deflated 8%)\n",
      "  adding: results3/m_1_30_all.npy (deflated 9%)\n",
      "  adding: results3/m_1_30_all_v.npy (deflated 8%)\n",
      "  adding: results3/m_1_30_v.npy (deflated 8%)\n",
      "  adding: results3/m_1_40.npy (deflated 8%)\n",
      "  adding: results3/m_1_40_all.npy (deflated 9%)\n",
      "  adding: results3/m_1_40_all_v.npy (deflated 8%)\n",
      "  adding: results3/m_1_40_v.npy (deflated 8%)\n",
      "  adding: results3/m_1_60.npy (deflated 8%)\n",
      "  adding: results3/m_1_60_all.npy (deflated 9%)\n",
      "  adding: results3/m_1_60_all_v.npy (deflated 8%)\n",
      "  adding: results3/m_1_60_v.npy (deflated 7%)\n",
      "  adding: results3/m_1_80.npy (deflated 8%)\n",
      "  adding: results3/m_1_80_all.npy (deflated 9%)\n",
      "  adding: results3/m_1_80_all_v.npy (deflated 8%)\n",
      "  adding: results3/m_1_80_v.npy (deflated 8%)\n",
      "  adding: results3/m_2_10.npy (deflated 8%)\n",
      "  adding: results3/m_2_100.npy (deflated 8%)\n",
      "  adding: results3/m_2_100_all.npy (deflated 9%)\n",
      "  adding: results3/m_2_100_all_v.npy (deflated 8%)\n",
      "  adding: results3/m_2_100_v.npy (deflated 7%)\n",
      "  adding: results3/m_2_10_all.npy (deflated 8%)\n",
      "  adding: results3/m_2_10_all_v.npy (deflated 7%)\n",
      "  adding: results3/m_2_10_v.npy (deflated 7%)\n",
      "  adding: results3/m_2_20.npy (deflated 8%)\n",
      "  adding: results3/m_2_20_all.npy (deflated 8%)\n",
      "  adding: results3/m_2_20_all_v.npy (deflated 8%)\n",
      "  adding: results3/m_2_20_v.npy (deflated 7%)\n",
      "  adding: results3/m_2_30.npy (deflated 7%)\n",
      "  adding: results3/m_2_30_all.npy (deflated 8%)\n",
      "  adding: results3/m_2_30_all_v.npy (deflated 7%)\n",
      "  adding: results3/m_2_30_v.npy (deflated 7%)\n",
      "  adding: results3/m_2_40.npy (deflated 8%)\n",
      "  adding: results3/m_2_40_all.npy (deflated 8%)\n",
      "  adding: results3/m_2_40_all_v.npy (deflated 8%)\n",
      "  adding: results3/m_2_40_v.npy (deflated 7%)\n",
      "  adding: results3/m_2_60.npy (deflated 7%)\n",
      "  adding: results3/m_2_60_all.npy (deflated 9%)\n",
      "  adding: results3/m_2_60_all_v.npy (deflated 8%)\n",
      "  adding: results3/m_2_60_v.npy (deflated 7%)\n",
      "  adding: results3/m_2_80.npy (deflated 8%)\n",
      "  adding: results3/m_2_80_all.npy (deflated 9%)\n",
      "  adding: results3/m_2_80_all_v.npy (deflated 8%)\n",
      "  adding: results3/m_2_80_v.npy (deflated 8%)\n",
      "  adding: results3/m_3_10.npy (deflated 8%)\n",
      "  adding: results3/m_3_100.npy (deflated 7%)\n",
      "  adding: results3/m_3_100_all.npy (deflated 12%)\n",
      "  adding: results3/m_3_100_all_v.npy (deflated 11%)\n",
      "  adding: results3/m_3_100_center.npy (deflated 20%)\n",
      "  adding: results3/m_3_100_v.npy (deflated 7%)\n",
      "  adding: results3/m_3_10_all.npy (deflated 9%)\n",
      "  adding: results3/m_3_10_all_v.npy (deflated 8%)\n",
      "  adding: results3/m_3_10_center.npy (deflated 20%)\n",
      "  adding: results3/m_3_10_v.npy (deflated 7%)\n",
      "  adding: results3/m_3_20.npy (deflated 7%)\n",
      "  adding: results3/m_3_20_all.npy (deflated 8%)\n",
      "  adding: results3/m_3_20_all_v.npy (deflated 7%)\n",
      "  adding: results3/m_3_20_center.npy (deflated 19%)\n",
      "  adding: results3/m_3_20_v.npy (deflated 7%)\n",
      "  adding: results3/m_3_30.npy (deflated 7%)\n",
      "  adding: results3/m_3_30_all.npy (deflated 8%)\n",
      "  adding: results3/m_3_30_all_v.npy (deflated 8%)\n",
      "  adding: results3/m_3_30_center.npy (deflated 20%)\n",
      "  adding: results3/m_3_30_v.npy (deflated 7%)\n",
      "  adding: results3/m_3_40.npy (deflated 7%)\n",
      "  adding: results3/m_3_40_all.npy (deflated 8%)\n",
      "  adding: results3/m_3_40_all_v.npy (deflated 7%)\n",
      "  adding: results3/m_3_40_center.npy (deflated 20%)\n",
      "  adding: results3/m_3_40_v.npy (deflated 7%)\n",
      "  adding: results3/m_3_60.npy (deflated 7%)\n",
      "  adding: results3/m_3_60_all.npy (deflated 8%)\n",
      "  adding: results3/m_3_60_all_v.npy (deflated 8%)\n",
      "  adding: results3/m_3_60_center.npy (deflated 20%)\n",
      "  adding: results3/m_3_60_v.npy (deflated 7%)\n",
      "  adding: results3/m_3_80.npy (deflated 8%)\n",
      "  adding: results3/m_3_80_all.npy (deflated 9%)\n",
      "  adding: results3/m_3_80_all_v.npy (deflated 8%)\n",
      "  adding: results3/m_3_80_center.npy (deflated 19%)\n",
      "  adding: results3/m_3_80_v.npy (deflated 7%)\n",
      "  adding: results3/m_4_10.npy (deflated 7%)\n",
      "  adding: results3/m_4_100.npy (deflated 7%)\n",
      "  adding: results3/m_4_100_all.npy (deflated 9%)\n",
      "  adding: results3/m_4_100_all_v.npy (deflated 8%)\n",
      "  adding: results3/m_4_100_center.npy (deflated 20%)\n",
      "  adding: results3/m_4_100_v.npy (deflated 7%)\n",
      "  adding: results3/m_4_10_all.npy (deflated 8%)\n",
      "  adding: results3/m_4_10_all_v.npy (deflated 7%)\n",
      "  adding: results3/m_4_10_center.npy (deflated 19%)\n",
      "  adding: results3/m_4_10_v.npy (deflated 7%)\n",
      "  adding: results3/m_4_20.npy (deflated 7%)\n",
      "  adding: results3/m_4_20_all.npy (deflated 8%)\n",
      "  adding: results3/m_4_20_all_v.npy (deflated 8%)\n",
      "  adding: results3/m_4_20_center.npy (deflated 20%)\n",
      "  adding: results3/m_4_20_v.npy (deflated 7%)\n",
      "  adding: results3/m_4_30.npy (deflated 7%)\n",
      "  adding: results3/m_4_30_all.npy (deflated 8%)\n",
      "  adding: results3/m_4_30_all_v.npy (deflated 7%)\n",
      "  adding: results3/m_4_30_center.npy (deflated 19%)\n",
      "  adding: results3/m_4_30_v.npy (deflated 7%)\n",
      "  adding: results3/m_4_40.npy (deflated 7%)\n",
      "  adding: results3/m_4_40_all.npy (deflated 9%)\n",
      "  adding: results3/m_4_40_all_v.npy (deflated 8%)\n",
      "  adding: results3/m_4_40_center.npy (deflated 19%)\n",
      "  adding: results3/m_4_40_v.npy (deflated 7%)\n",
      "  adding: results3/m_4_60.npy (deflated 7%)\n",
      "  adding: results3/m_4_60_all.npy (deflated 9%)\n",
      "  adding: results3/m_4_60_all_v.npy (deflated 8%)\n",
      "  adding: results3/m_4_60_center.npy (deflated 20%)\n",
      "  adding: results3/m_4_60_v.npy (deflated 7%)\n",
      "  adding: results3/m_4_80.npy (deflated 7%)\n",
      "  adding: results3/m_4_80_all.npy (deflated 9%)\n",
      "  adding: results3/m_4_80_all_v.npy (deflated 8%)\n",
      "  adding: results3/m_4_80_center.npy (deflated 19%)\n",
      "  adding: results3/m_4_80_v.npy (deflated 7%)\n",
      "  adding: results3/m_5_10.npy (deflated 8%)\n",
      "  adding: results3/m_5_100.npy (deflated 8%)\n",
      "  adding: results3/m_5_100_all.npy (deflated 12%)\n",
      "  adding: results3/m_5_100_all_v.npy (deflated 12%)\n",
      "  adding: results3/m_5_100_v.npy (deflated 8%)\n",
      "  adding: results3/m_5_10_all.npy (deflated 8%)\n",
      "  adding: results3/m_5_10_all_v.npy (deflated 8%)\n",
      "  adding: results3/m_5_10_v.npy (deflated 8%)\n",
      "  adding: results3/m_5_20.npy (deflated 7%)\n",
      "  adding: results3/m_5_20_all.npy (deflated 7%)\n",
      "  adding: results3/m_5_20_all_v.npy (deflated 7%)\n",
      "  adding: results3/m_5_20_v.npy (deflated 7%)\n",
      "  adding: results3/m_5_30.npy (deflated 8%)\n",
      "  adding: results3/m_5_30_all.npy (deflated 8%)\n",
      "  adding: results3/m_5_30_all_v.npy (deflated 8%)\n",
      "  adding: results3/m_5_30_v.npy (deflated 8%)\n",
      "  adding: results3/m_5_40.npy (deflated 7%)\n",
      "  adding: results3/m_5_40_all.npy (deflated 7%)\n",
      "  adding: results3/m_5_40_all_v.npy (deflated 7%)\n",
      "  adding: results3/m_5_40_v.npy (deflated 7%)\n",
      "  adding: results3/m_5_60.npy (deflated 8%)\n",
      "  adding: results3/m_5_60_all.npy (deflated 9%)\n",
      "  adding: results3/m_5_60_all_v.npy (deflated 8%)\n",
      "  adding: results3/m_5_60_v.npy (deflated 8%)\n",
      "  adding: results3/m_5_80.npy (deflated 8%)\n",
      "  adding: results3/m_5_80_all.npy (deflated 8%)\n",
      "  adding: results3/m_5_80_all_v.npy (deflated 8%)\n",
      "  adding: results3/m_5_80_v.npy (deflated 8%)\n",
      "  adding: results3/m_6_10.npy (deflated 8%)\n",
      "  adding: results3/m_6_100.npy (deflated 7%)\n",
      "  adding: results3/m_6_100_all.npy (deflated 8%)\n",
      "  adding: results3/m_6_100_all_v.npy (deflated 8%)\n",
      "  adding: results3/m_6_100_v.npy (deflated 7%)\n",
      "  adding: results3/m_6_10_all.npy (deflated 8%)\n",
      "  adding: results3/m_6_10_all_v.npy (deflated 8%)\n",
      "  adding: results3/m_6_10_v.npy (deflated 8%)\n",
      "  adding: results3/m_6_20.npy (deflated 7%)\n",
      "  adding: results3/m_6_20_all.npy (deflated 7%)\n",
      "  adding: results3/m_6_20_all_v.npy (deflated 7%)\n",
      "  adding: results3/m_6_20_v.npy (deflated 7%)\n",
      "  adding: results3/m_6_30.npy (deflated 8%)\n",
      "  adding: results3/m_6_30_all.npy (deflated 8%)\n",
      "  adding: results3/m_6_30_all_v.npy (deflated 8%)\n",
      "  adding: results3/m_6_30_v.npy (deflated 8%)\n",
      "  adding: results3/m_6_40.npy (deflated 8%)\n",
      "  adding: results3/m_6_40_all.npy (deflated 8%)\n",
      "  adding: results3/m_6_40_all_v.npy (deflated 8%)\n",
      "  adding: results3/m_6_40_v.npy (deflated 8%)\n",
      "  adding: results3/m_6_60.npy (deflated 8%)\n",
      "  adding: results3/m_6_60_all.npy (deflated 8%)\n",
      "  adding: results3/m_6_60_all_v.npy (deflated 8%)\n",
      "  adding: results3/m_6_60_v.npy (deflated 8%)\n",
      "  adding: results3/m_6_80.npy (deflated 8%)\n",
      "  adding: results3/m_6_80_all.npy (deflated 8%)\n",
      "  adding: results3/m_6_80_all_v.npy (deflated 8%)\n",
      "  adding: results3/m_6_80_v.npy (deflated 8%)\n",
      "  adding: results3/m_7_10.npy (deflated 9%)\n",
      "  adding: results3/m_7_100.npy (deflated 8%)\n",
      "  adding: results3/m_7_100_all.npy (deflated 9%)\n",
      "  adding: results3/m_7_100_all_v.npy (deflated 9%)\n",
      "  adding: results3/m_7_100_center.npy (deflated 20%)\n",
      "  adding: results3/m_7_100_v.npy (deflated 8%)\n",
      "  adding: results3/m_7_10_all.npy (deflated 9%)\n",
      "  adding: results3/m_7_10_all_v.npy (deflated 9%)\n",
      "  adding: results3/m_7_10_center.npy (deflated 20%)\n",
      "  adding: results3/m_7_10_v.npy (deflated 9%)\n",
      "  adding: results3/m_7_20.npy (deflated 11%)\n",
      "  adding: results3/m_7_20_all.npy (deflated 11%)\n",
      "  adding: results3/m_7_20_all_v.npy (deflated 11%)\n",
      "  adding: results3/m_7_20_center.npy (deflated 20%)\n",
      "  adding: results3/m_7_20_v.npy (deflated 11%)\n",
      "  adding: results3/m_7_30.npy (deflated 10%)\n",
      "  adding: results3/m_7_30_all.npy (deflated 10%)\n",
      "  adding: results3/m_7_30_all_v.npy (deflated 10%)\n",
      "  adding: results3/m_7_30_center.npy (deflated 20%)\n",
      "  adding: results3/m_7_30_v.npy (deflated 10%)\n",
      "  adding: results3/m_7_40.npy (deflated 10%)\n",
      "  adding: results3/m_7_40_all.npy (deflated 11%)\n",
      "  adding: results3/m_7_40_all_v.npy (deflated 10%)\n",
      "  adding: results3/m_7_40_center.npy (deflated 20%)\n",
      "  adding: results3/m_7_40_v.npy (deflated 10%)\n",
      "  adding: results3/m_7_60.npy (deflated 10%)\n",
      "  adding: results3/m_7_60_all.npy (deflated 10%)\n",
      "  adding: results3/m_7_60_all_v.npy (deflated 10%)\n",
      "  adding: results3/m_7_60_center.npy (deflated 20%)\n",
      "  adding: results3/m_7_60_v.npy (deflated 10%)\n",
      "  adding: results3/m_7_80.npy (deflated 9%)\n",
      "  adding: results3/m_7_80_all.npy (deflated 9%)\n",
      "  adding: results3/m_7_80_all_v.npy (deflated 9%)\n",
      "  adding: results3/m_7_80_center.npy (deflated 20%)\n",
      "  adding: results3/m_7_80_v.npy (deflated 9%)\n",
      "  adding: results3/m_8_10.npy (deflated 13%)\n",
      "  adding: results3/m_8_100.npy (deflated 10%)\n",
      "  adding: results3/m_8_100_all.npy (deflated 11%)\n",
      "  adding: results3/m_8_100_all_v.npy (deflated 10%)\n",
      "  adding: results3/m_8_100_center.npy (deflated 20%)\n",
      "  adding: results3/m_8_100_v.npy (deflated 10%)\n",
      "  adding: results3/m_8_10_all.npy (deflated 12%)\n",
      "  adding: results3/m_8_10_all_v.npy (deflated 11%)\n",
      "  adding: results3/m_8_10_center.npy (deflated 20%)\n",
      "  adding: results3/m_8_10_v.npy (deflated 11%)\n",
      "  adding: results3/m_8_20.npy (deflated 10%)\n",
      "  adding: results3/m_8_20_all.npy (deflated 11%)\n",
      "  adding: results3/m_8_20_all_v.npy (deflated 10%)\n",
      "  adding: results3/m_8_20_center.npy (deflated 19%)\n",
      "  adding: results3/m_8_20_v.npy (deflated 10%)\n",
      "  adding: results3/m_8_30.npy (deflated 9%)\n",
      "  adding: results3/m_8_30_all.npy (deflated 10%)\n",
      "  adding: results3/m_8_30_all_v.npy (deflated 10%)\n",
      "  adding: results3/m_8_30_center.npy (deflated 20%)\n",
      "  adding: results3/m_8_30_v.npy (deflated 9%)\n",
      "  adding: results3/m_8_40.npy (deflated 9%)\n",
      "  adding: results3/m_8_40_all.npy (deflated 9%)\n",
      "  adding: results3/m_8_40_all_v.npy (deflated 9%)\n",
      "  adding: results3/m_8_40_center.npy (deflated 20%)\n",
      "  adding: results3/m_8_40_v.npy (deflated 9%)\n",
      "  adding: results3/m_8_60.npy (deflated 9%)\n",
      "  adding: results3/m_8_60_all.npy (deflated 9%)\n",
      "  adding: results3/m_8_60_all_v.npy (deflated 9%)\n",
      "  adding: results3/m_8_60_center.npy (deflated 20%)\n",
      "  adding: results3/m_8_60_v.npy (deflated 9%)\n",
      "  adding: results3/m_8_80.npy (deflated 8%)\n",
      "  adding: results3/m_8_80_all.npy (deflated 9%)\n",
      "  adding: results3/m_8_80_all_v.npy (deflated 8%)\n",
      "  adding: results3/m_8_80_center.npy (deflated 20%)\n",
      "  adding: results3/m_8_80_v.npy (deflated 8%)\n",
      "  adding: results3/tru_1_10.npy (deflated 100%)\n",
      "  adding: results3/tru_1_100.npy (deflated 100%)\n",
      "  adding: results3/tru_1_100_v.npy (deflated 100%)\n",
      "  adding: results3/tru_1_10_v.npy (deflated 99%)\n",
      "  adding: results3/tru_1_20.npy (deflated 100%)\n",
      "  adding: results3/tru_1_20_v.npy (deflated 99%)\n",
      "  adding: results3/tru_1_30.npy (deflated 100%)\n",
      "  adding: results3/tru_1_30_v.npy (deflated 100%)\n",
      "  adding: results3/tru_1_40.npy (deflated 100%)\n",
      "  adding: results3/tru_1_40_v.npy (deflated 100%)\n",
      "  adding: results3/tru_1_60.npy (deflated 100%)\n",
      "  adding: results3/tru_1_60_v.npy (deflated 100%)\n",
      "  adding: results3/tru_1_80.npy (deflated 100%)\n",
      "  adding: results3/tru_1_80_v.npy (deflated 100%)\n",
      "  adding: results3/tru_2_10.npy (deflated 100%)\n",
      "  adding: results3/tru_2_100.npy (deflated 100%)\n",
      "  adding: results3/tru_2_100_v.npy (deflated 100%)\n",
      "  adding: results3/tru_2_10_v.npy (deflated 99%)\n",
      "  adding: results3/tru_2_20.npy (deflated 100%)\n",
      "  adding: results3/tru_2_20_v.npy (deflated 99%)\n",
      "  adding: results3/tru_2_30.npy (deflated 100%)\n",
      "  adding: results3/tru_2_30_v.npy (deflated 100%)\n",
      "  adding: results3/tru_2_40.npy (deflated 100%)\n",
      "  adding: results3/tru_2_40_v.npy (deflated 100%)\n",
      "  adding: results3/tru_2_60.npy (deflated 100%)\n",
      "  adding: results3/tru_2_60_v.npy (deflated 100%)\n",
      "  adding: results3/tru_2_80.npy (deflated 100%)\n",
      "  adding: results3/tru_2_80_v.npy (deflated 100%)\n",
      "  adding: results3/tru_3_10.npy (deflated 100%)\n",
      "  adding: results3/tru_3_100.npy (deflated 100%)\n",
      "  adding: results3/tru_3_100_v.npy (deflated 100%)\n",
      "  adding: results3/tru_3_10_v.npy (deflated 99%)\n",
      "  adding: results3/tru_3_20.npy (deflated 100%)\n",
      "  adding: results3/tru_3_20_v.npy (deflated 99%)\n",
      "  adding: results3/tru_3_30.npy (deflated 100%)\n",
      "  adding: results3/tru_3_30_v.npy (deflated 100%)\n",
      "  adding: results3/tru_3_40.npy (deflated 100%)\n",
      "  adding: results3/tru_3_40_v.npy (deflated 100%)\n",
      "  adding: results3/tru_3_60.npy (deflated 100%)\n",
      "  adding: results3/tru_3_60_v.npy (deflated 100%)\n",
      "  adding: results3/tru_3_80.npy (deflated 100%)\n",
      "  adding: results3/tru_3_80_v.npy (deflated 100%)\n",
      "  adding: results3/tru_4_10.npy (deflated 100%)\n",
      "  adding: results3/tru_4_100.npy (deflated 100%)\n",
      "  adding: results3/tru_4_100_v.npy (deflated 100%)\n",
      "  adding: results3/tru_4_10_v.npy (deflated 99%)\n",
      "  adding: results3/tru_4_20.npy (deflated 100%)\n",
      "  adding: results3/tru_4_20_v.npy (deflated 99%)\n",
      "  adding: results3/tru_4_30.npy (deflated 100%)\n",
      "  adding: results3/tru_4_30_v.npy (deflated 100%)\n",
      "  adding: results3/tru_4_40.npy (deflated 100%)\n",
      "  adding: results3/tru_4_40_v.npy (deflated 100%)\n",
      "  adding: results3/tru_4_60.npy (deflated 100%)\n",
      "  adding: results3/tru_4_60_v.npy (deflated 100%)\n",
      "  adding: results3/tru_4_80.npy (deflated 100%)\n",
      "  adding: results3/tru_4_80_v.npy (deflated 100%)\n",
      "  adding: results3/tru_5_10.npy (deflated 100%)\n",
      "  adding: results3/tru_5_100.npy (deflated 100%)\n",
      "  adding: results3/tru_5_100_v.npy (deflated 100%)\n",
      "  adding: results3/tru_5_10_v.npy (deflated 99%)\n",
      "  adding: results3/tru_5_20.npy (deflated 100%)\n",
      "  adding: results3/tru_5_20_v.npy (deflated 99%)\n",
      "  adding: results3/tru_5_30.npy (deflated 100%)\n",
      "  adding: results3/tru_5_30_v.npy (deflated 100%)\n",
      "  adding: results3/tru_5_40.npy (deflated 100%)\n",
      "  adding: results3/tru_5_40_v.npy (deflated 100%)\n",
      "  adding: results3/tru_5_60.npy (deflated 100%)\n",
      "  adding: results3/tru_5_60_v.npy (deflated 100%)\n",
      "  adding: results3/tru_5_80.npy (deflated 100%)\n",
      "  adding: results3/tru_5_80_v.npy (deflated 100%)\n",
      "  adding: results3/tru_6_10.npy (deflated 100%)\n",
      "  adding: results3/tru_6_100.npy (deflated 100%)\n",
      "  adding: results3/tru_6_100_v.npy (deflated 100%)\n",
      "  adding: results3/tru_6_10_v.npy (deflated 99%)\n",
      "  adding: results3/tru_6_20.npy (deflated 100%)\n",
      "  adding: results3/tru_6_20_v.npy (deflated 99%)\n",
      "  adding: results3/tru_6_30.npy (deflated 100%)\n",
      "  adding: results3/tru_6_30_v.npy (deflated 100%)\n",
      "  adding: results3/tru_6_40.npy (deflated 100%)\n",
      "  adding: results3/tru_6_40_v.npy (deflated 100%)\n",
      "  adding: results3/tru_6_60.npy (deflated 100%)\n",
      "  adding: results3/tru_6_60_v.npy (deflated 100%)\n",
      "  adding: results3/tru_6_80.npy (deflated 100%)\n",
      "  adding: results3/tru_6_80_v.npy (deflated 100%)\n",
      "  adding: results3/tru_7_10.npy (deflated 100%)\n",
      "  adding: results3/tru_7_100.npy (deflated 100%)\n",
      "  adding: results3/tru_7_100_v.npy (deflated 100%)\n",
      "  adding: results3/tru_7_10_v.npy (deflated 99%)\n",
      "  adding: results3/tru_7_20.npy (deflated 100%)\n",
      "  adding: results3/tru_7_20_v.npy (deflated 99%)\n",
      "  adding: results3/tru_7_30.npy (deflated 100%)\n",
      "  adding: results3/tru_7_30_v.npy (deflated 100%)\n",
      "  adding: results3/tru_7_40.npy (deflated 100%)\n",
      "  adding: results3/tru_7_40_v.npy (deflated 100%)\n",
      "  adding: results3/tru_7_60.npy (deflated 100%)\n",
      "  adding: results3/tru_7_60_v.npy (deflated 100%)\n",
      "  adding: results3/tru_7_80.npy (deflated 100%)\n",
      "  adding: results3/tru_7_80_v.npy (deflated 100%)\n",
      "  adding: results3/tru_8_10.npy (deflated 100%)\n",
      "  adding: results3/tru_8_100.npy (deflated 100%)\n",
      "  adding: results3/tru_8_100_v.npy (deflated 100%)\n",
      "  adding: results3/tru_8_10_v.npy (deflated 99%)\n",
      "  adding: results3/tru_8_20.npy (deflated 100%)\n",
      "  adding: results3/tru_8_20_v.npy (deflated 99%)\n",
      "  adding: results3/tru_8_30.npy (deflated 100%)\n",
      "  adding: results3/tru_8_30_v.npy (deflated 100%)\n",
      "  adding: results3/tru_8_40.npy (deflated 100%)\n",
      "  adding: results3/tru_8_40_v.npy (deflated 100%)\n",
      "  adding: results3/tru_8_60.npy (deflated 100%)\n",
      "  adding: results3/tru_8_60_v.npy (deflated 100%)\n",
      "  adding: results3/tru_8_80.npy (deflated 100%)\n",
      "  adding: results3/tru_8_80_v.npy (deflated 100%)\n"
     ]
    }
   ],
   "source": [
    "!zip re_fin.zip results3/*"
   ]
  },
  {
   "cell_type": "code",
   "execution_count": null,
   "id": "f5a16432-6f74-46c0-999e-ebd9e4cef554",
   "metadata": {},
   "outputs": [],
   "source": []
  }
 ],
 "metadata": {
  "kernelspec": {
   "display_name": "Python 3 (ipykernel)",
   "language": "python",
   "name": "python3"
  },
  "language_info": {
   "codemirror_mode": {
    "name": "ipython",
    "version": 3
   },
   "file_extension": ".py",
   "mimetype": "text/x-python",
   "name": "python",
   "nbconvert_exporter": "python",
   "pygments_lexer": "ipython3",
   "version": "3.11.8"
  }
 },
 "nbformat": 4,
 "nbformat_minor": 5
}
